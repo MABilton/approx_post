{
 "cells": [
  {
   "cell_type": "code",
   "execution_count": 1,
   "id": "6d119613",
   "metadata": {
    "scrolled": false
   },
   "outputs": [],
   "source": [
    "import jax\n",
    "import jax.numpy as jnp\n",
    "from arraytainers import Jaxtainer\n",
    "from approx_post.distributions import approx, joint, mixture\n",
    "from approx_post import losses, optimisers\n",
    "import seaborn as sns\n",
    "import matplotlib.pyplot as plt\n",
    "sns.set({'figure.facecolor':'white', \"figure.figsize\":(10,7)})"
   ]
  },
  {
   "cell_type": "code",
   "execution_count": 2,
   "id": "c9d34649",
   "metadata": {},
   "outputs": [],
   "source": [
    "def create_data(model, true_theta, noise_cov, num_samples, ndim, prngkey):\n",
    "    mean = model(true_theta)\n",
    "    samples = jax.random.multivariate_normal(key=prngkey, mean=mean, cov=noise_cov, shape=(num_samples,))\n",
    "    return samples.reshape(num_samples, -1)"
   ]
  },
  {
   "cell_type": "code",
   "execution_count": 3,
   "id": "a94b97b2",
   "metadata": {},
   "outputs": [],
   "source": [
    "# First, let's define a model:\n",
    "ndim = 1\n",
    "model = lambda theta: theta**2\n",
    "model_grad = jax.vmap(jax.vmap(jax.jacfwd(model), in_axes=0), in_axes=0)"
   ]
  },
  {
   "cell_type": "code",
   "execution_count": 4,
   "id": "525931b1",
   "metadata": {
    "scrolled": false
   },
   "outputs": [
    {
     "name": "stderr",
     "output_type": "stream",
     "text": [
      "WARNING:absl:No GPU/TPU found, falling back to CPU. (Set TF_CPP_MIN_LOG_LEVEL=0 and rerun for more info.)\n"
     ]
    },
    {
     "name": "stdout",
     "output_type": "stream",
     "text": [
      "True theta: \n",
      " [2]\n",
      "True x = model(theta): \n",
      " [4]\n",
      "Observations x_obs = model(theta) + noise: \n",
      " [[2.6554594]]\n"
     ]
    }
   ],
   "source": [
    "# Create artificial data:\n",
    "prngkey = jax.random.PRNGKey(10)\n",
    "true_theta = jnp.array([2])\n",
    "noise_cov = 1*jnp.identity(ndim)\n",
    "num_samples = 1\n",
    "data = create_data(model, true_theta, noise_cov, num_samples, ndim, prngkey)\n",
    "print(f'True theta: \\n {true_theta}')\n",
    "print(f'True x = model(theta): \\n {model(true_theta)}')\n",
    "print(f'Observations x_obs = model(theta) + noise: \\n {data}')"
   ]
  },
  {
   "cell_type": "code",
   "execution_count": 11,
   "id": "b29185ee",
   "metadata": {},
   "outputs": [],
   "source": [
    "# Create Joint distribution from forward model:\n",
    "prior_mean = jnp.zeros(ndim)\n",
    "prior_cov = 1.*jnp.identity(ndim)\n",
    "joint_dist = joint.ModelPlusGaussian(model, noise_cov, prior_mean, prior_cov, model_grad)"
   ]
  },
  {
   "cell_type": "code",
   "execution_count": 13,
   "id": "73d9242e",
   "metadata": {
    "scrolled": true
   },
   "outputs": [
    {
     "name": "stdout",
     "output_type": "stream",
     "text": [
      "Loss = 3.406830310821533, Params = Jaxtainer({'mean': DeviceArray([-0.1], dtype=float32), 'log_chol_diag': DeviceArray([-0.1], dtype=float32)})\n",
      "Loss = 3.244300603866577, Params = Jaxtainer({'mean': DeviceArray([-0.19056298], dtype=float32), 'log_chol_diag': DeviceArray([-0.17658246], dtype=float32)})\n",
      "Loss = 3.2362217903137207, Params = Jaxtainer({'mean': DeviceArray([-0.2728338], dtype=float32), 'log_chol_diag': DeviceArray([-0.22078103], dtype=float32)})\n",
      "Loss = 3.254183769226074, Params = Jaxtainer({'mean': DeviceArray([-0.35025868], dtype=float32), 'log_chol_diag': DeviceArray([-0.23751678], dtype=float32)})\n",
      "Loss = 3.258932113647461, Params = Jaxtainer({'mean': DeviceArray([-0.42453644], dtype=float32), 'log_chol_diag': DeviceArray([-0.23523393], dtype=float32)})\n",
      "Loss = 3.25388240814209, Params = Jaxtainer({'mean': DeviceArray([-0.4946965], dtype=float32), 'log_chol_diag': DeviceArray([-0.22148073], dtype=float32)})\n",
      "Loss = 3.2527692317962646, Params = Jaxtainer({'mean': DeviceArray([-0.5566604], dtype=float32), 'log_chol_diag': DeviceArray([-0.20285355], dtype=float32)})\n",
      "Loss = 3.2660069465637207, Params = Jaxtainer({'mean': DeviceArray([-0.6032848], dtype=float32), 'log_chol_diag': DeviceArray([-0.18548715], dtype=float32)})\n",
      "Loss = 3.2913496494293213, Params = Jaxtainer({'mean': DeviceArray([-0.62791073], dtype=float32), 'log_chol_diag': DeviceArray([-0.17448947], dtype=float32)})\n",
      "Loss = 3.3126864433288574, Params = Jaxtainer({'mean': DeviceArray([-0.6299011], dtype=float32), 'log_chol_diag': DeviceArray([-0.1723491], dtype=float32)})\n",
      "Loss = 3.3157644271850586, Params = Jaxtainer({'mean': DeviceArray([-0.6139367], dtype=float32), 'log_chol_diag': DeviceArray([-0.17833042], dtype=float32)})\n",
      "Loss = 3.3016538619995117, Params = Jaxtainer({'mean': DeviceArray([-0.58599865], dtype=float32), 'log_chol_diag': DeviceArray([-0.18951075], dtype=float32)})\n",
      "Loss = 3.28135085105896, Params = Jaxtainer({'mean': DeviceArray([-0.55160165], dtype=float32), 'log_chol_diag': DeviceArray([-0.20208955], dtype=float32)})\n",
      "Loss = 3.2646965980529785, Params = Jaxtainer({'mean': DeviceArray([-0.51541626], dtype=float32), 'log_chol_diag': DeviceArray([-0.21235253], dtype=float32)})\n",
      "Loss = 3.2550899982452393, Params = Jaxtainer({'mean': DeviceArray([-0.48097852], dtype=float32), 'log_chol_diag': DeviceArray([-0.21737862], dtype=float32)})\n",
      "Loss = 3.2505078315734863, Params = Jaxtainer({'mean': DeviceArray([-0.45042545], dtype=float32), 'log_chol_diag': DeviceArray([-0.21546328], dtype=float32)})\n",
      "Loss = 3.2472403049468994, Params = Jaxtainer({'mean': DeviceArray([-0.42450806], dtype=float32), 'log_chol_diag': DeviceArray([-0.2061901], dtype=float32)})\n",
      "Loss = 3.2429239749908447, Params = Jaxtainer({'mean': DeviceArray([-0.40288085], dtype=float32), 'log_chol_diag': DeviceArray([-0.19026032], dtype=float32)})\n",
      "Loss = 3.2376158237457275, Params = Jaxtainer({'mean': DeviceArray([-0.3844955], dtype=float32), 'log_chol_diag': DeviceArray([-0.16927977], dtype=float32)})\n",
      "Loss = 3.2332959175109863, Params = Jaxtainer({'mean': DeviceArray([-0.3679874], dtype=float32), 'log_chol_diag': DeviceArray([-0.14561862], dtype=float32)})\n",
      "Loss = 3.2324600219726562, Params = Jaxtainer({'mean': DeviceArray([-0.352043], dtype=float32), 'log_chol_diag': DeviceArray([-0.1223043], dtype=float32)})\n",
      "Loss = 3.236276626586914, Params = Jaxtainer({'mean': DeviceArray([-0.33575296], dtype=float32), 'log_chol_diag': DeviceArray([-0.10274282], dtype=float32)})\n",
      "Loss = 3.243021249771118, Params = Jaxtainer({'mean': DeviceArray([-0.31889293], dtype=float32), 'log_chol_diag': DeviceArray([-0.09001626], dtype=float32)})\n",
      "Loss = 3.2483646869659424, Params = Jaxtainer({'mean': DeviceArray([-0.302017], dtype=float32), 'log_chol_diag': DeviceArray([-0.08587226], dtype=float32)})\n",
      "Loss = 3.2483673095703125, Params = Jaxtainer({'mean': DeviceArray([-0.28629023], dtype=float32), 'log_chol_diag': DeviceArray([-0.09009497], dtype=float32)})\n",
      "Loss = 3.2427501678466797, Params = Jaxtainer({'mean': DeviceArray([-0.27312547], dtype=float32), 'log_chol_diag': DeviceArray([-0.10071941], dtype=float32)})\n",
      "Loss = 3.234769582748413, Params = Jaxtainer({'mean': DeviceArray([-0.2637985], dtype=float32), 'log_chol_diag': DeviceArray([-0.11476134], dtype=float32)})\n",
      "Loss = 3.2282071113586426, Params = Jaxtainer({'mean': DeviceArray([-0.2591936], dtype=float32), 'log_chol_diag': DeviceArray([-0.12900196], dtype=float32)})\n",
      "Loss = 3.224824905395508, Params = Jaxtainer({'mean': DeviceArray([-0.25971836], dtype=float32), 'log_chol_diag': DeviceArray([-0.14065117], dtype=float32)})\n",
      "Loss = 3.224066972732544, Params = Jaxtainer({'mean': DeviceArray([-0.26532587], dtype=float32), 'log_chol_diag': DeviceArray([-0.14781143], dtype=float32)})\n",
      "Loss = 3.22436261177063, Params = Jaxtainer({'mean': DeviceArray([-0.27556136], dtype=float32), 'log_chol_diag': DeviceArray([-0.14968266], dtype=float32)})\n",
      "Loss = 3.224599599838257, Params = Jaxtainer({'mean': DeviceArray([-0.28958648], dtype=float32), 'log_chol_diag': DeviceArray([-0.14653525], dtype=float32)})\n",
      "Loss = 3.2248284816741943, Params = Jaxtainer({'mean': DeviceArray([-0.30618283], dtype=float32), 'log_chol_diag': DeviceArray([-0.13954699], dtype=float32)})\n",
      "Loss = 3.226038694381714, Params = Jaxtainer({'mean': DeviceArray([-0.3237728], dtype=float32), 'log_chol_diag': DeviceArray([-0.13057257], dtype=float32)})\n",
      "Loss = 3.2292394638061523, Params = Jaxtainer({'mean': DeviceArray([-0.34052053], dtype=float32), 'log_chol_diag': DeviceArray([-0.12183592], dtype=float32)})\n",
      "Loss = 3.2343757152557373, Params = Jaxtainer({'mean': DeviceArray([-0.35457438], dtype=float32), 'log_chol_diag': DeviceArray([-0.11549586], dtype=float32)})\n",
      "Loss = 3.2398576736450195, Params = Jaxtainer({'mean': DeviceArray([-0.36444595], dtype=float32), 'log_chol_diag': DeviceArray([-0.1131121], dtype=float32)})\n",
      "Loss = 3.2433409690856934, Params = Jaxtainer({'mean': DeviceArray([-0.36939153], dtype=float32), 'log_chol_diag': DeviceArray([-0.11519954], dtype=float32)})\n",
      "Loss = 3.2433853149414062, Params = Jaxtainer({'mean': DeviceArray([-0.36959118], dtype=float32), 'log_chol_diag': DeviceArray([-0.12110399], dtype=float32)})\n",
      "Loss = 3.2404587268829346, Params = Jaxtainer({'mean': DeviceArray([-0.3660255], dtype=float32), 'log_chol_diag': DeviceArray([-0.12925398], dtype=float32)})\n",
      "Loss = 3.2363622188568115, Params = Jaxtainer({'mean': DeviceArray([-0.36013246], dtype=float32), 'log_chol_diag': DeviceArray([-0.13764386], dtype=float32)})\n",
      "Loss = 3.2328073978424072, Params = Jaxtainer({'mean': DeviceArray([-0.35340673], dtype=float32), 'log_chol_diag': DeviceArray([-0.14435725], dtype=float32)})\n",
      "Loss = 3.230503559112549, Params = Jaxtainer({'mean': DeviceArray([-0.34707338], dtype=float32), 'log_chol_diag': DeviceArray([-0.1479884], dtype=float32)})\n",
      "Loss = 3.2292683124542236, Params = Jaxtainer({'mean': DeviceArray([-0.34189883], dtype=float32), 'log_chol_diag': DeviceArray([-0.1478861], dtype=float32)})\n",
      "Loss = 3.228682041168213, Params = Jaxtainer({'mean': DeviceArray([-0.3381429], dtype=float32), 'log_chol_diag': DeviceArray([-0.14421365], dtype=float32)})\n",
      "Loss = 3.2286019325256348, Params = Jaxtainer({'mean': DeviceArray([-0.33562246], dtype=float32), 'log_chol_diag': DeviceArray([-0.13786265], dtype=float32)})\n",
      "Loss = 3.2292072772979736, Params = Jaxtainer({'mean': DeviceArray([-0.3338511], dtype=float32), 'log_chol_diag': DeviceArray([-0.13025789], dtype=float32)})\n",
      "Loss = 3.230635404586792, Params = Jaxtainer({'mean': DeviceArray([-0.33222613], dtype=float32), 'log_chol_diag': DeviceArray([-0.12306597], dtype=float32)})\n",
      "Loss = 3.2325828075408936, Params = Jaxtainer({'mean': DeviceArray([-0.33023134], dtype=float32), 'log_chol_diag': DeviceArray([-0.11782163], dtype=float32)})\n",
      "Loss = 3.2342464923858643, Params = Jaxtainer({'mean': DeviceArray([-0.32761005], dtype=float32), 'log_chol_diag': DeviceArray([-0.11553996], dtype=float32)})\n",
      "Loss = 3.2347781658172607, Params = Jaxtainer({'mean': DeviceArray([-0.32445478], dtype=float32), 'log_chol_diag': DeviceArray([-0.11644959], dtype=float32)})\n",
      "Loss = 3.233893632888794, Params = Jaxtainer({'mean': DeviceArray([-0.32118142], dtype=float32), 'log_chol_diag': DeviceArray([-0.11996669], dtype=float32)})\n",
      "Loss = 3.2320504188537598, Params = Jaxtainer({'mean': DeviceArray([-0.31840062], dtype=float32), 'log_chol_diag': DeviceArray([-0.12491813], dtype=float32)})\n"
     ]
    },
    {
     "name": "stdout",
     "output_type": "stream",
     "text": [
      "Loss = 3.2300641536712646, Params = Jaxtainer({'mean': DeviceArray([-0.31673822], dtype=float32), 'log_chol_diag': DeviceArray([-0.12991098], dtype=float32)})\n",
      "Loss = 3.2285685539245605, Params = Jaxtainer({'mean': DeviceArray([-0.31666434], dtype=float32), 'log_chol_diag': DeviceArray([-0.13371235], dtype=float32)})\n",
      "Loss = 3.227780818939209, Params = Jaxtainer({'mean': DeviceArray([-0.31837285], dtype=float32), 'log_chol_diag': DeviceArray([-0.13553408], dtype=float32)})\n",
      "Loss = 3.2276411056518555, Params = Jaxtainer({'mean': DeviceArray([-0.32172778], dtype=float32), 'log_chol_diag': DeviceArray([-0.13517159], dtype=float32)})\n",
      "Loss = 3.228057384490967, Params = Jaxtainer({'mean': DeviceArray([-0.32627708], dtype=float32), 'log_chol_diag': DeviceArray([-0.13299397], dtype=float32)})\n",
      "Loss = 3.2290022373199463, Params = Jaxtainer({'mean': DeviceArray([-0.3313291], dtype=float32), 'log_chol_diag': DeviceArray([-0.12980871], dtype=float32)})\n",
      "Loss = 3.23040509223938, Params = Jaxtainer({'mean': DeviceArray([-0.33608514], dtype=float32), 'log_chol_diag': DeviceArray([-0.126633], dtype=float32)})\n",
      "Loss = 3.2319984436035156, Params = Jaxtainer({'mean': DeviceArray([-0.33980998], dtype=float32), 'log_chol_diag': DeviceArray([-0.124414], dtype=float32)})\n",
      "Loss = 3.2333176136016846, Params = Jaxtainer({'mean': DeviceArray([-0.3420016], dtype=float32), 'log_chol_diag': DeviceArray([-0.12376446], dtype=float32)})\n",
      "Loss = 3.2339117527008057, Params = Jaxtainer({'mean': DeviceArray([-0.34250486], dtype=float32), 'log_chol_diag': DeviceArray([-0.12479726], dtype=float32)})\n",
      "Loss = 3.2336297035217285, Params = Jaxtainer({'mean': DeviceArray([-0.34152603], dtype=float32), 'log_chol_diag': DeviceArray([-0.12711918], dtype=float32)})\n",
      "Loss = 3.2326948642730713, Params = Jaxtainer({'mean': DeviceArray([-0.33954254], dtype=float32), 'log_chol_diag': DeviceArray([-0.12998262], dtype=float32)})\n",
      "Loss = 3.2315328121185303, Params = Jaxtainer({'mean': DeviceArray([-0.33714646], dtype=float32), 'log_chol_diag': DeviceArray([-0.13253172], dtype=float32)})\n",
      "Loss = 3.2305221557617188, Params = Jaxtainer({'mean': DeviceArray([-0.33487982], dtype=float32), 'log_chol_diag': DeviceArray([-0.13405503], dtype=float32)})\n",
      "Loss = 3.229863405227661, Params = Jaxtainer({'mean': DeviceArray([-0.3331108], dtype=float32), 'log_chol_diag': DeviceArray([-0.13417122], dtype=float32)})\n",
      "Loss = 3.229606866836548, Params = Jaxtainer({'mean': DeviceArray([-0.33197677], dtype=float32), 'log_chol_diag': DeviceArray([-0.1329081], dtype=float32)})\n",
      "Loss = 3.229736328125, Params = Jaxtainer({'mean': DeviceArray([-0.331397], dtype=float32), 'log_chol_diag': DeviceArray([-0.1306691], dtype=float32)})\n",
      "Loss = 3.230193614959717, Params = Jaxtainer({'mean': DeviceArray([-0.3311417], dtype=float32), 'log_chol_diag': DeviceArray([-0.12810409], dtype=float32)})\n",
      "Loss = 3.230841875076294, Params = Jaxtainer({'mean': DeviceArray([-0.33093438], dtype=float32), 'log_chol_diag': DeviceArray([-0.12591822], dtype=float32)})\n",
      "Loss = 3.231457471847534, Params = Jaxtainer({'mean': DeviceArray([-0.3305578], dtype=float32), 'log_chol_diag': DeviceArray([-0.12466815], dtype=float32)})\n",
      "Loss = 3.2317965030670166, Params = Jaxtainer({'mean': DeviceArray([-0.32993153], dtype=float32), 'log_chol_diag': DeviceArray([-0.1246058], dtype=float32)})\n",
      "Loss = 3.231724739074707, Params = Jaxtainer({'mean': DeviceArray([-0.32913694], dtype=float32), 'log_chol_diag': DeviceArray([-0.12562186], dtype=float32)})\n",
      "Loss = 3.231290578842163, Params = Jaxtainer({'mean': DeviceArray([-0.32838294], dtype=float32), 'log_chol_diag': DeviceArray([-0.12730615], dtype=float32)})\n",
      "Loss = 3.2306864261627197, Params = Jaxtainer({'mean': DeviceArray([-0.32792807], dtype=float32), 'log_chol_diag': DeviceArray([-0.12909788], dtype=float32)})\n",
      "Loss = 3.230134963989258, Params = Jaxtainer({'mean': DeviceArray([-0.3279885], dtype=float32), 'log_chol_diag': DeviceArray([-0.1304677], dtype=float32)})\n",
      "Loss = 3.2297940254211426, Params = Jaxtainer({'mean': DeviceArray([-0.32866246], dtype=float32), 'log_chol_diag': DeviceArray([-0.13107128], dtype=float32)})\n",
      "Loss = 3.2297346591949463, Params = Jaxtainer({'mean': DeviceArray([-0.3298923], dtype=float32), 'log_chol_diag': DeviceArray([-0.13083227], dtype=float32)})\n",
      "Loss = 3.229952812194824, Params = Jaxtainer({'mean': DeviceArray([-0.3314733], dtype=float32), 'log_chol_diag': DeviceArray([-0.12993914], dtype=float32)})\n",
      "Loss = 3.230390787124634, Params = Jaxtainer({'mean': DeviceArray([-0.33310476], dtype=float32), 'log_chol_diag': DeviceArray([-0.12876488], dtype=float32)})\n",
      "Loss = 3.230933666229248, Params = Jaxtainer({'mean': DeviceArray([-0.33447], dtype=float32), 'log_chol_diag': DeviceArray([-0.12773673], dtype=float32)})\n",
      "Loss = 3.2314248085021973, Params = Jaxtainer({'mean': DeviceArray([-0.33532152], dtype=float32), 'log_chol_diag': DeviceArray([-0.1271962], dtype=float32)})\n",
      "Loss = 3.2317118644714355, Params = Jaxtainer({'mean': DeviceArray([-0.3355455], dtype=float32), 'log_chol_diag': DeviceArray([-0.12729381], dtype=float32)})\n",
      "Loss = 3.231715202331543, Params = Jaxtainer({'mean': DeviceArray([-0.3351843], dtype=float32), 'log_chol_diag': DeviceArray([-0.12795305], dtype=float32)})\n",
      "Loss = 3.231466054916382, Params = Jaxtainer({'mean': DeviceArray([-0.33441064], dtype=float32), 'log_chol_diag': DeviceArray([-0.12891255], dtype=float32)})\n",
      "Loss = 3.2310791015625, Params = Jaxtainer({'mean': DeviceArray([-0.33346498], dtype=float32), 'log_chol_diag': DeviceArray([-0.12982726], dtype=float32)})\n",
      "Loss = 3.2306952476501465, Params = Jaxtainer({'mean': DeviceArray([-0.3325801], dtype=float32), 'log_chol_diag': DeviceArray([-0.130389], dtype=float32)})\n",
      "Loss = 3.2304258346557617, Params = Jaxtainer({'mean': DeviceArray([-0.3319181], dtype=float32), 'log_chol_diag': DeviceArray([-0.13042477], dtype=float32)})\n",
      "Loss = 3.2303264141082764, Params = Jaxtainer({'mean': DeviceArray([-0.33153793], dtype=float32), 'log_chol_diag': DeviceArray([-0.12994355], dtype=float32)})\n",
      "Loss = 3.230398654937744, Params = Jaxtainer({'mean': DeviceArray([-0.33139884], dtype=float32), 'log_chol_diag': DeviceArray([-0.12912145], dtype=float32)})\n",
      "Loss = 3.230597496032715, Params = Jaxtainer({'mean': DeviceArray([-0.33139473], dtype=float32), 'log_chol_diag': DeviceArray([-0.12823427], dtype=float32)})\n",
      "Loss = 3.2308409214019775, Params = Jaxtainer({'mean': DeviceArray([-0.3314051], dtype=float32), 'log_chol_diag': DeviceArray([-0.1275614], dtype=float32)})\n",
      "Loss = 3.231034278869629, Params = Jaxtainer({'mean': DeviceArray([-0.3313445], dtype=float32), 'log_chol_diag': DeviceArray([-0.12729377], dtype=float32)})\n",
      "Loss = 3.2311034202575684, Params = Jaxtainer({'mean': DeviceArray([-0.33119327], dtype=float32), 'log_chol_diag': DeviceArray([-0.12747642], dtype=float32)})\n",
      "Loss = 3.2310290336608887, Params = Jaxtainer({'mean': DeviceArray([-0.33100033], dtype=float32), 'log_chol_diag': DeviceArray([-0.12800466], dtype=float32)})\n",
      "Loss = 3.2308504581451416, Params = Jaxtainer({'mean': DeviceArray([-0.3308585], dtype=float32), 'log_chol_diag': DeviceArray([-0.1286716], dtype=float32)})\n",
      "Loss = 3.230645179748535, Params = Jaxtainer({'mean': DeviceArray([-0.3308638], dtype=float32), 'log_chol_diag': DeviceArray([-0.12924679], dtype=float32)})\n"
     ]
    }
   ],
   "source": [
    "approx_dist = approx.Gaussian(ndim)\n",
    "prngkey = jax.random.PRNGKey(12)\n",
    "loss = losses.ELBO(joint_dist, use_reparameterisation=False)\n",
    "optimiser = optimisers.Adam()\n",
    "optimiser.fit(approx_dist, loss, data, prngkey, verbose=True, max_iter=100, num_samples=1000)"
   ]
  },
  {
   "cell_type": "code",
   "execution_count": 57,
   "id": "7030c571",
   "metadata": {},
   "outputs": [],
   "source": [
    "approx_dist = approx.Gaussian(ndim)\n",
    "# mix_dist = mixture.Different([approx_dist, approx_dist])\n",
    "mix_dist = mixture.Identical(approx_dist,1)"
   ]
  },
  {
   "cell_type": "code",
   "execution_count": null,
   "id": "c8da5eed",
   "metadata": {},
   "outputs": [],
   "source": []
  },
  {
   "cell_type": "code",
   "execution_count": 67,
   "id": "d25f02ad",
   "metadata": {},
   "outputs": [],
   "source": [
    "epsilon = approx_dist.sample_base(1000, prngkey) #jnp.array([-1., 0., -2.]).reshape(-1,1)"
   ]
  },
  {
   "cell_type": "code",
   "execution_count": 68,
   "id": "22ca4054",
   "metadata": {},
   "outputs": [
    {
     "name": "stdout",
     "output_type": "stream",
     "text": [
      "Jaxtainer({'log_chol_diag': DeviceArray(-1.0961872, dtype=float32), 'mean': DeviceArray(-0.02752675, dtype=float32)})\n",
      "Jaxtainer({'log_chol_diag': DeviceArray(0.09618708, dtype=float32), 'mean': DeviceArray(0.02752675, dtype=float32)})\n"
     ]
    }
   ],
   "source": [
    "theta = approx_dist.transform(epsilon)\n",
    "transform_del_phi = approx_dist.transform_del_2(epsilon)\n",
    "approx_del_1 = approx_dist.logpdf_del_1(theta) \n",
    "print(np.mean(np.einsum(\"abj,abj...->ab...\", approx_del_1, transform_del_phi)))\n",
    "print(np.mean(approx_dist.logpdf_del_2(theta)))"
   ]
  },
  {
   "cell_type": "code",
   "execution_count": 60,
   "id": "3fadabac",
   "metadata": {},
   "outputs": [
    {
     "data": {
      "text/plain": [
       "Jaxtainer({'component_0': {'log_chol_diag': DeviceArray([[[-0.49979138],\n",
       "              [-0.573161  ],\n",
       "              [-0.9992139 ],\n",
       "              [ 3.3286781 ],\n",
       "              [-0.5784723 ]]], dtype=float32), 'mean': DeviceArray([[[-0.7072543 ],\n",
       "              [ 0.6533292 ],\n",
       "              [ 0.02803834],\n",
       "              [-2.0805476 ],\n",
       "              [ 0.64925164]]], dtype=float32)}, 'log_unnorm_coeff': DeviceArray([[[0.],\n",
       "              [0.],\n",
       "              [0.],\n",
       "              [0.],\n",
       "              [0.]]], dtype=float32)})"
      ]
     },
     "execution_count": 60,
     "metadata": {},
     "output_type": "execute_result"
    }
   ],
   "source": [
    "theta = mix_dist.transform(epsilon[:,None])\n",
    "mix_dist.logpdf_del_2(theta)"
   ]
  },
  {
   "cell_type": "code",
   "execution_count": 7,
   "id": "ab0bee1d",
   "metadata": {
    "scrolled": true
   },
   "outputs": [
    {
     "name": "stdout",
     "output_type": "stream",
     "text": [
      "Jaxtainer({'component_0': {'log_chol_diag': DeviceArray([[[[-1.]],\n",
      "\n",
      "              [[-1.]],\n",
      "\n",
      "              [[-1.]],\n",
      "\n",
      "              [[-1.]],\n",
      "\n",
      "              [[-1.]]]], dtype=float32), 'mean': DeviceArray([[[[0.]],\n",
      "\n",
      "              [[0.]],\n",
      "\n",
      "              [[0.]],\n",
      "\n",
      "              [[0.]],\n",
      "\n",
      "              [[0.]]]], dtype=float32)}, 'log_unnorm_coeff': DeviceArray([[[[0.]],\n",
      "\n",
      "              [[0.]],\n",
      "\n",
      "              [[0.]],\n",
      "\n",
      "              [[0.]],\n",
      "\n",
      "              [[0.]]]], dtype=float32)})\n",
      "Jaxtainer({'component_0': {'log_chol_diag': DeviceArray([[[[-2.8459361e+00]],\n",
      "\n",
      "              [[-2.3658662e+00]],\n",
      "\n",
      "              [[-3.6875512e-03]],\n",
      "\n",
      "              [[-5.7772434e+01]],\n",
      "\n",
      "              [[-2.3319488e+00]]]], dtype=float32), 'mean': DeviceArray([[[[ 4.023922  ]],\n",
      "\n",
      "              [[-3.6212468 ]],\n",
      "\n",
      "              [[-0.13151816]],\n",
      "\n",
      "              [[27.767899  ]],\n",
      "\n",
      "              [[-3.5917487 ]]]], dtype=float32)}, 'log_unnorm_coeff': DeviceArray([[[[ 0.]],\n",
      "\n",
      "              [[-0.]],\n",
      "\n",
      "              [[-0.]],\n",
      "\n",
      "              [[ 0.]],\n",
      "\n",
      "              [[-0.]]]], dtype=float32)})\n",
      "Loss = 7.322807312011719, Params = Jaxtainer({'component_0': {'mean': DeviceArray([0.1], dtype=float32), 'log_chol_diag': DeviceArray([-0.1], dtype=float32)}, 'log_unnorm_coeff': DeviceArray([0.], dtype=float32)})\n",
      "Jaxtainer({'component_0': {'log_chol_diag': DeviceArray([[[[-1.]],\n",
      "\n",
      "              [[-1.]],\n",
      "\n",
      "              [[-1.]],\n",
      "\n",
      "              [[-1.]],\n",
      "\n",
      "              [[-1.]]]], dtype=float32), 'mean': DeviceArray([[[[0.]],\n",
      "\n",
      "              [[0.]],\n",
      "\n",
      "              [[0.]],\n",
      "\n",
      "              [[0.]],\n",
      "\n",
      "              [[0.]]]], dtype=float32)}, 'log_unnorm_coeff': DeviceArray([[[[0.]],\n",
      "\n",
      "              [[0.]],\n",
      "\n",
      "              [[0.]],\n",
      "\n",
      "              [[0.]],\n",
      "\n",
      "              [[0.]]]], dtype=float32)})\n",
      "Jaxtainer({'component_0': {'log_chol_diag': DeviceArray([[[[-1.8217529e+00]],\n",
      "\n",
      "              [[-2.3062313e+00]],\n",
      "\n",
      "              [[-1.5014351e-02]],\n",
      "\n",
      "              [[-3.7061424e+01]],\n",
      "\n",
      "              [[-2.2754953e+00]]]], dtype=float32), 'mean': DeviceArray([[[[ 2.8467107 ]],\n",
      "\n",
      "              [[-3.9012182 ]],\n",
      "\n",
      "              [[-0.59181184]],\n",
      "\n",
      "              [[19.686745  ]],\n",
      "\n",
      "              [[-3.8733997 ]]]], dtype=float32)}, 'log_unnorm_coeff': DeviceArray([[[[ 0.]],\n",
      "\n",
      "              [[-0.]],\n",
      "\n",
      "              [[-0.]],\n",
      "\n",
      "              [[ 0.]],\n",
      "\n",
      "              [[-0.]]]], dtype=float32)})\n",
      "Loss = 5.968557834625244, Params = Jaxtainer({'component_0': {'mean': DeviceArray([0.19529182], dtype=float32), 'log_chol_diag': DeviceArray([-0.19651699], dtype=float32)}, 'log_unnorm_coeff': DeviceArray([0.], dtype=float32)})\n"
     ]
    },
    {
     "ename": "KeyboardInterrupt",
     "evalue": "",
     "output_type": "error",
     "traceback": [
      "\u001b[0;31m---------------------------------------------------------------------------\u001b[0m",
      "\u001b[0;31mKeyboardInterrupt\u001b[0m                         Traceback (most recent call last)",
      "\u001b[0;32m/tmp/ipykernel_32421/991557847.py\u001b[0m in \u001b[0;36m<module>\u001b[0;34m\u001b[0m\n\u001b[1;32m      6\u001b[0m \u001b[0mloss\u001b[0m \u001b[0;34m=\u001b[0m \u001b[0mlosses\u001b[0m\u001b[0;34m.\u001b[0m\u001b[0mSELBO\u001b[0m\u001b[0;34m(\u001b[0m\u001b[0mjoint_dist\u001b[0m\u001b[0;34m,\u001b[0m \u001b[0muse_reparameterisation\u001b[0m\u001b[0;34m=\u001b[0m\u001b[0;32mTrue\u001b[0m\u001b[0;34m)\u001b[0m\u001b[0;34m\u001b[0m\u001b[0;34m\u001b[0m\u001b[0m\n\u001b[1;32m      7\u001b[0m \u001b[0moptimiser\u001b[0m \u001b[0;34m=\u001b[0m \u001b[0moptimisers\u001b[0m\u001b[0;34m.\u001b[0m\u001b[0mAdam\u001b[0m\u001b[0;34m(\u001b[0m\u001b[0;34m)\u001b[0m\u001b[0;34m\u001b[0m\u001b[0;34m\u001b[0m\u001b[0m\n\u001b[0;32m----> 8\u001b[0;31m \u001b[0moptimiser\u001b[0m\u001b[0;34m.\u001b[0m\u001b[0mfit\u001b[0m\u001b[0;34m(\u001b[0m\u001b[0mmix_dist\u001b[0m\u001b[0;34m,\u001b[0m \u001b[0mloss\u001b[0m\u001b[0;34m,\u001b[0m \u001b[0mdata\u001b[0m\u001b[0;34m,\u001b[0m \u001b[0mprngkey\u001b[0m\u001b[0;34m,\u001b[0m \u001b[0mverbose\u001b[0m\u001b[0;34m=\u001b[0m\u001b[0;32mTrue\u001b[0m\u001b[0;34m,\u001b[0m \u001b[0mmax_iter\u001b[0m\u001b[0;34m=\u001b[0m\u001b[0;36m100\u001b[0m\u001b[0;34m,\u001b[0m \u001b[0mnum_samples\u001b[0m\u001b[0;34m=\u001b[0m\u001b[0;36m5\u001b[0m\u001b[0;34m)\u001b[0m\u001b[0;34m\u001b[0m\u001b[0;34m\u001b[0m\u001b[0m\n\u001b[0m",
      "\u001b[0;32m/usr/local/lib/python3.8/dist-packages/approx_post/optimisers.py\u001b[0m in \u001b[0;36mfit\u001b[0;34m(self, approx, loss_func, x, prngkey, grad_filter, num_samples, verbose, max_iter)\u001b[0m\n\u001b[1;32m     13\u001b[0m         \u001b[0;32mwhile\u001b[0m \u001b[0mself\u001b[0m\u001b[0;34m.\u001b[0m\u001b[0m_loop_flag\u001b[0m\u001b[0;34m:\u001b[0m\u001b[0;34m\u001b[0m\u001b[0;34m\u001b[0m\u001b[0m\n\u001b[1;32m     14\u001b[0m \u001b[0;34m\u001b[0m\u001b[0m\n\u001b[0;32m---> 15\u001b[0;31m             \u001b[0mloss\u001b[0m\u001b[0;34m,\u001b[0m \u001b[0mloss_del_params\u001b[0m \u001b[0;34m=\u001b[0m \u001b[0mloss_func\u001b[0m\u001b[0;34m.\u001b[0m\u001b[0meval\u001b[0m\u001b[0;34m(\u001b[0m\u001b[0mapprox\u001b[0m\u001b[0;34m,\u001b[0m \u001b[0mx\u001b[0m\u001b[0;34m,\u001b[0m \u001b[0mprngkey\u001b[0m\u001b[0;34m=\u001b[0m\u001b[0mprngkey\u001b[0m\u001b[0;34m,\u001b[0m \u001b[0mnum_samples\u001b[0m\u001b[0;34m=\u001b[0m\u001b[0mnum_samples\u001b[0m\u001b[0;34m)\u001b[0m\u001b[0;34m\u001b[0m\u001b[0;34m\u001b[0m\u001b[0m\n\u001b[0m\u001b[1;32m     16\u001b[0m \u001b[0;34m\u001b[0m\u001b[0m\n\u001b[1;32m     17\u001b[0m             \u001b[0mloss_del_params\u001b[0m \u001b[0;34m=\u001b[0m \u001b[0mself\u001b[0m\u001b[0;34m.\u001b[0m\u001b[0m_filter_grad_components\u001b[0m\u001b[0;34m(\u001b[0m\u001b[0mloss_del_params\u001b[0m\u001b[0;34m,\u001b[0m \u001b[0mgrad_filter\u001b[0m\u001b[0;34m)\u001b[0m\u001b[0;34m\u001b[0m\u001b[0;34m\u001b[0m\u001b[0m\n",
      "\u001b[0;32m/usr/local/lib/python3.8/dist-packages/approx_post/losses.py\u001b[0m in \u001b[0;36meval\u001b[0;34m(self, approx, x, prngkey, num_samples)\u001b[0m\n\u001b[1;32m    219\u001b[0m \u001b[0;34m\u001b[0m\u001b[0m\n\u001b[1;32m    220\u001b[0m         \u001b[0;32mif\u001b[0m \u001b[0mself\u001b[0m\u001b[0;34m.\u001b[0m\u001b[0muse_reparameterisation\u001b[0m\u001b[0;34m:\u001b[0m\u001b[0;34m\u001b[0m\u001b[0;34m\u001b[0m\u001b[0m\n\u001b[0;32m--> 221\u001b[0;31m             \u001b[0mloss\u001b[0m\u001b[0;34m,\u001b[0m \u001b[0mloss_del_phi\u001b[0m \u001b[0;34m=\u001b[0m \u001b[0mself\u001b[0m\u001b[0;34m.\u001b[0m\u001b[0m_eval_selbo_reparameterisation\u001b[0m\u001b[0;34m(\u001b[0m\u001b[0mapprox\u001b[0m\u001b[0;34m,\u001b[0m \u001b[0mphi\u001b[0m\u001b[0;34m,\u001b[0m \u001b[0mx\u001b[0m\u001b[0;34m,\u001b[0m \u001b[0mnum_samples\u001b[0m\u001b[0;34m,\u001b[0m \u001b[0mprngkey\u001b[0m\u001b[0;34m)\u001b[0m\u001b[0;34m\u001b[0m\u001b[0;34m\u001b[0m\u001b[0m\n\u001b[0m\u001b[1;32m    222\u001b[0m         \u001b[0;32melse\u001b[0m\u001b[0;34m:\u001b[0m\u001b[0;34m\u001b[0m\u001b[0;34m\u001b[0m\u001b[0m\n\u001b[1;32m    223\u001b[0m             \u001b[0mloss\u001b[0m\u001b[0;34m,\u001b[0m \u001b[0mloss_del_phi\u001b[0m \u001b[0;34m=\u001b[0m \u001b[0mself\u001b[0m\u001b[0;34m.\u001b[0m\u001b[0m_eval_selbo_cv\u001b[0m\u001b[0;34m(\u001b[0m\u001b[0mapprox\u001b[0m\u001b[0;34m,\u001b[0m \u001b[0mphi\u001b[0m\u001b[0;34m,\u001b[0m \u001b[0mx\u001b[0m\u001b[0;34m,\u001b[0m \u001b[0mnum_samples\u001b[0m\u001b[0;34m,\u001b[0m \u001b[0mprngkey\u001b[0m\u001b[0;34m)\u001b[0m\u001b[0;34m\u001b[0m\u001b[0;34m\u001b[0m\u001b[0m\n",
      "\u001b[0;32m/usr/local/lib/python3.8/dist-packages/approx_post/losses.py\u001b[0m in \u001b[0;36m_eval_selbo_reparameterisation\u001b[0;34m(self, approx, phi, x, num_samples, prngkey)\u001b[0m\n\u001b[1;32m    240\u001b[0m         \u001b[0mloss_components\u001b[0m \u001b[0;34m=\u001b[0m \u001b[0mjnp\u001b[0m\u001b[0;34m.\u001b[0m\u001b[0mmean\u001b[0m\u001b[0;34m(\u001b[0m\u001b[0mjoint_lp\u001b[0m \u001b[0;34m-\u001b[0m \u001b[0mapprox_lp\u001b[0m\u001b[0;34m,\u001b[0m \u001b[0maxis\u001b[0m\u001b[0;34m=\u001b[0m\u001b[0;36m1\u001b[0m\u001b[0;34m)\u001b[0m \u001b[0;31m# shape = (num_batch, num_mixture)\u001b[0m\u001b[0;34m\u001b[0m\u001b[0;34m\u001b[0m\u001b[0m\n\u001b[1;32m    241\u001b[0m \u001b[0;34m\u001b[0m\u001b[0m\n\u001b[0;32m--> 242\u001b[0;31m         \u001b[0mtransform_del_phi\u001b[0m \u001b[0;34m=\u001b[0m \u001b[0mapprox\u001b[0m\u001b[0;34m.\u001b[0m\u001b[0mtransform_del_2\u001b[0m\u001b[0;34m(\u001b[0m\u001b[0mepsilon\u001b[0m\u001b[0;34m,\u001b[0m \u001b[0mphi\u001b[0m\u001b[0;34m=\u001b[0m\u001b[0mphi\u001b[0m\u001b[0;34m)\u001b[0m \u001b[0;31m# shape = (num_batch, num_samples, num_mixture, theta_dim, phi_dim)\u001b[0m\u001b[0;34m\u001b[0m\u001b[0;34m\u001b[0m\u001b[0m\n\u001b[0m\u001b[1;32m    243\u001b[0m         \u001b[0mjoint_del_1\u001b[0m \u001b[0;34m=\u001b[0m \u001b[0mself\u001b[0m\u001b[0;34m.\u001b[0m\u001b[0m_compute_component_logpdf\u001b[0m\u001b[0;34m(\u001b[0m\u001b[0mself\u001b[0m\u001b[0;34m.\u001b[0m\u001b[0mjoint\u001b[0m\u001b[0;34m.\u001b[0m\u001b[0mlogpdf_del_1\u001b[0m\u001b[0;34m,\u001b[0m \u001b[0mtheta\u001b[0m\u001b[0;34m,\u001b[0m \u001b[0mx\u001b[0m\u001b[0;34m)\u001b[0m \u001b[0;31m# shape = (num_batch, num_samples, num_mixture, theta_dim)\u001b[0m\u001b[0;34m\u001b[0m\u001b[0;34m\u001b[0m\u001b[0m\n\u001b[1;32m    244\u001b[0m         \u001b[0mjoint_del_phi\u001b[0m \u001b[0;34m=\u001b[0m \u001b[0mnp\u001b[0m\u001b[0;34m.\u001b[0m\u001b[0meinsum\u001b[0m\u001b[0;34m(\u001b[0m\u001b[0;34m'abmi...,abmi->abm...'\u001b[0m\u001b[0;34m,\u001b[0m \u001b[0mtransform_del_phi\u001b[0m\u001b[0;34m,\u001b[0m \u001b[0mjoint_del_1\u001b[0m\u001b[0;34m)\u001b[0m \u001b[0;31m# shape = (num_batch, num_samples, num_mixture, phi_shape)\u001b[0m\u001b[0;34m\u001b[0m\u001b[0;34m\u001b[0m\u001b[0m\n",
      "\u001b[0;32m/usr/local/lib/python3.8/dist-packages/approx_post/distributions/mixture.py\u001b[0m in \u001b[0;36mtransform_del_2\u001b[0;34m(self, epsilon, phi)\u001b[0m\n\u001b[1;32m    205\u001b[0m     \u001b[0;32mdef\u001b[0m \u001b[0mtransform_del_2\u001b[0m\u001b[0;34m(\u001b[0m\u001b[0mself\u001b[0m\u001b[0;34m,\u001b[0m \u001b[0mepsilon\u001b[0m\u001b[0;34m,\u001b[0m \u001b[0mphi\u001b[0m\u001b[0;34m=\u001b[0m\u001b[0;32mNone\u001b[0m\u001b[0;34m)\u001b[0m\u001b[0;34m:\u001b[0m\u001b[0;34m\u001b[0m\u001b[0;34m\u001b[0m\u001b[0m\n\u001b[1;32m    206\u001b[0m         \u001b[0mphi\u001b[0m \u001b[0;34m=\u001b[0m \u001b[0mself\u001b[0m\u001b[0;34m.\u001b[0m\u001b[0m_get_phi\u001b[0m\u001b[0;34m(\u001b[0m\u001b[0mphi\u001b[0m\u001b[0;34m)\u001b[0m\u001b[0;34m\u001b[0m\u001b[0;34m\u001b[0m\u001b[0m\n\u001b[0;32m--> 207\u001b[0;31m         \u001b[0mtheta_del_2\u001b[0m \u001b[0;34m=\u001b[0m \u001b[0mself\u001b[0m\u001b[0;34m.\u001b[0m\u001b[0m_jaxfunc_dict\u001b[0m\u001b[0;34m[\u001b[0m\u001b[0;34m'transform_del_2'\u001b[0m\u001b[0;34m]\u001b[0m\u001b[0;34m(\u001b[0m\u001b[0mepsilon\u001b[0m\u001b[0;34m,\u001b[0m \u001b[0mphi\u001b[0m\u001b[0;34m)\u001b[0m\u001b[0;34m\u001b[0m\u001b[0;34m\u001b[0m\u001b[0m\n\u001b[0m\u001b[1;32m    208\u001b[0m         \u001b[0mnum_samples\u001b[0m\u001b[0;34m,\u001b[0m \u001b[0mnum_components\u001b[0m\u001b[0;34m,\u001b[0m \u001b[0mdim_theta\u001b[0m \u001b[0;34m=\u001b[0m \u001b[0mepsilon\u001b[0m\u001b[0;34m.\u001b[0m\u001b[0mshape\u001b[0m\u001b[0;34m\u001b[0m\u001b[0;34m\u001b[0m\u001b[0m\n\u001b[1;32m    209\u001b[0m         \u001b[0;32mreturn\u001b[0m \u001b[0mtheta_del_2\u001b[0m\u001b[0;34m.\u001b[0m\u001b[0mreshape\u001b[0m\u001b[0;34m(\u001b[0m\u001b[0;34m-\u001b[0m\u001b[0;36m1\u001b[0m\u001b[0;34m,\u001b[0m \u001b[0mnum_samples\u001b[0m\u001b[0;34m,\u001b[0m \u001b[0mnum_components\u001b[0m\u001b[0;34m,\u001b[0m \u001b[0mdim_theta\u001b[0m\u001b[0;34m,\u001b[0m \u001b[0mphi\u001b[0m\u001b[0;34m.\u001b[0m\u001b[0mshape\u001b[0m\u001b[0;34m[\u001b[0m\u001b[0;36m1\u001b[0m\u001b[0;34m:\u001b[0m\u001b[0;34m]\u001b[0m\u001b[0;34m)\u001b[0m\u001b[0;34m\u001b[0m\u001b[0;34m\u001b[0m\u001b[0m\n",
      "    \u001b[0;31m[... skipping hidden 1 frame]\u001b[0m\n",
      "\u001b[0;32m~/.local/lib/python3.8/site-packages/jax/_src/api.py\u001b[0m in \u001b[0;36mbatched_fun\u001b[0;34m(*args, **kwargs)\u001b[0m\n\u001b[1;32m   1450\u001b[0m     \u001b[0min_axes_flat\u001b[0m \u001b[0;34m=\u001b[0m \u001b[0mflatten_axes\u001b[0m\u001b[0;34m(\u001b[0m\u001b[0;34m\"vmap in_axes\"\u001b[0m\u001b[0;34m,\u001b[0m \u001b[0min_tree\u001b[0m\u001b[0;34m,\u001b[0m \u001b[0;34m(\u001b[0m\u001b[0min_axes\u001b[0m\u001b[0;34m,\u001b[0m \u001b[0;36m0\u001b[0m\u001b[0;34m)\u001b[0m\u001b[0;34m,\u001b[0m \u001b[0mkws\u001b[0m\u001b[0;34m=\u001b[0m\u001b[0;32mTrue\u001b[0m\u001b[0;34m)\u001b[0m\u001b[0;34m\u001b[0m\u001b[0;34m\u001b[0m\u001b[0m\n\u001b[1;32m   1451\u001b[0m     \u001b[0maxis_size\u001b[0m \u001b[0;34m=\u001b[0m \u001b[0m_mapped_axis_size\u001b[0m\u001b[0;34m(\u001b[0m\u001b[0min_tree\u001b[0m\u001b[0;34m,\u001b[0m \u001b[0margs_flat\u001b[0m\u001b[0;34m,\u001b[0m \u001b[0min_axes_flat\u001b[0m\u001b[0;34m,\u001b[0m \u001b[0;34m\"vmap\"\u001b[0m\u001b[0;34m,\u001b[0m \u001b[0mkws\u001b[0m\u001b[0;34m=\u001b[0m\u001b[0;32mTrue\u001b[0m\u001b[0;34m)\u001b[0m\u001b[0;34m\u001b[0m\u001b[0;34m\u001b[0m\u001b[0m\n\u001b[0;32m-> 1452\u001b[0;31m     out_flat = batching.batch(\n\u001b[0m\u001b[1;32m   1453\u001b[0m         \u001b[0mflat_fun\u001b[0m\u001b[0;34m,\u001b[0m \u001b[0maxis_name\u001b[0m\u001b[0;34m,\u001b[0m \u001b[0maxis_size\u001b[0m\u001b[0;34m,\u001b[0m \u001b[0min_axes_flat\u001b[0m\u001b[0;34m,\u001b[0m\u001b[0;34m\u001b[0m\u001b[0;34m\u001b[0m\u001b[0m\n\u001b[1;32m   1454\u001b[0m         \u001b[0;32mlambda\u001b[0m\u001b[0;34m:\u001b[0m \u001b[0mflatten_axes\u001b[0m\u001b[0;34m(\u001b[0m\u001b[0;34m\"vmap out_axes\"\u001b[0m\u001b[0;34m,\u001b[0m \u001b[0mout_tree\u001b[0m\u001b[0;34m(\u001b[0m\u001b[0;34m)\u001b[0m\u001b[0;34m,\u001b[0m \u001b[0mout_axes\u001b[0m\u001b[0;34m)\u001b[0m\u001b[0;34m\u001b[0m\u001b[0;34m\u001b[0m\u001b[0m\n",
      "\u001b[0;32m~/.local/lib/python3.8/site-packages/jax/linear_util.py\u001b[0m in \u001b[0;36mcall_wrapped\u001b[0;34m(self, *args, **kwargs)\u001b[0m\n\u001b[1;32m    159\u001b[0m     \u001b[0;32mfor\u001b[0m \u001b[0;34m(\u001b[0m\u001b[0mgen\u001b[0m\u001b[0;34m,\u001b[0m \u001b[0mgen_static_args\u001b[0m\u001b[0;34m)\u001b[0m\u001b[0;34m,\u001b[0m \u001b[0mout_store\u001b[0m \u001b[0;32min\u001b[0m \u001b[0mzip\u001b[0m\u001b[0;34m(\u001b[0m\u001b[0mself\u001b[0m\u001b[0;34m.\u001b[0m\u001b[0mtransforms\u001b[0m\u001b[0;34m,\u001b[0m \u001b[0mself\u001b[0m\u001b[0;34m.\u001b[0m\u001b[0mstores\u001b[0m\u001b[0;34m)\u001b[0m\u001b[0;34m:\u001b[0m\u001b[0;34m\u001b[0m\u001b[0;34m\u001b[0m\u001b[0m\n\u001b[1;32m    160\u001b[0m       \u001b[0mgen\u001b[0m \u001b[0;34m=\u001b[0m \u001b[0mgen\u001b[0m\u001b[0;34m(\u001b[0m\u001b[0;34m*\u001b[0m\u001b[0;34m(\u001b[0m\u001b[0mgen_static_args\u001b[0m \u001b[0;34m+\u001b[0m \u001b[0mtuple\u001b[0m\u001b[0;34m(\u001b[0m\u001b[0margs\u001b[0m\u001b[0;34m)\u001b[0m\u001b[0;34m)\u001b[0m\u001b[0;34m,\u001b[0m \u001b[0;34m**\u001b[0m\u001b[0mkwargs\u001b[0m\u001b[0;34m)\u001b[0m\u001b[0;34m\u001b[0m\u001b[0;34m\u001b[0m\u001b[0m\n\u001b[0;32m--> 161\u001b[0;31m       \u001b[0margs\u001b[0m\u001b[0;34m,\u001b[0m \u001b[0mkwargs\u001b[0m \u001b[0;34m=\u001b[0m \u001b[0mnext\u001b[0m\u001b[0;34m(\u001b[0m\u001b[0mgen\u001b[0m\u001b[0;34m)\u001b[0m\u001b[0;34m\u001b[0m\u001b[0;34m\u001b[0m\u001b[0m\n\u001b[0m\u001b[1;32m    162\u001b[0m       \u001b[0mstack\u001b[0m\u001b[0;34m.\u001b[0m\u001b[0mappend\u001b[0m\u001b[0;34m(\u001b[0m\u001b[0;34m(\u001b[0m\u001b[0mgen\u001b[0m\u001b[0;34m,\u001b[0m \u001b[0mout_store\u001b[0m\u001b[0;34m)\u001b[0m\u001b[0;34m)\u001b[0m\u001b[0;34m\u001b[0m\u001b[0;34m\u001b[0m\u001b[0m\n\u001b[1;32m    163\u001b[0m     \u001b[0mgen\u001b[0m \u001b[0;34m=\u001b[0m \u001b[0mgen_static_args\u001b[0m \u001b[0;34m=\u001b[0m \u001b[0mout_store\u001b[0m \u001b[0;34m=\u001b[0m \u001b[0;32mNone\u001b[0m\u001b[0;34m\u001b[0m\u001b[0;34m\u001b[0m\u001b[0m\n",
      "\u001b[0;32m~/.local/lib/python3.8/site-packages/jax/_src/api_util.py\u001b[0m in \u001b[0;36mflatten_fun\u001b[0;34m(in_tree, *args_flat)\u001b[0m\n\u001b[1;32m     61\u001b[0m \u001b[0;34m@\u001b[0m\u001b[0mlu\u001b[0m\u001b[0;34m.\u001b[0m\u001b[0mtransformation_with_aux\u001b[0m\u001b[0;34m\u001b[0m\u001b[0;34m\u001b[0m\u001b[0m\n\u001b[1;32m     62\u001b[0m \u001b[0;32mdef\u001b[0m \u001b[0mflatten_fun\u001b[0m\u001b[0;34m(\u001b[0m\u001b[0min_tree\u001b[0m\u001b[0;34m,\u001b[0m \u001b[0;34m*\u001b[0m\u001b[0margs_flat\u001b[0m\u001b[0;34m)\u001b[0m\u001b[0;34m:\u001b[0m\u001b[0;34m\u001b[0m\u001b[0;34m\u001b[0m\u001b[0m\n\u001b[0;32m---> 63\u001b[0;31m   \u001b[0mpy_args\u001b[0m\u001b[0;34m,\u001b[0m \u001b[0mpy_kwargs\u001b[0m \u001b[0;34m=\u001b[0m \u001b[0mtree_unflatten\u001b[0m\u001b[0;34m(\u001b[0m\u001b[0min_tree\u001b[0m\u001b[0;34m,\u001b[0m \u001b[0margs_flat\u001b[0m\u001b[0;34m)\u001b[0m\u001b[0;34m\u001b[0m\u001b[0;34m\u001b[0m\u001b[0m\n\u001b[0m\u001b[1;32m     64\u001b[0m   \u001b[0mans\u001b[0m \u001b[0;34m=\u001b[0m \u001b[0;32myield\u001b[0m \u001b[0mpy_args\u001b[0m\u001b[0;34m,\u001b[0m \u001b[0mpy_kwargs\u001b[0m\u001b[0;34m\u001b[0m\u001b[0;34m\u001b[0m\u001b[0m\n\u001b[1;32m     65\u001b[0m   \u001b[0;32myield\u001b[0m \u001b[0mtree_flatten\u001b[0m\u001b[0;34m(\u001b[0m\u001b[0mans\u001b[0m\u001b[0;34m)\u001b[0m\u001b[0;34m\u001b[0m\u001b[0;34m\u001b[0m\u001b[0m\n",
      "\u001b[0;32m~/.local/lib/python3.8/site-packages/jax/_src/tree_util.py\u001b[0m in \u001b[0;36mtree_unflatten\u001b[0;34m(treedef, leaves)\u001b[0m\n\u001b[1;32m     67\u001b[0m     \u001b[0mdescribed\u001b[0m \u001b[0mby\u001b[0m\u001b[0;31m \u001b[0m\u001b[0;31m`\u001b[0m\u001b[0;31m`\u001b[0m\u001b[0mtreedef\u001b[0m\u001b[0;31m`\u001b[0m\u001b[0;31m`\u001b[0m\u001b[0;34m.\u001b[0m\u001b[0;34m\u001b[0m\u001b[0;34m\u001b[0m\u001b[0m\n\u001b[1;32m     68\u001b[0m   \"\"\"\n\u001b[0;32m---> 69\u001b[0;31m   \u001b[0;32mreturn\u001b[0m \u001b[0mtreedef\u001b[0m\u001b[0;34m.\u001b[0m\u001b[0munflatten\u001b[0m\u001b[0;34m(\u001b[0m\u001b[0mleaves\u001b[0m\u001b[0;34m)\u001b[0m\u001b[0;34m\u001b[0m\u001b[0;34m\u001b[0m\u001b[0m\n\u001b[0m\u001b[1;32m     70\u001b[0m \u001b[0;34m\u001b[0m\u001b[0m\n\u001b[1;32m     71\u001b[0m \u001b[0;32mdef\u001b[0m \u001b[0mtree_leaves\u001b[0m\u001b[0;34m(\u001b[0m\u001b[0mtree\u001b[0m\u001b[0;34m)\u001b[0m\u001b[0;34m:\u001b[0m\u001b[0;34m\u001b[0m\u001b[0;34m\u001b[0m\u001b[0m\n",
      "\u001b[0;32m/usr/local/lib/python3.8/dist-packages/arraytainers/jaxtainer.py\u001b[0m in \u001b[0;36mtree_unflatten\u001b[0;34m(cls, aux_data, children)\u001b[0m\n\u001b[1;32m    117\u001b[0m         \u001b[0;32mtry\u001b[0m\u001b[0;34m:\u001b[0m\u001b[0;34m\u001b[0m\u001b[0;34m\u001b[0m\u001b[0m\n\u001b[1;32m    118\u001b[0m             \u001b[0munflattened\u001b[0m \u001b[0;34m=\u001b[0m\u001b[0;31m \u001b[0m\u001b[0;31m\\\u001b[0m\u001b[0;34m\u001b[0m\u001b[0;34m\u001b[0m\u001b[0m\n\u001b[0;32m--> 119\u001b[0;31m                 \u001b[0mcls\u001b[0m\u001b[0;34m(\u001b[0m\u001b[0mjax\u001b[0m\u001b[0;34m.\u001b[0m\u001b[0mtree_util\u001b[0m\u001b[0;34m.\u001b[0m\u001b[0mtree_unflatten\u001b[0m\u001b[0;34m(\u001b[0m\u001b[0maux_data\u001b[0m\u001b[0;34m,\u001b[0m \u001b[0mchildren\u001b[0m\u001b[0;34m)\u001b[0m\u001b[0;34m,\u001b[0m \u001b[0mconvert_arrays\u001b[0m\u001b[0;34m=\u001b[0m\u001b[0;32mTrue\u001b[0m\u001b[0;34m,\u001b[0m \u001b[0mnested\u001b[0m\u001b[0;34m=\u001b[0m\u001b[0;32mTrue\u001b[0m\u001b[0;34m)\u001b[0m\u001b[0;34m\u001b[0m\u001b[0;34m\u001b[0m\u001b[0m\n\u001b[0m\u001b[1;32m    120\u001b[0m         \u001b[0;32mexcept\u001b[0m \u001b[0mTypeError\u001b[0m\u001b[0;34m:\u001b[0m\u001b[0;34m\u001b[0m\u001b[0;34m\u001b[0m\u001b[0m\n\u001b[1;32m    121\u001b[0m             \u001b[0munflattened\u001b[0m \u001b[0;34m=\u001b[0m\u001b[0;31m \u001b[0m\u001b[0;31m\\\u001b[0m\u001b[0;34m\u001b[0m\u001b[0;34m\u001b[0m\u001b[0m\n",
      "\u001b[0;32m/usr/local/lib/python3.8/dist-packages/arraytainers/jaxtainer.py\u001b[0m in \u001b[0;36m__init__\u001b[0;34m(self, contents, convert_arrays, greedy, nested)\u001b[0m\n\u001b[1;32m     12\u001b[0m \u001b[0;34m\u001b[0m\u001b[0m\n\u001b[1;32m     13\u001b[0m     \u001b[0;32mdef\u001b[0m \u001b[0m__init__\u001b[0m\u001b[0;34m(\u001b[0m\u001b[0mself\u001b[0m\u001b[0;34m,\u001b[0m \u001b[0mcontents\u001b[0m\u001b[0;34m,\u001b[0m \u001b[0mconvert_arrays\u001b[0m\u001b[0;34m=\u001b[0m\u001b[0;32mTrue\u001b[0m\u001b[0;34m,\u001b[0m \u001b[0mgreedy\u001b[0m\u001b[0;34m=\u001b[0m\u001b[0;32mFalse\u001b[0m\u001b[0;34m,\u001b[0m \u001b[0mnested\u001b[0m\u001b[0;34m=\u001b[0m\u001b[0;32mTrue\u001b[0m\u001b[0;34m)\u001b[0m\u001b[0;34m:\u001b[0m\u001b[0;34m\u001b[0m\u001b[0;34m\u001b[0m\u001b[0m\n\u001b[0;32m---> 14\u001b[0;31m         \u001b[0msuper\u001b[0m\u001b[0;34m(\u001b[0m\u001b[0;34m)\u001b[0m\u001b[0;34m.\u001b[0m\u001b[0m__init__\u001b[0m\u001b[0;34m(\u001b[0m\u001b[0mcontents\u001b[0m\u001b[0;34m,\u001b[0m \u001b[0mconvert_arrays\u001b[0m\u001b[0;34m,\u001b[0m \u001b[0mgreedy\u001b[0m\u001b[0;34m,\u001b[0m \u001b[0mnested\u001b[0m\u001b[0;34m)\u001b[0m\u001b[0;34m\u001b[0m\u001b[0;34m\u001b[0m\u001b[0m\n\u001b[0m\u001b[1;32m     15\u001b[0m \u001b[0;34m\u001b[0m\u001b[0m\n\u001b[1;32m     16\u001b[0m     \u001b[0;31m#\u001b[0m\u001b[0;34m\u001b[0m\u001b[0;34m\u001b[0m\u001b[0;34m\u001b[0m\u001b[0m\n",
      "\u001b[0;32m/usr/local/lib/python3.8/dist-packages/arraytainers/arraytainer.py\u001b[0m in \u001b[0;36m__init__\u001b[0;34m(self, contents, convert_arrays, greedy, nested)\u001b[0m\n\u001b[1;32m     21\u001b[0m \u001b[0;34m\u001b[0m\u001b[0m\n\u001b[1;32m     22\u001b[0m         \u001b[0;32mif\u001b[0m \u001b[0mconvert_arrays\u001b[0m\u001b[0;34m:\u001b[0m\u001b[0;34m\u001b[0m\u001b[0;34m\u001b[0m\u001b[0m\n\u001b[0;32m---> 23\u001b[0;31m             \u001b[0mcontents\u001b[0m \u001b[0;34m=\u001b[0m \u001b[0mself\u001b[0m\u001b[0;34m.\u001b[0m\u001b[0m_convert_contents_to_arrays\u001b[0m\u001b[0;34m(\u001b[0m\u001b[0mcontents\u001b[0m\u001b[0;34m,\u001b[0m \u001b[0mgreedy\u001b[0m\u001b[0;34m)\u001b[0m\u001b[0;34m\u001b[0m\u001b[0;34m\u001b[0m\u001b[0m\n\u001b[0m\u001b[1;32m     24\u001b[0m \u001b[0;34m\u001b[0m\u001b[0m\n\u001b[1;32m     25\u001b[0m         \u001b[0msuper\u001b[0m\u001b[0;34m(\u001b[0m\u001b[0;34m)\u001b[0m\u001b[0;34m.\u001b[0m\u001b[0m__init__\u001b[0m\u001b[0;34m(\u001b[0m\u001b[0mcontents\u001b[0m\u001b[0;34m,\u001b[0m \u001b[0mnested\u001b[0m\u001b[0;34m,\u001b[0m \u001b[0mgreedy\u001b[0m\u001b[0;34m=\u001b[0m\u001b[0mgreedy\u001b[0m\u001b[0;34m)\u001b[0m \u001b[0;31m#convert_arrays=convert_arrays\u001b[0m\u001b[0;34m\u001b[0m\u001b[0;34m\u001b[0m\u001b[0m\n",
      "\u001b[0;32m/usr/local/lib/python3.8/dist-packages/arraytainers/arraytainer.py\u001b[0m in \u001b[0;36m_convert_contents_to_arrays\u001b[0;34m(self, contents, greedy)\u001b[0m\n\u001b[1;32m    121\u001b[0m \u001b[0;34m\u001b[0m\u001b[0m\n\u001b[1;32m    122\u001b[0m             \u001b[0;32mif\u001b[0m \u001b[0misinstance\u001b[0m\u001b[0;34m(\u001b[0m\u001b[0mval\u001b[0m\u001b[0;34m,\u001b[0m \u001b[0mdict\u001b[0m\u001b[0;34m)\u001b[0m\u001b[0;34m:\u001b[0m\u001b[0;34m\u001b[0m\u001b[0;34m\u001b[0m\u001b[0m\n\u001b[0;32m--> 123\u001b[0;31m                 \u001b[0mcontents\u001b[0m\u001b[0;34m[\u001b[0m\u001b[0mkey\u001b[0m\u001b[0;34m]\u001b[0m \u001b[0;34m=\u001b[0m \u001b[0mself\u001b[0m\u001b[0;34m.\u001b[0m\u001b[0m_convert_contents_to_arrays\u001b[0m\u001b[0;34m(\u001b[0m\u001b[0mval\u001b[0m\u001b[0;34m,\u001b[0m \u001b[0mgreedy\u001b[0m\u001b[0;34m)\u001b[0m\u001b[0;34m\u001b[0m\u001b[0;34m\u001b[0m\u001b[0m\n\u001b[0m\u001b[1;32m    124\u001b[0m \u001b[0;34m\u001b[0m\u001b[0m\n\u001b[1;32m    125\u001b[0m             \u001b[0;32melif\u001b[0m \u001b[0misinstance\u001b[0m\u001b[0;34m(\u001b[0m\u001b[0mval\u001b[0m\u001b[0;34m,\u001b[0m \u001b[0;34m(\u001b[0m\u001b[0mlist\u001b[0m\u001b[0;34m,\u001b[0m \u001b[0mtuple\u001b[0m\u001b[0;34m)\u001b[0m\u001b[0;34m)\u001b[0m\u001b[0;34m:\u001b[0m\u001b[0;34m\u001b[0m\u001b[0;34m\u001b[0m\u001b[0m\n",
      "\u001b[0;32m/usr/local/lib/python3.8/dist-packages/arraytainers/arraytainer.py\u001b[0m in \u001b[0;36m_convert_contents_to_arrays\u001b[0;34m(self, contents, greedy)\u001b[0m\n\u001b[1;32m    140\u001b[0m \u001b[0;34m\u001b[0m\u001b[0m\n\u001b[1;32m    141\u001b[0m             \u001b[0;32melse\u001b[0m\u001b[0;34m:\u001b[0m\u001b[0;34m\u001b[0m\u001b[0;34m\u001b[0m\u001b[0m\n\u001b[0;32m--> 142\u001b[0;31m                 \u001b[0mcontents\u001b[0m\u001b[0;34m[\u001b[0m\u001b[0mkey\u001b[0m\u001b[0;34m]\u001b[0m \u001b[0;34m=\u001b[0m \u001b[0mself\u001b[0m\u001b[0;34m.\u001b[0m\u001b[0m_convert_to_array\u001b[0m\u001b[0;34m(\u001b[0m\u001b[0mval\u001b[0m\u001b[0;34m)\u001b[0m\u001b[0;34m\u001b[0m\u001b[0;34m\u001b[0m\u001b[0m\n\u001b[0m\u001b[1;32m    143\u001b[0m \u001b[0;34m\u001b[0m\u001b[0m\n\u001b[1;32m    144\u001b[0m         \u001b[0;32mreturn\u001b[0m \u001b[0mcontents\u001b[0m\u001b[0;34m\u001b[0m\u001b[0;34m\u001b[0m\u001b[0m\n",
      "\u001b[0;32m/usr/local/lib/python3.8/dist-packages/arraytainers/jaxtainer.py\u001b[0m in \u001b[0;36m_convert_to_array\u001b[0;34m(val)\u001b[0m\n\u001b[1;32m     43\u001b[0m     \u001b[0;34m@\u001b[0m\u001b[0mstaticmethod\u001b[0m\u001b[0;34m\u001b[0m\u001b[0;34m\u001b[0m\u001b[0m\n\u001b[1;32m     44\u001b[0m     \u001b[0;32mdef\u001b[0m \u001b[0m_convert_to_array\u001b[0m\u001b[0;34m(\u001b[0m\u001b[0mval\u001b[0m\u001b[0;34m)\u001b[0m\u001b[0;34m:\u001b[0m\u001b[0;34m\u001b[0m\u001b[0;34m\u001b[0m\u001b[0m\n\u001b[0;32m---> 45\u001b[0;31m         \u001b[0;32mreturn\u001b[0m \u001b[0mjnp\u001b[0m\u001b[0;34m.\u001b[0m\u001b[0marray\u001b[0m\u001b[0;34m(\u001b[0m\u001b[0mval\u001b[0m\u001b[0;34m)\u001b[0m\u001b[0;34m\u001b[0m\u001b[0;34m\u001b[0m\u001b[0m\n\u001b[0m\u001b[1;32m     46\u001b[0m \u001b[0;34m\u001b[0m\u001b[0m\n\u001b[1;32m     47\u001b[0m     \u001b[0;34m@\u001b[0m\u001b[0mstaticmethod\u001b[0m\u001b[0;34m\u001b[0m\u001b[0;34m\u001b[0m\u001b[0m\n",
      "\u001b[0;32m~/.local/lib/python3.8/site-packages/jax/_src/numpy/lax_numpy.py\u001b[0m in \u001b[0;36marray\u001b[0;34m(object, dtype, copy, order, ndmin, device)\u001b[0m\n\u001b[1;32m   3597\u001b[0m   \u001b[0mout\u001b[0m \u001b[0;34m=\u001b[0m \u001b[0mlax\u001b[0m\u001b[0;34m.\u001b[0m\u001b[0m_convert_element_type\u001b[0m\u001b[0;34m(\u001b[0m\u001b[0mout\u001b[0m\u001b[0;34m,\u001b[0m \u001b[0mdtype\u001b[0m\u001b[0;34m,\u001b[0m \u001b[0mweak_type\u001b[0m\u001b[0;34m=\u001b[0m\u001b[0mweak_type\u001b[0m\u001b[0;34m)\u001b[0m\u001b[0;34m\u001b[0m\u001b[0;34m\u001b[0m\u001b[0m\n\u001b[1;32m   3598\u001b[0m \u001b[0;34m\u001b[0m\u001b[0m\n\u001b[0;32m-> 3599\u001b[0;31m   \u001b[0;32mif\u001b[0m \u001b[0mndmin\u001b[0m \u001b[0;34m>\u001b[0m \u001b[0mndim\u001b[0m\u001b[0;34m(\u001b[0m\u001b[0mout\u001b[0m\u001b[0;34m)\u001b[0m\u001b[0;34m:\u001b[0m\u001b[0;34m\u001b[0m\u001b[0;34m\u001b[0m\u001b[0m\n\u001b[0m\u001b[1;32m   3600\u001b[0m     \u001b[0mout\u001b[0m \u001b[0;34m=\u001b[0m \u001b[0mlax\u001b[0m\u001b[0;34m.\u001b[0m\u001b[0mbroadcast\u001b[0m\u001b[0;34m(\u001b[0m\u001b[0mout\u001b[0m\u001b[0;34m,\u001b[0m \u001b[0;34m(\u001b[0m\u001b[0;36m1\u001b[0m\u001b[0;34m,\u001b[0m\u001b[0;34m)\u001b[0m \u001b[0;34m*\u001b[0m \u001b[0;34m(\u001b[0m\u001b[0mndmin\u001b[0m \u001b[0;34m-\u001b[0m \u001b[0mndim\u001b[0m\u001b[0;34m(\u001b[0m\u001b[0mout\u001b[0m\u001b[0;34m)\u001b[0m\u001b[0;34m)\u001b[0m\u001b[0;34m)\u001b[0m\u001b[0;34m\u001b[0m\u001b[0;34m\u001b[0m\u001b[0m\n\u001b[1;32m   3601\u001b[0m   \u001b[0;32mreturn\u001b[0m \u001b[0mout\u001b[0m\u001b[0;34m\u001b[0m\u001b[0;34m\u001b[0m\u001b[0m\n",
      "\u001b[0;32m<__array_function__ internals>\u001b[0m in \u001b[0;36mndim\u001b[0;34m(*args, **kwargs)\u001b[0m\n",
      "\u001b[0;32m~/.local/lib/python3.8/site-packages/numpy/core/fromnumeric.py\u001b[0m in \u001b[0;36mndim\u001b[0;34m(a)\u001b[0m\n\u001b[1;32m   3137\u001b[0m     \"\"\"\n\u001b[1;32m   3138\u001b[0m     \u001b[0;32mtry\u001b[0m\u001b[0;34m:\u001b[0m\u001b[0;34m\u001b[0m\u001b[0;34m\u001b[0m\u001b[0m\n\u001b[0;32m-> 3139\u001b[0;31m         \u001b[0;32mreturn\u001b[0m \u001b[0ma\u001b[0m\u001b[0;34m.\u001b[0m\u001b[0mndim\u001b[0m\u001b[0;34m\u001b[0m\u001b[0;34m\u001b[0m\u001b[0m\n\u001b[0m\u001b[1;32m   3140\u001b[0m     \u001b[0;32mexcept\u001b[0m \u001b[0mAttributeError\u001b[0m\u001b[0;34m:\u001b[0m\u001b[0;34m\u001b[0m\u001b[0;34m\u001b[0m\u001b[0m\n\u001b[1;32m   3141\u001b[0m         \u001b[0;32mreturn\u001b[0m \u001b[0masarray\u001b[0m\u001b[0;34m(\u001b[0m\u001b[0ma\u001b[0m\u001b[0;34m)\u001b[0m\u001b[0;34m.\u001b[0m\u001b[0mndim\u001b[0m\u001b[0;34m\u001b[0m\u001b[0;34m\u001b[0m\u001b[0m\n",
      "\u001b[0;32m~/.local/lib/python3.8/site-packages/jax/core.py\u001b[0m in \u001b[0;36m__getattr__\u001b[0;34m(self, name)\u001b[0m\n\u001b[1;32m    563\u001b[0m   \u001b[0;32mdef\u001b[0m \u001b[0m__getattr__\u001b[0m\u001b[0;34m(\u001b[0m\u001b[0mself\u001b[0m\u001b[0;34m,\u001b[0m \u001b[0mname\u001b[0m\u001b[0;34m)\u001b[0m\u001b[0;34m:\u001b[0m\u001b[0;34m\u001b[0m\u001b[0;34m\u001b[0m\u001b[0m\n\u001b[1;32m    564\u001b[0m     \u001b[0;31m# if the aval property raises an AttributeError, gets caught here\u001b[0m\u001b[0;34m\u001b[0m\u001b[0;34m\u001b[0m\u001b[0;34m\u001b[0m\u001b[0m\n\u001b[0;32m--> 565\u001b[0;31m     \u001b[0;32massert\u001b[0m \u001b[0;32mnot\u001b[0m \u001b[0mconfig\u001b[0m\u001b[0;34m.\u001b[0m\u001b[0mjax_enable_checks\u001b[0m \u001b[0;32mor\u001b[0m \u001b[0mname\u001b[0m \u001b[0;34m!=\u001b[0m \u001b[0;34m\"aval\"\u001b[0m\u001b[0;34m\u001b[0m\u001b[0;34m\u001b[0m\u001b[0m\n\u001b[0m\u001b[1;32m    566\u001b[0m \u001b[0;34m\u001b[0m\u001b[0m\n\u001b[1;32m    567\u001b[0m     \u001b[0;32mtry\u001b[0m\u001b[0;34m:\u001b[0m\u001b[0;34m\u001b[0m\u001b[0;34m\u001b[0m\u001b[0m\n",
      "\u001b[0;31mKeyboardInterrupt\u001b[0m: "
     ]
    }
   ],
   "source": [
    "approx_dist = approx.Gaussian(ndim)\n",
    "# mix_dist = mixture.Different([approx_dist, approx_dist])\n",
    "mix_dist = mixture.Identical(approx_dist,1)\n",
    "\n",
    "prngkey = jax.random.PRNGKey(12)\n",
    "loss = losses.SELBO(joint_dist, use_reparameterisation=True)\n",
    "optimiser = optimisers.Adam()\n",
    "optimiser.fit(mix_dist, loss, data, prngkey, verbose=True, max_iter=100, num_samples=5)"
   ]
  },
  {
   "cell_type": "code",
   "execution_count": 7,
   "id": "fb9a9b77",
   "metadata": {},
   "outputs": [],
   "source": [
    "mix_dist.add_component()"
   ]
  },
  {
   "cell_type": "code",
   "execution_count": null,
   "id": "895e52ec",
   "metadata": {
    "scrolled": true
   },
   "outputs": [],
   "source": [
    "def filter(grad):\n",
    "    for i in range(1):\n",
    "        grad[f'component_{i}'] = 0*grad[f'component_{i}']\n",
    "    grad['log_unnorm_coeff'] = 0*grad['log_unnorm_coeff']\n",
    "    return grad\n",
    "\n",
    "perturbation = {'component_0': 0., \n",
    "                'component_1': Jaxtainer({'mean':0.5, 'log_chol_diag': -0.1}) , \n",
    "                'log_unnorm_coeff': 0.}\n",
    "mix_dist.perturb(perturbation)\n",
    "\n",
    "optimiser.fit(mix_dist, loss, data, prngkey, grad_filter=filter, verbose = True, max_iter=100, num_samples=1000)"
   ]
  },
  {
   "cell_type": "code",
   "execution_count": null,
   "id": "a510e99c",
   "metadata": {},
   "outputs": [],
   "source": [
    "def filter(grad):\n",
    "    for i in range(2):\n",
    "        grad[f'component_{i}'] = 0*grad[f'component_{i}']\n",
    "    return grad\n",
    "\n",
    "optimiser.fit(mix_dist, loss, data, prngkey, grad_filter=filter, verbose = True, max_iter=100, num_samples=1000)"
   ]
  },
  {
   "cell_type": "code",
   "execution_count": 14,
   "id": "1ffff836",
   "metadata": {},
   "outputs": [],
   "source": [
    "def plot_posteriors(approx_dist, theta=None):\n",
    "    if theta is None:\n",
    "        theta = jnp.atleast_2d(jnp.linspace(-3, 3, 5000)).reshape(1,-1,1)\n",
    "    pdf = jnp.exp(approx_dist.logpdf(theta))\n",
    "    ax = sns.lineplot(x=theta.squeeze(), y=pdf.squeeze())\n",
    "    ax.fill_between(theta.squeeze(), pdf.squeeze(), alpha=0.2)\n",
    "    plt.xlabel(\"Parameter $\\Theta$\")\n",
    "    plt.ylabel(\"Posterior Probability Density\")"
   ]
  },
  {
   "cell_type": "code",
   "execution_count": 15,
   "id": "ef9933f0",
   "metadata": {},
   "outputs": [
    {
     "data": {
      "image/png": "[encoded data removed]",
      "text/plain": [
       "<Figure size 720x504 with 1 Axes>"
      ]
     },
     "metadata": {},
     "output_type": "display_data"
    }
   ],
   "source": [
    "plot_posteriors(approx_dist)"
   ]
  },
  {
   "cell_type": "code",
   "execution_count": 12,
   "id": "b373f40e",
   "metadata": {},
   "outputs": [
    {
     "data": {
      "text/plain": [
       "Jaxtainer({'component_0': {'mean': DeviceArray([[-8.743457e-05]], dtype=float32), 'log_chol_diag': DeviceArray([[-3.7792566]], dtype=float32)}, 'component_1': {'mean': DeviceArray([[0.]], dtype=float32), 'log_chol_diag': DeviceArray([[0.]], dtype=float32)}, 'log_unnorm_coeff': DeviceArray([[0., 0.]], dtype=float32)})"
      ]
     },
     "execution_count": 12,
     "metadata": {},
     "output_type": "execute_result"
    }
   ],
   "source": [
    "mix_dist.phi()"
   ]
  },
  {
   "cell_type": "code",
   "execution_count": null,
   "id": "e6454018",
   "metadata": {},
   "outputs": [],
   "source": []
  }
 ],
 "metadata": {
  "kernelspec": {
   "display_name": "Python 3 (ipykernel)",
   "language": "python",
   "name": "python3"
  },
  "language_info": {
   "codemirror_mode": {
    "name": "ipython",
    "version": 3
   },
   "file_extension": ".py",
   "mimetype": "text/x-python",
   "name": "python",
   "nbconvert_exporter": "python",
   "pygments_lexer": "ipython3",
   "version": "3.8.10"
  }
 },
 "nbformat": 4,
 "nbformat_minor": 5
}
