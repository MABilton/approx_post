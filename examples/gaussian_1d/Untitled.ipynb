{
 "cells": [
  {
   "cell_type": "code",
   "execution_count": 1,
   "id": "7b279185",
   "metadata": {},
   "outputs": [],
   "source": [
    "import numpy as np\n",
    "import jax\n",
    "import jax.numpy as jnp\n",
    "from numpy.random import multivariate_normal as mvn_sample\n",
    "from approx_post import ApproximateDistribution, JointDistribution, reverse_kl, forward_kl\n",
    "from arraytainers import Jaxtainer"
   ]
  },
  {
   "cell_type": "code",
   "execution_count": 2,
   "id": "f238f93e",
   "metadata": {},
   "outputs": [],
   "source": [
    "def create_data(model, true_theta, noise_cov, num_samples):\n",
    "    mean = model(true_theta)\n",
    "    samples = mvn_sample(mean, noise_cov, num_samples)\n",
    "    return samples.reshape(num_samples, -1)\n",
    "\n",
    "# First, let's define a model:\n",
    "ndim = 1\n",
    "model = lambda theta: theta**2\n",
    "model_grad = jax.vmap(jax.jacfwd(model), in_axes=0)"
   ]
  },
  {
   "cell_type": "code",
   "execution_count": 3,
   "id": "52e1a0f6",
   "metadata": {},
   "outputs": [],
   "source": [
    "# Create Gaussian approximate distribution:\n",
    "approx = ApproximateDistribution.gaussian(ndim)\n",
    "# Create Joint distribution from forward model:\n",
    "prior_mean = np.zeros(ndim)\n",
    "noise_cov = 0.5*np.identity(ndim)\n",
    "prior_cov = 0.1*np.identity(ndim)"
   ]
  },
  {
   "cell_type": "code",
   "execution_count": 4,
   "id": "b9db91bb",
   "metadata": {},
   "outputs": [
    {
     "name": "stderr",
     "output_type": "stream",
     "text": [
      "WARNING:absl:No GPU/TPU found, falling back to CPU. (Set TF_CPP_MIN_LOG_LEVEL=0 and rerun for more info.)\n"
     ]
    },
    {
     "name": "stdout",
     "output_type": "stream",
     "text": [
      "epsilon\n",
      "[[ 0.88389313]\n",
      " [ 0.19586502]\n",
      " [ 0.35753652]\n",
      " [-2.343262  ]\n",
      " [-1.0848325 ]]\n",
      "theta\n",
      "[[ 0.88389313]\n",
      " [ 0.19586502]\n",
      " [ 0.35753652]\n",
      " [-2.343262  ]\n",
      " [-1.0848325 ]]\n",
      "approx_lp\n",
      "[-1.309572   -0.93812007 -0.9828547  -3.6643767  -1.5073693 ]\n",
      "joint_lp\n",
      "[-282.2496  -322.99524 -317.9128  -100.98205 -261.90384]\n",
      "transform_del_phi\n",
      "Jaxtainer({'chol_diag': DeviceArray([[[ 0.88389313]],\n",
      "\n",
      "             [[ 0.19586502]],\n",
      "\n",
      "             [[ 0.35753652]],\n",
      "\n",
      "             [[-2.343262  ]],\n",
      "\n",
      "             [[-1.0848325 ]]], dtype=float32), 'chol_lowerdiag': DeviceArray([], dtype=float32), 'mean': DeviceArray([[[1.]],\n",
      "\n",
      "             [[1.]],\n",
      "\n",
      "             [[1.]],\n",
      "\n",
      "             [[1.]],\n",
      "\n",
      "             [[1.]]], dtype=float32)})\n",
      "joint_del_phi\n",
      "Jaxtainer({'chol_diag': DeviceArray([[ 82.216965 ],\n",
      "             [  4.3791585],\n",
      "             [ 14.454853 ],\n",
      "             [267.51605  ],\n",
      "             [118.2608   ]], dtype=float32), 'chol_lowerdiag': DeviceArray([], dtype=float32), 'mean': DeviceArray([[  93.01686 ],\n",
      "             [  22.358044],\n",
      "             [  40.429024],\n",
      "             [-114.163956],\n",
      "             [-109.012955]], dtype=float32)})\n",
      "approx_del_phi\n",
      "Jaxtainer({'chol_diag': DeviceArray([[-0.78126705],\n",
      "             [-0.03836311],\n",
      "             [-0.12783237],\n",
      "             [-5.4908767 ],\n",
      "             [-1.1768616 ]], dtype=float32), 'chol_lowerdiag': DeviceArray([], dtype=float32), 'mean': DeviceArray([[-0.88389313],\n",
      "             [-0.19586502],\n",
      "             [-0.35753652],\n",
      "             [ 2.343262  ],\n",
      "             [ 1.0848325 ]], dtype=float32)})\n"
     ]
    },
    {
     "data": {
      "text/plain": [
       "(DeviceArray(255.52827, dtype=float32),\n",
       " Jaxtainer({'chol_diag': DeviceArray([-98.88861], dtype=float32), 'chol_lowerdiag': DeviceArray([], dtype=float32), 'mean': DeviceArray([13.872756], dtype=float32)}))"
      ]
     },
     "execution_count": 4,
     "metadata": {},
     "output_type": "execute_result"
    }
   ],
   "source": [
    "data = jnp.array([[10.01392484],[10.53159464],[10.60713809]])\n",
    "joint = JointDistribution.from_model(data, model, noise_cov, prior_mean, prior_cov, model_grad)\n",
    "reverse_kl.reversekl_reparameterisation(Jaxtainer(approx.phi), approx, joint, 5)"
   ]
  },
  {
   "cell_type": "code",
   "execution_count": null,
   "id": "3684cb0e",
   "metadata": {},
   "outputs": [],
   "source": []
  },
  {
   "cell_type": "code",
   "execution_count": null,
   "id": "fa6c2fa7",
   "metadata": {},
   "outputs": [],
   "source": []
  }
 ],
 "metadata": {
  "kernelspec": {
   "display_name": "Python 3 (ipykernel)",
   "language": "python",
   "name": "python3"
  },
  "language_info": {
   "codemirror_mode": {
    "name": "ipython",
    "version": 3
   },
   "file_extension": ".py",
   "mimetype": "text/x-python",
   "name": "python",
   "nbconvert_exporter": "python",
   "pygments_lexer": "ipython3",
   "version": "3.8.10"
  }
 },
 "nbformat": 4,
 "nbformat_minor": 5
}
