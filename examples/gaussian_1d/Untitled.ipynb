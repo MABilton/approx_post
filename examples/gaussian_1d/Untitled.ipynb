{
 "cells": [
  {
   "cell_type": "code",
   "execution_count": 1,
   "id": "7b279185",
   "metadata": {},
   "outputs": [
    {
     "ename": "ImportError",
     "evalue": "cannot import name 'ApproximateDistribution' from 'approx_post' (/usr/local/lib/python3.8/dist-packages/approx_post/__init__.py)",
     "output_type": "error",
     "traceback": [
      "\u001b[0;31m---------------------------------------------------------------------------\u001b[0m",
      "\u001b[0;31mImportError\u001b[0m                               Traceback (most recent call last)",
      "\u001b[0;32m/tmp/ipykernel_17184/447738854.py\u001b[0m in \u001b[0;36m<module>\u001b[0;34m\u001b[0m\n\u001b[1;32m      3\u001b[0m \u001b[0;32mimport\u001b[0m \u001b[0mjax\u001b[0m\u001b[0;34m.\u001b[0m\u001b[0mnumpy\u001b[0m \u001b[0;32mas\u001b[0m \u001b[0mjnp\u001b[0m\u001b[0;34m\u001b[0m\u001b[0;34m\u001b[0m\u001b[0m\n\u001b[1;32m      4\u001b[0m \u001b[0;32mfrom\u001b[0m \u001b[0mnumpy\u001b[0m\u001b[0;34m.\u001b[0m\u001b[0mrandom\u001b[0m \u001b[0;32mimport\u001b[0m \u001b[0mmultivariate_normal\u001b[0m \u001b[0;32mas\u001b[0m \u001b[0mmvn_sample\u001b[0m\u001b[0;34m\u001b[0m\u001b[0;34m\u001b[0m\u001b[0m\n\u001b[0;32m----> 5\u001b[0;31m \u001b[0;32mfrom\u001b[0m \u001b[0mapprox_post\u001b[0m \u001b[0;32mimport\u001b[0m \u001b[0mApproximateDistribution\u001b[0m\u001b[0;34m,\u001b[0m \u001b[0mJointDistribution\u001b[0m\u001b[0;34m,\u001b[0m \u001b[0mreverse_kl\u001b[0m\u001b[0;34m,\u001b[0m \u001b[0mforward_kl\u001b[0m\u001b[0;34m\u001b[0m\u001b[0;34m\u001b[0m\u001b[0m\n\u001b[0m\u001b[1;32m      6\u001b[0m \u001b[0;32mfrom\u001b[0m \u001b[0marraytainers\u001b[0m \u001b[0;32mimport\u001b[0m \u001b[0mJaxtainer\u001b[0m\u001b[0;34m\u001b[0m\u001b[0;34m\u001b[0m\u001b[0m\n",
      "\u001b[0;31mImportError\u001b[0m: cannot import name 'ApproximateDistribution' from 'approx_post' (/usr/local/lib/python3.8/dist-packages/approx_post/__init__.py)"
     ]
    }
   ],
   "source": [
    "import numpy as np\n",
    "import jax\n",
    "import jax.numpy as jnp\n",
    "from numpy.random import multivariate_normal as mvn_sample\n",
    "from approx_post import ApproximateDistribution, JointDistribution, reverse_kl, forward_kl\n",
    "from arraytainers import Jaxtainer"
   ]
  },
  {
   "cell_type": "code",
   "execution_count": null,
   "id": "f238f93e",
   "metadata": {},
   "outputs": [],
   "source": [
    "def create_data(model, true_theta, noise_cov, num_samples):\n",
    "    mean = model(true_theta)\n",
    "    samples = mvn_sample(mean, noise_cov, num_samples)\n",
    "    return samples.reshape(num_samples, -1)\n",
    "\n",
    "# First, let's define a model:\n",
    "ndim = 1\n",
    "model = lambda theta: theta**2\n",
    "model_grad = jax.vmap(jax.jacfwd(model), in_axes=0)"
   ]
  },
  {
   "cell_type": "code",
   "execution_count": null,
   "id": "52e1a0f6",
   "metadata": {},
   "outputs": [],
   "source": [
    "# Create Gaussian approximate distribution:\n",
    "approx = ApproximateDistribution.gaussian(ndim)\n",
    "# Create Joint distribution from forward model:\n",
    "prior_mean = np.zeros(ndim)\n",
    "noise_cov = 0.5*np.identity(ndim)\n",
    "prior_cov = 0.1*np.identity(ndim)"
   ]
  },
  {
   "cell_type": "code",
   "execution_count": null,
   "id": "b9db91bb",
   "metadata": {},
   "outputs": [],
   "source": [
    "data = jnp.array([[10.01392484],[10.53159464],[10.60713809]])\n",
    "joint = JointDistribution.from_model(data, model, noise_cov, prior_mean, prior_cov, model_grad)\n",
    "reverse_kl.reversekl_reparameterisation(Jaxtainer(approx.phi), approx, joint, 5)"
   ]
  },
  {
   "cell_type": "code",
   "execution_count": null,
   "id": "3684cb0e",
   "metadata": {},
   "outputs": [],
   "source": []
  },
  {
   "cell_type": "code",
   "execution_count": null,
   "id": "fa6c2fa7",
   "metadata": {},
   "outputs": [],
   "source": []
  }
 ],
 "metadata": {
  "kernelspec": {
   "display_name": "Python 3 (ipykernel)",
   "language": "python",
   "name": "python3"
  },
  "language_info": {
   "codemirror_mode": {
    "name": "ipython",
    "version": 3
   },
   "file_extension": ".py",
   "mimetype": "text/x-python",
   "name": "python",
   "nbconvert_exporter": "python",
   "pygments_lexer": "ipython3",
   "version": "3.8.10"
  }
 },
 "nbformat": 4,
 "nbformat_minor": 5
}
