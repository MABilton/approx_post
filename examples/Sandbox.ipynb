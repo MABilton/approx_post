{
 "cells": [
  {
   "cell_type": "code",
   "execution_count": 1,
   "id": "b821c3fa",
   "metadata": {},
   "outputs": [],
   "source": [
    "from arraytainers import Arraytainer, Jaxtainer\n",
    "import numpy as np\n",
    "from numpy import array\n",
    "import jax\n",
    "import jax.numpy as jnp\n",
    "import functools\n",
    "from jax.numpy import DeviceArray"
   ]
  },
  {
   "cell_type": "code",
   "execution_count": 2,
   "id": "600d40b0",
   "metadata": {
    "scrolled": true
   },
   "outputs": [
    {
     "name": "stderr",
     "output_type": "stream",
     "text": [
      "WARNING:absl:No GPU/TPU found, falling back to CPU. (Set TF_CPP_MIN_LOG_LEVEL=0 and rerun for more info.)\n"
     ]
    },
    {
     "data": {
      "text/plain": [
       "Jaxtainer({'mean': DeviceArray([[1.]], dtype=float32), 'chol_diag': DeviceArray([[2.]], dtype=float32), 'chol_lowerdiag': DeviceArray([], dtype=float32)})"
      ]
     },
     "execution_count": 2,
     "metadata": {},
     "output_type": "execute_result"
    }
   ],
   "source": [
    "A = Jaxtainer({'mean': [[1.]], 'chol_diag': [[2.]], 'chol_lowerdiag': []})\n",
    "lims = Jaxtainer({'mean': [[2.]], 'chol_diag': [[2.]], 'chol_lowerdiag': []})\n",
    "A"
   ]
  },
  {
   "cell_type": "code",
   "execution_count": 35,
   "id": "9698c73f",
   "metadata": {},
   "outputs": [],
   "source": [
    "a1 = np.array([[1.]])\n",
    "a2 = np.array([[2.]])\n",
    "a1[a1<a2] = a2[a1<a2]"
   ]
  },
  {
   "cell_type": "code",
   "execution_count": 4,
   "id": "8882483f",
   "metadata": {},
   "outputs": [
    {
     "data": {
      "text/plain": [
       "Jaxtainer({'mean': DeviceArray([[2.]], dtype=float32), 'chol_diag': DeviceArray([[2.]], dtype=float32), 'chol_lowerdiag': DeviceArray([], dtype=float32)})"
      ]
     },
     "execution_count": 4,
     "metadata": {},
     "output_type": "execute_result"
    }
   ],
   "source": [
    "A[A<lims] = lims[A<lims]\n",
    "A"
   ]
  },
  {
   "cell_type": "code",
   "execution_count": null,
   "id": "6458d126",
   "metadata": {},
   "outputs": [],
   "source": [
    "a = Arraytainer({'a':[{'a':[np.ones((12,)),np.ones((1,12))]}],'b':[{'a':[np.ones((3,4)),np.ones((4,3))]}]}, greedy=True)"
   ]
  },
  {
   "cell_type": "code",
   "execution_count": null,
   "id": "3f4fb2cd",
   "metadata": {},
   "outputs": [],
   "source": [
    "shape = Arraytainer({'a':[{'a':[np.array([6,2]),np.array([4,3])]}],'b':[{'a':[np.array([12,1]),np.array([1,12])]}]}, greedy=True)\n",
    "a.reshape(shape).shape"
   ]
  },
  {
   "cell_type": "code",
   "execution_count": null,
   "id": "edb77f11",
   "metadata": {},
   "outputs": [],
   "source": [
    "a[np.array([[True,False],[False,True]])]"
   ]
  },
  {
   "cell_type": "code",
   "execution_count": null,
   "id": "8b50158a",
   "metadata": {},
   "outputs": [],
   "source": [
    "Arraytainer.from_array(a, a.shape, greedy=True).shape"
   ]
  },
  {
   "cell_type": "code",
   "execution_count": null,
   "id": "b7ee95b9",
   "metadata": {},
   "outputs": [],
   "source": [
    "a = Jaxtainer({'mean': np.array([1.]), 'chol_diag': np.array([1]), 'chol_lowerdiag': np.array([0])})#{'a': {'c':[np.random.rand(6,3,5,2)], 'd':np.random.rand(6,3,5,2)}, 'b': np.random.rand(3,3,5,5), 'e':2}\n",
    "a"
   ]
  },
  {
   "cell_type": "code",
   "execution_count": null,
   "id": "fb91448c",
   "metadata": {},
   "outputs": [],
   "source": [
    "a = {'a': np.random.rand(4,3,5,5), 'b': np.random.rand(3,3,5,5)}\n",
    "A = Jaxtainer(a)\n",
    "# A.reshape(A.shape[:-2], 25)"
   ]
  },
  {
   "cell_type": "code",
   "execution_count": null,
   "id": "d4bc4d5b",
   "metadata": {},
   "outputs": [],
   "source": [
    "A.shape"
   ]
  },
  {
   "cell_type": "code",
   "execution_count": null,
   "id": "221586b7",
   "metadata": {
    "scrolled": true
   },
   "outputs": [],
   "source": [
    "a = {'a': np.random.rand(4,3,5), 'b': np.random.rand(3,4,5,5)}\n",
    "A = Jaxtainer(a)\n",
    "A.reshape(12, A.shape[2:]).shape"
   ]
  },
  {
   "cell_type": "code",
   "execution_count": null,
   "id": "6d622357",
   "metadata": {},
   "outputs": [],
   "source": [
    "Jaxtainer.from_array(A.flatten(), A.shape).shape"
   ]
  },
  {
   "cell_type": "code",
   "execution_count": null,
   "id": "e4c23677",
   "metadata": {},
   "outputs": [],
   "source": [
    "np.array(2).shape"
   ]
  },
  {
   "cell_type": "code",
   "execution_count": null,
   "id": "831035ae",
   "metadata": {},
   "outputs": [],
   "source": []
  }
 ],
 "metadata": {
  "kernelspec": {
   "display_name": "Python 3 (ipykernel)",
   "language": "python",
   "name": "python3"
  },
  "language_info": {
   "codemirror_mode": {
    "name": "ipython",
    "version": 3
   },
   "file_extension": ".py",
   "mimetype": "text/x-python",
   "name": "python",
   "nbconvert_exporter": "python",
   "pygments_lexer": "ipython3",
   "version": "3.8.10"
  }
 },
 "nbformat": 4,
 "nbformat_minor": 5
}
