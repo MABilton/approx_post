{
 "cells": [
  {
   "cell_type": "code",
   "execution_count": 1,
   "id": "6d119613",
   "metadata": {
    "scrolled": false
   },
   "outputs": [],
   "source": [
    "import numpy as np\n",
    "import jax\n",
    "import jax.numpy as jnp\n",
    "from approx_post.distributions import approx, joint\n",
    "from approx_post import losses, optimisers\n",
    "from arraytainers import Jaxtainer"
   ]
  },
  {
   "cell_type": "code",
   "execution_count": 2,
   "id": "c9d34649",
   "metadata": {},
   "outputs": [],
   "source": [
    "def create_data(model, true_theta, noise_cov, num_samples, ndim, prngkey):\n",
    "    mean = model(true_theta)\n",
    "    samples = jax.random.multivariate_normal(key=prngkey, mean=mean, cov=noise_cov, shape=(num_samples,))\n",
    "    return samples.reshape(num_samples, -1)"
   ]
  },
  {
   "cell_type": "code",
   "execution_count": 3,
   "id": "a94b97b2",
   "metadata": {},
   "outputs": [],
   "source": [
    "# First, let's define a model:\n",
    "ndim = 2\n",
    "model = lambda theta: theta**2\n",
    "model_grad = jax.vmap(jax.vmap(jax.jacfwd(model), in_axes=0), in_axes=0)"
   ]
  },
  {
   "cell_type": "code",
   "execution_count": 16,
   "id": "525931b1",
   "metadata": {
    "scrolled": false
   },
   "outputs": [
    {
     "name": "stdout",
     "output_type": "stream",
     "text": [
      "True theta: \n",
      " [1 2]\n",
      "True x = model(theta): \n",
      " [1 4]\n",
      "Observations x_obs = model(theta) + noise: \n",
      " [[0.9378123 3.8724568]]\n"
     ]
    }
   ],
   "source": [
    "# Create artificial data:\n",
    "prngkey = jax.random.PRNGKey(10)\n",
    "true_theta = jnp.array([1, 2])\n",
    "noise_cov = 0.01*np.identity(ndim)\n",
    "num_samples = 1\n",
    "data = create_data(model, true_theta, noise_cov, num_samples, ndim, prngkey)\n",
    "print(f'True theta: \\n {true_theta}')\n",
    "print(f'True x = model(theta): \\n {model(true_theta)}')\n",
    "print(f'Observations x_obs = model(theta) + noise: \\n {data}')"
   ]
  },
  {
   "cell_type": "code",
   "execution_count": 22,
   "id": "6d14292c",
   "metadata": {},
   "outputs": [],
   "source": [
    "# Create Gaussian approximate distribution:\n",
    "approx_dist = approx.Gaussian(ndim)"
   ]
  },
  {
   "cell_type": "code",
   "execution_count": 23,
   "id": "b29185ee",
   "metadata": {},
   "outputs": [],
   "source": [
    "# Create Joint distribution from forward model:\n",
    "prior_mean = np.zeros(ndim)\n",
    "prior_cov = 1.0*np.identity(ndim)\n",
    "joint_dist = joint.ModelPlusGaussian(model, noise_cov, prior_mean, prior_cov, model_grad)"
   ]
  },
  {
   "cell_type": "code",
   "execution_count": 24,
   "id": "de0f4025",
   "metadata": {},
   "outputs": [],
   "source": [
    "# approx_dist._phi['mean'] = jnp.array([1., 2.])"
   ]
  },
  {
   "cell_type": "code",
   "execution_count": null,
   "id": "ab0bee1d",
   "metadata": {
    "scrolled": false
   },
   "outputs": [
    {
     "name": "stdout",
     "output_type": "stream",
     "text": [
      "Loss = 0.003762881737202406, Params = Jaxtainer({'mean': DeviceArray([ 0.0999989 , -0.09999941], dtype=float32), 'chol_diag': DeviceArray([1.0999898, 1.0999995], dtype=float32), 'chol_lowerdiag': DeviceArray([-0.09999944], dtype=float32)})\n",
      "Loss = 0.00397178390994668, Params = Jaxtainer({'mean': DeviceArray([ 0.10518708, -0.10684451], dtype=float32), 'chol_diag': DeviceArray([1.0777528, 1.1986061], dtype=float32), 'chol_lowerdiag': DeviceArray([-0.19792913], dtype=float32)})\n",
      "Loss = 0.0035494219046086073, Params = Jaxtainer({'mean': DeviceArray([ 0.10301962, -0.09323387], dtype=float32), 'chol_diag': DeviceArray([1.013583 , 1.2921257], dtype=float32), 'chol_lowerdiag': DeviceArray([-0.2891729], dtype=float32)})\n",
      "Loss = 0.003785498905926943, Params = Jaxtainer({'mean': DeviceArray([ 0.08753198, -0.09941825], dtype=float32), 'chol_diag': DeviceArray([0.9777185, 1.3820344], dtype=float32), 'chol_lowerdiag': DeviceArray([-0.35625684], dtype=float32)})\n",
      "Loss = 0.003659829730167985, Params = Jaxtainer({'mean': DeviceArray([ 0.1069002 , -0.08811852], dtype=float32), 'chol_diag': DeviceArray([0.98158836, 1.4717804 ], dtype=float32), 'chol_lowerdiag': DeviceArray([-0.38745084], dtype=float32)})\n",
      "Loss = 0.004010859876871109, Params = Jaxtainer({'mean': DeviceArray([ 0.0867037 , -0.08406978], dtype=float32), 'chol_diag': DeviceArray([1.0133326, 1.5564015], dtype=float32), 'chol_lowerdiag': DeviceArray([-0.41013274], dtype=float32)})\n",
      "Loss = 0.003612631233409047, Params = Jaxtainer({'mean': DeviceArray([ 0.07386795, -0.0792679 ], dtype=float32), 'chol_diag': DeviceArray([1.0512066, 1.6366386], dtype=float32), 'chol_lowerdiag': DeviceArray([-0.4218747], dtype=float32)})\n",
      "Loss = 0.0030902689322829247, Params = Jaxtainer({'mean': DeviceArray([ 0.07218806, -0.082197  ], dtype=float32), 'chol_diag': DeviceArray([1.0451225, 1.706726 ], dtype=float32), 'chol_lowerdiag': DeviceArray([-0.44117606], dtype=float32)})\n",
      "Loss = 0.0030968966893851757, Params = Jaxtainer({'mean': DeviceArray([ 0.07759582, -0.09041917], dtype=float32), 'chol_diag': DeviceArray([1.0133898, 1.7675996], dtype=float32), 'chol_lowerdiag': DeviceArray([-0.46570587], dtype=float32)})\n",
      "Loss = 0.003266244661062956, Params = Jaxtainer({'mean': DeviceArray([ 0.07721591, -0.09553833], dtype=float32), 'chol_diag': DeviceArray([0.96804094, 1.8202679 ], dtype=float32), 'chol_lowerdiag': DeviceArray([-0.49563158], dtype=float32)})\n",
      "Loss = 0.002999398624524474, Params = Jaxtainer({'mean': DeviceArray([ 0.09069024, -0.10638223], dtype=float32), 'chol_diag': DeviceArray([0.91285425, 1.8648098 ], dtype=float32), 'chol_lowerdiag': DeviceArray([-0.528914], dtype=float32)})\n",
      "Loss = 0.003031380707398057, Params = Jaxtainer({'mean': DeviceArray([ 0.11575207, -0.12334027], dtype=float32), 'chol_diag': DeviceArray([0.85421085, 1.902308  ], dtype=float32), 'chol_lowerdiag': DeviceArray([-0.5633765], dtype=float32)})\n",
      "Loss = 0.002928019966930151, Params = Jaxtainer({'mean': DeviceArray([ 0.15371265, -0.14488602], dtype=float32), 'chol_diag': DeviceArray([0.79314566, 1.9329273 ], dtype=float32), 'chol_lowerdiag': DeviceArray([-0.59956497], dtype=float32)})\n",
      "Loss = 0.003004048950970173, Params = Jaxtainer({'mean': DeviceArray([ 0.20082486, -0.17064388], dtype=float32), 'chol_diag': DeviceArray([0.74072075, 1.957768  ], dtype=float32), 'chol_lowerdiag': DeviceArray([-0.63564426], dtype=float32)})\n",
      "Loss = 0.003953855950385332, Params = Jaxtainer({'mean': DeviceArray([ 0.20697282, -0.18991238], dtype=float32), 'chol_diag': DeviceArray([0.7602989, 1.9753352], dtype=float32), 'chol_lowerdiag': DeviceArray([-0.6760694], dtype=float32)})\n",
      "Loss = 0.0031234496273100376, Params = Jaxtainer({'mean': DeviceArray([ 0.21697263, -0.21247089], dtype=float32), 'chol_diag': DeviceArray([0.78373843, 1.9883146 ], dtype=float32), 'chol_lowerdiag': DeviceArray([-0.7150539], dtype=float32)})\n",
      "Loss = 0.00382805778644979, Params = Jaxtainer({'mean': DeviceArray([ 0.21239583, -0.24202335], dtype=float32), 'chol_diag': DeviceArray([0.825317 , 2.0011811], dtype=float32), 'chol_lowerdiag': DeviceArray([-0.742681], dtype=float32)})\n",
      "Loss = 0.004011569079011679, Params = Jaxtainer({'mean': DeviceArray([ 0.19191395, -0.27676797], dtype=float32), 'chol_diag': DeviceArray([0.88127786, 2.0140724 ], dtype=float32), 'chol_lowerdiag': DeviceArray([-0.7603087], dtype=float32)})\n",
      "Loss = 0.0036115404218435287, Params = Jaxtainer({'mean': DeviceArray([ 0.16011842, -0.30650973], dtype=float32), 'chol_diag': DeviceArray([0.9379431, 2.0223002], dtype=float32), 'chol_lowerdiag': DeviceArray([-0.780493], dtype=float32)})\n",
      "Loss = 0.003894791239872575, Params = Jaxtainer({'mean': DeviceArray([ 0.11700662, -0.33808923], dtype=float32), 'chol_diag': DeviceArray([0.9976072, 2.0293403], dtype=float32), 'chol_lowerdiag': DeviceArray([-0.7956024], dtype=float32)})\n",
      "Loss = 0.0035403736401349306, Params = Jaxtainer({'mean': DeviceArray([ 0.07361196, -0.3723729 ], dtype=float32), 'chol_diag': DeviceArray([1.054265 , 2.0338798], dtype=float32), 'chol_lowerdiag': DeviceArray([-0.8075743], dtype=float32)})\n",
      "Loss = 0.002949201036244631, Params = Jaxtainer({'mean': DeviceArray([ 0.04220006, -0.40745032], dtype=float32), 'chol_diag': DeviceArray([1.0960695, 2.0332613], dtype=float32), 'chol_lowerdiag': DeviceArray([-0.82138103], dtype=float32)})\n",
      "Loss = 0.0029663098976016045, Params = Jaxtainer({'mean': DeviceArray([ 0.02204112, -0.44309962], dtype=float32), 'chol_diag': DeviceArray([1.1256869, 2.0275707], dtype=float32), 'chol_lowerdiag': DeviceArray([-0.8368964], dtype=float32)})\n",
      "Loss = 0.0030324410181492567, Params = Jaxtainer({'mean': DeviceArray([ 0.01102642, -0.47833225], dtype=float32), 'chol_diag': DeviceArray([1.1449529, 2.017393 ], dtype=float32), 'chol_lowerdiag': DeviceArray([-0.85425097], dtype=float32)})\n"
     ]
    }
   ],
   "source": [
    "prngkey = jax.random.PRNGKey(12)\n",
    "loss = losses.ForwardKL(joint_dist, use_reparameterisation=False)\n",
    "optimiser = optimisers.Adam()\n",
    "optimiser.fit(approx_dist, loss, data, prngkey, verbose = True, max_iter=1000, num_samples=1000)"
   ]
  },
  {
   "cell_type": "code",
   "execution_count": null,
   "id": "b6c4eb56",
   "metadata": {},
   "outputs": [],
   "source": []
  }
 ],
 "metadata": {
  "kernelspec": {
   "display_name": "Python 3 (ipykernel)",
   "language": "python",
   "name": "python3"
  },
  "language_info": {
   "codemirror_mode": {
    "name": "ipython",
    "version": 3
   },
   "file_extension": ".py",
   "mimetype": "text/x-python",
   "name": "python",
   "nbconvert_exporter": "python",
   "pygments_lexer": "ipython3",
   "version": "3.8.10"
  }
 },
 "nbformat": 4,
 "nbformat_minor": 5
}
