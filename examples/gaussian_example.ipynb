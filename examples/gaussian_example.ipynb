{
 "cells": [
  {
   "cell_type": "code",
   "execution_count": 1,
   "id": "6d119613",
   "metadata": {
    "scrolled": true
   },
   "outputs": [],
   "source": [
    "import numpy as np\n",
    "import jax\n",
    "from numpy.random import multivariate_normal as mvn\n",
    "from approx_post import ApproximateDistribution, JointDistribution, reverse_kl, forward_kl, fit_approximation"
   ]
  },
  {
   "cell_type": "code",
   "execution_count": 2,
   "id": "c9d34649",
   "metadata": {},
   "outputs": [],
   "source": [
    "def create_data(model, true_theta, noise_cov, num_samples):\n",
    "    mean = model(true_theta)\n",
    "    samples = mvn(mean, noise_cov, num_samples)\n",
    "    return samples.reshape(num_samples, -1)"
   ]
  },
  {
   "cell_type": "code",
   "execution_count": 3,
   "id": "a94b97b2",
   "metadata": {},
   "outputs": [],
   "source": [
    "# First, let's define a model:\n",
    "ndim = 1\n",
    "model = lambda theta: theta**2\n",
    "model_grad = jax.vmap(jax.vmap(jax.jacfwd(model), in_axes=0), in_axes=0)"
   ]
  },
  {
   "cell_type": "code",
   "execution_count": 4,
   "id": "525931b1",
   "metadata": {
    "scrolled": false
   },
   "outputs": [
    {
     "name": "stdout",
     "output_type": "stream",
     "text": [
      "True theta: \n",
      " [1.54248085]\n",
      "True x = model(theta): \n",
      " [2.37924719]\n",
      "Observations x_obs = model(theta) + noise: \n",
      " [[2.45021876]]\n"
     ]
    }
   ],
   "source": [
    "# Create artificial data:\n",
    "true_theta = 2*np.random.rand(ndim)\n",
    "noise_cov = 0.01*np.identity(ndim)\n",
    "num_samples = 1\n",
    "data = create_data(model, true_theta, noise_cov, num_samples)\n",
    "print(f'True theta: \\n {true_theta}')\n",
    "print(f'True x = model(theta): \\n {model(true_theta)}')\n",
    "print(f'Observations x_obs = model(theta) + noise: \\n {data}')"
   ]
  },
  {
   "cell_type": "code",
   "execution_count": 5,
   "id": "6d14292c",
   "metadata": {},
   "outputs": [],
   "source": [
    "# Create Gaussian approximate distribution:\n",
    "approx = ApproximateDistribution.gaussian(ndim)"
   ]
  },
  {
   "cell_type": "code",
   "execution_count": 6,
   "id": "b29185ee",
   "metadata": {},
   "outputs": [],
   "source": [
    "# Create Joint distribution from forward model:\n",
    "prior_mean = np.zeros(ndim)\n",
    "prior_cov = 0.1*np.identity(ndim)\n",
    "joint = JointDistribution.from_model(model, noise_cov, prior_mean, prior_cov, model_grad)"
   ]
  },
  {
   "cell_type": "code",
   "execution_count": null,
   "id": "ddb55393",
   "metadata": {
    "scrolled": true
   },
   "outputs": [
    {
     "name": "stderr",
     "output_type": "stream",
     "text": [
      "WARNING:absl:No GPU/TPU found, falling back to CPU. (Set TF_CPP_MIN_LOG_LEVEL=0 and rerun for more info.)\n"
     ]
    },
    {
     "name": "stdout",
     "output_type": "stream",
     "text": [
      "Iteration 1:\n",
      "   Loss = 0.0020802649669349194, Params = {'mean': DeviceArray([5.2154064e-08], dtype=float32), 'chol_diag': DeviceArray([0.9], dtype=float32), 'chol_lowerdiag': DeviceArray([], dtype=float32)}\n",
      "Iteration 2:\n",
      "   Loss = 0.0022976312320679426, Params = {'mean': DeviceArray([-0.09870977], dtype=float32), 'chol_diag': DeviceArray([0.7999544], dtype=float32), 'chol_lowerdiag': DeviceArray([], dtype=float32)}\n",
      "Iteration 3:\n",
      "   Loss = 0.002658806974068284, Params = {'mean': DeviceArray([-0.19744402], dtype=float32), 'chol_diag': DeviceArray([0.6997573], dtype=float32), 'chol_lowerdiag': DeviceArray([], dtype=float32)}\n",
      "Iteration 4:\n",
      "   Loss = 0.003048220183700323, Params = {'mean': DeviceArray([-0.29702097], dtype=float32), 'chol_diag': DeviceArray([0.6022123], dtype=float32), 'chol_lowerdiag': DeviceArray([], dtype=float32)}\n",
      "Iteration 5:\n",
      "   Loss = 0.00392749160528183, Params = {'mean': DeviceArray([-0.3764578], dtype=float32), 'chol_diag': DeviceArray([0.5127401], dtype=float32), 'chol_lowerdiag': DeviceArray([], dtype=float32)}\n",
      "Iteration 6:\n",
      "   Loss = 0.003453622804954648, Params = {'mean': DeviceArray([-0.3760882], dtype=float32), 'chol_diag': DeviceArray([0.4446915], dtype=float32), 'chol_lowerdiag': DeviceArray([], dtype=float32)}\n",
      "Iteration 7:\n",
      "   Loss = 0.00369365350343287, Params = {'mean': DeviceArray([-0.3645261], dtype=float32), 'chol_diag': DeviceArray([0.37644958], dtype=float32), 'chol_lowerdiag': DeviceArray([], dtype=float32)}\n",
      "Iteration 8:\n",
      "   Loss = 0.004604042507708073, Params = {'mean': DeviceArray([-0.317663], dtype=float32), 'chol_diag': DeviceArray([0.30178252], dtype=float32), 'chol_lowerdiag': DeviceArray([], dtype=float32)}\n",
      "Iteration 9:\n",
      "   Loss = 0.004383627325296402, Params = {'mean': DeviceArray([-0.25815427], dtype=float32), 'chol_diag': DeviceArray([0.2343258], dtype=float32), 'chol_lowerdiag': DeviceArray([], dtype=float32)}\n",
      "Iteration 10:\n",
      "   Loss = 0.004130634479224682, Params = {'mean': DeviceArray([-0.18668367], dtype=float32), 'chol_diag': DeviceArray([0.15815073], dtype=float32), 'chol_lowerdiag': DeviceArray([], dtype=float32)}\n",
      "Iteration 11:\n",
      "   Loss = 0.003737448016181588, Params = {'mean': DeviceArray([-0.10685907], dtype=float32), 'chol_diag': DeviceArray([0.07472965], dtype=float32), 'chol_lowerdiag': DeviceArray([], dtype=float32)}\n",
      "Iteration 12:\n",
      "   Loss = 0.002922097686678171, Params = {'mean': DeviceArray([-0.02588166], dtype=float32), 'chol_diag': DeviceArray([0.01], dtype=float32), 'chol_lowerdiag': DeviceArray([], dtype=float32)}\n",
      "Iteration 13:\n",
      "   Loss = 0.0008681885083205998, Params = {'mean': DeviceArray([0.04650755], dtype=float32), 'chol_diag': DeviceArray([0.01], dtype=float32), 'chol_lowerdiag': DeviceArray([], dtype=float32)}\n",
      "Iteration 14:\n",
      "   Loss = 0.0026636281982064247, Params = {'mean': DeviceArray([0.1088545], dtype=float32), 'chol_diag': DeviceArray([0.01], dtype=float32), 'chol_lowerdiag': DeviceArray([], dtype=float32)}\n",
      "Iteration 15:\n",
      "   Loss = 0.0034094920847564936, Params = {'mean': DeviceArray([0.15875627], dtype=float32), 'chol_diag': DeviceArray([0.01], dtype=float32), 'chol_lowerdiag': DeviceArray([], dtype=float32)}\n",
      "Iteration 16:\n",
      "   Loss = 0.003686516312882304, Params = {'mean': DeviceArray([0.19470021], dtype=float32), 'chol_diag': DeviceArray([0.01], dtype=float32), 'chol_lowerdiag': DeviceArray([], dtype=float32)}\n",
      "Iteration 17:\n",
      "   Loss = 0.003802059916779399, Params = {'mean': DeviceArray([0.21637958], dtype=float32), 'chol_diag': DeviceArray([0.01], dtype=float32), 'chol_lowerdiag': DeviceArray([], dtype=float32)}\n",
      "Iteration 18:\n",
      "   Loss = 0.0038519599474966526, Params = {'mean': DeviceArray([0.22449593], dtype=float32), 'chol_diag': DeviceArray([0.01], dtype=float32), 'chol_lowerdiag': DeviceArray([], dtype=float32)}\n",
      "Iteration 19:\n",
      "   Loss = 0.00386787299066782, Params = {'mean': DeviceArray([0.22041339], dtype=float32), 'chol_diag': DeviceArray([0.01], dtype=float32), 'chol_lowerdiag': DeviceArray([], dtype=float32)}\n",
      "Iteration 20:\n",
      "   Loss = 0.003860049182549119, Params = {'mean': DeviceArray([0.20585196], dtype=float32), 'chol_diag': DeviceArray([0.01], dtype=float32), 'chol_lowerdiag': DeviceArray([], dtype=float32)}\n",
      "Iteration 21:\n",
      "   Loss = 0.003829197958111763, Params = {'mean': DeviceArray([0.18268706], dtype=float32), 'chol_diag': DeviceArray([0.01], dtype=float32), 'chol_lowerdiag': DeviceArray([], dtype=float32)}\n",
      "Iteration 22:\n",
      "   Loss = 0.003768722526729107, Params = {'mean': DeviceArray([0.15284719], dtype=float32), 'chol_diag': DeviceArray([0.01], dtype=float32), 'chol_lowerdiag': DeviceArray([], dtype=float32)}\n",
      "Iteration 23:\n",
      "   Loss = 0.0036622413899749517, Params = {'mean': DeviceArray([0.11827502], dtype=float32), 'chol_diag': DeviceArray([0.01], dtype=float32), 'chol_lowerdiag': DeviceArray([], dtype=float32)}\n",
      "Iteration 24:\n",
      "   Loss = 0.0034766579046845436, Params = {'mean': DeviceArray([0.08091256], dtype=float32), 'chol_diag': DeviceArray([0.01], dtype=float32), 'chol_lowerdiag': DeviceArray([], dtype=float32)}\n",
      "Iteration 25:\n",
      "   Loss = 0.003150900825858116, Params = {'mean': DeviceArray([0.04266418], dtype=float32), 'chol_diag': DeviceArray([0.01], dtype=float32), 'chol_lowerdiag': DeviceArray([], dtype=float32)}\n",
      "Iteration 26:\n",
      "   Loss = 0.002594500780105591, Params = {'mean': DeviceArray([0.00526531], dtype=float32), 'chol_diag': DeviceArray([0.01], dtype=float32), 'chol_lowerdiag': DeviceArray([], dtype=float32)}\n",
      "Iteration 27:\n",
      "   Loss = 0.0017502212431281805, Params = {'mean': DeviceArray([-0.03001552], dtype=float32), 'chol_diag': DeviceArray([0.01], dtype=float32), 'chol_lowerdiag': DeviceArray([], dtype=float32)}\n",
      "Iteration 28:\n",
      "   Loss = 0.0007489830022677779, Params = {'mean': DeviceArray([-0.06270678], dtype=float32), 'chol_diag': DeviceArray([0.01], dtype=float32), 'chol_lowerdiag': DeviceArray([], dtype=float32)}\n",
      "Iteration 29:\n",
      "   Loss = -9.217840124620125e-05, Params = {'mean': DeviceArray([-0.09308048], dtype=float32), 'chol_diag': DeviceArray([0.01], dtype=float32), 'chol_lowerdiag': DeviceArray([], dtype=float32)}\n",
      "Iteration 30:\n",
      "   Loss = -0.0005789454444311559, Params = {'mean': DeviceArray([-0.12170425], dtype=float32), 'chol_diag': DeviceArray([0.01], dtype=float32), 'chol_lowerdiag': DeviceArray([], dtype=float32)}\n",
      "Iteration 31:\n",
      "   Loss = -0.0007601484539918602, Params = {'mean': DeviceArray([-0.14907359], dtype=float32), 'chol_diag': DeviceArray([0.01], dtype=float32), 'chol_lowerdiag': DeviceArray([], dtype=float32)}\n",
      "Iteration 32:\n",
      "   Loss = -0.000765637494623661, Params = {'mean': DeviceArray([-0.1754972], dtype=float32), 'chol_diag': DeviceArray([0.01], dtype=float32), 'chol_lowerdiag': DeviceArray([], dtype=float32)}\n",
      "Iteration 33:\n",
      "   Loss = -0.0006931225652806461, Params = {'mean': DeviceArray([-0.20111871], dtype=float32), 'chol_diag': DeviceArray([0.01], dtype=float32), 'chol_lowerdiag': DeviceArray([], dtype=float32)}\n",
      "Iteration 34:\n",
      "   Loss = -0.0005952381179668009, Params = {'mean': DeviceArray([-0.22596943], dtype=float32), 'chol_diag': DeviceArray([0.01], dtype=float32), 'chol_lowerdiag': DeviceArray([], dtype=float32)}\n",
      "Iteration 35:\n",
      "   Loss = -0.0004958887584507465, Params = {'mean': DeviceArray([-0.2500138], dtype=float32), 'chol_diag': DeviceArray([0.01], dtype=float32), 'chol_lowerdiag': DeviceArray([], dtype=float32)}\n",
      "Iteration 36:\n",
      "   Loss = -0.00040452409302815795, Params = {'mean': DeviceArray([-0.27318093], dtype=float32), 'chol_diag': DeviceArray([0.01], dtype=float32), 'chol_lowerdiag': DeviceArray([], dtype=float32)}\n",
      "Iteration 37:\n",
      "   Loss = -0.0003239837533328682, Params = {'mean': DeviceArray([-0.2953849], dtype=float32), 'chol_diag': DeviceArray([0.01], dtype=float32), 'chol_lowerdiag': DeviceArray([], dtype=float32)}\n",
      "Iteration 38:\n",
      "   Loss = -0.00025426989304833114, Params = {'mean': DeviceArray([-0.31653705], dtype=float32), 'chol_diag': DeviceArray([0.01], dtype=float32), 'chol_lowerdiag': DeviceArray([], dtype=float32)}\n",
      "Iteration 39:\n",
      "   Loss = -0.00019448742386884987, Params = {'mean': DeviceArray([-0.3365538], dtype=float32), 'chol_diag': DeviceArray([0.01], dtype=float32), 'chol_lowerdiag': DeviceArray([], dtype=float32)}\n",
      "Iteration 40:\n",
      "   Loss = -0.00014337917673401535, Params = {'mean': DeviceArray([-0.35536122], dtype=float32), 'chol_diag': DeviceArray([0.01], dtype=float32), 'chol_lowerdiag': DeviceArray([], dtype=float32)}\n"
     ]
    },
    {
     "name": "stdout",
     "output_type": "stream",
     "text": [
      "Iteration 41:\n",
      "   Loss = -9.976640285458416e-05, Params = {'mean': DeviceArray([-0.37289762], dtype=float32), 'chol_diag': DeviceArray([0.01], dtype=float32), 'chol_lowerdiag': DeviceArray([], dtype=float32)}\n",
      "Iteration 42:\n",
      "   Loss = -6.254386971704662e-05, Params = {'mean': DeviceArray([-0.38911486], dtype=float32), 'chol_diag': DeviceArray([0.01], dtype=float32), 'chol_lowerdiag': DeviceArray([], dtype=float32)}\n",
      "Iteration 43:\n",
      "   Loss = -3.0836716177873313e-05, Params = {'mean': DeviceArray([-0.40397888], dtype=float32), 'chol_diag': DeviceArray([0.01], dtype=float32), 'chol_lowerdiag': DeviceArray([], dtype=float32)}\n",
      "Iteration 44:\n",
      "   Loss = -3.8116575069579994e-06, Params = {'mean': DeviceArray([-0.4174695], dtype=float32), 'chol_diag': DeviceArray([0.01], dtype=float32), 'chol_lowerdiag': DeviceArray([], dtype=float32)}\n",
      "Iteration 45:\n",
      "   Loss = 1.9104376406176016e-05, Params = {'mean': DeviceArray([-0.42958018], dtype=float32), 'chol_diag': DeviceArray([0.01], dtype=float32), 'chol_lowerdiag': DeviceArray([], dtype=float32)}\n",
      "Iteration 46:\n",
      "   Loss = 3.849479617201723e-05, Params = {'mean': DeviceArray([-0.44031706], dtype=float32), 'chol_diag': DeviceArray([0.01], dtype=float32), 'chol_lowerdiag': DeviceArray([], dtype=float32)}\n",
      "Iteration 47:\n",
      "   Loss = 5.4820524383103475e-05, Params = {'mean': DeviceArray([-0.4496979], dtype=float32), 'chol_diag': DeviceArray([0.01], dtype=float32), 'chol_lowerdiag': DeviceArray([], dtype=float32)}\n",
      "Iteration 48:\n",
      "   Loss = 6.842311995569617e-05, Params = {'mean': DeviceArray([-0.45775133], dtype=float32), 'chol_diag': DeviceArray([0.01], dtype=float32), 'chol_lowerdiag': DeviceArray([], dtype=float32)}\n",
      "Iteration 49:\n",
      "   Loss = 7.968512363731861e-05, Params = {'mean': DeviceArray([-0.46451527], dtype=float32), 'chol_diag': DeviceArray([0.01], dtype=float32), 'chol_lowerdiag': DeviceArray([], dtype=float32)}\n",
      "Iteration 50:\n",
      "   Loss = 8.880449604475871e-05, Params = {'mean': DeviceArray([-0.47003624], dtype=float32), 'chol_diag': DeviceArray([0.01], dtype=float32), 'chol_lowerdiag': DeviceArray([], dtype=float32)}\n",
      "Iteration 51:\n",
      "   Loss = 9.605059312889352e-05, Params = {'mean': DeviceArray([-0.47436804], dtype=float32), 'chol_diag': DeviceArray([0.01], dtype=float32), 'chol_lowerdiag': DeviceArray([], dtype=float32)}\n",
      "Iteration 52:\n",
      "   Loss = 0.00010162519902223721, Params = {'mean': DeviceArray([-0.4775706], dtype=float32), 'chol_diag': DeviceArray([0.01], dtype=float32), 'chol_lowerdiag': DeviceArray([], dtype=float32)}\n",
      "Iteration 53:\n",
      "   Loss = 0.0001056589899235405, Params = {'mean': DeviceArray([-0.47970912], dtype=float32), 'chol_diag': DeviceArray([0.01], dtype=float32), 'chol_lowerdiag': DeviceArray([], dtype=float32)}\n",
      "Iteration 54:\n",
      "   Loss = 0.00010831589315785095, Params = {'mean': DeviceArray([-0.48085308], dtype=float32), 'chol_diag': DeviceArray([0.01], dtype=float32), 'chol_lowerdiag': DeviceArray([], dtype=float32)}\n",
      "Iteration 55:\n",
      "   Loss = 0.0001097567510441877, Params = {'mean': DeviceArray([-0.481075], dtype=float32), 'chol_diag': DeviceArray([0.01], dtype=float32), 'chol_lowerdiag': DeviceArray([], dtype=float32)}\n",
      "Iteration 56:\n",
      "   Loss = 0.00011003442341461778, Params = {'mean': DeviceArray([-0.48044997], dtype=float32), 'chol_diag': DeviceArray([0.01], dtype=float32), 'chol_lowerdiag': DeviceArray([], dtype=float32)}\n",
      "Iteration 57:\n",
      "   Loss = 0.00010926900722552091, Params = {'mean': DeviceArray([-0.4790549], dtype=float32), 'chol_diag': DeviceArray([0.01], dtype=float32), 'chol_lowerdiag': DeviceArray([], dtype=float32)}\n",
      "Iteration 58:\n",
      "   Loss = 0.00010750359069788828, Params = {'mean': DeviceArray([-0.47696784], dtype=float32), 'chol_diag': DeviceArray([0.01], dtype=float32), 'chol_lowerdiag': DeviceArray([], dtype=float32)}\n",
      "Iteration 59:\n",
      "   Loss = 0.00010488659609109163, Params = {'mean': DeviceArray([-0.47426698], dtype=float32), 'chol_diag': DeviceArray([0.01], dtype=float32), 'chol_lowerdiag': DeviceArray([], dtype=float32)}\n",
      "Iteration 60:\n",
      "   Loss = 0.00010149079753318802, Params = {'mean': DeviceArray([-0.47102997], dtype=float32), 'chol_diag': DeviceArray([0.01], dtype=float32), 'chol_lowerdiag': DeviceArray([], dtype=float32)}\n",
      "Iteration 61:\n",
      "   Loss = 9.733385377330706e-05, Params = {'mean': DeviceArray([-0.46733382], dtype=float32), 'chol_diag': DeviceArray([0.01], dtype=float32), 'chol_lowerdiag': DeviceArray([], dtype=float32)}\n",
      "Iteration 62:\n",
      "   Loss = 9.252041490981355e-05, Params = {'mean': DeviceArray([-0.463254], dtype=float32), 'chol_diag': DeviceArray([0.01], dtype=float32), 'chol_lowerdiag': DeviceArray([], dtype=float32)}\n",
      "Iteration 63:\n",
      "   Loss = 8.712169801583514e-05, Params = {'mean': DeviceArray([-0.45886394], dtype=float32), 'chol_diag': DeviceArray([0.01], dtype=float32), 'chol_lowerdiag': DeviceArray([], dtype=float32)}\n",
      "Iteration 64:\n",
      "   Loss = 8.119508129311725e-05, Params = {'mean': DeviceArray([-0.45423466], dtype=float32), 'chol_diag': DeviceArray([0.01], dtype=float32), 'chol_lowerdiag': DeviceArray([], dtype=float32)}\n",
      "Iteration 65:\n",
      "   Loss = 7.480649946955964e-05, Params = {'mean': DeviceArray([-0.44943437], dtype=float32), 'chol_diag': DeviceArray([0.01], dtype=float32), 'chol_lowerdiag': DeviceArray([], dtype=float32)}\n",
      "Iteration 66:\n",
      "   Loss = 6.805265002185479e-05, Params = {'mean': DeviceArray([-0.4445279], dtype=float32), 'chol_diag': DeviceArray([0.01], dtype=float32), 'chol_lowerdiag': DeviceArray([], dtype=float32)}\n",
      "Iteration 67:\n",
      "   Loss = 6.100229802541435e-05, Params = {'mean': DeviceArray([-0.43957627], dtype=float32), 'chol_diag': DeviceArray([0.01], dtype=float32), 'chol_lowerdiag': DeviceArray([], dtype=float32)}\n",
      "Iteration 68:\n",
      "   Loss = 5.3713964007329196e-05, Params = {'mean': DeviceArray([-0.4346366], dtype=float32), 'chol_diag': DeviceArray([0.01], dtype=float32), 'chol_lowerdiag': DeviceArray([], dtype=float32)}\n",
      "Iteration 69:\n",
      "   Loss = 4.62844836874865e-05, Params = {'mean': DeviceArray([-0.42976165], dtype=float32), 'chol_diag': DeviceArray([0.01], dtype=float32), 'chol_lowerdiag': DeviceArray([], dtype=float32)}\n",
      "Iteration 70:\n",
      "   Loss = 3.878161442116834e-05, Params = {'mean': DeviceArray([-0.42499965], dtype=float32), 'chol_diag': DeviceArray([0.01], dtype=float32), 'chol_lowerdiag': DeviceArray([], dtype=float32)}\n",
      "Iteration 71:\n",
      "   Loss = 3.1295730877900496e-05, Params = {'mean': DeviceArray([-0.420394], dtype=float32), 'chol_diag': DeviceArray([0.01], dtype=float32), 'chol_lowerdiag': DeviceArray([], dtype=float32)}\n",
      "Iteration 72:\n",
      "   Loss = 2.3878097636043094e-05, Params = {'mean': DeviceArray([-0.41598335], dtype=float32), 'chol_diag': DeviceArray([0.01], dtype=float32), 'chol_lowerdiag': DeviceArray([], dtype=float32)}\n",
      "Iteration 73:\n",
      "   Loss = 1.664386763877701e-05, Params = {'mean': DeviceArray([-0.41180122], dtype=float32), 'chol_diag': DeviceArray([0.01], dtype=float32), 'chol_lowerdiag': DeviceArray([], dtype=float32)}\n",
      "Iteration 74:\n",
      "   Loss = 9.651973414293025e-06, Params = {'mean': DeviceArray([-0.40787607], dtype=float32), 'chol_diag': DeviceArray([0.01], dtype=float32), 'chol_lowerdiag': DeviceArray([], dtype=float32)}\n",
      "Iteration 75:\n",
      "   Loss = 2.9553621061495505e-06, Params = {'mean': DeviceArray([-0.4042314], dtype=float32), 'chol_diag': DeviceArray([0.01], dtype=float32), 'chol_lowerdiag': DeviceArray([], dtype=float32)}\n",
      "Iteration 76:\n",
      "   Loss = -3.3648759654170135e-06, Params = {'mean': DeviceArray([-0.40088573], dtype=float32), 'chol_diag': DeviceArray([0.01], dtype=float32), 'chol_lowerdiag': DeviceArray([], dtype=float32)}\n",
      "Iteration 77:\n",
      "   Loss = -9.27151722862618e-06, Params = {'mean': DeviceArray([-0.39785284], dtype=float32), 'chol_diag': DeviceArray([0.01], dtype=float32), 'chol_lowerdiag': DeviceArray([], dtype=float32)}\n",
      "Iteration 78:\n",
      "   Loss = -1.4724299035151489e-05, Params = {'mean': DeviceArray([-0.395142], dtype=float32), 'chol_diag': DeviceArray([0.01], dtype=float32), 'chol_lowerdiag': DeviceArray([], dtype=float32)}\n",
      "Iteration 79:\n",
      "   Loss = -1.964679358934518e-05, Params = {'mean': DeviceArray([-0.39275783], dtype=float32), 'chol_diag': DeviceArray([0.01], dtype=float32), 'chol_lowerdiag': DeviceArray([], dtype=float32)}\n",
      "Iteration 80:\n",
      "   Loss = -2.403712278464809e-05, Params = {'mean': DeviceArray([-0.3907009], dtype=float32), 'chol_diag': DeviceArray([0.01], dtype=float32), 'chol_lowerdiag': DeviceArray([], dtype=float32)}\n"
     ]
    },
    {
     "name": "stdout",
     "output_type": "stream",
     "text": [
      "Iteration 81:\n",
      "   Loss = -2.7854070140165277e-05, Params = {'mean': DeviceArray([-0.38896775], dtype=float32), 'chol_diag': DeviceArray([0.01], dtype=float32), 'chol_lowerdiag': DeviceArray([], dtype=float32)}\n",
      "Iteration 82:\n",
      "   Loss = -3.1095325539354235e-05, Params = {'mean': DeviceArray([-0.38755134], dtype=float32), 'chol_diag': DeviceArray([0.01], dtype=float32), 'chol_lowerdiag': DeviceArray([], dtype=float32)}\n",
      "Iteration 83:\n",
      "   Loss = -3.376774475327693e-05, Params = {'mean': DeviceArray([-0.38644144], dtype=float32), 'chol_diag': DeviceArray([0.01], dtype=float32), 'chol_lowerdiag': DeviceArray([], dtype=float32)}\n",
      "Iteration 84:\n",
      "   Loss = -3.588897016015835e-05, Params = {'mean': DeviceArray([-0.385625], dtype=float32), 'chol_diag': DeviceArray([0.01], dtype=float32), 'chol_lowerdiag': DeviceArray([], dtype=float32)}\n",
      "Iteration 85:\n",
      "   Loss = -3.744429341168143e-05, Params = {'mean': DeviceArray([-0.3850864], dtype=float32), 'chol_diag': DeviceArray([0.01], dtype=float32), 'chol_lowerdiag': DeviceArray([], dtype=float32)}\n",
      "Iteration 86:\n",
      "   Loss = -3.846722756861709e-05, Params = {'mean': DeviceArray([-0.38480774], dtype=float32), 'chol_diag': DeviceArray([0.01], dtype=float32), 'chol_lowerdiag': DeviceArray([], dtype=float32)}\n",
      "Iteration 87:\n",
      "   Loss = -3.9009435568004847e-05, Params = {'mean': DeviceArray([-0.3847696], dtype=float32), 'chol_diag': DeviceArray([0.01], dtype=float32), 'chol_lowerdiag': DeviceArray([], dtype=float32)}\n",
      "Iteration 88:\n",
      "   Loss = -3.9082126022549346e-05, Params = {'mean': DeviceArray([-0.384951], dtype=float32), 'chol_diag': DeviceArray([0.01], dtype=float32), 'chol_lowerdiag': DeviceArray([], dtype=float32)}\n"
     ]
    }
   ],
   "source": [
    "# Fit sddistribution to reverse KL divergence:\n",
    "# loss = reverse_kl(approx, joint, use_reparameterisation=True)\n",
    "loss = forward_kl(approx, joint, use_reparameterisation=True)\n",
    "approx = fit_approximation(loss, approx, data, verbose=True)"
   ]
  },
  {
   "cell_type": "code",
   "execution_count": null,
   "id": "286aef7c",
   "metadata": {},
   "outputs": [],
   "source": []
  }
 ],
 "metadata": {
  "kernelspec": {
   "display_name": "Python 3 (ipykernel)",
   "language": "python",
   "name": "python3"
  },
  "language_info": {
   "codemirror_mode": {
    "name": "ipython",
    "version": 3
   },
   "file_extension": ".py",
   "mimetype": "text/x-python",
   "name": "python",
   "nbconvert_exporter": "python",
   "pygments_lexer": "ipython3",
   "version": "3.8.10"
  }
 },
 "nbformat": 4,
 "nbformat_minor": 5
}
