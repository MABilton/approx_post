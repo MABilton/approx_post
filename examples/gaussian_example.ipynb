{
 "cells": [
  {
   "cell_type": "code",
   "execution_count": 30,
   "id": "6d119613",
   "metadata": {
    "scrolled": false
   },
   "outputs": [],
   "source": [
    "import numpy as np\n",
    "import jax\n",
    "import jax.numpy as jnp\n",
    "from approx_post.distributions import approx, joint\n",
    "from approx_post import losses, optimisers\n",
    "from arraytainers import Jaxtainer"
   ]
  },
  {
   "cell_type": "code",
   "execution_count": 31,
   "id": "c9d34649",
   "metadata": {},
   "outputs": [],
   "source": [
    "def create_data(model, true_theta, noise_cov, num_samples, prngkey):\n",
    "    mean = model(true_theta)\n",
    "    samples = jax.random.multivariate_normal(key=prngkey, mean=mean, cov=noise_cov, shape=(num_samples,))\n",
    "    return samples.reshape(num_samples, -1)"
   ]
  },
  {
   "cell_type": "code",
   "execution_count": 32,
   "id": "a94b97b2",
   "metadata": {},
   "outputs": [],
   "source": [
    "# First, let's define a model:\n",
    "ndim = 1\n",
    "model = lambda theta: theta**2\n",
    "model_grad = jax.vmap(jax.vmap(jax.jacfwd(model), in_axes=0), in_axes=0)"
   ]
  },
  {
   "cell_type": "code",
   "execution_count": 35,
   "id": "525931b1",
   "metadata": {
    "scrolled": false
   },
   "outputs": [
    {
     "name": "stdout",
     "output_type": "stream",
     "text": [
      "True theta: \n",
      " [2]\n",
      "True x = model(theta): \n",
      " [4]\n",
      "Observations x_obs = model(theta) + noise: \n",
      " [[3.865546]]\n"
     ]
    }
   ],
   "source": [
    "# Create artificial data:\n",
    "prngkey = jax.random.PRNGKey(10)\n",
    "true_theta = jnp.array([2])\n",
    "noise_cov = 0.01*np.identity(ndim)\n",
    "num_samples = 1\n",
    "data = create_data(model, true_theta, noise_cov, num_samples, prngkey)\n",
    "print(f'True theta: \\n {true_theta}')\n",
    "print(f'True x = model(theta): \\n {model(true_theta)}')\n",
    "print(f'Observations x_obs = model(theta) + noise: \\n {data}')"
   ]
  },
  {
   "cell_type": "code",
   "execution_count": 34,
   "id": "6d14292c",
   "metadata": {},
   "outputs": [],
   "source": [
    "# Create Gaussian approximate distribution:\n",
    "approx_dist = approx.Gaussian(ndim)"
   ]
  },
  {
   "cell_type": "code",
   "execution_count": 28,
   "id": "b29185ee",
   "metadata": {},
   "outputs": [],
   "source": [
    "# Create Joint distribution from forward model:\n",
    "prior_mean = np.zeros(ndim)\n",
    "prior_cov = 1.0*np.identity(ndim)\n",
    "joint_dist = joint.ModelPlusGaussian(model, noise_cov, prior_mean, prior_cov, model_grad)"
   ]
  },
  {
   "cell_type": "code",
   "execution_count": 29,
   "id": "2917acdd",
   "metadata": {},
   "outputs": [
    {
     "name": "stdout",
     "output_type": "stream",
     "text": [
      "Loss = 225.7564239501953, Params = Jaxtainer({'mean': DeviceArray([0.1], dtype=float32), 'chol_diag': DeviceArray([0.9], dtype=float32)})\n",
      "Loss = 110.0890121459961, Params = Jaxtainer({'mean': DeviceArray([0.19544262], dtype=float32), 'chol_diag': DeviceArray([0.8048882], dtype=float32)})\n",
      "Loss = 49.37482833862305, Params = Jaxtainer({'mean': DeviceArray([0.28343594], dtype=float32), 'chol_diag': DeviceArray([0.71804345], dtype=float32)})\n",
      "Loss = 22.33612060546875, Params = Jaxtainer({'mean': DeviceArray([0.36243066], dtype=float32), 'chol_diag': DeviceArray([0.64148885], dtype=float32)})\n",
      "Loss = 12.819815635681152, Params = Jaxtainer({'mean': DeviceArray([0.43232512], dtype=float32), 'chol_diag': DeviceArray([0.57558906], dtype=float32)})\n",
      "Loss = 10.932327270507812, Params = Jaxtainer({'mean': DeviceArray([0.49394715], dtype=float32), 'chol_diag': DeviceArray([0.51953775], dtype=float32)})\n",
      "Loss = 11.645439147949219, Params = Jaxtainer({'mean': DeviceArray([0.54849553], dtype=float32), 'chol_diag': DeviceArray([0.47198784], dtype=float32)})\n",
      "Loss = 12.794255256652832, Params = Jaxtainer({'mean': DeviceArray([0.5971904], dtype=float32), 'chol_diag': DeviceArray([0.43147618], dtype=float32)})\n",
      "Loss = 13.615060806274414, Params = Jaxtainer({'mean': DeviceArray([0.6411123], dtype=float32), 'chol_diag': DeviceArray([0.39663145], dtype=float32)})\n",
      "Loss = 13.939105033874512, Params = Jaxtainer({'mean': DeviceArray([0.6811512], dtype=float32), 'chol_diag': DeviceArray([0.36624992], dtype=float32)})\n",
      "Loss = 13.813136100769043, Params = Jaxtainer({'mean': DeviceArray([0.7180058], dtype=float32), 'chol_diag': DeviceArray([0.33930773], dtype=float32)})\n",
      "Loss = 13.340155601501465, Params = Jaxtainer({'mean': DeviceArray([0.75220287], dtype=float32), 'chol_diag': DeviceArray([0.31494853], dtype=float32)})\n",
      "Loss = 12.620645523071289, Params = Jaxtainer({'mean': DeviceArray([0.78412193], dtype=float32), 'chol_diag': DeviceArray([0.29246396], dtype=float32)})\n",
      "Loss = 11.735758781433105, Params = Jaxtainer({'mean': DeviceArray([0.81401855], dtype=float32), 'chol_diag': DeviceArray([0.2712749], dtype=float32)})\n",
      "Loss = 10.746580123901367, Params = Jaxtainer({'mean': DeviceArray([0.842045], dtype=float32), 'chol_diag': DeviceArray([0.25091618], dtype=float32)})\n",
      "Loss = 9.69854736328125, Params = Jaxtainer({'mean': DeviceArray([0.8682674], dtype=float32), 'chol_diag': DeviceArray([0.23102544], dtype=float32)})\n",
      "Loss = 8.626897811889648, Params = Jaxtainer({'mean': DeviceArray([0.89267987], dtype=float32), 'chol_diag': DeviceArray([0.21133552], dtype=float32)})\n",
      "Loss = 7.5615458488464355, Params = Jaxtainer({'mean': DeviceArray([0.9152163], dtype=float32), 'chol_diag': DeviceArray([0.19167024], dtype=float32)})\n",
      "Loss = 6.530816555023193, Params = Jaxtainer({'mean': DeviceArray([0.93576056], dtype=float32), 'chol_diag': DeviceArray([0.17194214], dtype=float32)})\n",
      "Loss = 5.563743591308594, Params = Jaxtainer({'mean': DeviceArray([0.954156], dtype=float32), 'chol_diag': DeviceArray([0.15215181], dtype=float32)})\n",
      "Loss = 4.690639019012451, Params = Jaxtainer({'mean': DeviceArray([0.97021514], dtype=float32), 'chol_diag': DeviceArray([0.13238727], dtype=float32)})\n",
      "Loss = 3.941786289215088, Params = Jaxtainer({'mean': DeviceArray([0.9837306], dtype=float32), 'chol_diag': DeviceArray([0.11282305], dtype=float32)})\n",
      "Loss = 3.344343662261963, Params = Jaxtainer({'mean': DeviceArray([0.9944871], dtype=float32), 'chol_diag': DeviceArray([0.09371825], dtype=float32)})\n",
      "Loss = 2.917973518371582, Params = Jaxtainer({'mean': DeviceArray([1.0022751], dtype=float32), 'chol_diag': DeviceArray([0.07541393], dtype=float32)})\n",
      "Loss = 2.6702592372894287, Params = Jaxtainer({'mean': DeviceArray([1.0069032], dtype=float32), 'chol_diag': DeviceArray([0.05833247], dtype=float32)})\n",
      "Loss = 2.5933895111083984, Params = Jaxtainer({'mean': DeviceArray([1.008206], dtype=float32), 'chol_diag': DeviceArray([0.04298501], dtype=float32)})\n",
      "Loss = 2.663154125213623, Params = Jaxtainer({'mean': DeviceArray([1.0060374], dtype=float32), 'chol_diag': DeviceArray([0.03162277], dtype=float32)})\n",
      "Loss = 2.796968460083008, Params = Jaxtainer({'mean': DeviceArray([1.000322], dtype=float32), 'chol_diag': DeviceArray([0.03162277], dtype=float32)})\n",
      "Loss = 2.657762050628662, Params = Jaxtainer({'mean': DeviceArray([0.99157864], dtype=float32), 'chol_diag': DeviceArray([0.03162277], dtype=float32)})\n",
      "Loss = 2.470879316329956, Params = Jaxtainer({'mean': DeviceArray([0.9803991], dtype=float32), 'chol_diag': DeviceArray([0.03162277], dtype=float32)})\n",
      "Loss = 2.2767415046691895, Params = Jaxtainer({'mean': DeviceArray([0.9674135], dtype=float32), 'chol_diag': DeviceArray([0.03162277], dtype=float32)})\n",
      "Loss = 2.1123769283294678, Params = Jaxtainer({'mean': DeviceArray([0.953258], dtype=float32), 'chol_diag': DeviceArray([0.03162277], dtype=float32)})\n",
      "Loss = 2.005225896835327, Params = Jaxtainer({'mean': DeviceArray([0.9385462], dtype=float32), 'chol_diag': DeviceArray([0.0328453], dtype=float32)})\n",
      "Loss = 1.9499950408935547, Params = Jaxtainer({'mean': DeviceArray([0.9239064], dtype=float32), 'chol_diag': DeviceArray([0.03550508], dtype=float32)})\n",
      "Loss = 1.9566329717636108, Params = Jaxtainer({'mean': DeviceArray([0.9099549], dtype=float32), 'chol_diag': DeviceArray([0.03920252], dtype=float32)})\n",
      "Loss = 2.03399920463562, Params = Jaxtainer({'mean': DeviceArray([0.89724094], dtype=float32), 'chol_diag': DeviceArray([0.04353172], dtype=float32)})\n",
      "Loss = 2.1740477085113525, Params = Jaxtainer({'mean': DeviceArray([0.88621026], dtype=float32), 'chol_diag': DeviceArray([0.04813023], dtype=float32)})\n",
      "Loss = 2.355192184448242, Params = Jaxtainer({'mean': DeviceArray([0.8771902], dtype=float32), 'chol_diag': DeviceArray([0.05270051], dtype=float32)})\n",
      "Loss = 2.54967999458313, Params = Jaxtainer({'mean': DeviceArray([0.87038964], dtype=float32), 'chol_diag': DeviceArray([0.05701287], dtype=float32)})\n",
      "Loss = 2.7304506301879883, Params = Jaxtainer({'mean': DeviceArray([0.86590815], dtype=float32), 'chol_diag': DeviceArray([0.06089934], dtype=float32)})\n",
      "Loss = 2.875631093978882, Params = Jaxtainer({'mean': DeviceArray([0.8637484], dtype=float32), 'chol_diag': DeviceArray([0.06424423], dtype=float32)})\n",
      "Loss = 2.970660448074341, Params = Jaxtainer({'mean': DeviceArray([0.86382973], dtype=float32), 'chol_diag': DeviceArray([0.0669746], dtype=float32)})\n",
      "Loss = 3.00866961479187, Params = Jaxtainer({'mean': DeviceArray([0.86600155], dtype=float32), 'chol_diag': DeviceArray([0.069052], dtype=float32)})\n",
      "Loss = 2.9898014068603516, Params = Jaxtainer({'mean': DeviceArray([0.8700545], dtype=float32), 'chol_diag': DeviceArray([0.07046586], dtype=float32)})\n",
      "Loss = 2.9199886322021484, Params = Jaxtainer({'mean': DeviceArray([0.87573117], dtype=float32), 'chol_diag': DeviceArray([0.07122871], dtype=float32)})\n",
      "Loss = 2.809469699859619, Params = Jaxtainer({'mean': DeviceArray([0.88273543], dtype=float32), 'chol_diag': DeviceArray([0.07137276], dtype=float32)})\n",
      "Loss = 2.6712253093719482, Params = Jaxtainer({'mean': DeviceArray([0.89074105], dtype=float32), 'chol_diag': DeviceArray([0.0709477], dtype=float32)})\n",
      "Loss = 2.5194015502929688, Params = Jaxtainer({'mean': DeviceArray([0.8994007], dtype=float32), 'chol_diag': DeviceArray([0.07001907], dtype=float32)})\n",
      "Loss = 2.367771625518799, Params = Jaxtainer({'mean': DeviceArray([0.9083558], dtype=float32), 'chol_diag': DeviceArray([0.06866688], dtype=float32)})\n",
      "Loss = 2.228304386138916, Params = Jaxtainer({'mean': DeviceArray([0.91724676], dtype=float32), 'chol_diag': DeviceArray([0.06698389], dtype=float32)})\n",
      "Loss = 2.1099793910980225, Params = Jaxtainer({'mean': DeviceArray([0.9257254], dtype=float32), 'chol_diag': DeviceArray([0.06507325], dtype=float32)})\n",
      "Loss = 2.017961263656616, Params = Jaxtainer({'mean': DeviceArray([0.9334677], dtype=float32), 'chol_diag': DeviceArray([0.06304518], dtype=float32)})\n",
      "Loss = 1.9533026218414307, Params = Jaxtainer({'mean': DeviceArray([0.94018763], dtype=float32), 'chol_diag': DeviceArray([0.06101238], dtype=float32)})\n",
      "Loss = 1.913273811340332, Params = Jaxtainer({'mean': DeviceArray([0.9456509], dtype=float32), 'chol_diag': DeviceArray([0.05908444], dtype=float32)})\n",
      "Loss = 1.8923152685165405, Params = Jaxtainer({'mean': DeviceArray([0.9496867], dtype=float32), 'chol_diag': DeviceArray([0.05736139], dtype=float32)})\n",
      "Loss = 1.8834789991378784, Params = Jaxtainer({'mean': DeviceArray([0.95219743], dtype=float32), 'chol_diag': DeviceArray([0.05592706], dtype=float32)})\n"
     ]
    },
    {
     "name": "stdout",
     "output_type": "stream",
     "text": [
      "Loss = 1.880064606666565, Params = Jaxtainer({'mean': DeviceArray([0.9531635], dtype=float32), 'chol_diag': DeviceArray([0.05484301], dtype=float32)})\n",
      "Loss = 1.8770745992660522, Params = Jaxtainer({'mean': DeviceArray([0.9526437], dtype=float32), 'chol_diag': DeviceArray([0.05414409], dtype=float32)})\n",
      "Loss = 1.8721367120742798, Params = Jaxtainer({'mean': DeviceArray([0.95076984], dtype=float32), 'chol_diag': DeviceArray([0.05383635], dtype=float32)})\n",
      "Loss = 1.8656593561172485, Params = Jaxtainer({'mean': DeviceArray([0.9477363], dtype=float32), 'chol_diag': DeviceArray([0.05389784], dtype=float32)})\n",
      "Loss = 1.8602275848388672, Params = Jaxtainer({'mean': DeviceArray([0.94378525], dtype=float32), 'chol_diag': DeviceArray([0.05428232], dtype=float32)})\n",
      "Loss = 1.859460473060608, Params = Jaxtainer({'mean': DeviceArray([0.9391893], dtype=float32), 'chol_diag': DeviceArray([0.05492517], dtype=float32)})\n",
      "Loss = 1.8667176961898804, Params = Jaxtainer({'mean': DeviceArray([0.93423325], dtype=float32), 'chol_diag': DeviceArray([0.05575053], dtype=float32)})\n",
      "Loss = 1.8840230703353882, Params = Jaxtainer({'mean': DeviceArray([0.92919666], dtype=float32), 'chol_diag': DeviceArray([0.05667863], dtype=float32)})\n",
      "Loss = 1.9114683866500854, Params = Jaxtainer({'mean': DeviceArray([0.9243385], dtype=float32), 'chol_diag': DeviceArray([0.05763232], dtype=float32)})\n",
      "Loss = 1.9471721649169922, Params = Jaxtainer({'mean': DeviceArray([0.9198852], dtype=float32), 'chol_diag': DeviceArray([0.05854227], dtype=float32)})\n",
      "Loss = 1.98770272731781, Params = Jaxtainer({'mean': DeviceArray([0.91602194], dtype=float32), 'chol_diag': DeviceArray([0.05935065], dtype=float32)})\n",
      "Loss = 2.0287749767303467, Params = Jaxtainer({'mean': DeviceArray([0.91288716], dtype=float32), 'chol_diag': DeviceArray([0.06001317], dtype=float32)})\n",
      "Loss = 2.066030740737915, Params = Jaxtainer({'mean': DeviceArray([0.9105706], dtype=float32), 'chol_diag': DeviceArray([0.06050003], dtype=float32)})\n",
      "Loss = 2.095728635787964, Params = Jaxtainer({'mean': DeviceArray([0.90911376], dtype=float32), 'chol_diag': DeviceArray([0.06079571], dtype=float32)})\n",
      "Loss = 2.1152350902557373, Params = Jaxtainer({'mean': DeviceArray([0.90851235], dtype=float32), 'chol_diag': DeviceArray([0.0608982], dtype=float32)})\n",
      "Loss = 2.1232807636260986, Params = Jaxtainer({'mean': DeviceArray([0.90872073], dtype=float32), 'chol_diag': DeviceArray([0.06081761], dtype=float32)})\n",
      "Loss = 2.1199827194213867, Params = Jaxtainer({'mean': DeviceArray([0.90965736], dtype=float32), 'chol_diag': DeviceArray([0.06057454], dtype=float32)})\n",
      "Loss = 2.10666823387146, Params = Jaxtainer({'mean': DeviceArray([0.9112115], dtype=float32), 'chol_diag': DeviceArray([0.0601981], dtype=float32)})\n",
      "Loss = 2.0855553150177, Params = Jaxtainer({'mean': DeviceArray([0.91325027], dtype=float32), 'chol_diag': DeviceArray([0.05972378], dtype=float32)})\n",
      "Loss = 2.0593597888946533, Params = Jaxtainer({'mean': DeviceArray([0.91562676], dtype=float32), 'chol_diag': DeviceArray([0.0591911], dtype=float32)})\n",
      "Loss = 2.0308895111083984, Params = Jaxtainer({'mean': DeviceArray([0.918188], dtype=float32), 'chol_diag': DeviceArray([0.05864114], dtype=float32)})\n",
      "Loss = 2.0026862621307373, Params = Jaxtainer({'mean': DeviceArray([0.9207828], dtype=float32), 'chol_diag': DeviceArray([0.05811387], dtype=float32)})\n",
      "Loss = 1.976768136024475, Params = Jaxtainer({'mean': DeviceArray([0.9232701], dtype=float32), 'chol_diag': DeviceArray([0.05764567], dtype=float32)})\n",
      "Loss = 1.954497218132019, Params = Jaxtainer({'mean': DeviceArray([0.92552537], dtype=float32), 'chol_diag': DeviceArray([0.05726693], dtype=float32)})\n",
      "Loss = 1.936578392982483, Params = Jaxtainer({'mean': DeviceArray([0.9274468], dtype=float32), 'chol_diag': DeviceArray([0.05700005], dtype=float32)})\n",
      "Loss = 1.9231640100479126, Params = Jaxtainer({'mean': DeviceArray([0.9289597], dtype=float32), 'chol_diag': DeviceArray([0.05685807], dtype=float32)})\n",
      "Loss = 1.9140242338180542, Params = Jaxtainer({'mean': DeviceArray([0.9300191], dtype=float32), 'chol_diag': DeviceArray([0.05684405], dtype=float32)})\n",
      "Loss = 1.9087330102920532, Params = Jaxtainer({'mean': DeviceArray([0.93060994], dtype=float32), 'chol_diag': DeviceArray([0.05695125], dtype=float32)})\n",
      "Loss = 1.9068174362182617, Params = Jaxtainer({'mean': DeviceArray([0.93074596], dtype=float32), 'chol_diag': DeviceArray([0.05716419], dtype=float32)})\n",
      "Loss = 1.9078501462936401, Params = Jaxtainer({'mean': DeviceArray([0.9304663], dtype=float32), 'chol_diag': DeviceArray([0.05746035], dtype=float32)})\n",
      "Loss = 1.9114664793014526, Params = Jaxtainer({'mean': DeviceArray([0.92983097], dtype=float32), 'chol_diag': DeviceArray([0.05781238], dtype=float32)})\n",
      "Loss = 1.9173319339752197, Params = Jaxtainer({'mean': DeviceArray([0.92891496], dtype=float32), 'chol_diag': DeviceArray([0.05819063], dtype=float32)})\n",
      "Loss = 1.9250847101211548, Params = Jaxtainer({'mean': DeviceArray([0.92780244], dtype=float32), 'chol_diag': DeviceArray([0.05856553], dtype=float32)})\n",
      "Loss = 1.9342807531356812, Params = Jaxtainer({'mean': DeviceArray([0.92658037], dtype=float32), 'chol_diag': DeviceArray([0.05890983], dtype=float32)})\n",
      "Loss = 1.9443691968917847, Params = Jaxtainer({'mean': DeviceArray([0.9253331], dtype=float32), 'chol_diag': DeviceArray([0.05920046], dtype=float32)})\n",
      "Loss = 1.9547029733657837, Params = Jaxtainer({'mean': DeviceArray([0.92413723], dtype=float32), 'chol_diag': DeviceArray([0.05941983], dtype=float32)})\n",
      "Loss = 1.9645856618881226, Params = Jaxtainer({'mean': DeviceArray([0.9230581], dtype=float32), 'chol_diag': DeviceArray([0.05955666], dtype=float32)})\n",
      "Loss = 1.9733432531356812, Params = Jaxtainer({'mean': DeviceArray([0.9221467], dtype=float32), 'chol_diag': DeviceArray([0.0596063], dtype=float32)})\n",
      "Loss = 1.9803990125656128, Params = Jaxtainer({'mean': DeviceArray([0.9214382], dtype=float32), 'chol_diag': DeviceArray([0.05957052], dtype=float32)})\n",
      "Loss = 1.9853391647338867, Params = Jaxtainer({'mean': DeviceArray([0.9209517], dtype=float32), 'chol_diag': DeviceArray([0.05945699], dtype=float32)})\n",
      "Loss = 1.987954020500183, Params = Jaxtainer({'mean': DeviceArray([0.92069054], dtype=float32), 'chol_diag': DeviceArray([0.05927832], dtype=float32)})\n",
      "Loss = 1.9882534742355347, Params = Jaxtainer({'mean': DeviceArray([0.92064375], dtype=float32), 'chol_diag': DeviceArray([0.05905096], dtype=float32)})\n",
      "Loss = 1.9864472150802612, Params = Jaxtainer({'mean': DeviceArray([0.92078847], dtype=float32), 'chol_diag': DeviceArray([0.0587938], dtype=float32)})\n",
      "Loss = 1.9829052686691284, Params = Jaxtainer({'mean': DeviceArray([0.9210923], dtype=float32), 'chol_diag': DeviceArray([0.05852679], dtype=float32)})\n",
      "Loss = 1.978105902671814, Params = Jaxtainer({'mean': DeviceArray([0.9215166], dtype=float32), 'chol_diag': DeviceArray([0.05826945], dtype=float32)})\n",
      "Loss = 1.972568392753601, Params = Jaxtainer({'mean': DeviceArray([0.9220196], dtype=float32), 'chol_diag': DeviceArray([0.05803955], dtype=float32)})\n",
      "Loss = 1.9668018817901611, Params = Jaxtainer({'mean': DeviceArray([0.9225594], dtype=float32), 'chol_diag': DeviceArray([0.05785188], dtype=float32)})\n",
      "Loss = 1.9612600803375244, Params = Jaxtainer({'mean': DeviceArray([0.9230966], dtype=float32), 'chol_diag': DeviceArray([0.05771736], dtype=float32)})\n",
      "Loss = 1.9563114643096924, Params = Jaxtainer({'mean': DeviceArray([0.923597], dtype=float32), 'chol_diag': DeviceArray([0.05764237], dtype=float32)})\n",
      "Loss = 1.9522243738174438, Params = Jaxtainer({'mean': DeviceArray([0.924033], dtype=float32), 'chol_diag': DeviceArray([0.05762857], dtype=float32)})\n",
      "Loss = 1.9491665363311768, Params = Jaxtainer({'mean': DeviceArray([0.9243849], dtype=float32), 'chol_diag': DeviceArray([0.05767297], dtype=float32)})\n",
      "Loss = 1.9472099542617798, Params = Jaxtainer({'mean': DeviceArray([0.92464125], dtype=float32), 'chol_diag': DeviceArray([0.05776846], dtype=float32)})\n",
      "Loss = 1.9463433027267456, Params = Jaxtainer({'mean': DeviceArray([0.9247987], dtype=float32), 'chol_diag': DeviceArray([0.05790462], dtype=float32)})\n",
      "Loss = 1.9464854001998901, Params = Jaxtainer({'mean': DeviceArray([0.92486113], dtype=float32), 'chol_diag': DeviceArray([0.05806869], dtype=float32)})\n"
     ]
    },
    {
     "name": "stdout",
     "output_type": "stream",
     "text": [
      "Loss = 1.9474972486495972, Params = Jaxtainer({'mean': DeviceArray([0.9248385], dtype=float32), 'chol_diag': DeviceArray([0.05824671], dtype=float32)})\n",
      "Loss = 1.9491970539093018, Params = Jaxtainer({'mean': DeviceArray([0.9247452], dtype=float32), 'chol_diag': DeviceArray([0.0584247], dtype=float32)})\n",
      "Loss = 1.951374888420105, Params = Jaxtainer({'mean': DeviceArray([0.9245987], dtype=float32), 'chol_diag': DeviceArray([0.05858965], dtype=float32)})\n",
      "Loss = 1.9538074731826782, Params = Jaxtainer({'mean': DeviceArray([0.92441756], dtype=float32), 'chol_diag': DeviceArray([0.05873049], dtype=float32)})\n",
      "Loss = 1.956275224685669, Params = Jaxtainer({'mean': DeviceArray([0.92422], dtype=float32), 'chol_diag': DeviceArray([0.05883872], dtype=float32)})\n",
      "Loss = 1.958577036857605, Params = Jaxtainer({'mean': DeviceArray([0.9240228], dtype=float32), 'chol_diag': DeviceArray([0.05890888], dtype=float32)})\n",
      "Loss = 1.9605463743209839, Params = Jaxtainer({'mean': DeviceArray([0.92383987], dtype=float32), 'chol_diag': DeviceArray([0.0589387], dtype=float32)})\n",
      "Loss = 1.9620599746704102, Params = Jaxtainer({'mean': DeviceArray([0.923682], dtype=float32), 'chol_diag': DeviceArray([0.05892908], dtype=float32)})\n",
      "Loss = 1.9630473852157593, Params = Jaxtainer({'mean': DeviceArray([0.9235561], dtype=float32), 'chol_diag': DeviceArray([0.05888373], dtype=float32)})\n",
      "Loss = 1.9634910821914673, Params = Jaxtainer({'mean': DeviceArray([0.92346567], dtype=float32), 'chol_diag': DeviceArray([0.05880875], dtype=float32)})\n",
      "Loss = 1.9634220600128174, Params = Jaxtainer({'mean': DeviceArray([0.92341065], dtype=float32), 'chol_diag': DeviceArray([0.05871196], dtype=float32)})\n",
      "Loss = 1.9629138708114624, Params = Jaxtainer({'mean': DeviceArray([0.92338824], dtype=float32), 'chol_diag': DeviceArray([0.05860224], dtype=float32)})\n",
      "Loss = 1.9620693922042847, Params = Jaxtainer({'mean': DeviceArray([0.9233934], dtype=float32), 'chol_diag': DeviceArray([0.05848877], dtype=float32)})\n",
      "Loss = 1.9610071182250977, Params = Jaxtainer({'mean': DeviceArray([0.9234198], dtype=float32), 'chol_diag': DeviceArray([0.05838034], dtype=float32)})\n",
      "Loss = 1.9598525762557983, Params = Jaxtainer({'mean': DeviceArray([0.9234603], dtype=float32), 'chol_diag': DeviceArray([0.05828467], dtype=float32)})\n",
      "Loss = 1.9587215185165405, Params = Jaxtainer({'mean': DeviceArray([0.92350805], dtype=float32), 'chol_diag': DeviceArray([0.05820794], dtype=float32)})\n",
      "Loss = 1.9577149152755737, Params = Jaxtainer({'mean': DeviceArray([0.9235569], dtype=float32), 'chol_diag': DeviceArray([0.05815439], dtype=float32)})\n",
      "Loss = 1.956908106803894, Params = Jaxtainer({'mean': DeviceArray([0.923602], dtype=float32), 'chol_diag': DeviceArray([0.05812614], dtype=float32)})\n",
      "Loss = 1.95635187625885, Params = Jaxtainer({'mean': DeviceArray([0.9236398], dtype=float32), 'chol_diag': DeviceArray([0.0581232], dtype=float32)})\n",
      "Loss = 1.9560680389404297, Params = Jaxtainer({'mean': DeviceArray([0.92366844], dtype=float32), 'chol_diag': DeviceArray([0.0581436], dtype=float32)})\n",
      "Loss = 1.956051230430603, Params = Jaxtainer({'mean': DeviceArray([0.9236877], dtype=float32), 'chol_diag': DeviceArray([0.05818372], dtype=float32)})\n",
      "Loss = 1.9562721252441406, Params = Jaxtainer({'mean': DeviceArray([0.9236984], dtype=float32), 'chol_diag': DeviceArray([0.05823872], dtype=float32)})\n",
      "Loss = 1.9566841125488281, Params = Jaxtainer({'mean': DeviceArray([0.9237026], dtype=float32), 'chol_diag': DeviceArray([0.05830298], dtype=float32)})\n",
      "Loss = 1.957224726676941, Params = Jaxtainer({'mean': DeviceArray([0.92370266], dtype=float32), 'chol_diag': DeviceArray([0.05837068], dtype=float32)})\n",
      "Loss = 1.957826018333435, Params = Jaxtainer({'mean': DeviceArray([0.92370117], dtype=float32), 'chol_diag': DeviceArray([0.05843619], dtype=float32)})\n",
      "Loss = 1.9584217071533203, Params = Jaxtainer({'mean': DeviceArray([0.9237006], dtype=float32), 'chol_diag': DeviceArray([0.05849461], dtype=float32)})\n",
      "Loss = 1.958950400352478, Params = Jaxtainer({'mean': DeviceArray([0.9237028], dtype=float32), 'chol_diag': DeviceArray([0.058542], dtype=float32)})\n",
      "Loss = 1.959362268447876, Params = Jaxtainer({'mean': DeviceArray([0.9237089], dtype=float32), 'chol_diag': DeviceArray([0.05857567], dtype=float32)})\n",
      "Loss = 1.9596248865127563, Params = Jaxtainer({'mean': DeviceArray([0.92371935], dtype=float32), 'chol_diag': DeviceArray([0.05859426], dtype=float32)})\n",
      "Loss = 1.959721565246582, Params = Jaxtainer({'mean': DeviceArray([0.9237336], dtype=float32), 'chol_diag': DeviceArray([0.05859776], dtype=float32)})\n",
      "Loss = 1.9596565961837769, Params = Jaxtainer({'mean': DeviceArray([0.92375046], dtype=float32), 'chol_diag': DeviceArray([0.05858735], dtype=float32)})\n",
      "Loss = 1.9594471454620361, Params = Jaxtainer({'mean': DeviceArray([0.9237682], dtype=float32), 'chol_diag': DeviceArray([0.05856522], dtype=float32)})\n",
      "Loss = 1.959126353263855, Params = Jaxtainer({'mean': DeviceArray([0.92378485], dtype=float32), 'chol_diag': DeviceArray([0.05853432], dtype=float32)})\n",
      "Loss = 1.9587345123291016, Params = Jaxtainer({'mean': DeviceArray([0.92379826], dtype=float32), 'chol_diag': DeviceArray([0.05849801], dtype=float32)})\n",
      "Loss = 1.9583160877227783, Params = Jaxtainer({'mean': DeviceArray([0.92380667], dtype=float32), 'chol_diag': DeviceArray([0.05845979], dtype=float32)})\n",
      "Loss = 1.9579159021377563, Params = Jaxtainer({'mean': DeviceArray([0.9238086], dtype=float32), 'chol_diag': DeviceArray([0.05842298], dtype=float32)})\n",
      "Loss = 1.9575732946395874, Params = Jaxtainer({'mean': DeviceArray([0.92380327], dtype=float32), 'chol_diag': DeviceArray([0.05839045], dtype=float32)})\n",
      "Loss = 1.9573183059692383, Params = Jaxtainer({'mean': DeviceArray([0.92379063], dtype=float32), 'chol_diag': DeviceArray([0.05836444], dtype=float32)})\n",
      "Loss = 1.9571723937988281, Params = Jaxtainer({'mean': DeviceArray([0.9237713], dtype=float32), 'chol_diag': DeviceArray([0.05834644], dtype=float32)})\n",
      "Loss = 1.9571431875228882, Params = Jaxtainer({'mean': DeviceArray([0.92374665], dtype=float32), 'chol_diag': DeviceArray([0.0583371], dtype=float32)})\n",
      "Loss = 1.957227349281311, Params = Jaxtainer({'mean': DeviceArray([0.9237185], dtype=float32), 'chol_diag': DeviceArray([0.05833626], dtype=float32)})\n",
      "Loss = 1.9574111700057983, Params = Jaxtainer({'mean': DeviceArray([0.9236891], dtype=float32), 'chol_diag': DeviceArray([0.05834309], dtype=float32)})\n",
      "Loss = 1.9576727151870728, Params = Jaxtainer({'mean': DeviceArray([0.923661], dtype=float32), 'chol_diag': DeviceArray([0.05835617], dtype=float32)})\n",
      "Loss = 1.9579811096191406, Params = Jaxtainer({'mean': DeviceArray([0.9236364], dtype=float32), 'chol_diag': DeviceArray([0.05837368], dtype=float32)})\n",
      "Loss = 1.9583052396774292, Params = Jaxtainer({'mean': DeviceArray([0.9236173], dtype=float32), 'chol_diag': DeviceArray([0.05839365], dtype=float32)})\n",
      "Loss = 1.9586139917373657, Params = Jaxtainer({'mean': DeviceArray([0.9236053], dtype=float32), 'chol_diag': DeviceArray([0.05841406], dtype=float32)})\n",
      "Loss = 1.958878755569458, Params = Jaxtainer({'mean': DeviceArray([0.9236013], dtype=float32), 'chol_diag': DeviceArray([0.0584331], dtype=float32)})\n",
      "Loss = 1.9590762853622437, Params = Jaxtainer({'mean': DeviceArray([0.92360556], dtype=float32), 'chol_diag': DeviceArray([0.05844926], dtype=float32)})\n",
      "Loss = 1.9591922760009766, Params = Jaxtainer({'mean': DeviceArray([0.9236175], dtype=float32), 'chol_diag': DeviceArray([0.05846146], dtype=float32)})\n",
      "Loss = 1.9592198133468628, Params = Jaxtainer({'mean': DeviceArray([0.923636], dtype=float32), 'chol_diag': DeviceArray([0.05846909], dtype=float32)})\n",
      "Loss = 1.9591617584228516, Params = Jaxtainer({'mean': DeviceArray([0.92365944], dtype=float32), 'chol_diag': DeviceArray([0.05847199], dtype=float32)})\n",
      "Loss = 1.959027647972107, Params = Jaxtainer({'mean': DeviceArray([0.9236857], dtype=float32), 'chol_diag': DeviceArray([0.05847048], dtype=float32)})\n",
      "Loss = 1.9588345289230347, Params = Jaxtainer({'mean': DeviceArray([0.9237127], dtype=float32), 'chol_diag': DeviceArray([0.05846522], dtype=float32)})\n",
      "Loss = 1.9586035013198853, Params = Jaxtainer({'mean': DeviceArray([0.92373806], dtype=float32), 'chol_diag': DeviceArray([0.05845713], dtype=float32)})\n",
      "Loss = 1.9583581686019897, Params = Jaxtainer({'mean': DeviceArray([0.9237599], dtype=float32), 'chol_diag': DeviceArray([0.0584473], dtype=float32)})\n"
     ]
    },
    {
     "name": "stdout",
     "output_type": "stream",
     "text": [
      "Loss = 1.9581212997436523, Params = Jaxtainer({'mean': DeviceArray([0.9237765], dtype=float32), 'chol_diag': DeviceArray([0.05843685], dtype=float32)})\n",
      "Loss = 1.9579147100448608, Params = Jaxtainer({'mean': DeviceArray([0.9237868], dtype=float32), 'chol_diag': DeviceArray([0.05842683], dtype=float32)})\n",
      "Loss = 1.9577550888061523, Params = Jaxtainer({'mean': DeviceArray([0.9237903], dtype=float32), 'chol_diag': DeviceArray([0.05841812], dtype=float32)})\n",
      "Loss = 1.9576536417007446, Params = Jaxtainer({'mean': DeviceArray([0.92378694], dtype=float32), 'chol_diag': DeviceArray([0.05841138], dtype=float32)})\n"
     ]
    },
    {
     "ename": "KeyboardInterrupt",
     "evalue": "",
     "output_type": "error",
     "traceback": [
      "\u001b[0;31m---------------------------------------------------------------------------\u001b[0m",
      "\u001b[0;31mKeyboardInterrupt\u001b[0m                         Traceback (most recent call last)",
      "\u001b[0;32m/tmp/ipykernel_1029/3579655077.py\u001b[0m in \u001b[0;36m<module>\u001b[0;34m\u001b[0m\n\u001b[1;32m      2\u001b[0m \u001b[0moptimiser\u001b[0m \u001b[0;34m=\u001b[0m \u001b[0moptimisers\u001b[0m\u001b[0;34m.\u001b[0m\u001b[0mAdam\u001b[0m\u001b[0;34m(\u001b[0m\u001b[0;34m)\u001b[0m\u001b[0;34m\u001b[0m\u001b[0;34m\u001b[0m\u001b[0m\n\u001b[1;32m      3\u001b[0m \u001b[0;31m# data = jnp.array([[10.40]])\u001b[0m\u001b[0;34m\u001b[0m\u001b[0;34m\u001b[0m\u001b[0;34m\u001b[0m\u001b[0m\n\u001b[0;32m----> 4\u001b[0;31m \u001b[0moptimiser\u001b[0m\u001b[0;34m.\u001b[0m\u001b[0mfit\u001b[0m\u001b[0;34m(\u001b[0m\u001b[0mapprox_dist\u001b[0m\u001b[0;34m,\u001b[0m \u001b[0mloss\u001b[0m\u001b[0;34m,\u001b[0m \u001b[0mdata\u001b[0m\u001b[0;34m,\u001b[0m \u001b[0mprngkey\u001b[0m\u001b[0;34m,\u001b[0m \u001b[0mverbose\u001b[0m \u001b[0;34m=\u001b[0m \u001b[0;32mTrue\u001b[0m\u001b[0;34m,\u001b[0m \u001b[0mmax_iter\u001b[0m\u001b[0;34m=\u001b[0m\u001b[0;36m1000\u001b[0m\u001b[0;34m,\u001b[0m \u001b[0mnum_samples\u001b[0m\u001b[0;34m=\u001b[0m\u001b[0;36m1000\u001b[0m\u001b[0;34m)\u001b[0m\u001b[0;34m\u001b[0m\u001b[0;34m\u001b[0m\u001b[0m\n\u001b[0m",
      "\u001b[0;32m/usr/local/lib/python3.8/dist-packages/approx_post/optimisers.py\u001b[0m in \u001b[0;36mfit\u001b[0;34m(self, approx, loss_func, x, prngkey, num_samples, verbose, max_iter)\u001b[0m\n\u001b[1;32m     13\u001b[0m         \u001b[0;32mwhile\u001b[0m \u001b[0mself\u001b[0m\u001b[0;34m.\u001b[0m\u001b[0m_loop_flag\u001b[0m\u001b[0;34m:\u001b[0m\u001b[0;34m\u001b[0m\u001b[0;34m\u001b[0m\u001b[0m\n\u001b[1;32m     14\u001b[0m \u001b[0;34m\u001b[0m\u001b[0m\n\u001b[0;32m---> 15\u001b[0;31m             \u001b[0mloss\u001b[0m\u001b[0;34m,\u001b[0m \u001b[0mloss_del_params\u001b[0m \u001b[0;34m=\u001b[0m \u001b[0mloss_func\u001b[0m\u001b[0;34m.\u001b[0m\u001b[0meval\u001b[0m\u001b[0;34m(\u001b[0m\u001b[0mapprox\u001b[0m\u001b[0;34m,\u001b[0m \u001b[0mx\u001b[0m\u001b[0;34m,\u001b[0m \u001b[0mprngkey\u001b[0m\u001b[0;34m=\u001b[0m\u001b[0mprngkey\u001b[0m\u001b[0;34m,\u001b[0m \u001b[0mnum_samples\u001b[0m\u001b[0;34m=\u001b[0m\u001b[0mnum_samples\u001b[0m\u001b[0;34m)\u001b[0m\u001b[0;34m\u001b[0m\u001b[0;34m\u001b[0m\u001b[0m\n\u001b[0m\u001b[1;32m     16\u001b[0m \u001b[0;34m\u001b[0m\u001b[0m\n\u001b[1;32m     17\u001b[0m             \u001b[0mstep\u001b[0m \u001b[0;34m=\u001b[0m \u001b[0mself\u001b[0m\u001b[0;34m.\u001b[0m\u001b[0mstep\u001b[0m\u001b[0;34m(\u001b[0m\u001b[0mloss_del_params\u001b[0m\u001b[0;34m)\u001b[0m\u001b[0;34m\u001b[0m\u001b[0;34m\u001b[0m\u001b[0m\n",
      "\u001b[0;32m/usr/local/lib/python3.8/dist-packages/approx_post/losses.py\u001b[0m in \u001b[0;36meval\u001b[0;34m(self, approx, x, prngkey, num_samples)\u001b[0m\n\u001b[1;32m    112\u001b[0m         \u001b[0;32mif\u001b[0m \u001b[0mself\u001b[0m\u001b[0;34m.\u001b[0m\u001b[0mmethod\u001b[0m \u001b[0;34m==\u001b[0m \u001b[0;34m'elbo'\u001b[0m\u001b[0;34m:\u001b[0m\u001b[0;34m\u001b[0m\u001b[0;34m\u001b[0m\u001b[0m\n\u001b[1;32m    113\u001b[0m             \u001b[0;32mif\u001b[0m \u001b[0mself\u001b[0m\u001b[0;34m.\u001b[0m\u001b[0muse_reparameterisation\u001b[0m\u001b[0;34m:\u001b[0m\u001b[0;34m\u001b[0m\u001b[0;34m\u001b[0m\u001b[0m\n\u001b[0;32m--> 114\u001b[0;31m                 \u001b[0mloss\u001b[0m\u001b[0;34m,\u001b[0m \u001b[0mloss_del_phi\u001b[0m \u001b[0;34m=\u001b[0m \u001b[0mself\u001b[0m\u001b[0;34m.\u001b[0m\u001b[0m_eval_elbo_reparameterisation\u001b[0m\u001b[0;34m(\u001b[0m\u001b[0mapprox\u001b[0m\u001b[0;34m,\u001b[0m \u001b[0mphi\u001b[0m\u001b[0;34m,\u001b[0m \u001b[0mx\u001b[0m\u001b[0;34m,\u001b[0m \u001b[0mnum_samples\u001b[0m\u001b[0;34m,\u001b[0m \u001b[0mprngkey\u001b[0m\u001b[0;34m)\u001b[0m\u001b[0;34m\u001b[0m\u001b[0;34m\u001b[0m\u001b[0m\n\u001b[0m\u001b[1;32m    115\u001b[0m             \u001b[0;32melse\u001b[0m\u001b[0;34m:\u001b[0m\u001b[0;34m\u001b[0m\u001b[0;34m\u001b[0m\u001b[0m\n\u001b[1;32m    116\u001b[0m                 \u001b[0mloss\u001b[0m\u001b[0;34m,\u001b[0m \u001b[0mloss_del_phi\u001b[0m \u001b[0;34m=\u001b[0m \u001b[0mself\u001b[0m\u001b[0;34m.\u001b[0m\u001b[0m_eval_elbo_cv\u001b[0m\u001b[0;34m(\u001b[0m\u001b[0mapprox\u001b[0m\u001b[0;34m,\u001b[0m \u001b[0mphi\u001b[0m\u001b[0;34m,\u001b[0m \u001b[0mx\u001b[0m\u001b[0;34m,\u001b[0m \u001b[0mnum_samples\u001b[0m\u001b[0;34m,\u001b[0m \u001b[0mprngkey\u001b[0m\u001b[0;34m)\u001b[0m\u001b[0;34m\u001b[0m\u001b[0;34m\u001b[0m\u001b[0m\n",
      "\u001b[0;32m/usr/local/lib/python3.8/dist-packages/approx_post/losses.py\u001b[0m in \u001b[0;36m_eval_elbo_reparameterisation\u001b[0;34m(self, approx, phi, x, num_samples, prngkey)\u001b[0m\n\u001b[1;32m    143\u001b[0m \u001b[0;34m\u001b[0m\u001b[0m\n\u001b[1;32m    144\u001b[0m         \u001b[0mtransform_del_phi\u001b[0m \u001b[0;34m=\u001b[0m \u001b[0mapprox\u001b[0m\u001b[0;34m.\u001b[0m\u001b[0mtransform_del_2\u001b[0m\u001b[0;34m(\u001b[0m\u001b[0mepsilon\u001b[0m\u001b[0;34m,\u001b[0m \u001b[0mphi\u001b[0m\u001b[0;34m)\u001b[0m\u001b[0;34m\u001b[0m\u001b[0;34m\u001b[0m\u001b[0m\n\u001b[0;32m--> 145\u001b[0;31m         \u001b[0mjoint_del_phi\u001b[0m \u001b[0;34m=\u001b[0m \u001b[0mself\u001b[0m\u001b[0;34m.\u001b[0m\u001b[0m_compute_joint_del_phi_reparameterisation\u001b[0m\u001b[0;34m(\u001b[0m\u001b[0mx\u001b[0m\u001b[0;34m,\u001b[0m \u001b[0mtheta\u001b[0m\u001b[0;34m,\u001b[0m \u001b[0mtransform_del_phi\u001b[0m\u001b[0;34m)\u001b[0m\u001b[0;34m\u001b[0m\u001b[0;34m\u001b[0m\u001b[0m\n\u001b[0m\u001b[1;32m    146\u001b[0m         \u001b[0mapprox_del_phi\u001b[0m \u001b[0;34m=\u001b[0m \u001b[0mself\u001b[0m\u001b[0;34m.\u001b[0m\u001b[0m_compute_approx_del_phi_reparameterisation\u001b[0m\u001b[0;34m(\u001b[0m\u001b[0mapprox\u001b[0m\u001b[0;34m,\u001b[0m \u001b[0mphi\u001b[0m\u001b[0;34m,\u001b[0m \u001b[0mtheta\u001b[0m\u001b[0;34m,\u001b[0m \u001b[0mtransform_del_phi\u001b[0m\u001b[0;34m)\u001b[0m\u001b[0;34m\u001b[0m\u001b[0;34m\u001b[0m\u001b[0m\n\u001b[1;32m    147\u001b[0m         \u001b[0mloss_del_phi_samples\u001b[0m \u001b[0;34m=\u001b[0m \u001b[0mjoint_del_phi\u001b[0m \u001b[0;34m-\u001b[0m \u001b[0mapprox_del_phi\u001b[0m\u001b[0;34m\u001b[0m\u001b[0;34m\u001b[0m\u001b[0m\n",
      "\u001b[0;32m/usr/local/lib/python3.8/dist-packages/approx_post/losses.py\u001b[0m in \u001b[0;36m_compute_joint_del_phi_reparameterisation\u001b[0;34m(self, x, theta, transform_del_phi)\u001b[0m\n\u001b[1;32m     82\u001b[0m \u001b[0;34m\u001b[0m\u001b[0m\n\u001b[1;32m     83\u001b[0m     \u001b[0;32mdef\u001b[0m \u001b[0m_compute_joint_del_phi_reparameterisation\u001b[0m\u001b[0;34m(\u001b[0m\u001b[0mself\u001b[0m\u001b[0;34m,\u001b[0m \u001b[0mx\u001b[0m\u001b[0;34m,\u001b[0m \u001b[0mtheta\u001b[0m\u001b[0;34m,\u001b[0m \u001b[0mtransform_del_phi\u001b[0m\u001b[0;34m)\u001b[0m\u001b[0;34m:\u001b[0m\u001b[0;34m\u001b[0m\u001b[0;34m\u001b[0m\u001b[0m\n\u001b[0;32m---> 84\u001b[0;31m         \u001b[0mjoint_del_1\u001b[0m \u001b[0;34m=\u001b[0m \u001b[0mself\u001b[0m\u001b[0;34m.\u001b[0m\u001b[0mjoint\u001b[0m\u001b[0;34m.\u001b[0m\u001b[0mlogpdf_del_1\u001b[0m\u001b[0;34m(\u001b[0m\u001b[0mtheta\u001b[0m\u001b[0;34m,\u001b[0m \u001b[0mx\u001b[0m\u001b[0;34m)\u001b[0m\u001b[0;34m\u001b[0m\u001b[0;34m\u001b[0m\u001b[0m\n\u001b[0m\u001b[1;32m     85\u001b[0m         \u001b[0;32mreturn\u001b[0m \u001b[0mnp\u001b[0m\u001b[0;34m.\u001b[0m\u001b[0meinsum\u001b[0m\u001b[0;34m(\u001b[0m\u001b[0;34m\"abj,abj...->ab...\"\u001b[0m\u001b[0;34m,\u001b[0m \u001b[0mjoint_del_1\u001b[0m\u001b[0;34m,\u001b[0m \u001b[0mtransform_del_phi\u001b[0m\u001b[0;34m)\u001b[0m\u001b[0;34m\u001b[0m\u001b[0;34m\u001b[0m\u001b[0m\n\u001b[1;32m     86\u001b[0m \u001b[0;34m\u001b[0m\u001b[0m\n",
      "\u001b[0;32m/usr/local/lib/python3.8/dist-packages/approx_post/distributions/joint.py\u001b[0m in \u001b[0;36mlogpdf_del_1\u001b[0;34m(self, theta, x)\u001b[0m\n\u001b[1;32m     17\u001b[0m     \u001b[0;32mdef\u001b[0m \u001b[0mlogpdf_del_1\u001b[0m\u001b[0;34m(\u001b[0m\u001b[0mself\u001b[0m\u001b[0;34m,\u001b[0m \u001b[0mtheta\u001b[0m\u001b[0;34m,\u001b[0m \u001b[0mx\u001b[0m\u001b[0;34m)\u001b[0m\u001b[0;34m:\u001b[0m\u001b[0;34m\u001b[0m\u001b[0;34m\u001b[0m\u001b[0m\n\u001b[1;32m     18\u001b[0m         \u001b[0mnum_batch\u001b[0m\u001b[0;34m,\u001b[0m \u001b[0mnum_samples\u001b[0m \u001b[0;34m=\u001b[0m \u001b[0mtheta\u001b[0m\u001b[0;34m.\u001b[0m\u001b[0mshape\u001b[0m\u001b[0;34m[\u001b[0m\u001b[0;36m0\u001b[0m\u001b[0;34m:\u001b[0m\u001b[0;36m2\u001b[0m\u001b[0;34m]\u001b[0m\u001b[0;34m\u001b[0m\u001b[0;34m\u001b[0m\u001b[0m\n\u001b[0;32m---> 19\u001b[0;31m         \u001b[0;32mreturn\u001b[0m \u001b[0mself\u001b[0m\u001b[0;34m.\u001b[0m\u001b[0m_func_dict\u001b[0m\u001b[0;34m[\u001b[0m\u001b[0;34m'logpdf_del_1'\u001b[0m\u001b[0;34m]\u001b[0m\u001b[0;34m(\u001b[0m\u001b[0mtheta\u001b[0m\u001b[0;34m,\u001b[0m \u001b[0mx\u001b[0m\u001b[0;34m)\u001b[0m\u001b[0;34m.\u001b[0m\u001b[0mreshape\u001b[0m\u001b[0;34m(\u001b[0m\u001b[0mnum_batch\u001b[0m\u001b[0;34m,\u001b[0m \u001b[0mnum_samples\u001b[0m\u001b[0;34m,\u001b[0m \u001b[0;34m-\u001b[0m\u001b[0;36m1\u001b[0m\u001b[0;34m)\u001b[0m\u001b[0;34m\u001b[0m\u001b[0;34m\u001b[0m\u001b[0m\n\u001b[0m\u001b[1;32m     20\u001b[0m \u001b[0;34m\u001b[0m\u001b[0m\n\u001b[1;32m     21\u001b[0m \u001b[0;32mclass\u001b[0m \u001b[0mModelPlusGaussian\u001b[0m\u001b[0;34m(\u001b[0m\u001b[0mJointDistribution\u001b[0m\u001b[0;34m)\u001b[0m\u001b[0;34m:\u001b[0m\u001b[0;34m\u001b[0m\u001b[0;34m\u001b[0m\u001b[0m\n",
      "\u001b[0;32m/usr/local/lib/python3.8/dist-packages/approx_post/distributions/joint.py\u001b[0m in \u001b[0;36mlogpdf_del_1\u001b[0;34m(theta, x)\u001b[0m\n\u001b[1;32m     80\u001b[0m             \u001b[0mprior_del_1\u001b[0m \u001b[0;34m=\u001b[0m \u001b[0mmvn_del_theta_vmap\u001b[0m\u001b[0;34m(\u001b[0m\u001b[0mtheta\u001b[0m\u001b[0;34m,\u001b[0m \u001b[0mself\u001b[0m\u001b[0;34m.\u001b[0m\u001b[0mprior_mean\u001b[0m\u001b[0;34m,\u001b[0m \u001b[0mself\u001b[0m\u001b[0;34m.\u001b[0m\u001b[0mprior_cov\u001b[0m\u001b[0;34m)\u001b[0m \u001b[0;31m# shape = (num_batch, num_samples, theta_dim)\u001b[0m\u001b[0;34m\u001b[0m\u001b[0;34m\u001b[0m\u001b[0m\n\u001b[1;32m     81\u001b[0m             \u001b[0mx_pred\u001b[0m \u001b[0;34m=\u001b[0m \u001b[0mself\u001b[0m\u001b[0;34m.\u001b[0m\u001b[0m_model_funcs\u001b[0m\u001b[0;34m[\u001b[0m\u001b[0;34m'model'\u001b[0m\u001b[0;34m]\u001b[0m\u001b[0;34m(\u001b[0m\u001b[0mtheta\u001b[0m\u001b[0;34m)\u001b[0m \u001b[0;31m# shape = (num_batch, num_samples, x_dim)\u001b[0m\u001b[0;34m\u001b[0m\u001b[0;34m\u001b[0m\u001b[0m\n\u001b[0;32m---> 82\u001b[0;31m             \u001b[0mlike_del_mean\u001b[0m \u001b[0;34m=\u001b[0m \u001b[0mmvn_del_mean_vmap\u001b[0m\u001b[0;34m(\u001b[0m\u001b[0mx\u001b[0m\u001b[0;34m,\u001b[0m \u001b[0mx_pred\u001b[0m\u001b[0;34m,\u001b[0m \u001b[0mself\u001b[0m\u001b[0;34m.\u001b[0m\u001b[0mnoise_cov\u001b[0m\u001b[0;34m)\u001b[0m \u001b[0;31m# shape = (num_batch, num_samples, theta_dim)\u001b[0m\u001b[0;34m\u001b[0m\u001b[0;34m\u001b[0m\u001b[0m\n\u001b[0m\u001b[1;32m     83\u001b[0m             \u001b[0mmean_del_theta\u001b[0m \u001b[0;34m=\u001b[0m \u001b[0mself\u001b[0m\u001b[0;34m.\u001b[0m\u001b[0m_model_funcs\u001b[0m\u001b[0;34m[\u001b[0m\u001b[0;34m'model_grad'\u001b[0m\u001b[0;34m]\u001b[0m\u001b[0;34m(\u001b[0m\u001b[0mtheta\u001b[0m\u001b[0;34m)\u001b[0m \u001b[0;31m# shape = (num_batch, num_samples, x_dim, theta_dim)\u001b[0m\u001b[0;34m\u001b[0m\u001b[0;34m\u001b[0m\u001b[0m\n\u001b[1;32m     84\u001b[0m             \u001b[0mlike_del_1\u001b[0m \u001b[0;34m=\u001b[0m \u001b[0mjnp\u001b[0m\u001b[0;34m.\u001b[0m\u001b[0meinsum\u001b[0m\u001b[0;34m(\u001b[0m\u001b[0;34m'abji,abj->abi'\u001b[0m\u001b[0;34m,\u001b[0m \u001b[0mmean_del_theta\u001b[0m\u001b[0;34m,\u001b[0m \u001b[0mlike_del_mean\u001b[0m\u001b[0;34m)\u001b[0m \u001b[0;31m# shape = (num_batch, num_samples, theta_dim)\u001b[0m\u001b[0;34m\u001b[0m\u001b[0;34m\u001b[0m\u001b[0m\n",
      "    \u001b[0;31m[... skipping hidden 1 frame]\u001b[0m\n",
      "\u001b[0;32m~/.local/lib/python3.8/site-packages/jax/_src/api.py\u001b[0m in \u001b[0;36mbatched_fun\u001b[0;34m(*args, **kwargs)\u001b[0m\n\u001b[1;32m   1450\u001b[0m     \u001b[0min_axes_flat\u001b[0m \u001b[0;34m=\u001b[0m \u001b[0mflatten_axes\u001b[0m\u001b[0;34m(\u001b[0m\u001b[0;34m\"vmap in_axes\"\u001b[0m\u001b[0;34m,\u001b[0m \u001b[0min_tree\u001b[0m\u001b[0;34m,\u001b[0m \u001b[0;34m(\u001b[0m\u001b[0min_axes\u001b[0m\u001b[0;34m,\u001b[0m \u001b[0;36m0\u001b[0m\u001b[0;34m)\u001b[0m\u001b[0;34m,\u001b[0m \u001b[0mkws\u001b[0m\u001b[0;34m=\u001b[0m\u001b[0;32mTrue\u001b[0m\u001b[0;34m)\u001b[0m\u001b[0;34m\u001b[0m\u001b[0;34m\u001b[0m\u001b[0m\n\u001b[1;32m   1451\u001b[0m     \u001b[0maxis_size\u001b[0m \u001b[0;34m=\u001b[0m \u001b[0m_mapped_axis_size\u001b[0m\u001b[0;34m(\u001b[0m\u001b[0min_tree\u001b[0m\u001b[0;34m,\u001b[0m \u001b[0margs_flat\u001b[0m\u001b[0;34m,\u001b[0m \u001b[0min_axes_flat\u001b[0m\u001b[0;34m,\u001b[0m \u001b[0;34m\"vmap\"\u001b[0m\u001b[0;34m,\u001b[0m \u001b[0mkws\u001b[0m\u001b[0;34m=\u001b[0m\u001b[0;32mTrue\u001b[0m\u001b[0;34m)\u001b[0m\u001b[0;34m\u001b[0m\u001b[0;34m\u001b[0m\u001b[0m\n\u001b[0;32m-> 1452\u001b[0;31m     out_flat = batching.batch(\n\u001b[0m\u001b[1;32m   1453\u001b[0m         \u001b[0mflat_fun\u001b[0m\u001b[0;34m,\u001b[0m \u001b[0maxis_name\u001b[0m\u001b[0;34m,\u001b[0m \u001b[0maxis_size\u001b[0m\u001b[0;34m,\u001b[0m \u001b[0min_axes_flat\u001b[0m\u001b[0;34m,\u001b[0m\u001b[0;34m\u001b[0m\u001b[0;34m\u001b[0m\u001b[0m\n\u001b[1;32m   1454\u001b[0m         \u001b[0;32mlambda\u001b[0m\u001b[0;34m:\u001b[0m \u001b[0mflatten_axes\u001b[0m\u001b[0;34m(\u001b[0m\u001b[0;34m\"vmap out_axes\"\u001b[0m\u001b[0;34m,\u001b[0m \u001b[0mout_tree\u001b[0m\u001b[0;34m(\u001b[0m\u001b[0;34m)\u001b[0m\u001b[0;34m,\u001b[0m \u001b[0mout_axes\u001b[0m\u001b[0;34m)\u001b[0m\u001b[0;34m\u001b[0m\u001b[0;34m\u001b[0m\u001b[0m\n",
      "\u001b[0;32m~/.local/lib/python3.8/site-packages/jax/linear_util.py\u001b[0m in \u001b[0;36mcall_wrapped\u001b[0;34m(self, *args, **kwargs)\u001b[0m\n\u001b[1;32m    164\u001b[0m \u001b[0;34m\u001b[0m\u001b[0m\n\u001b[1;32m    165\u001b[0m     \u001b[0;32mtry\u001b[0m\u001b[0;34m:\u001b[0m\u001b[0;34m\u001b[0m\u001b[0;34m\u001b[0m\u001b[0m\n\u001b[0;32m--> 166\u001b[0;31m       \u001b[0mans\u001b[0m \u001b[0;34m=\u001b[0m \u001b[0mself\u001b[0m\u001b[0;34m.\u001b[0m\u001b[0mf\u001b[0m\u001b[0;34m(\u001b[0m\u001b[0;34m*\u001b[0m\u001b[0margs\u001b[0m\u001b[0;34m,\u001b[0m \u001b[0;34m**\u001b[0m\u001b[0mdict\u001b[0m\u001b[0;34m(\u001b[0m\u001b[0mself\u001b[0m\u001b[0;34m.\u001b[0m\u001b[0mparams\u001b[0m\u001b[0;34m,\u001b[0m \u001b[0;34m**\u001b[0m\u001b[0mkwargs\u001b[0m\u001b[0;34m)\u001b[0m\u001b[0;34m)\u001b[0m\u001b[0;34m\u001b[0m\u001b[0;34m\u001b[0m\u001b[0m\n\u001b[0m\u001b[1;32m    167\u001b[0m     \u001b[0;32mexcept\u001b[0m\u001b[0;34m:\u001b[0m\u001b[0;34m\u001b[0m\u001b[0;34m\u001b[0m\u001b[0m\n\u001b[1;32m    168\u001b[0m       \u001b[0;31m# Some transformations yield from inside context managers, so we have to\u001b[0m\u001b[0;34m\u001b[0m\u001b[0;34m\u001b[0m\u001b[0;34m\u001b[0m\u001b[0m\n",
      "    \u001b[0;31m[... skipping hidden 1 frame]\u001b[0m\n",
      "\u001b[0;32m~/.local/lib/python3.8/site-packages/jax/_src/api.py\u001b[0m in \u001b[0;36mbatched_fun\u001b[0;34m(*args, **kwargs)\u001b[0m\n\u001b[1;32m   1450\u001b[0m     \u001b[0min_axes_flat\u001b[0m \u001b[0;34m=\u001b[0m \u001b[0mflatten_axes\u001b[0m\u001b[0;34m(\u001b[0m\u001b[0;34m\"vmap in_axes\"\u001b[0m\u001b[0;34m,\u001b[0m \u001b[0min_tree\u001b[0m\u001b[0;34m,\u001b[0m \u001b[0;34m(\u001b[0m\u001b[0min_axes\u001b[0m\u001b[0;34m,\u001b[0m \u001b[0;36m0\u001b[0m\u001b[0;34m)\u001b[0m\u001b[0;34m,\u001b[0m \u001b[0mkws\u001b[0m\u001b[0;34m=\u001b[0m\u001b[0;32mTrue\u001b[0m\u001b[0;34m)\u001b[0m\u001b[0;34m\u001b[0m\u001b[0;34m\u001b[0m\u001b[0m\n\u001b[1;32m   1451\u001b[0m     \u001b[0maxis_size\u001b[0m \u001b[0;34m=\u001b[0m \u001b[0m_mapped_axis_size\u001b[0m\u001b[0;34m(\u001b[0m\u001b[0min_tree\u001b[0m\u001b[0;34m,\u001b[0m \u001b[0margs_flat\u001b[0m\u001b[0;34m,\u001b[0m \u001b[0min_axes_flat\u001b[0m\u001b[0;34m,\u001b[0m \u001b[0;34m\"vmap\"\u001b[0m\u001b[0;34m,\u001b[0m \u001b[0mkws\u001b[0m\u001b[0;34m=\u001b[0m\u001b[0;32mTrue\u001b[0m\u001b[0;34m)\u001b[0m\u001b[0;34m\u001b[0m\u001b[0;34m\u001b[0m\u001b[0m\n\u001b[0;32m-> 1452\u001b[0;31m     out_flat = batching.batch(\n\u001b[0m\u001b[1;32m   1453\u001b[0m         \u001b[0mflat_fun\u001b[0m\u001b[0;34m,\u001b[0m \u001b[0maxis_name\u001b[0m\u001b[0;34m,\u001b[0m \u001b[0maxis_size\u001b[0m\u001b[0;34m,\u001b[0m \u001b[0min_axes_flat\u001b[0m\u001b[0;34m,\u001b[0m\u001b[0;34m\u001b[0m\u001b[0;34m\u001b[0m\u001b[0m\n\u001b[1;32m   1454\u001b[0m         \u001b[0;32mlambda\u001b[0m\u001b[0;34m:\u001b[0m \u001b[0mflatten_axes\u001b[0m\u001b[0;34m(\u001b[0m\u001b[0;34m\"vmap out_axes\"\u001b[0m\u001b[0;34m,\u001b[0m \u001b[0mout_tree\u001b[0m\u001b[0;34m(\u001b[0m\u001b[0;34m)\u001b[0m\u001b[0;34m,\u001b[0m \u001b[0mout_axes\u001b[0m\u001b[0;34m)\u001b[0m\u001b[0;34m\u001b[0m\u001b[0;34m\u001b[0m\u001b[0m\n",
      "\u001b[0;32m~/.local/lib/python3.8/site-packages/jax/linear_util.py\u001b[0m in \u001b[0;36mcall_wrapped\u001b[0;34m(self, *args, **kwargs)\u001b[0m\n\u001b[1;32m    164\u001b[0m \u001b[0;34m\u001b[0m\u001b[0m\n\u001b[1;32m    165\u001b[0m     \u001b[0;32mtry\u001b[0m\u001b[0;34m:\u001b[0m\u001b[0;34m\u001b[0m\u001b[0;34m\u001b[0m\u001b[0m\n\u001b[0;32m--> 166\u001b[0;31m       \u001b[0mans\u001b[0m \u001b[0;34m=\u001b[0m \u001b[0mself\u001b[0m\u001b[0;34m.\u001b[0m\u001b[0mf\u001b[0m\u001b[0;34m(\u001b[0m\u001b[0;34m*\u001b[0m\u001b[0margs\u001b[0m\u001b[0;34m,\u001b[0m \u001b[0;34m**\u001b[0m\u001b[0mdict\u001b[0m\u001b[0;34m(\u001b[0m\u001b[0mself\u001b[0m\u001b[0;34m.\u001b[0m\u001b[0mparams\u001b[0m\u001b[0;34m,\u001b[0m \u001b[0;34m**\u001b[0m\u001b[0mkwargs\u001b[0m\u001b[0;34m)\u001b[0m\u001b[0;34m)\u001b[0m\u001b[0;34m\u001b[0m\u001b[0;34m\u001b[0m\u001b[0m\n\u001b[0m\u001b[1;32m    167\u001b[0m     \u001b[0;32mexcept\u001b[0m\u001b[0;34m:\u001b[0m\u001b[0;34m\u001b[0m\u001b[0;34m\u001b[0m\u001b[0m\n\u001b[1;32m    168\u001b[0m       \u001b[0;31m# Some transformations yield from inside context managers, so we have to\u001b[0m\u001b[0;34m\u001b[0m\u001b[0;34m\u001b[0m\u001b[0;34m\u001b[0m\u001b[0m\n",
      "\u001b[0;32m~/.local/lib/python3.8/site-packages/jax/_src/api.py\u001b[0m in \u001b[0;36mjacfun\u001b[0;34m(*args, **kwargs)\u001b[0m\n\u001b[1;32m   1096\u001b[0m     \u001b[0mtree_map\u001b[0m\u001b[0;34m(\u001b[0m\u001b[0mpartial\u001b[0m\u001b[0;34m(\u001b[0m\u001b[0m_check_input_dtype_jacfwd\u001b[0m\u001b[0;34m,\u001b[0m \u001b[0mholomorphic\u001b[0m\u001b[0;34m)\u001b[0m\u001b[0;34m,\u001b[0m \u001b[0mdyn_args\u001b[0m\u001b[0;34m)\u001b[0m\u001b[0;34m\u001b[0m\u001b[0;34m\u001b[0m\u001b[0m\n\u001b[1;32m   1097\u001b[0m     \u001b[0mpushfwd\u001b[0m \u001b[0;34m=\u001b[0m \u001b[0mpartial\u001b[0m\u001b[0;34m(\u001b[0m\u001b[0m_jvp\u001b[0m\u001b[0;34m,\u001b[0m \u001b[0mf_partial\u001b[0m\u001b[0;34m,\u001b[0m \u001b[0mdyn_args\u001b[0m\u001b[0;34m)\u001b[0m\u001b[0;34m\u001b[0m\u001b[0;34m\u001b[0m\u001b[0m\n\u001b[0;32m-> 1098\u001b[0;31m     \u001b[0my\u001b[0m\u001b[0;34m,\u001b[0m \u001b[0mjac\u001b[0m \u001b[0;34m=\u001b[0m \u001b[0mvmap\u001b[0m\u001b[0;34m(\u001b[0m\u001b[0mpushfwd\u001b[0m\u001b[0;34m,\u001b[0m \u001b[0mout_axes\u001b[0m\u001b[0;34m=\u001b[0m\u001b[0;34m(\u001b[0m\u001b[0;32mNone\u001b[0m\u001b[0;34m,\u001b[0m \u001b[0;34m-\u001b[0m\u001b[0;36m1\u001b[0m\u001b[0;34m)\u001b[0m\u001b[0;34m)\u001b[0m\u001b[0;34m(\u001b[0m\u001b[0m_std_basis\u001b[0m\u001b[0;34m(\u001b[0m\u001b[0mdyn_args\u001b[0m\u001b[0;34m)\u001b[0m\u001b[0;34m)\u001b[0m\u001b[0;34m\u001b[0m\u001b[0;34m\u001b[0m\u001b[0m\n\u001b[0m\u001b[1;32m   1099\u001b[0m     \u001b[0mtree_map\u001b[0m\u001b[0;34m(\u001b[0m\u001b[0mpartial\u001b[0m\u001b[0;34m(\u001b[0m\u001b[0m_check_output_dtype_jacfwd\u001b[0m\u001b[0;34m,\u001b[0m \u001b[0mholomorphic\u001b[0m\u001b[0;34m)\u001b[0m\u001b[0;34m,\u001b[0m \u001b[0my\u001b[0m\u001b[0;34m)\u001b[0m\u001b[0;34m\u001b[0m\u001b[0;34m\u001b[0m\u001b[0m\n\u001b[1;32m   1100\u001b[0m     \u001b[0mexample_args\u001b[0m \u001b[0;34m=\u001b[0m \u001b[0mdyn_args\u001b[0m\u001b[0;34m[\u001b[0m\u001b[0;36m0\u001b[0m\u001b[0;34m]\u001b[0m \u001b[0;32mif\u001b[0m \u001b[0misinstance\u001b[0m\u001b[0;34m(\u001b[0m\u001b[0margnums\u001b[0m\u001b[0;34m,\u001b[0m \u001b[0mint\u001b[0m\u001b[0;34m)\u001b[0m \u001b[0;32melse\u001b[0m \u001b[0mdyn_args\u001b[0m\u001b[0;34m\u001b[0m\u001b[0;34m\u001b[0m\u001b[0m\n",
      "    \u001b[0;31m[... skipping hidden 1 frame]\u001b[0m\n",
      "\u001b[0;32m~/.local/lib/python3.8/site-packages/jax/_src/api.py\u001b[0m in \u001b[0;36mbatched_fun\u001b[0;34m(*args, **kwargs)\u001b[0m\n\u001b[1;32m   1450\u001b[0m     \u001b[0min_axes_flat\u001b[0m \u001b[0;34m=\u001b[0m \u001b[0mflatten_axes\u001b[0m\u001b[0;34m(\u001b[0m\u001b[0;34m\"vmap in_axes\"\u001b[0m\u001b[0;34m,\u001b[0m \u001b[0min_tree\u001b[0m\u001b[0;34m,\u001b[0m \u001b[0;34m(\u001b[0m\u001b[0min_axes\u001b[0m\u001b[0;34m,\u001b[0m \u001b[0;36m0\u001b[0m\u001b[0;34m)\u001b[0m\u001b[0;34m,\u001b[0m \u001b[0mkws\u001b[0m\u001b[0;34m=\u001b[0m\u001b[0;32mTrue\u001b[0m\u001b[0;34m)\u001b[0m\u001b[0;34m\u001b[0m\u001b[0;34m\u001b[0m\u001b[0m\n\u001b[1;32m   1451\u001b[0m     \u001b[0maxis_size\u001b[0m \u001b[0;34m=\u001b[0m \u001b[0m_mapped_axis_size\u001b[0m\u001b[0;34m(\u001b[0m\u001b[0min_tree\u001b[0m\u001b[0;34m,\u001b[0m \u001b[0margs_flat\u001b[0m\u001b[0;34m,\u001b[0m \u001b[0min_axes_flat\u001b[0m\u001b[0;34m,\u001b[0m \u001b[0;34m\"vmap\"\u001b[0m\u001b[0;34m,\u001b[0m \u001b[0mkws\u001b[0m\u001b[0;34m=\u001b[0m\u001b[0;32mTrue\u001b[0m\u001b[0;34m)\u001b[0m\u001b[0;34m\u001b[0m\u001b[0;34m\u001b[0m\u001b[0m\n\u001b[0;32m-> 1452\u001b[0;31m     out_flat = batching.batch(\n\u001b[0m\u001b[1;32m   1453\u001b[0m         \u001b[0mflat_fun\u001b[0m\u001b[0;34m,\u001b[0m \u001b[0maxis_name\u001b[0m\u001b[0;34m,\u001b[0m \u001b[0maxis_size\u001b[0m\u001b[0;34m,\u001b[0m \u001b[0min_axes_flat\u001b[0m\u001b[0;34m,\u001b[0m\u001b[0;34m\u001b[0m\u001b[0;34m\u001b[0m\u001b[0m\n\u001b[1;32m   1454\u001b[0m         \u001b[0;32mlambda\u001b[0m\u001b[0;34m:\u001b[0m \u001b[0mflatten_axes\u001b[0m\u001b[0;34m(\u001b[0m\u001b[0;34m\"vmap out_axes\"\u001b[0m\u001b[0;34m,\u001b[0m \u001b[0mout_tree\u001b[0m\u001b[0;34m(\u001b[0m\u001b[0;34m)\u001b[0m\u001b[0;34m,\u001b[0m \u001b[0mout_axes\u001b[0m\u001b[0;34m)\u001b[0m\u001b[0;34m\u001b[0m\u001b[0;34m\u001b[0m\u001b[0m\n",
      "\u001b[0;32m~/.local/lib/python3.8/site-packages/jax/linear_util.py\u001b[0m in \u001b[0;36mcall_wrapped\u001b[0;34m(self, *args, **kwargs)\u001b[0m\n\u001b[1;32m    164\u001b[0m \u001b[0;34m\u001b[0m\u001b[0m\n\u001b[1;32m    165\u001b[0m     \u001b[0;32mtry\u001b[0m\u001b[0;34m:\u001b[0m\u001b[0;34m\u001b[0m\u001b[0;34m\u001b[0m\u001b[0m\n\u001b[0;32m--> 166\u001b[0;31m       \u001b[0mans\u001b[0m \u001b[0;34m=\u001b[0m \u001b[0mself\u001b[0m\u001b[0;34m.\u001b[0m\u001b[0mf\u001b[0m\u001b[0;34m(\u001b[0m\u001b[0;34m*\u001b[0m\u001b[0margs\u001b[0m\u001b[0;34m,\u001b[0m \u001b[0;34m**\u001b[0m\u001b[0mdict\u001b[0m\u001b[0;34m(\u001b[0m\u001b[0mself\u001b[0m\u001b[0;34m.\u001b[0m\u001b[0mparams\u001b[0m\u001b[0;34m,\u001b[0m \u001b[0;34m**\u001b[0m\u001b[0mkwargs\u001b[0m\u001b[0;34m)\u001b[0m\u001b[0;34m)\u001b[0m\u001b[0;34m\u001b[0m\u001b[0;34m\u001b[0m\u001b[0m\n\u001b[0m\u001b[1;32m    167\u001b[0m     \u001b[0;32mexcept\u001b[0m\u001b[0;34m:\u001b[0m\u001b[0;34m\u001b[0m\u001b[0;34m\u001b[0m\u001b[0m\n\u001b[1;32m    168\u001b[0m       \u001b[0;31m# Some transformations yield from inside context managers, so we have to\u001b[0m\u001b[0;34m\u001b[0m\u001b[0;34m\u001b[0m\u001b[0;34m\u001b[0m\u001b[0m\n",
      "\u001b[0;32m~/.local/lib/python3.8/site-packages/jax/_src/api.py\u001b[0m in \u001b[0;36m_jvp\u001b[0;34m(fun, primals, tangents)\u001b[0m\n\u001b[1;32m   2106\u001b[0m \u001b[0;34m\u001b[0m\u001b[0m\n\u001b[1;32m   2107\u001b[0m   \u001b[0mflat_fun\u001b[0m\u001b[0;34m,\u001b[0m \u001b[0mout_tree\u001b[0m \u001b[0;34m=\u001b[0m \u001b[0mflatten_fun_nokwargs\u001b[0m\u001b[0;34m(\u001b[0m\u001b[0mfun\u001b[0m\u001b[0;34m,\u001b[0m \u001b[0mtree_def\u001b[0m\u001b[0;34m)\u001b[0m\u001b[0;34m\u001b[0m\u001b[0;34m\u001b[0m\u001b[0m\n\u001b[0;32m-> 2108\u001b[0;31m   \u001b[0mout_primals\u001b[0m\u001b[0;34m,\u001b[0m \u001b[0mout_tangents\u001b[0m \u001b[0;34m=\u001b[0m \u001b[0mad\u001b[0m\u001b[0;34m.\u001b[0m\u001b[0mjvp\u001b[0m\u001b[0;34m(\u001b[0m\u001b[0mflat_fun\u001b[0m\u001b[0;34m)\u001b[0m\u001b[0;34m.\u001b[0m\u001b[0mcall_wrapped\u001b[0m\u001b[0;34m(\u001b[0m\u001b[0mps_flat\u001b[0m\u001b[0;34m,\u001b[0m \u001b[0mts_flat\u001b[0m\u001b[0;34m)\u001b[0m\u001b[0;34m\u001b[0m\u001b[0;34m\u001b[0m\u001b[0m\n\u001b[0m\u001b[1;32m   2109\u001b[0m   return (tree_unflatten(out_tree(), out_primals),\n\u001b[1;32m   2110\u001b[0m           tree_unflatten(out_tree(), out_tangents))\n",
      "\u001b[0;32m~/.local/lib/python3.8/site-packages/jax/linear_util.py\u001b[0m in \u001b[0;36mcall_wrapped\u001b[0;34m(self, *args, **kwargs)\u001b[0m\n\u001b[1;32m    164\u001b[0m \u001b[0;34m\u001b[0m\u001b[0m\n\u001b[1;32m    165\u001b[0m     \u001b[0;32mtry\u001b[0m\u001b[0;34m:\u001b[0m\u001b[0;34m\u001b[0m\u001b[0;34m\u001b[0m\u001b[0m\n\u001b[0;32m--> 166\u001b[0;31m       \u001b[0mans\u001b[0m \u001b[0;34m=\u001b[0m \u001b[0mself\u001b[0m\u001b[0;34m.\u001b[0m\u001b[0mf\u001b[0m\u001b[0;34m(\u001b[0m\u001b[0;34m*\u001b[0m\u001b[0margs\u001b[0m\u001b[0;34m,\u001b[0m \u001b[0;34m**\u001b[0m\u001b[0mdict\u001b[0m\u001b[0;34m(\u001b[0m\u001b[0mself\u001b[0m\u001b[0;34m.\u001b[0m\u001b[0mparams\u001b[0m\u001b[0;34m,\u001b[0m \u001b[0;34m**\u001b[0m\u001b[0mkwargs\u001b[0m\u001b[0;34m)\u001b[0m\u001b[0;34m)\u001b[0m\u001b[0;34m\u001b[0m\u001b[0;34m\u001b[0m\u001b[0m\n\u001b[0m\u001b[1;32m    167\u001b[0m     \u001b[0;32mexcept\u001b[0m\u001b[0;34m:\u001b[0m\u001b[0;34m\u001b[0m\u001b[0;34m\u001b[0m\u001b[0m\n\u001b[1;32m    168\u001b[0m       \u001b[0;31m# Some transformations yield from inside context managers, so we have to\u001b[0m\u001b[0;34m\u001b[0m\u001b[0;34m\u001b[0m\u001b[0;34m\u001b[0m\u001b[0m\n",
      "\u001b[0;32m~/.local/lib/python3.8/site-packages/jax/_src/scipy/stats/multivariate_normal.py\u001b[0m in \u001b[0;36mlogpdf\u001b[0;34m(x, mean, cov, allow_singular)\u001b[0m\n\u001b[1;32m     44\u001b[0m         \u001b[0;32mraise\u001b[0m \u001b[0mValueError\u001b[0m\u001b[0;34m(\u001b[0m\u001b[0;34m\"multivariate_normal.logpdf got incompatible shapes\"\u001b[0m\u001b[0;34m)\u001b[0m\u001b[0;34m\u001b[0m\u001b[0;34m\u001b[0m\u001b[0m\n\u001b[1;32m     45\u001b[0m       \u001b[0mL\u001b[0m \u001b[0;34m=\u001b[0m \u001b[0mlax\u001b[0m\u001b[0;34m.\u001b[0m\u001b[0mlinalg\u001b[0m\u001b[0;34m.\u001b[0m\u001b[0mcholesky\u001b[0m\u001b[0;34m(\u001b[0m\u001b[0mcov\u001b[0m\u001b[0;34m)\u001b[0m\u001b[0;34m\u001b[0m\u001b[0;34m\u001b[0m\u001b[0m\n\u001b[0;32m---> 46\u001b[0;31m       y = jnp.vectorize(\n\u001b[0m\u001b[1;32m     47\u001b[0m         \u001b[0mpartial\u001b[0m\u001b[0;34m(\u001b[0m\u001b[0mlax\u001b[0m\u001b[0;34m.\u001b[0m\u001b[0mlinalg\u001b[0m\u001b[0;34m.\u001b[0m\u001b[0mtriangular_solve\u001b[0m\u001b[0;34m,\u001b[0m \u001b[0mlower\u001b[0m\u001b[0;34m=\u001b[0m\u001b[0;32mTrue\u001b[0m\u001b[0;34m,\u001b[0m \u001b[0mtranspose_a\u001b[0m\u001b[0;34m=\u001b[0m\u001b[0;32mTrue\u001b[0m\u001b[0;34m)\u001b[0m\u001b[0;34m,\u001b[0m\u001b[0;34m\u001b[0m\u001b[0;34m\u001b[0m\u001b[0m\n\u001b[1;32m     48\u001b[0m         \u001b[0msignature\u001b[0m\u001b[0;34m=\u001b[0m\u001b[0;34m\"(n,n),(n)->(n)\"\u001b[0m\u001b[0;34m\u001b[0m\u001b[0;34m\u001b[0m\u001b[0m\n",
      "\u001b[0;32m~/.local/lib/python3.8/site-packages/jax/_src/numpy/vectorize.py\u001b[0m in \u001b[0;36mwrapped\u001b[0;34m(*args)\u001b[0m\n\u001b[1;32m    308\u001b[0m       \u001b[0mvmap_counts\u001b[0m \u001b[0;34m=\u001b[0m \u001b[0;34m[\u001b[0m\u001b[0mmax\u001b[0m\u001b[0;34m(\u001b[0m\u001b[0mc\u001b[0m \u001b[0;34m-\u001b[0m \u001b[0;36m1\u001b[0m\u001b[0;34m,\u001b[0m \u001b[0;36m0\u001b[0m\u001b[0;34m)\u001b[0m \u001b[0;32mfor\u001b[0m \u001b[0mc\u001b[0m \u001b[0;32min\u001b[0m \u001b[0mvmap_counts\u001b[0m\u001b[0;34m]\u001b[0m\u001b[0;34m\u001b[0m\u001b[0;34m\u001b[0m\u001b[0m\n\u001b[1;32m    309\u001b[0m       \u001b[0mvectorized_func\u001b[0m \u001b[0;34m=\u001b[0m \u001b[0mapi\u001b[0m\u001b[0;34m.\u001b[0m\u001b[0mvmap\u001b[0m\u001b[0;34m(\u001b[0m\u001b[0mvectorized_func\u001b[0m\u001b[0;34m,\u001b[0m \u001b[0min_axes\u001b[0m\u001b[0;34m)\u001b[0m\u001b[0;34m\u001b[0m\u001b[0;34m\u001b[0m\u001b[0m\n\u001b[0;32m--> 310\u001b[0;31m     \u001b[0;32mreturn\u001b[0m \u001b[0mvectorized_func\u001b[0m\u001b[0;34m(\u001b[0m\u001b[0;34m*\u001b[0m\u001b[0mvec_args\u001b[0m\u001b[0;34m)\u001b[0m\u001b[0;34m\u001b[0m\u001b[0;34m\u001b[0m\u001b[0m\n\u001b[0m\u001b[1;32m    311\u001b[0m \u001b[0;34m\u001b[0m\u001b[0m\n\u001b[1;32m    312\u001b[0m   \u001b[0;32mreturn\u001b[0m \u001b[0mwrapped\u001b[0m\u001b[0;34m\u001b[0m\u001b[0;34m\u001b[0m\u001b[0m\n",
      "\u001b[0;32m~/.local/lib/python3.8/site-packages/jax/_src/numpy/vectorize.py\u001b[0m in \u001b[0;36mwrapped\u001b[0;34m(*args)\u001b[0m\n\u001b[1;32m    151\u001b[0m     \u001b[0msizes\u001b[0m \u001b[0;34m=\u001b[0m \u001b[0mdict\u001b[0m\u001b[0;34m(\u001b[0m\u001b[0mdim_sizes\u001b[0m\u001b[0;34m)\u001b[0m\u001b[0;34m\u001b[0m\u001b[0;34m\u001b[0m\u001b[0m\n\u001b[1;32m    152\u001b[0m     \u001b[0;32mfor\u001b[0m \u001b[0mshape\u001b[0m\u001b[0;34m,\u001b[0m \u001b[0mcore_dims\u001b[0m \u001b[0;32min\u001b[0m \u001b[0mzip\u001b[0m\u001b[0;34m(\u001b[0m\u001b[0mout_shapes\u001b[0m\u001b[0;34m,\u001b[0m \u001b[0moutput_core_dims\u001b[0m\u001b[0;34m)\u001b[0m\u001b[0;34m:\u001b[0m\u001b[0;34m\u001b[0m\u001b[0;34m\u001b[0m\u001b[0m\n\u001b[0;32m--> 153\u001b[0;31m       _update_dim_sizes(sizes, shape, core_dims, error_context,\n\u001b[0m\u001b[1;32m    154\u001b[0m                         is_input=False)\n\u001b[1;32m    155\u001b[0m \u001b[0;34m\u001b[0m\u001b[0m\n",
      "\u001b[0;31mKeyboardInterrupt\u001b[0m: "
     ]
    }
   ],
   "source": [
    "loss = losses.ReverseKL(joint_dist, use_reparameterisation=True)\n",
    "optimiser = optimisers.Adam()\n",
    "# data = jnp.array([[10.40]])\n",
    "optimiser.fit(approx_dist, loss, data, prngkey, verbose = True, max_iter=1000, num_samples=1000)"
   ]
  },
  {
   "cell_type": "code",
   "execution_count": null,
   "id": "e7d8535d",
   "metadata": {},
   "outputs": [],
   "source": []
  }
 ],
 "metadata": {
  "kernelspec": {
   "display_name": "Python 3 (ipykernel)",
   "language": "python",
   "name": "python3"
  },
  "language_info": {
   "codemirror_mode": {
    "name": "ipython",
    "version": 3
   },
   "file_extension": ".py",
   "mimetype": "text/x-python",
   "name": "python",
   "nbconvert_exporter": "python",
   "pygments_lexer": "ipython3",
   "version": "3.8.10"
  }
 },
 "nbformat": 4,
 "nbformat_minor": 5
}
