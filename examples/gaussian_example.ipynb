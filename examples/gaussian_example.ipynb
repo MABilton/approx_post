{
 "cells": [
  {
   "cell_type": "code",
   "execution_count": 1,
   "id": "6d119613",
   "metadata": {
    "scrolled": false
   },
   "outputs": [],
   "source": [
    "import jax\n",
    "import jax.numpy as jnp\n",
    "import approx_post\n",
    "import seaborn as sns"
   ]
  },
  {
   "cell_type": "code",
   "execution_count": 2,
   "id": "c9d34649",
   "metadata": {},
   "outputs": [],
   "source": [
    "def create_data(model, true_theta, noise_cov, num_samples, ndim, prngkey):\n",
    "    mean = model(true_theta,0)\n",
    "    samples = jax.random.multivariate_normal(key=prngkey, mean=mean, cov=noise_cov, shape=(num_samples,))\n",
    "    return samples.reshape(num_samples, -1)"
   ]
  },
  {
   "cell_type": "code",
   "execution_count": 3,
   "id": "a94b97b2",
   "metadata": {},
   "outputs": [],
   "source": [
    "# First, let's define a model:\n",
    "ndim = 1\n",
    "model_func = lambda theta, x: theta**2\n",
    "model, model_grad = approx_post.models.from_jax(model_func)"
   ]
  },
  {
   "cell_type": "code",
   "execution_count": 4,
   "id": "525931b1",
   "metadata": {
    "scrolled": false
   },
   "outputs": [
    {
     "name": "stderr",
     "output_type": "stream",
     "text": [
      "WARNING:absl:No GPU/TPU found, falling back to CPU. (Set TF_CPP_MIN_LOG_LEVEL=0 and rerun for more info.)\n"
     ]
    },
    {
     "name": "stdout",
     "output_type": "stream",
     "text": [
      "True theta: \n",
      " [2]\n",
      "True x = model(theta): \n",
      " [4]\n",
      "Observations x_obs = model(theta) + noise: \n",
      " [[3.5748188]]\n"
     ]
    }
   ],
   "source": [
    "# Create artificial data:\n",
    "prngkey = jax.random.PRNGKey(10)\n",
    "true_theta = jnp.array([2])\n",
    "noise_cov = 0.1*jnp.identity(ndim)\n",
    "num_samples = 1\n",
    "data = create_data(model_func, true_theta, noise_cov, num_samples, ndim, prngkey)\n",
    "print(f'True theta: \\n {true_theta}')\n",
    "print(f'True x = model(theta): \\n {model_func(true_theta, 0)}')\n",
    "print(f'Observations x_obs = model(theta) + noise: \\n {data}')"
   ]
  },
  {
   "cell_type": "code",
   "execution_count": 5,
   "id": "6d14292c",
   "metadata": {},
   "outputs": [],
   "source": [
    "# Create Gaussian approximate distribution:\n",
    "approx_dist = approx_post.distributions.approx.Gaussian(ndim)"
   ]
  },
  {
   "cell_type": "code",
   "execution_count": 6,
   "id": "b29185ee",
   "metadata": {},
   "outputs": [],
   "source": [
    "# Create Joint distribution from forward model:\n",
    "prior_mean = jnp.zeros(ndim)\n",
    "prior_cov = 0.1*jnp.identity(ndim)\n",
    "joint_dist = approx_post.distributions.joint.ModelPlusGaussian(model, noise_cov, prior_mean, prior_cov, model_grad)"
   ]
  },
  {
   "cell_type": "code",
   "execution_count": 7,
   "id": "ab0bee1d",
   "metadata": {
    "scrolled": false
   },
   "outputs": [
    {
     "name": "stdout",
     "output_type": "stream",
     "text": [
      "Loss = 46.42293930053711, Params = Jaxtainer({'mean': DeviceArray([-0.1], dtype=float32), 'log_chol_diag': DeviceArray([-0.1], dtype=float32)})\n",
      "Loss = 46.40510940551758, Params = Jaxtainer({'mean': DeviceArray([-0.19955799], dtype=float32), 'log_chol_diag': DeviceArray([-0.06496035], dtype=float32)})\n",
      "Loss = 45.89853286743164, Params = Jaxtainer({'mean': DeviceArray([-0.29935193], dtype=float32), 'log_chol_diag': DeviceArray([-0.01416349], dtype=float32)})\n",
      "Loss = 45.640193939208984, Params = Jaxtainer({'mean': DeviceArray([-0.3956759], dtype=float32), 'log_chol_diag': DeviceArray([0.00168393], dtype=float32)})\n",
      "Loss = 45.63945388793945, Params = Jaxtainer({'mean': DeviceArray([-0.48024344], dtype=float32), 'log_chol_diag': DeviceArray([-0.02508833], dtype=float32)})\n",
      "Loss = 45.3537712097168, Params = Jaxtainer({'mean': DeviceArray([-0.5568623], dtype=float32), 'log_chol_diag': DeviceArray([-0.072787], dtype=float32)})\n",
      "Loss = 44.88300323486328, Params = Jaxtainer({'mean': DeviceArray([-0.63658], dtype=float32), 'log_chol_diag': DeviceArray([-0.13040277], dtype=float32)})\n",
      "Loss = 44.29876708984375, Params = Jaxtainer({'mean': DeviceArray([-0.72258216], dtype=float32), 'log_chol_diag': DeviceArray([-0.19286409], dtype=float32)})\n",
      "Loss = 43.520469665527344, Params = Jaxtainer({'mean': DeviceArray([-0.81170166], dtype=float32), 'log_chol_diag': DeviceArray([-0.25890586], dtype=float32)})\n",
      "Loss = 42.458560943603516, Params = Jaxtainer({'mean': DeviceArray([-0.9026935], dtype=float32), 'log_chol_diag': DeviceArray([-0.3291218], dtype=float32)})\n",
      "Loss = 41.05039596557617, Params = Jaxtainer({'mean': DeviceArray([-0.99580324], dtype=float32), 'log_chol_diag': DeviceArray([-0.40442753], dtype=float32)})\n",
      "Loss = 39.25664520263672, Params = Jaxtainer({'mean': DeviceArray([-1.0914292], dtype=float32), 'log_chol_diag': DeviceArray([-0.48526162], dtype=float32)})\n",
      "Loss = 37.07582473754883, Params = Jaxtainer({'mean': DeviceArray([-1.1898049], dtype=float32), 'log_chol_diag': DeviceArray([-0.5714531], dtype=float32)})\n",
      "Loss = 34.56145095825195, Params = Jaxtainer({'mean': DeviceArray([-1.2909368], dtype=float32), 'log_chol_diag': DeviceArray([-0.6624608], dtype=float32)})\n",
      "Loss = 31.833171844482422, Params = Jaxtainer({'mean': DeviceArray([-1.3944778], dtype=float32), 'log_chol_diag': DeviceArray([-0.7576354], dtype=float32)})\n",
      "Loss = 29.07986068725586, Params = Jaxtainer({'mean': DeviceArray([-1.4993677], dtype=float32), 'log_chol_diag': DeviceArray([-0.8563483], dtype=float32)})\n",
      "Loss = 26.553037643432617, Params = Jaxtainer({'mean': DeviceArray([-1.6029675], dtype=float32), 'log_chol_diag': DeviceArray([-0.95800686], dtype=float32)})\n",
      "Loss = 24.53520393371582, Params = Jaxtainer({'mean': DeviceArray([-1.6993934], dtype=float32), 'log_chol_diag': DeviceArray([-1.0620133], dtype=float32)})\n",
      "Loss = 23.237337112426758, Params = Jaxtainer({'mean': DeviceArray([-1.778306], dtype=float32), 'log_chol_diag': DeviceArray([-1.1676921], dtype=float32)})\n",
      "Loss = 22.5880184173584, Params = Jaxtainer({'mean': DeviceArray([-1.8293462], dtype=float32), 'log_chol_diag': DeviceArray([-1.2741933], dtype=float32)})\n",
      "Loss = 22.14968490600586, Params = Jaxtainer({'mean': DeviceArray([-1.8504676], dtype=float32), 'log_chol_diag': DeviceArray([-1.3804315], dtype=float32)})\n",
      "Loss = 21.51514434814453, Params = Jaxtainer({'mean': DeviceArray([-1.8469849], dtype=float32), 'log_chol_diag': DeviceArray([-1.4851552], dtype=float32)})\n",
      "Loss = 20.63642120361328, Params = Jaxtainer({'mean': DeviceArray([-1.8258927], dtype=float32), 'log_chol_diag': DeviceArray([-1.5871117], dtype=float32)})\n",
      "Loss = 19.694787979125977, Params = Jaxtainer({'mean': DeviceArray([-1.7936385], dtype=float32), 'log_chol_diag': DeviceArray([-1.6851991], dtype=float32)})\n",
      "Loss = 18.89777946472168, Params = Jaxtainer({'mean': DeviceArray([-1.7560953], dtype=float32), 'log_chol_diag': DeviceArray([-1.7785552], dtype=float32)})\n",
      "Loss = 18.375301361083984, Params = Jaxtainer({'mean': DeviceArray([-1.7187667], dtype=float32), 'log_chol_diag': DeviceArray([-1.8665859], dtype=float32)})\n",
      "Loss = 18.146747589111328, Params = Jaxtainer({'mean': DeviceArray([-1.6865774], dtype=float32), 'log_chol_diag': DeviceArray([-1.9489521], dtype=float32)})\n",
      "Loss = 18.13485336303711, Params = Jaxtainer({'mean': DeviceArray([-1.6633018], dtype=float32), 'log_chol_diag': DeviceArray([-2.025532], dtype=float32)})\n",
      "Loss = 18.214237213134766, Params = Jaxtainer({'mean': DeviceArray([-1.6510637], dtype=float32), 'log_chol_diag': DeviceArray([-2.0963736], dtype=float32)})\n",
      "Loss = 18.270483016967773, Params = Jaxtainer({'mean': DeviceArray([-1.6502715], dtype=float32), 'log_chol_diag': DeviceArray([-2.1616466], dtype=float32)})\n",
      "Loss = 18.23981475830078, Params = Jaxtainer({'mean': DeviceArray([-1.6599413], dtype=float32), 'log_chol_diag': DeviceArray([-2.2216015], dtype=float32)})\n",
      "Loss = 18.117252349853516, Params = Jaxtainer({'mean': DeviceArray([-1.6781199], dtype=float32), 'log_chol_diag': DeviceArray([-2.2765355], dtype=float32)})\n",
      "Loss = 17.94200325012207, Params = Jaxtainer({'mean': DeviceArray([-1.7022109], dtype=float32), 'log_chol_diag': DeviceArray([-2.3267674], dtype=float32)})\n",
      "Loss = 17.77332305908203, Params = Jaxtainer({'mean': DeviceArray([-1.7291826], dtype=float32), 'log_chol_diag': DeviceArray([-2.37262], dtype=float32)})\n",
      "Loss = 17.66485595703125, Params = Jaxtainer({'mean': DeviceArray([-1.7557551], dtype=float32), 'log_chol_diag': DeviceArray([-2.4144073], dtype=float32)})\n",
      "Loss = 17.642635345458984, Params = Jaxtainer({'mean': DeviceArray([-1.7786924], dtype=float32), 'log_chol_diag': DeviceArray([-2.4524245], dtype=float32)})\n",
      "Loss = 17.693622589111328, Params = Jaxtainer({'mean': DeviceArray([-1.7952557], dtype=float32), 'log_chol_diag': DeviceArray([-2.486944], dtype=float32)})\n",
      "Loss = 17.77267837524414, Params = Jaxtainer({'mean': DeviceArray([-1.8037028], dtype=float32), 'log_chol_diag': DeviceArray([-2.5182114], dtype=float32)})\n",
      "Loss = 17.8279972076416, Params = Jaxtainer({'mean': DeviceArray([-1.8035957], dtype=float32), 'log_chol_diag': DeviceArray([-2.5464463], dtype=float32)})\n",
      "Loss = 17.830036163330078, Params = Jaxtainer({'mean': DeviceArray([-1.7957723], dtype=float32), 'log_chol_diag': DeviceArray([-2.5718448], dtype=float32)})\n",
      "Loss = 17.784334182739258, Params = Jaxtainer({'mean': DeviceArray([-1.7820596], dtype=float32), 'log_chol_diag': DeviceArray([-2.5945828], dtype=float32)})\n",
      "Loss = 17.721920013427734, Params = Jaxtainer({'mean': DeviceArray([-1.7648889], dtype=float32), 'log_chol_diag': DeviceArray([-2.6148214], dtype=float32)})\n",
      "Loss = 17.677614212036133, Params = Jaxtainer({'mean': DeviceArray([-1.7469124], dtype=float32), 'log_chol_diag': DeviceArray([-2.632711], dtype=float32)})\n",
      "Loss = 17.671119689941406, Params = Jaxtainer({'mean': DeviceArray([-1.7306415], dtype=float32), 'log_chol_diag': DeviceArray([-2.6483948], dtype=float32)})\n",
      "Loss = 17.699851989746094, Params = Jaxtainer({'mean': DeviceArray([-1.7181269], dtype=float32), 'log_chol_diag': DeviceArray([-2.6620126], dtype=float32)})\n",
      "Loss = 17.744403839111328, Params = Jaxtainer({'mean': DeviceArray([-1.7107205], dtype=float32), 'log_chol_diag': DeviceArray([-2.6737015], dtype=float32)})\n",
      "Loss = 17.78101348876953, Params = Jaxtainer({'mean': DeviceArray([-1.7089627], dtype=float32), 'log_chol_diag': DeviceArray([-2.6835978], dtype=float32)})\n",
      "Loss = 17.793594360351562, Params = Jaxtainer({'mean': DeviceArray([-1.7125978], dtype=float32), 'log_chol_diag': DeviceArray([-2.6918364], dtype=float32)})\n",
      "Loss = 17.77973175048828, Params = Jaxtainer({'mean': DeviceArray([-1.7206877], dtype=float32), 'log_chol_diag': DeviceArray([-2.6985495], dtype=float32)})\n"
     ]
    }
   ],
   "source": [
    "approx_dist = approx_post.distributions.approx.Gaussian(ndim)\n",
    "prngkey = jax.random.PRNGKey(12)\n",
    "loss = approx_post.losses.ELBO(joint_dist, use_reparameterisation=True)\n",
    "optimiser = approx_post.optimisers.Adam()\n",
    "loss = optimiser.fit(approx_dist, loss, data, prngkey, verbose=True, max_iter=50, num_samples=1000)"
   ]
  },
  {
   "cell_type": "code",
   "execution_count": 10,
   "id": "b6c4eb56",
   "metadata": {},
   "outputs": [
    {
     "name": "stdout",
     "output_type": "stream",
     "text": [
      "Loss = 0.0026401900686323643, Params = Jaxtainer({'mean': DeviceArray([0.09999659], dtype=float32), 'log_chol_diag': DeviceArray([0.09999955], dtype=float32)})\n",
      "Loss = 0.00238200556486845, Params = Jaxtainer({'mean': DeviceArray([0.1372815], dtype=float32), 'log_chol_diag': DeviceArray([0.19769272], dtype=float32)})\n",
      "Loss = 0.0022438950836658478, Params = Jaxtainer({'mean': DeviceArray([0.15107341], dtype=float32), 'log_chol_diag': DeviceArray([0.29202056], dtype=float32)})\n",
      "Loss = 0.0021345692221075296, Params = Jaxtainer({'mean': DeviceArray([0.1267155], dtype=float32), 'log_chol_diag': DeviceArray([0.38159305], dtype=float32)})\n",
      "Loss = 0.002060098107904196, Params = Jaxtainer({'mean': DeviceArray([0.07687004], dtype=float32), 'log_chol_diag': DeviceArray([0.4650827], dtype=float32)})\n",
      "Loss = 0.0019993737805634737, Params = Jaxtainer({'mean': DeviceArray([0.01981904], dtype=float32), 'log_chol_diag': DeviceArray([0.54074323], dtype=float32)})\n",
      "Loss = 0.001967070158571005, Params = Jaxtainer({'mean': DeviceArray([-0.02510479], dtype=float32), 'log_chol_diag': DeviceArray([0.60719], dtype=float32)})\n",
      "Loss = 0.0019608817528933287, Params = Jaxtainer({'mean': DeviceArray([-0.05979247], dtype=float32), 'log_chol_diag': DeviceArray([0.66408116], dtype=float32)})\n",
      "Loss = 0.0019675488583743572, Params = Jaxtainer({'mean': DeviceArray([-0.08894777], dtype=float32), 'log_chol_diag': DeviceArray([0.71157205], dtype=float32)})\n",
      "Loss = 0.0019718382973223925, Params = Jaxtainer({'mean': DeviceArray([-0.11475065], dtype=float32), 'log_chol_diag': DeviceArray([0.7498107], dtype=float32)})\n",
      "Loss = 0.0019812309183180332, Params = Jaxtainer({'mean': DeviceArray([-0.13717623], dtype=float32), 'log_chol_diag': DeviceArray([0.7791891], dtype=float32)})\n",
      "Loss = 0.001991086173802614, Params = Jaxtainer({'mean': DeviceArray([-0.15460366], dtype=float32), 'log_chol_diag': DeviceArray([0.8002036], dtype=float32)})\n",
      "Loss = 0.0019979949574917555, Params = Jaxtainer({'mean': DeviceArray([-0.16647731], dtype=float32), 'log_chol_diag': DeviceArray([0.8134154], dtype=float32)})\n",
      "Loss = 0.0020026389975100756, Params = Jaxtainer({'mean': DeviceArray([-0.1729774], dtype=float32), 'log_chol_diag': DeviceArray([0.8194518], dtype=float32)})\n",
      "Loss = 0.0020049065351486206, Params = Jaxtainer({'mean': DeviceArray([-0.17449698], dtype=float32), 'log_chol_diag': DeviceArray([0.81897336], dtype=float32)})\n",
      "Loss = 0.0020048210863023996, Params = Jaxtainer({'mean': DeviceArray([-0.17149538], dtype=float32), 'log_chol_diag': DeviceArray([0.81265384], dtype=float32)})\n",
      "Loss = 0.0020026916172355413, Params = Jaxtainer({'mean': DeviceArray([-0.16447377], dtype=float32), 'log_chol_diag': DeviceArray([0.80117273], dtype=float32)})\n",
      "Loss = 0.001999039901420474, Params = Jaxtainer({'mean': DeviceArray([-0.15400624], dtype=float32), 'log_chol_diag': DeviceArray([0.7852154], dtype=float32)})\n",
      "Loss = 0.001994451740756631, Params = Jaxtainer({'mean': DeviceArray([-0.14086515], dtype=float32), 'log_chol_diag': DeviceArray([0.7654779], dtype=float32)})\n",
      "Loss = 0.00198888941667974, Params = Jaxtainer({'mean': DeviceArray([-0.12623456], dtype=float32), 'log_chol_diag': DeviceArray([0.7426584], dtype=float32)})\n",
      "Loss = 0.0019819617737084627, Params = Jaxtainer({'mean': DeviceArray([-0.11142811], dtype=float32), 'log_chol_diag': DeviceArray([0.7174293], dtype=float32)})\n",
      "Loss = 0.001975179882720113, Params = Jaxtainer({'mean': DeviceArray([-0.09686278], dtype=float32), 'log_chol_diag': DeviceArray([0.6904459], dtype=float32)})\n",
      "Loss = 0.0019706611055880785, Params = Jaxtainer({'mean': DeviceArray([-0.0818985], dtype=float32), 'log_chol_diag': DeviceArray([0.6623907], dtype=float32)})\n",
      "Loss = 0.0019673306960612535, Params = Jaxtainer({'mean': DeviceArray([-0.0659941], dtype=float32), 'log_chol_diag': DeviceArray([0.63395774], dtype=float32)})\n",
      "Loss = 0.001962900161743164, Params = Jaxtainer({'mean': DeviceArray([-0.04906744], dtype=float32), 'log_chol_diag': DeviceArray([0.60578597], dtype=float32)})\n",
      "Loss = 0.0019583343528211117, Params = Jaxtainer({'mean': DeviceArray([-0.03040558], dtype=float32), 'log_chol_diag': DeviceArray([0.5784552], dtype=float32)})\n",
      "Loss = 0.001957284053787589, Params = Jaxtainer({'mean': DeviceArray([-0.00830428], dtype=float32), 'log_chol_diag': DeviceArray([0.55257326], dtype=float32)})\n",
      "Loss = 0.0019621774554252625, Params = Jaxtainer({'mean': DeviceArray([0.01749058], dtype=float32), 'log_chol_diag': DeviceArray([0.52887523], dtype=float32)})\n",
      "Loss = 0.0019698101095855236, Params = Jaxtainer({'mean': DeviceArray([0.04294529], dtype=float32), 'log_chol_diag': DeviceArray([0.5081543], dtype=float32)})\n",
      "Loss = 0.0019768725614994764, Params = Jaxtainer({'mean': DeviceArray([0.06182657], dtype=float32), 'log_chol_diag': DeviceArray([0.49109253], dtype=float32)})\n",
      "Loss = 0.0019840612076222897, Params = Jaxtainer({'mean': DeviceArray([0.06923036], dtype=float32), 'log_chol_diag': DeviceArray([0.4782084], dtype=float32)})\n",
      "Loss = 0.0019909273833036423, Params = Jaxtainer({'mean': DeviceArray([0.06271286], dtype=float32), 'log_chol_diag': DeviceArray([0.46982244], dtype=float32)})\n",
      "Loss = 0.0019956266041845083, Params = Jaxtainer({'mean': DeviceArray([0.04235608], dtype=float32), 'log_chol_diag': DeviceArray([0.46599773], dtype=float32)})\n",
      "Loss = 0.0019972703885287046, Params = Jaxtainer({'mean': DeviceArray([0.01056487], dtype=float32), 'log_chol_diag': DeviceArray([0.46651897], dtype=float32)})\n",
      "Loss = 0.0019970787689089775, Params = Jaxtainer({'mean': DeviceArray([-0.02825984], dtype=float32), 'log_chol_diag': DeviceArray([0.47095227], dtype=float32)})\n",
      "Loss = 0.001997224288061261, Params = Jaxtainer({'mean': DeviceArray([-0.06811742], dtype=float32), 'log_chol_diag': DeviceArray([0.4787505], dtype=float32)})\n",
      "Loss = 0.0019972287118434906, Params = Jaxtainer({'mean': DeviceArray([-0.10281394], dtype=float32), 'log_chol_diag': DeviceArray([0.489294], dtype=float32)})\n",
      "Loss = 0.0019929183181375265, Params = Jaxtainer({'mean': DeviceArray([-0.12919801], dtype=float32), 'log_chol_diag': DeviceArray([0.50183225], dtype=float32)})\n",
      "Loss = 0.0019832919351756573, Params = Jaxtainer({'mean': DeviceArray([-0.14840835], dtype=float32), 'log_chol_diag': DeviceArray([0.5155023], dtype=float32)})\n",
      "Loss = 0.0019721875432878733, Params = Jaxtainer({'mean': DeviceArray([-0.16363116], dtype=float32), 'log_chol_diag': DeviceArray([0.5294564], dtype=float32)})\n",
      "Loss = 0.001962571172043681, Params = Jaxtainer({'mean': DeviceArray([-0.178037], dtype=float32), 'log_chol_diag': DeviceArray([0.5429526], dtype=float32)})\n",
      "Loss = 0.001955268671736121, Params = Jaxtainer({'mean': DeviceArray([-0.19389884], dtype=float32), 'log_chol_diag': DeviceArray([0.5553828], dtype=float32)})\n",
      "Loss = 0.0019501466304063797, Params = Jaxtainer({'mean': DeviceArray([-0.21235716], dtype=float32), 'log_chol_diag': DeviceArray([0.56627315], dtype=float32)})\n",
      "Loss = 0.001946794567629695, Params = Jaxtainer({'mean': DeviceArray([-0.23354764], dtype=float32), 'log_chol_diag': DeviceArray([0.57527786], dtype=float32)})\n",
      "Loss = 0.0019449281971901655, Params = Jaxtainer({'mean': DeviceArray([-0.25690648], dtype=float32), 'log_chol_diag': DeviceArray([0.5821767], dtype=float32)})\n",
      "Loss = 0.0019446734804660082, Params = Jaxtainer({'mean': DeviceArray([-0.28143454], dtype=float32), 'log_chol_diag': DeviceArray([0.586883], dtype=float32)})\n",
      "Loss = 0.0019463469507172704, Params = Jaxtainer({'mean': DeviceArray([-0.30582035], dtype=float32), 'log_chol_diag': DeviceArray([0.58945113], dtype=float32)})\n",
      "Loss = 0.001949802739545703, Params = Jaxtainer({'mean': DeviceArray([-0.32853878], dtype=float32), 'log_chol_diag': DeviceArray([0.5900621], dtype=float32)})\n",
      "Loss = 0.0019541396759450436, Params = Jaxtainer({'mean': DeviceArray([-0.3480717], dtype=float32), 'log_chol_diag': DeviceArray([0.5889809], dtype=float32)})\n",
      "Loss = 0.0019581529777497053, Params = Jaxtainer({'mean': DeviceArray([-0.36320677], dtype=float32), 'log_chol_diag': DeviceArray([0.58650446], dtype=float32)})\n",
      "Loss = 0.001961036119610071, Params = Jaxtainer({'mean': DeviceArray([-0.37324268], dtype=float32), 'log_chol_diag': DeviceArray([0.58292377], dtype=float32)})\n",
      "Loss = 0.0019625998102128506, Params = Jaxtainer({'mean': DeviceArray([-0.378019], dtype=float32), 'log_chol_diag': DeviceArray([0.5785083], dtype=float32)})\n",
      "Loss = 0.0019629590678960085, Params = Jaxtainer({'mean': DeviceArray([-0.37783498], dtype=float32), 'log_chol_diag': DeviceArray([0.5735013], dtype=float32)})\n",
      "Loss = 0.0019622615072876215, Params = Jaxtainer({'mean': DeviceArray([-0.37333876], dtype=float32), 'log_chol_diag': DeviceArray([0.56811637], dtype=float32)})\n"
     ]
    },
    {
     "name": "stdout",
     "output_type": "stream",
     "text": [
      "Loss = 0.0019607138819992542, Params = Jaxtainer({'mean': DeviceArray([-0.36540708], dtype=float32), 'log_chol_diag': DeviceArray([0.56253785], dtype=float32)})\n",
      "Loss = 0.0019587031565606594, Params = Jaxtainer({'mean': DeviceArray([-0.3550079], dtype=float32), 'log_chol_diag': DeviceArray([0.55692834], dtype=float32)})\n",
      "Loss = 0.0019567525014281273, Params = Jaxtainer({'mean': DeviceArray([-0.3430634], dtype=float32), 'log_chol_diag': DeviceArray([0.5514417], dtype=float32)})\n",
      "Loss = 0.0019553101155906916, Params = Jaxtainer({'mean': DeviceArray([-0.33035463], dtype=float32), 'log_chol_diag': DeviceArray([0.54623383], dtype=float32)})\n",
      "Loss = 0.001954571343958378, Params = Jaxtainer({'mean': DeviceArray([-0.3174898], dtype=float32), 'log_chol_diag': DeviceArray([0.5414634], dtype=float32)})\n",
      "Loss = 0.001954470993950963, Params = Jaxtainer({'mean': DeviceArray([-0.30492118], dtype=float32), 'log_chol_diag': DeviceArray([0.53728336], dtype=float32)})\n",
      "Loss = 0.0019548037089407444, Params = Jaxtainer({'mean': DeviceArray([-0.2929763], dtype=float32), 'log_chol_diag': DeviceArray([0.53382766], dtype=float32)})\n",
      "Loss = 0.001955353654921055, Params = Jaxtainer({'mean': DeviceArray([-0.28188217], dtype=float32), 'log_chol_diag': DeviceArray([0.5311987], dtype=float32)})\n",
      "Loss = 0.001955959713086486, Params = Jaxtainer({'mean': DeviceArray([-0.27178267], dtype=float32), 'log_chol_diag': DeviceArray([0.5294591], dtype=float32)})\n",
      "Loss = 0.0019565140828490257, Params = Jaxtainer({'mean': DeviceArray([-0.26275745], dtype=float32), 'log_chol_diag': DeviceArray([0.528628], dtype=float32)})\n",
      "Loss = 0.0019569469150155783, Params = Jaxtainer({'mean': DeviceArray([-0.25484768], dtype=float32), 'log_chol_diag': DeviceArray([0.52868056], dtype=float32)})\n",
      "Loss = 0.001957212807610631, Params = Jaxtainer({'mean': DeviceArray([-0.2480849], dtype=float32), 'log_chol_diag': DeviceArray([0.5295508], dtype=float32)})\n",
      "Loss = 0.0019572803284972906, Params = Jaxtainer({'mean': DeviceArray([-0.24251767], dtype=float32), 'log_chol_diag': DeviceArray([0.5311364], dtype=float32)})\n",
      "Loss = 0.001957131549715996, Params = Jaxtainer({'mean': DeviceArray([-0.23822899], dtype=float32), 'log_chol_diag': DeviceArray([0.5333052], dtype=float32)})\n",
      "Loss = 0.00195676670409739, Params = Jaxtainer({'mean': DeviceArray([-0.23534039], dtype=float32), 'log_chol_diag': DeviceArray([0.5359031], dtype=float32)})\n",
      "Loss = 0.001956205815076828, Params = Jaxtainer({'mean': DeviceArray([-0.23399968], dtype=float32), 'log_chol_diag': DeviceArray([0.53876245], dtype=float32)})\n",
      "Loss = 0.001955493353307247, Params = Jaxtainer({'mean': DeviceArray([-0.23435338], dtype=float32), 'log_chol_diag': DeviceArray([0.54171205], dtype=float32)})\n",
      "Loss = 0.0019546954426914454, Params = Jaxtainer({'mean': DeviceArray([-0.23650849], dtype=float32), 'log_chol_diag': DeviceArray([0.5445866], dtype=float32)})\n",
      "Loss = 0.001953887054696679, Params = Jaxtainer({'mean': DeviceArray([-0.24049279], dtype=float32), 'log_chol_diag': DeviceArray([0.5472359], dtype=float32)})\n",
      "Loss = 0.0019531412981450558, Params = Jaxtainer({'mean': DeviceArray([-0.2462243], dtype=float32), 'log_chol_diag': DeviceArray([0.5495326], dtype=float32)})\n",
      "Loss = 0.00195250881370157, Params = Jaxtainer({'mean': DeviceArray([-0.253499], dtype=float32), 'log_chol_diag': DeviceArray([0.55137795], dtype=float32)})\n",
      "Loss = 0.0019520187051966786, Params = Jaxtainer({'mean': DeviceArray([-0.26200116], dtype=float32), 'log_chol_diag': DeviceArray([0.55270517], dtype=float32)})\n",
      "Loss = 0.0019516736501827836, Params = Jaxtainer({'mean': DeviceArray([-0.27133325], dtype=float32), 'log_chol_diag': DeviceArray([0.55348057], dtype=float32)})\n",
      "Loss = 0.0019514637533575296, Params = Jaxtainer({'mean': DeviceArray([-0.2810573], dtype=float32), 'log_chol_diag': DeviceArray([0.5537026], dtype=float32)})\n",
      "Loss = 0.0019513757433742285, Params = Jaxtainer({'mean': DeviceArray([-0.2907358], dtype=float32), 'log_chol_diag': DeviceArray([0.55339974], dtype=float32)})\n",
      "Loss = 0.0019514096202328801, Params = Jaxtainer({'mean': DeviceArray([-0.29996312], dtype=float32), 'log_chol_diag': DeviceArray([0.5526274], dtype=float32)})\n",
      "Loss = 0.001951582613401115, Params = Jaxtainer({'mean': DeviceArray([-0.3083818], dtype=float32), 'log_chol_diag': DeviceArray([0.55146456], dtype=float32)})\n",
      "Loss = 0.0019519224297255278, Params = Jaxtainer({'mean': DeviceArray([-0.31568584], dtype=float32), 'log_chol_diag': DeviceArray([0.55000985], dtype=float32)})\n",
      "Loss = 0.0019524483941495419, Params = Jaxtainer({'mean': DeviceArray([-0.32161763], dtype=float32), 'log_chol_diag': DeviceArray([0.54837644], dtype=float32)})\n",
      "Loss = 0.001953140599653125, Params = Jaxtainer({'mean': DeviceArray([-0.3259683], dtype=float32), 'log_chol_diag': DeviceArray([0.54668474], dtype=float32)})\n",
      "Loss = 0.001953922212123871, Params = Jaxtainer({'mean': DeviceArray([-0.32858866], dtype=float32), 'log_chol_diag': DeviceArray([0.54505277], dtype=float32)})\n"
     ]
    },
    {
     "ename": "KeyboardInterrupt",
     "evalue": "",
     "output_type": "error",
     "traceback": [
      "\u001b[0;31m---------------------------------------------------------------------------\u001b[0m",
      "\u001b[0;31mKeyboardInterrupt\u001b[0m                         Traceback (most recent call last)",
      "\u001b[0;32m/tmp/ipykernel_4281/2777624068.py\u001b[0m in \u001b[0;36m<module>\u001b[0;34m\u001b[0m\n\u001b[1;32m      3\u001b[0m \u001b[0mloss\u001b[0m \u001b[0;34m=\u001b[0m \u001b[0mapprox_post\u001b[0m\u001b[0;34m.\u001b[0m\u001b[0mlosses\u001b[0m\u001b[0;34m.\u001b[0m\u001b[0mForwardKL\u001b[0m\u001b[0;34m(\u001b[0m\u001b[0mjoint_dist\u001b[0m\u001b[0;34m,\u001b[0m \u001b[0muse_reparameterisation\u001b[0m\u001b[0;34m=\u001b[0m\u001b[0;32mFalse\u001b[0m\u001b[0;34m)\u001b[0m\u001b[0;34m\u001b[0m\u001b[0;34m\u001b[0m\u001b[0m\n\u001b[1;32m      4\u001b[0m \u001b[0moptimiser\u001b[0m \u001b[0;34m=\u001b[0m \u001b[0mapprox_post\u001b[0m\u001b[0;34m.\u001b[0m\u001b[0moptimisers\u001b[0m\u001b[0;34m.\u001b[0m\u001b[0mAdam\u001b[0m\u001b[0;34m(\u001b[0m\u001b[0;34m)\u001b[0m\u001b[0;34m\u001b[0m\u001b[0;34m\u001b[0m\u001b[0m\n\u001b[0;32m----> 5\u001b[0;31m \u001b[0moptimiser\u001b[0m\u001b[0;34m.\u001b[0m\u001b[0mfit\u001b[0m\u001b[0;34m(\u001b[0m\u001b[0mapprox_dist\u001b[0m\u001b[0;34m,\u001b[0m \u001b[0mloss\u001b[0m\u001b[0;34m,\u001b[0m \u001b[0mdata\u001b[0m\u001b[0;34m,\u001b[0m \u001b[0mprngkey\u001b[0m\u001b[0;34m,\u001b[0m \u001b[0mverbose\u001b[0m \u001b[0;34m=\u001b[0m \u001b[0;32mTrue\u001b[0m\u001b[0;34m,\u001b[0m \u001b[0mmax_iter\u001b[0m\u001b[0;34m=\u001b[0m\u001b[0;36m1000\u001b[0m\u001b[0;34m,\u001b[0m \u001b[0mnum_samples\u001b[0m\u001b[0;34m=\u001b[0m\u001b[0;36m1000\u001b[0m\u001b[0;34m)\u001b[0m\u001b[0;34m\u001b[0m\u001b[0;34m\u001b[0m\u001b[0m\n\u001b[0m",
      "\u001b[0;32m/usr/local/lib/python3.8/dist-packages/approx_post/optimisers.py\u001b[0m in \u001b[0;36mfit\u001b[0;34m(self, approx, loss_func, x, prngkey, grad_filter, num_samples, verbose, max_iter)\u001b[0m\n\u001b[1;32m     13\u001b[0m         \u001b[0;32mwhile\u001b[0m \u001b[0mself\u001b[0m\u001b[0;34m.\u001b[0m\u001b[0m_loop_flag\u001b[0m\u001b[0;34m:\u001b[0m\u001b[0;34m\u001b[0m\u001b[0;34m\u001b[0m\u001b[0m\n\u001b[1;32m     14\u001b[0m \u001b[0;34m\u001b[0m\u001b[0m\n\u001b[0;32m---> 15\u001b[0;31m             \u001b[0mloss\u001b[0m\u001b[0;34m,\u001b[0m \u001b[0mloss_del_params\u001b[0m \u001b[0;34m=\u001b[0m \u001b[0mloss_func\u001b[0m\u001b[0;34m.\u001b[0m\u001b[0meval\u001b[0m\u001b[0;34m(\u001b[0m\u001b[0mapprox\u001b[0m\u001b[0;34m,\u001b[0m \u001b[0mx\u001b[0m\u001b[0;34m,\u001b[0m \u001b[0mprngkey\u001b[0m\u001b[0;34m=\u001b[0m\u001b[0mprngkey\u001b[0m\u001b[0;34m,\u001b[0m \u001b[0mnum_samples\u001b[0m\u001b[0;34m=\u001b[0m\u001b[0mnum_samples\u001b[0m\u001b[0;34m)\u001b[0m\u001b[0;34m\u001b[0m\u001b[0;34m\u001b[0m\u001b[0m\n\u001b[0m\u001b[1;32m     16\u001b[0m \u001b[0;34m\u001b[0m\u001b[0m\n\u001b[1;32m     17\u001b[0m             \u001b[0mloss_del_params\u001b[0m \u001b[0;34m=\u001b[0m \u001b[0mself\u001b[0m\u001b[0;34m.\u001b[0m\u001b[0m_filter_grad_components\u001b[0m\u001b[0;34m(\u001b[0m\u001b[0mloss_del_params\u001b[0m\u001b[0;34m,\u001b[0m \u001b[0mgrad_filter\u001b[0m\u001b[0;34m)\u001b[0m\u001b[0;34m\u001b[0m\u001b[0;34m\u001b[0m\u001b[0m\n",
      "\u001b[0;32m/usr/local/lib/python3.8/dist-packages/approx_post/losses.py\u001b[0m in \u001b[0;36meval\u001b[0;34m(self, approx, x, prngkey, num_samples)\u001b[0m\n\u001b[1;32m    327\u001b[0m                 \u001b[0mloss\u001b[0m\u001b[0;34m,\u001b[0m \u001b[0mloss_del_phi\u001b[0m \u001b[0;34m=\u001b[0m \u001b[0mself\u001b[0m\u001b[0;34m.\u001b[0m\u001b[0m_eval_reparameterisation\u001b[0m\u001b[0;34m(\u001b[0m\u001b[0mapprox\u001b[0m\u001b[0;34m,\u001b[0m \u001b[0mphi\u001b[0m\u001b[0;34m,\u001b[0m \u001b[0mx\u001b[0m\u001b[0;34m,\u001b[0m \u001b[0mnum_samples\u001b[0m\u001b[0;34m,\u001b[0m \u001b[0mprngkey\u001b[0m\u001b[0;34m)\u001b[0m\u001b[0;34m\u001b[0m\u001b[0;34m\u001b[0m\u001b[0m\n\u001b[1;32m    328\u001b[0m             \u001b[0;32melse\u001b[0m\u001b[0;34m:\u001b[0m\u001b[0;34m\u001b[0m\u001b[0;34m\u001b[0m\u001b[0m\n\u001b[0;32m--> 329\u001b[0;31m                 \u001b[0mloss\u001b[0m\u001b[0;34m,\u001b[0m \u001b[0mloss_del_phi\u001b[0m \u001b[0;34m=\u001b[0m \u001b[0mself\u001b[0m\u001b[0;34m.\u001b[0m\u001b[0m_eval_controlvariates\u001b[0m\u001b[0;34m(\u001b[0m\u001b[0mapprox\u001b[0m\u001b[0;34m,\u001b[0m \u001b[0mphi\u001b[0m\u001b[0;34m,\u001b[0m \u001b[0mx\u001b[0m\u001b[0;34m,\u001b[0m \u001b[0mnum_samples\u001b[0m\u001b[0;34m,\u001b[0m \u001b[0mprngkey\u001b[0m\u001b[0;34m)\u001b[0m\u001b[0;34m\u001b[0m\u001b[0;34m\u001b[0m\u001b[0m\n\u001b[0m\u001b[1;32m    330\u001b[0m \u001b[0;34m\u001b[0m\u001b[0m\n\u001b[1;32m    331\u001b[0m         \u001b[0mloss_del_params\u001b[0m \u001b[0;34m=\u001b[0m \u001b[0mself\u001b[0m\u001b[0;34m.\u001b[0m\u001b[0m_compute_loss_del_params\u001b[0m\u001b[0;34m(\u001b[0m\u001b[0mloss_del_phi\u001b[0m\u001b[0;34m,\u001b[0m \u001b[0mx\u001b[0m\u001b[0;34m,\u001b[0m \u001b[0mapprox\u001b[0m\u001b[0;34m)\u001b[0m\u001b[0;34m\u001b[0m\u001b[0;34m\u001b[0m\u001b[0m\n",
      "\u001b[0;32m/usr/local/lib/python3.8/dist-packages/approx_post/losses.py\u001b[0m in \u001b[0;36m_eval_controlvariates\u001b[0;34m(self, approx, phi, x, num_samples, prngkey)\u001b[0m\n\u001b[1;32m    375\u001b[0m             \u001b[0mnum_samples\u001b[0m \u001b[0;34m=\u001b[0m \u001b[0mself\u001b[0m\u001b[0;34m.\u001b[0m\u001b[0m_default_num_samples\u001b[0m\u001b[0;34m[\u001b[0m\u001b[0;34m'cv'\u001b[0m\u001b[0;34m]\u001b[0m\u001b[0;34m\u001b[0m\u001b[0;34m\u001b[0m\u001b[0m\n\u001b[1;32m    376\u001b[0m \u001b[0;34m\u001b[0m\u001b[0m\n\u001b[0;32m--> 377\u001b[0;31m         \u001b[0mtheta\u001b[0m \u001b[0;34m=\u001b[0m \u001b[0mapprox\u001b[0m\u001b[0;34m.\u001b[0m\u001b[0msample\u001b[0m\u001b[0;34m(\u001b[0m\u001b[0mnum_samples\u001b[0m\u001b[0;34m,\u001b[0m \u001b[0mprngkey\u001b[0m\u001b[0;34m,\u001b[0m \u001b[0mphi\u001b[0m\u001b[0;34m=\u001b[0m\u001b[0mphi\u001b[0m\u001b[0;34m)\u001b[0m \u001b[0;31m# shape = (num_batch, num_samples, theta_dim)\u001b[0m\u001b[0;34m\u001b[0m\u001b[0;34m\u001b[0m\u001b[0m\n\u001b[0m\u001b[1;32m    378\u001b[0m \u001b[0;34m\u001b[0m\u001b[0m\n\u001b[1;32m    379\u001b[0m         \u001b[0mapprox_lp\u001b[0m \u001b[0;34m=\u001b[0m \u001b[0mapprox\u001b[0m\u001b[0;34m.\u001b[0m\u001b[0mlogpdf\u001b[0m\u001b[0;34m(\u001b[0m\u001b[0mtheta\u001b[0m\u001b[0;34m,\u001b[0m \u001b[0mphi\u001b[0m\u001b[0;34m=\u001b[0m\u001b[0mphi\u001b[0m\u001b[0;34m)\u001b[0m  \u001b[0;31m# shape = (num_batch, num_samples)\u001b[0m\u001b[0;34m\u001b[0m\u001b[0;34m\u001b[0m\u001b[0m\n",
      "\u001b[0;32m/usr/local/lib/python3.8/dist-packages/approx_post/distributions/approx.py\u001b[0m in \u001b[0;36msample\u001b[0;34m(self, num_samples, prngkey, phi)\u001b[0m\n\u001b[1;32m    118\u001b[0m         \u001b[0mphi\u001b[0m \u001b[0;34m=\u001b[0m \u001b[0mself\u001b[0m\u001b[0;34m.\u001b[0m\u001b[0m_get_phi\u001b[0m\u001b[0;34m(\u001b[0m\u001b[0mphi\u001b[0m\u001b[0;34m)\u001b[0m\u001b[0;34m\u001b[0m\u001b[0;34m\u001b[0m\u001b[0m\n\u001b[1;32m    119\u001b[0m         \u001b[0;32mif\u001b[0m \u001b[0;34m'sample'\u001b[0m \u001b[0;32min\u001b[0m \u001b[0mself\u001b[0m\u001b[0;34m.\u001b[0m\u001b[0m_jaxfunc_dict\u001b[0m\u001b[0;34m:\u001b[0m\u001b[0;34m\u001b[0m\u001b[0;34m\u001b[0m\u001b[0m\n\u001b[0;32m--> 120\u001b[0;31m             \u001b[0mtheta\u001b[0m \u001b[0;34m=\u001b[0m \u001b[0mself\u001b[0m\u001b[0;34m.\u001b[0m\u001b[0m_jaxfunc_dict\u001b[0m\u001b[0;34m[\u001b[0m\u001b[0;34m'sample'\u001b[0m\u001b[0;34m]\u001b[0m\u001b[0;34m(\u001b[0m\u001b[0mnum_samples\u001b[0m\u001b[0;34m,\u001b[0m \u001b[0mphi\u001b[0m\u001b[0;34m,\u001b[0m \u001b[0mprngkey\u001b[0m\u001b[0;34m)\u001b[0m\u001b[0;34m\u001b[0m\u001b[0;34m\u001b[0m\u001b[0m\n\u001b[0m\u001b[1;32m    121\u001b[0m         \u001b[0;32melif\u001b[0m \u001b[0;34m(\u001b[0m\u001b[0;34m'sample_base'\u001b[0m \u001b[0;32min\u001b[0m \u001b[0mself\u001b[0m\u001b[0;34m.\u001b[0m\u001b[0m_jaxfunc_dict\u001b[0m\u001b[0;34m)\u001b[0m \u001b[0;32mand\u001b[0m \u001b[0;34m(\u001b[0m\u001b[0;34m'transform'\u001b[0m \u001b[0;32min\u001b[0m \u001b[0mself\u001b[0m\u001b[0;34m.\u001b[0m\u001b[0m_jaxfunc_dict\u001b[0m\u001b[0;34m)\u001b[0m\u001b[0;34m:\u001b[0m\u001b[0;34m\u001b[0m\u001b[0;34m\u001b[0m\u001b[0m\n\u001b[1;32m    122\u001b[0m             \u001b[0mepsilon\u001b[0m \u001b[0;34m=\u001b[0m \u001b[0mself\u001b[0m\u001b[0;34m.\u001b[0m\u001b[0m_jaxfunc_dict\u001b[0m\u001b[0;34m[\u001b[0m\u001b[0;34m'sample_base'\u001b[0m\u001b[0;34m]\u001b[0m\u001b[0;34m(\u001b[0m\u001b[0mnum_samples\u001b[0m\u001b[0;34m,\u001b[0m \u001b[0mprngkey\u001b[0m\u001b[0;34m)\u001b[0m\u001b[0;34m\u001b[0m\u001b[0;34m\u001b[0m\u001b[0m\n",
      "    \u001b[0;31m[... skipping hidden 1 frame]\u001b[0m\n",
      "\u001b[0;32m~/.local/lib/python3.8/site-packages/jax/_src/api.py\u001b[0m in \u001b[0;36mbatched_fun\u001b[0;34m(*args, **kwargs)\u001b[0m\n\u001b[1;32m   1450\u001b[0m     \u001b[0min_axes_flat\u001b[0m \u001b[0;34m=\u001b[0m \u001b[0mflatten_axes\u001b[0m\u001b[0;34m(\u001b[0m\u001b[0;34m\"vmap in_axes\"\u001b[0m\u001b[0;34m,\u001b[0m \u001b[0min_tree\u001b[0m\u001b[0;34m,\u001b[0m \u001b[0;34m(\u001b[0m\u001b[0min_axes\u001b[0m\u001b[0;34m,\u001b[0m \u001b[0;36m0\u001b[0m\u001b[0;34m)\u001b[0m\u001b[0;34m,\u001b[0m \u001b[0mkws\u001b[0m\u001b[0;34m=\u001b[0m\u001b[0;32mTrue\u001b[0m\u001b[0;34m)\u001b[0m\u001b[0;34m\u001b[0m\u001b[0;34m\u001b[0m\u001b[0m\n\u001b[1;32m   1451\u001b[0m     \u001b[0maxis_size\u001b[0m \u001b[0;34m=\u001b[0m \u001b[0m_mapped_axis_size\u001b[0m\u001b[0;34m(\u001b[0m\u001b[0min_tree\u001b[0m\u001b[0;34m,\u001b[0m \u001b[0margs_flat\u001b[0m\u001b[0;34m,\u001b[0m \u001b[0min_axes_flat\u001b[0m\u001b[0;34m,\u001b[0m \u001b[0;34m\"vmap\"\u001b[0m\u001b[0;34m,\u001b[0m \u001b[0mkws\u001b[0m\u001b[0;34m=\u001b[0m\u001b[0;32mTrue\u001b[0m\u001b[0;34m)\u001b[0m\u001b[0;34m\u001b[0m\u001b[0;34m\u001b[0m\u001b[0m\n\u001b[0;32m-> 1452\u001b[0;31m     out_flat = batching.batch(\n\u001b[0m\u001b[1;32m   1453\u001b[0m         \u001b[0mflat_fun\u001b[0m\u001b[0;34m,\u001b[0m \u001b[0maxis_name\u001b[0m\u001b[0;34m,\u001b[0m \u001b[0maxis_size\u001b[0m\u001b[0;34m,\u001b[0m \u001b[0min_axes_flat\u001b[0m\u001b[0;34m,\u001b[0m\u001b[0;34m\u001b[0m\u001b[0;34m\u001b[0m\u001b[0m\n\u001b[1;32m   1454\u001b[0m         \u001b[0;32mlambda\u001b[0m\u001b[0;34m:\u001b[0m \u001b[0mflatten_axes\u001b[0m\u001b[0;34m(\u001b[0m\u001b[0;34m\"vmap out_axes\"\u001b[0m\u001b[0;34m,\u001b[0m \u001b[0mout_tree\u001b[0m\u001b[0;34m(\u001b[0m\u001b[0;34m)\u001b[0m\u001b[0;34m,\u001b[0m \u001b[0mout_axes\u001b[0m\u001b[0;34m)\u001b[0m\u001b[0;34m\u001b[0m\u001b[0;34m\u001b[0m\u001b[0m\n",
      "\u001b[0;32m~/.local/lib/python3.8/site-packages/jax/linear_util.py\u001b[0m in \u001b[0;36mcall_wrapped\u001b[0;34m(self, *args, **kwargs)\u001b[0m\n\u001b[1;32m    164\u001b[0m \u001b[0;34m\u001b[0m\u001b[0m\n\u001b[1;32m    165\u001b[0m     \u001b[0;32mtry\u001b[0m\u001b[0;34m:\u001b[0m\u001b[0;34m\u001b[0m\u001b[0;34m\u001b[0m\u001b[0m\n\u001b[0;32m--> 166\u001b[0;31m       \u001b[0mans\u001b[0m \u001b[0;34m=\u001b[0m \u001b[0mself\u001b[0m\u001b[0;34m.\u001b[0m\u001b[0mf\u001b[0m\u001b[0;34m(\u001b[0m\u001b[0;34m*\u001b[0m\u001b[0margs\u001b[0m\u001b[0;34m,\u001b[0m \u001b[0;34m**\u001b[0m\u001b[0mdict\u001b[0m\u001b[0;34m(\u001b[0m\u001b[0mself\u001b[0m\u001b[0;34m.\u001b[0m\u001b[0mparams\u001b[0m\u001b[0;34m,\u001b[0m \u001b[0;34m**\u001b[0m\u001b[0mkwargs\u001b[0m\u001b[0;34m)\u001b[0m\u001b[0;34m)\u001b[0m\u001b[0;34m\u001b[0m\u001b[0;34m\u001b[0m\u001b[0m\n\u001b[0m\u001b[1;32m    167\u001b[0m     \u001b[0;32mexcept\u001b[0m\u001b[0;34m:\u001b[0m\u001b[0;34m\u001b[0m\u001b[0;34m\u001b[0m\u001b[0m\n\u001b[1;32m    168\u001b[0m       \u001b[0;31m# Some transformations yield from inside context managers, so we have to\u001b[0m\u001b[0;34m\u001b[0m\u001b[0;34m\u001b[0m\u001b[0;34m\u001b[0m\u001b[0m\n",
      "\u001b[0;32m/usr/local/lib/python3.8/dist-packages/approx_post/distributions/approx.py\u001b[0m in \u001b[0;36msample\u001b[0;34m(num_samples, phi, prngkey)\u001b[0m\n\u001b[1;32m    249\u001b[0m \u001b[0;34m\u001b[0m\u001b[0m\n\u001b[1;32m    250\u001b[0m         \u001b[0;32mdef\u001b[0m \u001b[0msample\u001b[0m\u001b[0;34m(\u001b[0m\u001b[0mnum_samples\u001b[0m\u001b[0;34m,\u001b[0m \u001b[0mphi\u001b[0m\u001b[0;34m,\u001b[0m \u001b[0mprngkey\u001b[0m\u001b[0;34m)\u001b[0m\u001b[0;34m:\u001b[0m\u001b[0;34m\u001b[0m\u001b[0;34m\u001b[0m\u001b[0m\n\u001b[0;32m--> 251\u001b[0;31m             \u001b[0mepsilon\u001b[0m \u001b[0;34m=\u001b[0m \u001b[0msample_base\u001b[0m\u001b[0;34m(\u001b[0m\u001b[0mnum_samples\u001b[0m\u001b[0;34m,\u001b[0m \u001b[0mprngkey\u001b[0m\u001b[0;34m)\u001b[0m\u001b[0;34m\u001b[0m\u001b[0;34m\u001b[0m\u001b[0m\n\u001b[0m\u001b[1;32m    252\u001b[0m             \u001b[0;32mreturn\u001b[0m \u001b[0mtransform_vmap\u001b[0m\u001b[0;34m(\u001b[0m\u001b[0mepsilon\u001b[0m\u001b[0;34m,\u001b[0m \u001b[0mphi\u001b[0m\u001b[0;34m)\u001b[0m\u001b[0;34m\u001b[0m\u001b[0;34m\u001b[0m\u001b[0m\n\u001b[1;32m    253\u001b[0m \u001b[0;34m\u001b[0m\u001b[0m\n",
      "\u001b[0;32m/usr/local/lib/python3.8/dist-packages/approx_post/distributions/approx.py\u001b[0m in \u001b[0;36msample_base\u001b[0;34m(num_samples, prngkey)\u001b[0m\n\u001b[1;32m    253\u001b[0m \u001b[0;34m\u001b[0m\u001b[0m\n\u001b[1;32m    254\u001b[0m         \u001b[0;32mdef\u001b[0m \u001b[0msample_base\u001b[0m\u001b[0;34m(\u001b[0m\u001b[0mnum_samples\u001b[0m\u001b[0;34m,\u001b[0m \u001b[0mprngkey\u001b[0m\u001b[0;34m)\u001b[0m\u001b[0;34m:\u001b[0m\u001b[0;34m\u001b[0m\u001b[0;34m\u001b[0m\u001b[0m\n\u001b[0;32m--> 255\u001b[0;31m             \u001b[0;32mreturn\u001b[0m \u001b[0mmvn_sample\u001b[0m\u001b[0;34m(\u001b[0m\u001b[0mkey\u001b[0m\u001b[0;34m=\u001b[0m\u001b[0mprngkey\u001b[0m\u001b[0;34m,\u001b[0m \u001b[0mmean\u001b[0m\u001b[0;34m=\u001b[0m\u001b[0mjnp\u001b[0m\u001b[0;34m.\u001b[0m\u001b[0mzeros\u001b[0m\u001b[0;34m(\u001b[0m\u001b[0mndim\u001b[0m\u001b[0;34m)\u001b[0m\u001b[0;34m,\u001b[0m \u001b[0mcov\u001b[0m\u001b[0;34m=\u001b[0m\u001b[0mjnp\u001b[0m\u001b[0;34m.\u001b[0m\u001b[0midentity\u001b[0m\u001b[0;34m(\u001b[0m\u001b[0mndim\u001b[0m\u001b[0;34m)\u001b[0m\u001b[0;34m,\u001b[0m \u001b[0mshape\u001b[0m\u001b[0;34m=\u001b[0m\u001b[0;34m(\u001b[0m\u001b[0mnum_samples\u001b[0m\u001b[0;34m,\u001b[0m\u001b[0;34m)\u001b[0m\u001b[0;34m)\u001b[0m\u001b[0;34m\u001b[0m\u001b[0;34m\u001b[0m\u001b[0m\n\u001b[0m\u001b[1;32m    256\u001b[0m \u001b[0;34m\u001b[0m\u001b[0m\n\u001b[1;32m    257\u001b[0m         \u001b[0;32mreturn\u001b[0m \u001b[0massemble_cholesky\u001b[0m\u001b[0;34m,\u001b[0m \u001b[0massemble_covariance\u001b[0m\u001b[0;34m,\u001b[0m \u001b[0mlogpdf\u001b[0m\u001b[0;34m,\u001b[0m \u001b[0msample\u001b[0m\u001b[0;34m,\u001b[0m \u001b[0msample_base\u001b[0m\u001b[0;34m,\u001b[0m \u001b[0mtransform\u001b[0m\u001b[0;34m\u001b[0m\u001b[0;34m\u001b[0m\u001b[0m\n",
      "\u001b[0;32m~/.local/lib/python3.8/site-packages/jax/_src/numpy/lax_numpy.py\u001b[0m in \u001b[0;36mzeros\u001b[0;34m(shape, dtype)\u001b[0m\n\u001b[1;32m   3663\u001b[0m   \u001b[0mdtype\u001b[0m \u001b[0;34m=\u001b[0m \u001b[0mfloat_\u001b[0m \u001b[0;32mif\u001b[0m \u001b[0mdtype\u001b[0m \u001b[0;32mis\u001b[0m \u001b[0;32mNone\u001b[0m \u001b[0;32melse\u001b[0m \u001b[0mdtype\u001b[0m\u001b[0;34m\u001b[0m\u001b[0;34m\u001b[0m\u001b[0m\n\u001b[1;32m   3664\u001b[0m   \u001b[0mshape\u001b[0m \u001b[0;34m=\u001b[0m \u001b[0;34m(\u001b[0m\u001b[0mshape\u001b[0m\u001b[0;34m,\u001b[0m\u001b[0;34m)\u001b[0m \u001b[0;32mif\u001b[0m \u001b[0mndim\u001b[0m\u001b[0;34m(\u001b[0m\u001b[0mshape\u001b[0m\u001b[0;34m)\u001b[0m \u001b[0;34m==\u001b[0m \u001b[0;36m0\u001b[0m \u001b[0;32melse\u001b[0m \u001b[0mshape\u001b[0m\u001b[0;34m\u001b[0m\u001b[0;34m\u001b[0m\u001b[0m\n\u001b[0;32m-> 3665\u001b[0;31m   \u001b[0;32mreturn\u001b[0m \u001b[0mlax\u001b[0m\u001b[0;34m.\u001b[0m\u001b[0mfull\u001b[0m\u001b[0;34m(\u001b[0m\u001b[0mshape\u001b[0m\u001b[0;34m,\u001b[0m \u001b[0;36m0\u001b[0m\u001b[0;34m,\u001b[0m \u001b[0mdtype\u001b[0m\u001b[0;34m)\u001b[0m\u001b[0;34m\u001b[0m\u001b[0;34m\u001b[0m\u001b[0m\n\u001b[0m\u001b[1;32m   3666\u001b[0m \u001b[0;34m\u001b[0m\u001b[0m\n\u001b[1;32m   3667\u001b[0m \u001b[0;34m@\u001b[0m\u001b[0m_wraps\u001b[0m\u001b[0;34m(\u001b[0m\u001b[0mnp\u001b[0m\u001b[0;34m.\u001b[0m\u001b[0mones\u001b[0m\u001b[0;34m)\u001b[0m\u001b[0;34m\u001b[0m\u001b[0;34m\u001b[0m\u001b[0m\n",
      "\u001b[0;32m~/.local/lib/python3.8/site-packages/jax/_src/lax/lax.py\u001b[0m in \u001b[0;36mfull\u001b[0;34m(shape, fill_value, dtype)\u001b[0m\n\u001b[1;32m   1725\u001b[0m   \u001b[0mweak_type\u001b[0m \u001b[0;34m=\u001b[0m \u001b[0mdtype\u001b[0m \u001b[0;32mis\u001b[0m \u001b[0;32mNone\u001b[0m \u001b[0;32mand\u001b[0m \u001b[0mdtypes\u001b[0m\u001b[0;34m.\u001b[0m\u001b[0mis_weakly_typed\u001b[0m\u001b[0;34m(\u001b[0m\u001b[0mfill_value\u001b[0m\u001b[0;34m)\u001b[0m\u001b[0;34m\u001b[0m\u001b[0;34m\u001b[0m\u001b[0m\n\u001b[1;32m   1726\u001b[0m   \u001b[0mdtype\u001b[0m \u001b[0;34m=\u001b[0m \u001b[0mdtypes\u001b[0m\u001b[0;34m.\u001b[0m\u001b[0mcanonicalize_dtype\u001b[0m\u001b[0;34m(\u001b[0m\u001b[0mdtype\u001b[0m \u001b[0;32mor\u001b[0m \u001b[0m_dtype\u001b[0m\u001b[0;34m(\u001b[0m\u001b[0mfill_value\u001b[0m\u001b[0;34m)\u001b[0m\u001b[0;34m)\u001b[0m\u001b[0;34m\u001b[0m\u001b[0;34m\u001b[0m\u001b[0m\n\u001b[0;32m-> 1727\u001b[0;31m   \u001b[0mfill_value\u001b[0m \u001b[0;34m=\u001b[0m \u001b[0m_convert_element_type\u001b[0m\u001b[0;34m(\u001b[0m\u001b[0mfill_value\u001b[0m\u001b[0;34m,\u001b[0m \u001b[0mdtype\u001b[0m\u001b[0;34m,\u001b[0m \u001b[0mweak_type\u001b[0m\u001b[0;34m)\u001b[0m\u001b[0;34m\u001b[0m\u001b[0;34m\u001b[0m\u001b[0m\n\u001b[0m\u001b[1;32m   1728\u001b[0m   \u001b[0;32mreturn\u001b[0m \u001b[0mbroadcast\u001b[0m\u001b[0;34m(\u001b[0m\u001b[0mfill_value\u001b[0m\u001b[0;34m,\u001b[0m \u001b[0mshape\u001b[0m\u001b[0;34m)\u001b[0m\u001b[0;34m\u001b[0m\u001b[0;34m\u001b[0m\u001b[0m\n\u001b[1;32m   1729\u001b[0m \u001b[0;34m\u001b[0m\u001b[0m\n",
      "\u001b[0;32m~/.local/lib/python3.8/site-packages/jax/_src/lax/lax.py\u001b[0m in \u001b[0;36m_convert_element_type\u001b[0;34m(operand, new_dtype, weak_type)\u001b[0m\n\u001b[1;32m    478\u001b[0m     \u001b[0;32mreturn\u001b[0m \u001b[0moperand\u001b[0m\u001b[0;34m\u001b[0m\u001b[0;34m\u001b[0m\u001b[0m\n\u001b[1;32m    479\u001b[0m   \u001b[0;32melse\u001b[0m\u001b[0;34m:\u001b[0m\u001b[0;34m\u001b[0m\u001b[0;34m\u001b[0m\u001b[0m\n\u001b[0;32m--> 480\u001b[0;31m     return convert_element_type_p.bind(operand, new_dtype=new_dtype,\n\u001b[0m\u001b[1;32m    481\u001b[0m                                        weak_type=new_weak_type)\n\u001b[1;32m    482\u001b[0m \u001b[0;34m\u001b[0m\u001b[0m\n",
      "\u001b[0;32m~/.local/lib/python3.8/site-packages/jax/core.py\u001b[0m in \u001b[0;36mbind\u001b[0;34m(self, *args, **params)\u001b[0m\n\u001b[1;32m    270\u001b[0m         args, used_axis_names(self, params) if self._dispatch_on_params else None)\n\u001b[1;32m    271\u001b[0m     \u001b[0mtracers\u001b[0m \u001b[0;34m=\u001b[0m \u001b[0mmap\u001b[0m\u001b[0;34m(\u001b[0m\u001b[0mtop_trace\u001b[0m\u001b[0;34m.\u001b[0m\u001b[0mfull_raise\u001b[0m\u001b[0;34m,\u001b[0m \u001b[0margs\u001b[0m\u001b[0;34m)\u001b[0m\u001b[0;34m\u001b[0m\u001b[0;34m\u001b[0m\u001b[0m\n\u001b[0;32m--> 272\u001b[0;31m     \u001b[0mout\u001b[0m \u001b[0;34m=\u001b[0m \u001b[0mtop_trace\u001b[0m\u001b[0;34m.\u001b[0m\u001b[0mprocess_primitive\u001b[0m\u001b[0;34m(\u001b[0m\u001b[0mself\u001b[0m\u001b[0;34m,\u001b[0m \u001b[0mtracers\u001b[0m\u001b[0;34m,\u001b[0m \u001b[0mparams\u001b[0m\u001b[0;34m)\u001b[0m\u001b[0;34m\u001b[0m\u001b[0;34m\u001b[0m\u001b[0m\n\u001b[0m\u001b[1;32m    273\u001b[0m     \u001b[0;32mreturn\u001b[0m \u001b[0mmap\u001b[0m\u001b[0;34m(\u001b[0m\u001b[0mfull_lower\u001b[0m\u001b[0;34m,\u001b[0m \u001b[0mout\u001b[0m\u001b[0;34m)\u001b[0m \u001b[0;32mif\u001b[0m \u001b[0mself\u001b[0m\u001b[0;34m.\u001b[0m\u001b[0mmultiple_results\u001b[0m \u001b[0;32melse\u001b[0m \u001b[0mfull_lower\u001b[0m\u001b[0;34m(\u001b[0m\u001b[0mout\u001b[0m\u001b[0;34m)\u001b[0m\u001b[0;34m\u001b[0m\u001b[0;34m\u001b[0m\u001b[0m\n\u001b[1;32m    274\u001b[0m \u001b[0;34m\u001b[0m\u001b[0m\n",
      "\u001b[0;32m~/.local/lib/python3.8/site-packages/jax/core.py\u001b[0m in \u001b[0;36mprocess_primitive\u001b[0;34m(self, primitive, tracers, params)\u001b[0m\n\u001b[1;32m    622\u001b[0m \u001b[0;34m\u001b[0m\u001b[0m\n\u001b[1;32m    623\u001b[0m   \u001b[0;32mdef\u001b[0m \u001b[0mprocess_primitive\u001b[0m\u001b[0;34m(\u001b[0m\u001b[0mself\u001b[0m\u001b[0;34m,\u001b[0m \u001b[0mprimitive\u001b[0m\u001b[0;34m,\u001b[0m \u001b[0mtracers\u001b[0m\u001b[0;34m,\u001b[0m \u001b[0mparams\u001b[0m\u001b[0;34m)\u001b[0m\u001b[0;34m:\u001b[0m\u001b[0;34m\u001b[0m\u001b[0;34m\u001b[0m\u001b[0m\n\u001b[0;32m--> 624\u001b[0;31m     \u001b[0;32mreturn\u001b[0m \u001b[0mprimitive\u001b[0m\u001b[0;34m.\u001b[0m\u001b[0mimpl\u001b[0m\u001b[0;34m(\u001b[0m\u001b[0;34m*\u001b[0m\u001b[0mtracers\u001b[0m\u001b[0;34m,\u001b[0m \u001b[0;34m**\u001b[0m\u001b[0mparams\u001b[0m\u001b[0;34m)\u001b[0m\u001b[0;34m\u001b[0m\u001b[0;34m\u001b[0m\u001b[0m\n\u001b[0m\u001b[1;32m    625\u001b[0m \u001b[0;34m\u001b[0m\u001b[0m\n\u001b[1;32m    626\u001b[0m   \u001b[0;32mdef\u001b[0m \u001b[0mprocess_call\u001b[0m\u001b[0;34m(\u001b[0m\u001b[0mself\u001b[0m\u001b[0;34m,\u001b[0m \u001b[0mprimitive\u001b[0m\u001b[0;34m,\u001b[0m \u001b[0mf\u001b[0m\u001b[0;34m,\u001b[0m \u001b[0mtracers\u001b[0m\u001b[0;34m,\u001b[0m \u001b[0mparams\u001b[0m\u001b[0;34m)\u001b[0m\u001b[0;34m:\u001b[0m\u001b[0;34m\u001b[0m\u001b[0;34m\u001b[0m\u001b[0m\n",
      "\u001b[0;32m~/.local/lib/python3.8/site-packages/jax/interpreters/xla.py\u001b[0m in \u001b[0;36mapply_primitive\u001b[0;34m(prim, *args, **params)\u001b[0m\n\u001b[1;32m    416\u001b[0m   compiled_fun = xla_primitive_callable(prim, *unsafe_map(arg_spec, args),\n\u001b[1;32m    417\u001b[0m                                         **params)\n\u001b[0;32m--> 418\u001b[0;31m   \u001b[0;32mreturn\u001b[0m \u001b[0mcompiled_fun\u001b[0m\u001b[0;34m(\u001b[0m\u001b[0;34m*\u001b[0m\u001b[0margs\u001b[0m\u001b[0;34m)\u001b[0m\u001b[0;34m\u001b[0m\u001b[0;34m\u001b[0m\u001b[0m\n\u001b[0m\u001b[1;32m    419\u001b[0m \u001b[0;34m\u001b[0m\u001b[0m\n\u001b[1;32m    420\u001b[0m \u001b[0;34m\u001b[0m\u001b[0m\n",
      "\u001b[0;32m~/.local/lib/python3.8/site-packages/jax/interpreters/xla.py\u001b[0m in \u001b[0;36m<lambda>\u001b[0;34m(*args, **kw)\u001b[0m\n\u001b[1;32m    440\u001b[0m                                     prim.name, donated_invars, *arg_specs)\n\u001b[1;32m    441\u001b[0m   \u001b[0;32mif\u001b[0m \u001b[0;32mnot\u001b[0m \u001b[0mprim\u001b[0m\u001b[0;34m.\u001b[0m\u001b[0mmultiple_results\u001b[0m\u001b[0;34m:\u001b[0m\u001b[0;34m\u001b[0m\u001b[0;34m\u001b[0m\u001b[0m\n\u001b[0;32m--> 442\u001b[0;31m     \u001b[0;32mreturn\u001b[0m \u001b[0;32mlambda\u001b[0m \u001b[0;34m*\u001b[0m\u001b[0margs\u001b[0m\u001b[0;34m,\u001b[0m \u001b[0;34m**\u001b[0m\u001b[0mkw\u001b[0m\u001b[0;34m:\u001b[0m \u001b[0mcompiled\u001b[0m\u001b[0;34m(\u001b[0m\u001b[0;34m*\u001b[0m\u001b[0margs\u001b[0m\u001b[0;34m,\u001b[0m \u001b[0;34m**\u001b[0m\u001b[0mkw\u001b[0m\u001b[0;34m)\u001b[0m\u001b[0;34m[\u001b[0m\u001b[0;36m0\u001b[0m\u001b[0;34m]\u001b[0m\u001b[0;34m\u001b[0m\u001b[0;34m\u001b[0m\u001b[0m\n\u001b[0m\u001b[1;32m    443\u001b[0m   \u001b[0;32melse\u001b[0m\u001b[0;34m:\u001b[0m\u001b[0;34m\u001b[0m\u001b[0;34m\u001b[0m\u001b[0m\n\u001b[1;32m    444\u001b[0m     \u001b[0;32mreturn\u001b[0m \u001b[0mcompiled\u001b[0m\u001b[0;34m\u001b[0m\u001b[0;34m\u001b[0m\u001b[0m\n",
      "\u001b[0;32m~/.local/lib/python3.8/site-packages/jax/interpreters/xla.py\u001b[0m in \u001b[0;36m_execute_compiled\u001b[0;34m(name, compiled, output_buffer_counts, handlers, kept_var_idx, *args)\u001b[0m\n\u001b[1;32m   1093\u001b[0m                       kept_var_idx, *args):\n\u001b[1;32m   1094\u001b[0m   \u001b[0mdevice\u001b[0m\u001b[0;34m,\u001b[0m \u001b[0;34m=\u001b[0m \u001b[0mcompiled\u001b[0m\u001b[0;34m.\u001b[0m\u001b[0mlocal_devices\u001b[0m\u001b[0;34m(\u001b[0m\u001b[0;34m)\u001b[0m\u001b[0;34m\u001b[0m\u001b[0;34m\u001b[0m\u001b[0m\n\u001b[0;32m-> 1095\u001b[0;31m   input_bufs = list(\n\u001b[0m\u001b[1;32m   1096\u001b[0m       it.chain.from_iterable(\n\u001b[1;32m   1097\u001b[0m           \u001b[0mdevice_put\u001b[0m\u001b[0;34m(\u001b[0m\u001b[0mx\u001b[0m\u001b[0;34m,\u001b[0m \u001b[0mdevice\u001b[0m\u001b[0;34m)\u001b[0m\u001b[0;34m\u001b[0m\u001b[0;34m\u001b[0m\u001b[0m\n",
      "\u001b[0;32m~/.local/lib/python3.8/site-packages/jax/interpreters/xla.py\u001b[0m in \u001b[0;36m<genexpr>\u001b[0;34m(.0)\u001b[0m\n\u001b[1;32m   1095\u001b[0m   input_bufs = list(\n\u001b[1;32m   1096\u001b[0m       it.chain.from_iterable(\n\u001b[0;32m-> 1097\u001b[0;31m           \u001b[0mdevice_put\u001b[0m\u001b[0;34m(\u001b[0m\u001b[0mx\u001b[0m\u001b[0;34m,\u001b[0m \u001b[0mdevice\u001b[0m\u001b[0;34m)\u001b[0m\u001b[0;34m\u001b[0m\u001b[0;34m\u001b[0m\u001b[0m\n\u001b[0m\u001b[1;32m   1098\u001b[0m           \u001b[0;32mfor\u001b[0m \u001b[0mi\u001b[0m\u001b[0;34m,\u001b[0m \u001b[0mx\u001b[0m \u001b[0;32min\u001b[0m \u001b[0menumerate\u001b[0m\u001b[0;34m(\u001b[0m\u001b[0margs\u001b[0m\u001b[0;34m)\u001b[0m\u001b[0;34m\u001b[0m\u001b[0;34m\u001b[0m\u001b[0m\n\u001b[1;32m   1099\u001b[0m           if x is not token and i in kept_var_idx))\n",
      "\u001b[0;32m~/.local/lib/python3.8/site-packages/jax/interpreters/xla.py\u001b[0m in \u001b[0;36mdevice_put\u001b[0;34m(x, device)\u001b[0m\n\u001b[1;32m    299\u001b[0m   \u001b[0mx\u001b[0m \u001b[0;34m=\u001b[0m \u001b[0mcanonicalize_dtype\u001b[0m\u001b[0;34m(\u001b[0m\u001b[0mx\u001b[0m\u001b[0;34m)\u001b[0m\u001b[0;34m\u001b[0m\u001b[0;34m\u001b[0m\u001b[0m\n\u001b[1;32m    300\u001b[0m   \u001b[0;32mtry\u001b[0m\u001b[0;34m:\u001b[0m\u001b[0;34m\u001b[0m\u001b[0;34m\u001b[0m\u001b[0m\n\u001b[0;32m--> 301\u001b[0;31m     \u001b[0;32mreturn\u001b[0m \u001b[0mdevice_put_handlers\u001b[0m\u001b[0;34m[\u001b[0m\u001b[0mtype\u001b[0m\u001b[0;34m(\u001b[0m\u001b[0mx\u001b[0m\u001b[0;34m)\u001b[0m\u001b[0;34m]\u001b[0m\u001b[0;34m(\u001b[0m\u001b[0mx\u001b[0m\u001b[0;34m,\u001b[0m \u001b[0mdevice\u001b[0m\u001b[0;34m)\u001b[0m\u001b[0;34m\u001b[0m\u001b[0;34m\u001b[0m\u001b[0m\n\u001b[0m\u001b[1;32m    302\u001b[0m   \u001b[0;32mexcept\u001b[0m \u001b[0mKeyError\u001b[0m \u001b[0;32mas\u001b[0m \u001b[0merr\u001b[0m\u001b[0;34m:\u001b[0m\u001b[0;34m\u001b[0m\u001b[0;34m\u001b[0m\u001b[0m\n\u001b[1;32m    303\u001b[0m     \u001b[0;32mraise\u001b[0m \u001b[0mTypeError\u001b[0m\u001b[0;34m(\u001b[0m\u001b[0;34mf\"No device_put handler for type: {type(x)}\"\u001b[0m\u001b[0;34m)\u001b[0m \u001b[0;32mfrom\u001b[0m \u001b[0merr\u001b[0m\u001b[0;34m\u001b[0m\u001b[0;34m\u001b[0m\u001b[0m\n",
      "\u001b[0;32m~/.local/lib/python3.8/site-packages/jax/interpreters/xla.py\u001b[0m in \u001b[0;36m_device_put_array\u001b[0;34m(x, device)\u001b[0m\n\u001b[1;32m    304\u001b[0m \u001b[0;34m\u001b[0m\u001b[0m\n\u001b[1;32m    305\u001b[0m \u001b[0;32mdef\u001b[0m \u001b[0m_device_put_array\u001b[0m\u001b[0;34m(\u001b[0m\u001b[0mx\u001b[0m\u001b[0;34m,\u001b[0m \u001b[0mdevice\u001b[0m\u001b[0;34m:\u001b[0m \u001b[0mOptional\u001b[0m\u001b[0;34m[\u001b[0m\u001b[0mDevice\u001b[0m\u001b[0;34m]\u001b[0m\u001b[0;34m)\u001b[0m\u001b[0;34m:\u001b[0m\u001b[0;34m\u001b[0m\u001b[0;34m\u001b[0m\u001b[0m\n\u001b[0;32m--> 306\u001b[0;31m   \u001b[0mbackend\u001b[0m \u001b[0;34m=\u001b[0m \u001b[0mxb\u001b[0m\u001b[0;34m.\u001b[0m\u001b[0mget_device_backend\u001b[0m\u001b[0;34m(\u001b[0m\u001b[0mdevice\u001b[0m\u001b[0;34m)\u001b[0m\u001b[0;34m\u001b[0m\u001b[0;34m\u001b[0m\u001b[0m\n\u001b[0m\u001b[1;32m    307\u001b[0m   \u001b[0;32mif\u001b[0m \u001b[0mx\u001b[0m\u001b[0;34m.\u001b[0m\u001b[0mdtype\u001b[0m \u001b[0;32mis\u001b[0m \u001b[0mdtypes\u001b[0m\u001b[0;34m.\u001b[0m\u001b[0mfloat0\u001b[0m\u001b[0;34m:\u001b[0m\u001b[0;34m\u001b[0m\u001b[0;34m\u001b[0m\u001b[0m\n\u001b[1;32m    308\u001b[0m     \u001b[0mx\u001b[0m \u001b[0;34m=\u001b[0m \u001b[0mnp\u001b[0m\u001b[0;34m.\u001b[0m\u001b[0mzeros\u001b[0m\u001b[0;34m(\u001b[0m\u001b[0mx\u001b[0m\u001b[0;34m.\u001b[0m\u001b[0mshape\u001b[0m\u001b[0;34m,\u001b[0m \u001b[0mdtype\u001b[0m\u001b[0;34m=\u001b[0m\u001b[0mnp\u001b[0m\u001b[0;34m.\u001b[0m\u001b[0mdtype\u001b[0m\u001b[0;34m(\u001b[0m\u001b[0mbool\u001b[0m\u001b[0;34m)\u001b[0m\u001b[0;34m)\u001b[0m\u001b[0;34m\u001b[0m\u001b[0;34m\u001b[0m\u001b[0m\n",
      "\u001b[0;32m~/.local/lib/python3.8/site-packages/jax/_src/lib/xla_bridge.py\u001b[0m in \u001b[0;36mget_device_backend\u001b[0;34m(device)\u001b[0m\n\u001b[1;32m    288\u001b[0m   \u001b[0;34m\"\"\"Returns the Backend associated with `device`, or the default Backend.\"\"\"\u001b[0m\u001b[0;34m\u001b[0m\u001b[0;34m\u001b[0m\u001b[0m\n\u001b[1;32m    289\u001b[0m   \u001b[0;32mif\u001b[0m \u001b[0mdevice\u001b[0m \u001b[0;32mis\u001b[0m \u001b[0;32mnot\u001b[0m \u001b[0;32mNone\u001b[0m\u001b[0;34m:\u001b[0m\u001b[0;34m\u001b[0m\u001b[0;34m\u001b[0m\u001b[0m\n\u001b[0;32m--> 290\u001b[0;31m     \u001b[0;32mreturn\u001b[0m \u001b[0mdevice\u001b[0m\u001b[0;34m.\u001b[0m\u001b[0mclient\u001b[0m\u001b[0;34m\u001b[0m\u001b[0;34m\u001b[0m\u001b[0m\n\u001b[0m\u001b[1;32m    291\u001b[0m   \u001b[0;32mreturn\u001b[0m \u001b[0mget_backend\u001b[0m\u001b[0;34m(\u001b[0m\u001b[0;34m)\u001b[0m\u001b[0;34m\u001b[0m\u001b[0;34m\u001b[0m\u001b[0m\n\u001b[1;32m    292\u001b[0m \u001b[0;34m\u001b[0m\u001b[0m\n",
      "\u001b[0;31mKeyboardInterrupt\u001b[0m: "
     ]
    }
   ],
   "source": [
    "approx_dist = approx_post.distributions.approx.Gaussian(ndim)\n",
    "prngkey = jax.random.PRNGKey(12)\n",
    "loss = approx_post.losses.ForwardKL(joint_dist, use_reparameterisation=False)\n",
    "optimiser = approx_post.optimisers.Adam()\n",
    "optimiser.fit(approx_dist, loss, data, prngkey, verbose=True, max_iter=1000, num_samples=1000)"
   ]
  },
  {
   "cell_type": "code",
   "execution_count": null,
   "id": "156c757c",
   "metadata": {},
   "outputs": [],
   "source": [
    "jnp.array(100).item()"
   ]
  },
  {
   "cell_type": "code",
   "execution_count": null,
   "id": "ddd854cf",
   "metadata": {},
   "outputs": [],
   "source": []
  }
 ],
 "metadata": {
  "kernelspec": {
   "display_name": "Python 3 (ipykernel)",
   "language": "python",
   "name": "python3"
  },
  "language_info": {
   "codemirror_mode": {
    "name": "ipython",
    "version": 3
   },
   "file_extension": ".py",
   "mimetype": "text/x-python",
   "name": "python",
   "nbconvert_exporter": "python",
   "pygments_lexer": "ipython3",
   "version": "3.8.10"
  }
 },
 "nbformat": 4,
 "nbformat_minor": 5
}
