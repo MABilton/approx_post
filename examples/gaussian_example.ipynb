{
 "cells": [
  {
   "cell_type": "code",
   "execution_count": 1,
   "id": "6d119613",
   "metadata": {
    "scrolled": false
   },
   "outputs": [],
   "source": [
    "import numpy as np\n",
    "import jax\n",
    "from numpy.random import multivariate_normal as mvn\n",
    "from approx_post.distributions import approx, joint\n",
    "from approx_post import losses, optimisers"
   ]
  },
  {
   "cell_type": "code",
   "execution_count": 2,
   "id": "c9d34649",
   "metadata": {},
   "outputs": [],
   "source": [
    "def create_data(model, true_theta, noise_cov, num_samples):\n",
    "    mean = model(true_theta)\n",
    "    samples = mvn(mean, noise_cov, num_samples)\n",
    "    return samples.reshape(num_samples, -1)"
   ]
  },
  {
   "cell_type": "code",
   "execution_count": 3,
   "id": "a94b97b2",
   "metadata": {},
   "outputs": [],
   "source": [
    "# First, let's define a model:\n",
    "ndim = 1\n",
    "model = lambda theta: theta**2\n",
    "model_grad = jax.vmap(jax.vmap(jax.jacfwd(model), in_axes=0), in_axes=0)"
   ]
  },
  {
   "cell_type": "code",
   "execution_count": 4,
   "id": "525931b1",
   "metadata": {
    "scrolled": false
   },
   "outputs": [
    {
     "name": "stdout",
     "output_type": "stream",
     "text": [
      "True theta: \n",
      " [1.51787927]\n",
      "True x = model(theta): \n",
      " [2.30395748]\n",
      "Observations x_obs = model(theta) + noise: \n",
      " [[1.87528783]]\n"
     ]
    }
   ],
   "source": [
    "# Create artificial data:\n",
    "true_theta = 2*np.random.rand(ndim)\n",
    "noise_cov = 0.5*np.identity(ndim)\n",
    "num_samples = 1\n",
    "data = create_data(model, true_theta, noise_cov, num_samples)\n",
    "print(f'True theta: \\n {true_theta}')\n",
    "print(f'True x = model(theta): \\n {model(true_theta)}')\n",
    "print(f'Observations x_obs = model(theta) + noise: \\n {data}')"
   ]
  },
  {
   "cell_type": "code",
   "execution_count": 5,
   "id": "6d14292c",
   "metadata": {},
   "outputs": [
    {
     "name": "stderr",
     "output_type": "stream",
     "text": [
      "WARNING:absl:No GPU/TPU found, falling back to CPU. (Set TF_CPP_MIN_LOG_LEVEL=0 and rerun for more info.)\n"
     ]
    }
   ],
   "source": [
    "# Create Gaussian approximate distribution:\n",
    "approx_dist = approx.Gaussian(ndim)"
   ]
  },
  {
   "cell_type": "code",
   "execution_count": 6,
   "id": "b29185ee",
   "metadata": {},
   "outputs": [],
   "source": [
    "# Create Joint distribution from forward model:\n",
    "prior_mean = np.zeros(ndim)\n",
    "prior_cov = 0.1*np.identity(ndim)\n",
    "noise_cov = 0.5*np.identity(ndim)\n",
    "joint_dist = joint.ModelPlusGaussian(model, noise_cov, prior_mean, prior_cov, model_grad)"
   ]
  },
  {
   "cell_type": "code",
   "execution_count": 11,
   "id": "3f65e949",
   "metadata": {},
   "outputs": [
    {
     "data": {
      "text/plain": [
       "DeviceArray([[-0.74462473]], dtype=float32)"
      ]
     },
     "execution_count": 11,
     "metadata": {},
     "output_type": "execute_result"
    }
   ],
   "source": [
    "key = jax.random.PRNGKey(20)\n",
    "approx_dist.sample_base(1, key)"
   ]
  },
  {
   "cell_type": "code",
   "execution_count": 7,
   "id": "732cd84b",
   "metadata": {},
   "outputs": [
    {
     "data": {
      "text/plain": [
       "DeviceArray([[[11.315588]]], dtype=float32)"
      ]
     },
     "execution_count": 7,
     "metadata": {},
     "output_type": "execute_result"
    }
   ],
   "source": [
    "key = jax.random.PRNGKey(20)\n",
    "num_batch = 1\n",
    "num_samples = 1\n",
    "x_dim = ndim\n",
    "theta = jax.random.normal(key, shape=(num_batch, num_samples, x_dim))\n",
    "x = jax.random.normal(key, shape=(num_batch, x_dim))\n",
    "joint_dist.logpdf_del_1(theta, x)"
   ]
  },
  {
   "cell_type": "code",
   "execution_count": 8,
   "id": "1498fec3",
   "metadata": {},
   "outputs": [
    {
     "data": {
      "text/plain": [
       "Jaxtainer({'chol_diag': DeviceArray([[[-0.99993795],\n",
       "              [-0.6391506 ],\n",
       "              [-0.62039256],\n",
       "              [-0.92603296],\n",
       "              [-0.97708076]]], dtype=float32), 'mean': DeviceArray([[[-0.0078783 ],\n",
       "              [-0.6007074 ],\n",
       "              [-0.6161229 ],\n",
       "              [-0.27196884],\n",
       "              [-0.151391  ]]], dtype=float32)})"
      ]
     },
     "execution_count": 8,
     "metadata": {},
     "output_type": "execute_result"
    }
   ],
   "source": [
    "key = jax.random.PRNGKey(20)\n",
    "num_batch = 1\n",
    "num_samples = 5\n",
    "x_dim = ndim\n",
    "theta = jax.random.normal(key, shape=(num_batch, num_samples, x_dim))\n",
    "approx_dist.logpdf_del_2(theta)"
   ]
  },
  {
   "cell_type": "code",
   "execution_count": 9,
   "id": "ddb55393",
   "metadata": {
    "scrolled": true
   },
   "outputs": [],
   "source": [
    "# Fit sddistribution to reverse KL divergence:\n",
    "loss = losses.ReverseKL(joint_dist, use_reparameterisation=True)\n",
    "optimiser = optimisers.Adam()"
   ]
  },
  {
   "cell_type": "code",
   "execution_count": 10,
   "id": "a6ef5000",
   "metadata": {
    "scrolled": true
   },
   "outputs": [
    {
     "name": "stdout",
     "output_type": "stream",
     "text": [
      "Loss = 3.559851884841919, Params = Jaxtainer({'mean': DeviceArray([-0.1], dtype=float32), 'chol_diag': DeviceArray([0.9], dtype=float32)})\n",
      "Loss = 2.941087484359741, Params = Jaxtainer({'mean': DeviceArray([0.07441369], dtype=float32), 'chol_diag': DeviceArray([0.92558634], dtype=float32)})\n",
      "Loss = 3.1198480129241943, Params = Jaxtainer({'mean': DeviceArray([-0.06388136], dtype=float32), 'chol_diag': DeviceArray([0.93611866], dtype=float32)})\n",
      "Loss = 3.1320605278015137, Params = Jaxtainer({'mean': DeviceArray([0.05811283], dtype=float32), 'chol_diag': DeviceArray([0.94188714], dtype=float32)})\n",
      "Loss = 3.202230930328369, Params = Jaxtainer({'mean': DeviceArray([-0.05454892], dtype=float32), 'chol_diag': DeviceArray([0.9454511], dtype=float32)})\n",
      "Loss = 3.187124013900757, Params = Jaxtainer({'mean': DeviceArray([0.05221178], dtype=float32), 'chol_diag': DeviceArray([0.94778824], dtype=float32)})\n",
      "Loss = 3.233907699584961, Params = Jaxtainer({'mean': DeviceArray([-0.05063773], dtype=float32), 'chol_diag': DeviceArray([0.9493623], dtype=float32)})\n",
      "Loss = 3.2109265327453613, Params = Jaxtainer({'mean': DeviceArray([0.04957542], dtype=float32), 'chol_diag': DeviceArray([0.95042455], dtype=float32)})\n",
      "Loss = 3.248384952545166, Params = Jaxtainer({'mean': DeviceArray([-0.04887541], dtype=float32), 'chol_diag': DeviceArray([0.95112455], dtype=float32)})\n",
      "Loss = 3.2217934131622314, Params = Jaxtainer({'mean': DeviceArray([0.04844264], dtype=float32), 'chol_diag': DeviceArray([0.95155734], dtype=float32)})\n",
      "Loss = 3.254667043685913, Params = Jaxtainer({'mean': DeviceArray([-0.04821333], dtype=float32), 'chol_diag': DeviceArray([0.95178664], dtype=float32)})\n",
      "Loss = 3.2258987426757812, Params = Jaxtainer({'mean': DeviceArray([0.04814292], dtype=float32), 'chol_diag': DeviceArray([0.9518571], dtype=float32)})\n",
      "Loss = 3.256335973739624, Params = Jaxtainer({'mean': DeviceArray([-0.04819916], dtype=float32), 'chol_diag': DeviceArray([0.9518008], dtype=float32)})\n",
      "Loss = 3.225986957550049, Params = Jaxtainer({'mean': DeviceArray([0.04835802], dtype=float32), 'chol_diag': DeviceArray([0.951642], dtype=float32)})\n",
      "Loss = 3.2551381587982178, Params = Jaxtainer({'mean': DeviceArray([-0.04860118], dtype=float32), 'chol_diag': DeviceArray([0.95139885], dtype=float32)})\n",
      "Loss = 3.2234928607940674, Params = Jaxtainer({'mean': DeviceArray([0.04891435], dtype=float32), 'chol_diag': DeviceArray([0.9510856], dtype=float32)})\n",
      "Loss = 3.2520463466644287, Params = Jaxtainer({'mean': DeviceArray([-0.04928617], dtype=float32), 'chol_diag': DeviceArray([0.9507138], dtype=float32)})\n",
      "Loss = 3.219252347946167, Params = Jaxtainer({'mean': DeviceArray([0.0497075], dtype=float32), 'chol_diag': DeviceArray([0.95029247], dtype=float32)})\n",
      "Loss = 3.2476539611816406, Params = Jaxtainer({'mean': DeviceArray([-0.05017085], dtype=float32), 'chol_diag': DeviceArray([0.94982916], dtype=float32)})\n",
      "Loss = 3.213797092437744, Params = Jaxtainer({'mean': DeviceArray([0.05066999], dtype=float32), 'chol_diag': DeviceArray([0.94933003], dtype=float32)})\n",
      "Loss = 3.242349624633789, Params = Jaxtainer({'mean': DeviceArray([-0.05119972], dtype=float32), 'chol_diag': DeviceArray([0.94880027], dtype=float32)})\n",
      "Loss = 3.207479476928711, Params = Jaxtainer({'mean': DeviceArray([0.05175564], dtype=float32), 'chol_diag': DeviceArray([0.94824433], dtype=float32)})\n",
      "Loss = 3.2363979816436768, Params = Jaxtainer({'mean': DeviceArray([-0.05233399], dtype=float32), 'chol_diag': DeviceArray([0.947666], dtype=float32)})\n",
      "Loss = 3.200550079345703, Params = Jaxtainer({'mean': DeviceArray([0.05293151], dtype=float32), 'chol_diag': DeviceArray([0.94706845], dtype=float32)})\n",
      "Loss = 3.2299904823303223, Params = Jaxtainer({'mean': DeviceArray([-0.0535454], dtype=float32), 'chol_diag': DeviceArray([0.9464546], dtype=float32)})\n",
      "Loss = 3.1931896209716797, Params = Jaxtainer({'mean': DeviceArray([0.05417323], dtype=float32), 'chol_diag': DeviceArray([0.94582677], dtype=float32)})\n",
      "Loss = 3.2232677936553955, Params = Jaxtainer({'mean': DeviceArray([-0.05481283], dtype=float32), 'chol_diag': DeviceArray([0.94518715], dtype=float32)})\n",
      "Loss = 3.185533285140991, Params = Jaxtainer({'mean': DeviceArray([0.05546234], dtype=float32), 'chol_diag': DeviceArray([0.94453764], dtype=float32)})\n",
      "Loss = 3.216334581375122, Params = Jaxtainer({'mean': DeviceArray([-0.05612008], dtype=float32), 'chol_diag': DeviceArray([0.9438799], dtype=float32)})\n",
      "Loss = 3.1776835918426514, Params = Jaxtainer({'mean': DeviceArray([0.05678457], dtype=float32), 'chol_diag': DeviceArray([0.9432154], dtype=float32)})\n",
      "Loss = 3.2092740535736084, Params = Jaxtainer({'mean': DeviceArray([-0.05745453], dtype=float32), 'chol_diag': DeviceArray([0.9425455], dtype=float32)})\n",
      "Loss = 3.169719934463501, Params = Jaxtainer({'mean': DeviceArray([0.05812877], dtype=float32), 'chol_diag': DeviceArray([0.9418712], dtype=float32)})\n",
      "Loss = 3.202146530151367, Params = Jaxtainer({'mean': DeviceArray([-0.05880625], dtype=float32), 'chol_diag': DeviceArray([0.94119376], dtype=float32)})\n",
      "Loss = 3.161703586578369, Params = Jaxtainer({'mean': DeviceArray([0.05948608], dtype=float32), 'chol_diag': DeviceArray([0.9405139], dtype=float32)})\n",
      "Loss = 3.195002317428589, Params = Jaxtainer({'mean': DeviceArray([-0.06016739], dtype=float32), 'chol_diag': DeviceArray([0.9398326], dtype=float32)})\n",
      "Loss = 3.1536834239959717, Params = Jaxtainer({'mean': DeviceArray([0.06084947], dtype=float32), 'chol_diag': DeviceArray([0.9391505], dtype=float32)})\n",
      "Loss = 3.1878786087036133, Params = Jaxtainer({'mean': DeviceArray([-0.06153166], dtype=float32), 'chol_diag': DeviceArray([0.93846834], dtype=float32)})\n",
      "Loss = 3.145695924758911, Params = Jaxtainer({'mean': DeviceArray([0.06221338], dtype=float32), 'chol_diag': DeviceArray([0.93778664], dtype=float32)})\n",
      "Loss = 3.1808054447174072, Params = Jaxtainer({'mean': DeviceArray([-0.06289411], dtype=float32), 'chol_diag': DeviceArray([0.9371059], dtype=float32)})\n",
      "Loss = 3.1377713680267334, Params = Jaxtainer({'mean': DeviceArray([0.06357335], dtype=float32), 'chol_diag': DeviceArray([0.93642664], dtype=float32)})\n",
      "Loss = 3.173804521560669, Params = Jaxtainer({'mean': DeviceArray([-0.06425074], dtype=float32), 'chol_diag': DeviceArray([0.9357493], dtype=float32)})\n",
      "Loss = 3.1299309730529785, Params = Jaxtainer({'mean': DeviceArray([0.06492587], dtype=float32), 'chol_diag': DeviceArray([0.9350741], dtype=float32)})\n",
      "Loss = 3.166893482208252, Params = Jaxtainer({'mean': DeviceArray([-0.06559845], dtype=float32), 'chol_diag': DeviceArray([0.9344016], dtype=float32)})\n",
      "Loss = 3.122192144393921, Params = Jaxtainer({'mean': DeviceArray([0.06626818], dtype=float32), 'chol_diag': DeviceArray([0.9337318], dtype=float32)})\n",
      "Loss = 3.160085678100586, Params = Jaxtainer({'mean': DeviceArray([-0.06693482], dtype=float32), 'chol_diag': DeviceArray([0.9330652], dtype=float32)})\n",
      "Loss = 3.114567518234253, Params = Jaxtainer({'mean': DeviceArray([0.06759813], dtype=float32), 'chol_diag': DeviceArray([0.93240184], dtype=float32)})\n",
      "Loss = 3.1533901691436768, Params = Jaxtainer({'mean': DeviceArray([-0.06825794], dtype=float32), 'chol_diag': DeviceArray([0.9317421], dtype=float32)})\n",
      "Loss = 3.107067108154297, Params = Jaxtainer({'mean': DeviceArray([0.06891409], dtype=float32), 'chol_diag': DeviceArray([0.9310859], dtype=float32)})\n",
      "Loss = 3.146813154220581, Params = Jaxtainer({'mean': DeviceArray([-0.06956643], dtype=float32), 'chol_diag': DeviceArray([0.9304336], dtype=float32)})\n",
      "Loss = 3.099696397781372, Params = Jaxtainer({'mean': DeviceArray([0.07021484], dtype=float32), 'chol_diag': DeviceArray([0.92978513], dtype=float32)})\n",
      "Loss = 3.1403603553771973, Params = Jaxtainer({'mean': DeviceArray([-0.07085921], dtype=float32), 'chol_diag': DeviceArray([0.9291408], dtype=float32)})\n",
      "Loss = 3.0924596786499023, Params = Jaxtainer({'mean': DeviceArray([0.07149948], dtype=float32), 'chol_diag': DeviceArray([0.92850053], dtype=float32)})\n",
      "Loss = 3.134032964706421, Params = Jaxtainer({'mean': DeviceArray([-0.07213557], dtype=float32), 'chol_diag': DeviceArray([0.92786443], dtype=float32)})\n",
      "Loss = 3.085359573364258, Params = Jaxtainer({'mean': DeviceArray([0.07276741], dtype=float32), 'chol_diag': DeviceArray([0.92723256], dtype=float32)})\n"
     ]
    },
    {
     "name": "stdout",
     "output_type": "stream",
     "text": [
      "Loss = 3.1278321743011475, Params = Jaxtainer({'mean': DeviceArray([-0.07339499], dtype=float32), 'chol_diag': DeviceArray([0.926605], dtype=float32)})\n",
      "Loss = 3.0783963203430176, Params = Jaxtainer({'mean': DeviceArray([0.07401828], dtype=float32), 'chol_diag': DeviceArray([0.9259817], dtype=float32)})\n",
      "Loss = 3.1217591762542725, Params = Jaxtainer({'mean': DeviceArray([-0.07463723], dtype=float32), 'chol_diag': DeviceArray([0.92536277], dtype=float32)})\n",
      "Loss = 3.071570634841919, Params = Jaxtainer({'mean': DeviceArray([0.07525185], dtype=float32), 'chol_diag': DeviceArray([0.9247481], dtype=float32)})\n",
      "Loss = 3.1158111095428467, Params = Jaxtainer({'mean': DeviceArray([-0.07586213], dtype=float32), 'chol_diag': DeviceArray([0.92413783], dtype=float32)})\n",
      "Loss = 3.064879894256592, Params = Jaxtainer({'mean': DeviceArray([0.0764681], dtype=float32), 'chol_diag': DeviceArray([0.9235319], dtype=float32)})\n",
      "Loss = 3.10998797416687, Params = Jaxtainer({'mean': DeviceArray([-0.07706974], dtype=float32), 'chol_diag': DeviceArray([0.92293024], dtype=float32)})\n",
      "Loss = 3.0583231449127197, Params = Jaxtainer({'mean': DeviceArray([0.07766708], dtype=float32), 'chol_diag': DeviceArray([0.92233294], dtype=float32)})\n",
      "Loss = 3.1042866706848145, Params = Jaxtainer({'mean': DeviceArray([-0.07826012], dtype=float32), 'chol_diag': DeviceArray([0.9217399], dtype=float32)})\n",
      "Loss = 3.051898241043091, Params = Jaxtainer({'mean': DeviceArray([0.07884894], dtype=float32), 'chol_diag': DeviceArray([0.92115104], dtype=float32)})\n",
      "Loss = 3.0987050533294678, Params = Jaxtainer({'mean': DeviceArray([-0.07943352], dtype=float32), 'chol_diag': DeviceArray([0.92056644], dtype=float32)})\n",
      "Loss = 3.0456020832061768, Params = Jaxtainer({'mean': DeviceArray([0.08001391], dtype=float32), 'chol_diag': DeviceArray([0.91998607], dtype=float32)})\n",
      "Loss = 3.0932397842407227, Params = Jaxtainer({'mean': DeviceArray([-0.08059015], dtype=float32), 'chol_diag': DeviceArray([0.9194099], dtype=float32)})\n",
      "Loss = 3.039431571960449, Params = Jaxtainer({'mean': DeviceArray([0.0811623], dtype=float32), 'chol_diag': DeviceArray([0.9188377], dtype=float32)})\n",
      "Loss = 3.0878894329071045, Params = Jaxtainer({'mean': DeviceArray([-0.08173036], dtype=float32), 'chol_diag': DeviceArray([0.91826963], dtype=float32)})\n",
      "Loss = 3.0333831310272217, Params = Jaxtainer({'mean': DeviceArray([0.0822944], dtype=float32), 'chol_diag': DeviceArray([0.9177056], dtype=float32)})\n",
      "Loss = 3.082648992538452, Params = Jaxtainer({'mean': DeviceArray([-0.08285444], dtype=float32), 'chol_diag': DeviceArray([0.91714555], dtype=float32)})\n",
      "Loss = 3.027453660964966, Params = Jaxtainer({'mean': DeviceArray([0.08341057], dtype=float32), 'chol_diag': DeviceArray([0.91658944], dtype=float32)})\n",
      "Loss = 3.0775156021118164, Params = Jaxtainer({'mean': DeviceArray([-0.08396279], dtype=float32), 'chol_diag': DeviceArray([0.9160372], dtype=float32)})\n",
      "Loss = 3.0216405391693115, Params = Jaxtainer({'mean': DeviceArray([0.08451117], dtype=float32), 'chol_diag': DeviceArray([0.91548884], dtype=float32)})\n",
      "Loss = 3.0724871158599854, Params = Jaxtainer({'mean': DeviceArray([-0.08505577], dtype=float32), 'chol_diag': DeviceArray([0.91494423], dtype=float32)})\n",
      "Loss = 3.015939235687256, Params = Jaxtainer({'mean': DeviceArray([0.08559663], dtype=float32), 'chol_diag': DeviceArray([0.9144034], dtype=float32)})\n",
      "Loss = 3.0675597190856934, Params = Jaxtainer({'mean': DeviceArray([-0.08613376], dtype=float32), 'chol_diag': DeviceArray([0.9138662], dtype=float32)})\n",
      "Loss = 3.0103461742401123, Params = Jaxtainer({'mean': DeviceArray([0.08666727], dtype=float32), 'chol_diag': DeviceArray([0.9133327], dtype=float32)})\n",
      "Loss = 3.062729597091675, Params = Jaxtainer({'mean': DeviceArray([-0.08719718], dtype=float32), 'chol_diag': DeviceArray([0.9128028], dtype=float32)})\n",
      "Loss = 3.0048587322235107, Params = Jaxtainer({'mean': DeviceArray([0.08772354], dtype=float32), 'chol_diag': DeviceArray([0.91227645], dtype=float32)})\n",
      "Loss = 3.0579946041107178, Params = Jaxtainer({'mean': DeviceArray([-0.08824641], dtype=float32), 'chol_diag': DeviceArray([0.9117536], dtype=float32)})\n",
      "Loss = 2.999474048614502, Params = Jaxtainer({'mean': DeviceArray([0.08876581], dtype=float32), 'chol_diag': DeviceArray([0.91123414], dtype=float32)})\n",
      "Loss = 3.0533509254455566, Params = Jaxtainer({'mean': DeviceArray([-0.08928184], dtype=float32), 'chol_diag': DeviceArray([0.91071814], dtype=float32)})\n",
      "Loss = 2.994187593460083, Params = Jaxtainer({'mean': DeviceArray([0.08979448], dtype=float32), 'chol_diag': DeviceArray([0.9102055], dtype=float32)})\n",
      "Loss = 3.0487966537475586, Params = Jaxtainer({'mean': DeviceArray([-0.09030383], dtype=float32), 'chol_diag': DeviceArray([0.90969616], dtype=float32)})\n",
      "Loss = 2.988996744155884, Params = Jaxtainer({'mean': DeviceArray([0.0908099], dtype=float32), 'chol_diag': DeviceArray([0.90919006], dtype=float32)})\n",
      "Loss = 3.044327974319458, Params = Jaxtainer({'mean': DeviceArray([-0.09131275], dtype=float32), 'chol_diag': DeviceArray([0.90868723], dtype=float32)})\n",
      "Loss = 2.9838998317718506, Params = Jaxtainer({'mean': DeviceArray([0.09181246], dtype=float32), 'chol_diag': DeviceArray([0.9081875], dtype=float32)})\n",
      "Loss = 3.039942502975464, Params = Jaxtainer({'mean': DeviceArray([-0.09230903], dtype=float32), 'chol_diag': DeviceArray([0.90769094], dtype=float32)})\n",
      "Loss = 2.978891611099243, Params = Jaxtainer({'mean': DeviceArray([0.09280252], dtype=float32), 'chol_diag': DeviceArray([0.9071975], dtype=float32)})\n",
      "Loss = 3.0356380939483643, Params = Jaxtainer({'mean': DeviceArray([-0.09329298], dtype=float32), 'chol_diag': DeviceArray([0.90670705], dtype=float32)})\n",
      "Loss = 2.973970890045166, Params = Jaxtainer({'mean': DeviceArray([0.09378041], dtype=float32), 'chol_diag': DeviceArray([0.9062196], dtype=float32)})\n",
      "Loss = 3.0314114093780518, Params = Jaxtainer({'mean': DeviceArray([-0.09426493], dtype=float32), 'chol_diag': DeviceArray([0.9057351], dtype=float32)})\n",
      "Loss = 2.969134569168091, Params = Jaxtainer({'mean': DeviceArray([0.09474651], dtype=float32), 'chol_diag': DeviceArray([0.90525347], dtype=float32)})\n",
      "Loss = 3.0272598266601562, Params = Jaxtainer({'mean': DeviceArray([-0.09522522], dtype=float32), 'chol_diag': DeviceArray([0.9047748], dtype=float32)})\n",
      "Loss = 2.9643797874450684, Params = Jaxtainer({'mean': DeviceArray([0.09570111], dtype=float32), 'chol_diag': DeviceArray([0.9042989], dtype=float32)})\n",
      "Loss = 3.0231823921203613, Params = Jaxtainer({'mean': DeviceArray([-0.0961742], dtype=float32), 'chol_diag': DeviceArray([0.90382576], dtype=float32)})\n",
      "Loss = 2.9597041606903076, Params = Jaxtainer({'mean': DeviceArray([0.09664454], dtype=float32), 'chol_diag': DeviceArray([0.9033555], dtype=float32)})\n",
      "Loss = 3.0191752910614014, Params = Jaxtainer({'mean': DeviceArray([-0.09711216], dtype=float32), 'chol_diag': DeviceArray([0.9028878], dtype=float32)})\n"
     ]
    }
   ],
   "source": [
    "prngkey = jax.random.PRNGKey(20)\n",
    "optimiser.fit(approx_dist, loss, data, prngkey, verbose=True)"
   ]
  },
  {
   "cell_type": "code",
   "execution_count": 11,
   "id": "83c1ae4d",
   "metadata": {},
   "outputs": [
    {
     "data": {
      "text/plain": [
       "[[0.5]]"
      ]
     },
     "execution_count": 11,
     "metadata": {},
     "output_type": "execute_result"
    }
   ],
   "source": [
    "(1, 1)\n",
    "(1, 10, 1)\n",
    "[[0.5]]"
   ]
  },
  {
   "cell_type": "code",
   "execution_count": 14,
   "id": "aac572ca",
   "metadata": {},
   "outputs": [
    {
     "data": {
      "text/plain": [
       "(DeviceArray(3.119848, dtype=float32),\n",
       " Jaxtainer({'chol_diag': DeviceArray([6.0927553], dtype=float32), 'mean': DeviceArray([1.2652347], dtype=float32)}))"
      ]
     },
     "execution_count": 14,
     "metadata": {},
     "output_type": "execute_result"
    }
   ],
   "source": [
    "key = jax.random.PRNGKey(20)\n",
    "loss.eval(approx_dist, data, key)"
   ]
  },
  {
   "cell_type": "code",
   "execution_count": null,
   "id": "bfe16bc3",
   "metadata": {},
   "outputs": [],
   "source": []
  }
 ],
 "metadata": {
  "kernelspec": {
   "display_name": "Python 3 (ipykernel)",
   "language": "python",
   "name": "python3"
  },
  "language_info": {
   "codemirror_mode": {
    "name": "ipython",
    "version": 3
   },
   "file_extension": ".py",
   "mimetype": "text/x-python",
   "name": "python",
   "nbconvert_exporter": "python",
   "pygments_lexer": "ipython3",
   "version": "3.8.10"
  }
 },
 "nbformat": 4,
 "nbformat_minor": 5
}
