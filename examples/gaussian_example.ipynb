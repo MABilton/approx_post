{
 "cells": [
  {
   "cell_type": "code",
   "execution_count": 1,
   "id": "6d119613",
   "metadata": {
    "scrolled": false
   },
   "outputs": [],
   "source": [
    "import jax\n",
    "import jax.numpy as jnp\n",
    "from approx_post.distributions import approx, joint\n",
    "from approx_post import losses, optimisers"
   ]
  },
  {
   "cell_type": "code",
   "execution_count": 2,
   "id": "c9d34649",
   "metadata": {},
   "outputs": [],
   "source": [
    "def create_data(model, true_theta, noise_cov, num_samples, ndim, prngkey):\n",
    "    mean = model(true_theta)\n",
    "    samples = jax.random.multivariate_normal(key=prngkey, mean=mean, cov=noise_cov, shape=(num_samples,))\n",
    "    return samples.reshape(num_samples, -1)"
   ]
  },
  {
   "cell_type": "code",
   "execution_count": 3,
   "id": "a94b97b2",
   "metadata": {},
   "outputs": [],
   "source": [
    "# First, let's define a model:\n",
    "ndim = 1\n",
    "model = lambda theta: theta**2\n",
    "model_grad = jax.vmap(jax.vmap(jax.jacfwd(model), in_axes=0), in_axes=0)"
   ]
  },
  {
   "cell_type": "code",
   "execution_count": 22,
   "id": "525931b1",
   "metadata": {
    "scrolled": false
   },
   "outputs": [
    {
     "name": "stdout",
     "output_type": "stream",
     "text": [
      "True theta: \n",
      " [2]\n",
      "True x = model(theta): \n",
      " [4]\n",
      "Observations x_obs = model(theta) + noise: \n",
      " [[2.6554594]]\n"
     ]
    }
   ],
   "source": [
    "# Create artificial data:\n",
    "prngkey = jax.random.PRNGKey(10)\n",
    "true_theta = jnp.array([2])\n",
    "noise_cov = 1*jnp.identity(ndim)\n",
    "num_samples = 1\n",
    "data = create_data(model, true_theta, noise_cov, num_samples, ndim, prngkey)\n",
    "print(f'True theta: \\n {true_theta}')\n",
    "print(f'True x = model(theta): \\n {model(true_theta)}')\n",
    "print(f'Observations x_obs = model(theta) + noise: \\n {data}')"
   ]
  },
  {
   "cell_type": "code",
   "execution_count": 23,
   "id": "6d14292c",
   "metadata": {},
   "outputs": [],
   "source": [
    "# Create Gaussian approximate distribution:\n",
    "approx_dist = approx.Gaussian(ndim)"
   ]
  },
  {
   "cell_type": "code",
   "execution_count": 24,
   "id": "b29185ee",
   "metadata": {},
   "outputs": [],
   "source": [
    "# Create Joint distribution from forward model:\n",
    "prior_mean = jnp.zeros(ndim)\n",
    "prior_cov = 1.0*jnp.identity(ndim)\n",
    "joint_dist = joint.ModelPlusGaussian(model, noise_cov, prior_mean, prior_cov, model_grad)"
   ]
  },
  {
   "cell_type": "code",
   "execution_count": 25,
   "id": "ab0bee1d",
   "metadata": {
    "scrolled": true
   },
   "outputs": [
    {
     "name": "stdout",
     "output_type": "stream",
     "text": [
      "Loss = 3.350170373916626, Params = Jaxtainer({'mean': DeviceArray([-0.10000001], dtype=float32), 'log_chol_diag': DeviceArray([-0.10000001], dtype=float32)})\n",
      "Loss = 3.260319709777832, Params = Jaxtainer({'mean': DeviceArray([-0.18682866], dtype=float32), 'log_chol_diag': DeviceArray([-0.15968904], dtype=float32)})\n",
      "Loss = 3.270439863204956, Params = Jaxtainer({'mean': DeviceArray([-0.26481748], dtype=float32), 'log_chol_diag': DeviceArray([-0.17455044], dtype=float32)})\n",
      "Loss = 3.272676706314087, Params = Jaxtainer({'mean': DeviceArray([-0.33431935], dtype=float32), 'log_chol_diag': DeviceArray([-0.16271082], dtype=float32)})\n",
      "Loss = 3.2648744583129883, Params = Jaxtainer({'mean': DeviceArray([-0.38568926], dtype=float32), 'log_chol_diag': DeviceArray([-0.13933037], dtype=float32)})\n",
      "Loss = 3.264331340789795, Params = Jaxtainer({'mean': DeviceArray([-0.40334502], dtype=float32), 'log_chol_diag': DeviceArray([-0.11636119], dtype=float32)})\n",
      "Loss = 3.2709591388702393, Params = Jaxtainer({'mean': DeviceArray([-0.38769165], dtype=float32), 'log_chol_diag': DeviceArray([-0.10202878], dtype=float32)})\n",
      "Loss = 3.2721400260925293, Params = Jaxtainer({'mean': DeviceArray([-0.35039598], dtype=float32), 'log_chol_diag': DeviceArray([-0.09813423], dtype=float32)})\n",
      "Loss = 3.2650606632232666, Params = Jaxtainer({'mean': DeviceArray([-0.3010631], dtype=float32), 'log_chol_diag': DeviceArray([-0.10135383], dtype=float32)})\n",
      "Loss = 3.2564518451690674, Params = Jaxtainer({'mean': DeviceArray([-0.24697986], dtype=float32), 'log_chol_diag': DeviceArray([-0.10652973], dtype=float32)})\n",
      "Loss = 3.252153158187866, Params = Jaxtainer({'mean': DeviceArray([-0.19418567], dtype=float32), 'log_chol_diag': DeviceArray([-0.10913624], dtype=float32)})\n",
      "Loss = 3.252589702606201, Params = Jaxtainer({'mean': DeviceArray([-0.1474139], dtype=float32), 'log_chol_diag': DeviceArray([-0.10679068], dtype=float32)})\n",
      "Loss = 3.2554028034210205, Params = Jaxtainer({'mean': DeviceArray([-0.10997851], dtype=float32), 'log_chol_diag': DeviceArray([-0.09964167], dtype=float32)})\n",
      "Loss = 3.2589735984802246, Params = Jaxtainer({'mean': DeviceArray([-0.08398919], dtype=float32), 'log_chol_diag': DeviceArray([-0.0898224], dtype=float32)})\n",
      "Loss = 3.2628793716430664, Params = Jaxtainer({'mean': DeviceArray([-0.07047647], dtype=float32), 'log_chol_diag': DeviceArray([-0.08051244], dtype=float32)})\n",
      "Loss = 3.2664122581481934, Params = Jaxtainer({'mean': DeviceArray([-0.06927617], dtype=float32), 'log_chol_diag': DeviceArray([-0.07475398], dtype=float32)})\n",
      "Loss = 3.2679824829101562, Params = Jaxtainer({'mean': DeviceArray([-0.07901269], dtype=float32), 'log_chol_diag': DeviceArray([-0.07420173], dtype=float32)})\n",
      "Loss = 3.2664623260498047, Params = Jaxtainer({'mean': DeviceArray([-0.09742284], dtype=float32), 'log_chol_diag': DeviceArray([-0.07851339], dtype=float32)})\n",
      "Loss = 3.2625749111175537, Params = Jaxtainer({'mean': DeviceArray([-0.12185151], dtype=float32), 'log_chol_diag': DeviceArray([-0.08575671], dtype=float32)})\n",
      "Loss = 3.258241653442383, Params = Jaxtainer({'mean': DeviceArray([-0.1496561], dtype=float32), 'log_chol_diag': DeviceArray([-0.09338768], dtype=float32)})\n",
      "Loss = 3.2549102306365967, Params = Jaxtainer({'mean': DeviceArray([-0.17840119], dtype=float32), 'log_chol_diag': DeviceArray([-0.09924787], dtype=float32)})\n",
      "Loss = 3.2529051303863525, Params = Jaxtainer({'mean': DeviceArray([-0.20585181], dtype=float32), 'log_chol_diag': DeviceArray([-0.10223574], dtype=float32)})\n",
      "Loss = 3.251981496810913, Params = Jaxtainer({'mean': DeviceArray([-0.22988449], dtype=float32), 'log_chol_diag': DeviceArray([-0.10247774], dtype=float32)})\n",
      "Loss = 3.2519140243530273, Params = Jaxtainer({'mean': DeviceArray([-0.24850465], dtype=float32), 'log_chol_diag': DeviceArray([-0.10104344], dtype=float32)})\n",
      "Loss = 3.252483367919922, Params = Jaxtainer({'mean': DeviceArray([-0.26009825], dtype=float32), 'log_chol_diag': DeviceArray([-0.09937613], dtype=float32)})\n",
      "Loss = 3.2532236576080322, Params = Jaxtainer({'mean': DeviceArray([-0.26383457], dtype=float32), 'log_chol_diag': DeviceArray([-0.09863592], dtype=float32)})\n",
      "Loss = 3.2535524368286133, Params = Jaxtainer({'mean': DeviceArray([-0.2599368], dtype=float32), 'log_chol_diag': DeviceArray([-0.09920234], dtype=float32)})\n",
      "Loss = 3.2532362937927246, Params = Jaxtainer({'mean': DeviceArray([-0.24960777], dtype=float32), 'log_chol_diag': DeviceArray([-0.10056697], dtype=float32)})\n",
      "Loss = 3.2525691986083984, Params = Jaxtainer({'mean': DeviceArray([-0.23467562], dtype=float32), 'log_chol_diag': DeviceArray([-0.10165165], dtype=float32)})\n",
      "Loss = 3.2520296573638916, Params = Jaxtainer({'mean': DeviceArray([-0.21717325], dtype=float32), 'log_chol_diag': DeviceArray([-0.10136632], dtype=float32)})\n",
      "Loss = 3.251885414123535, Params = Jaxtainer({'mean': DeviceArray([-0.19901562], dtype=float32), 'log_chol_diag': DeviceArray([-0.09913757], dtype=float32)})\n",
      "Loss = 3.2521798610687256, Params = Jaxtainer({'mean': DeviceArray([-0.18183608], dtype=float32), 'log_chol_diag': DeviceArray([-0.09519415], dtype=float32)})\n",
      "Loss = 3.2528998851776123, Params = Jaxtainer({'mean': DeviceArray([-0.16695452], dtype=float32), 'log_chol_diag': DeviceArray([-0.09051977], dtype=float32)})\n",
      "Loss = 3.2539846897125244, Params = Jaxtainer({'mean': DeviceArray([-0.15539628], dtype=float32), 'log_chol_diag': DeviceArray([-0.0864973], dtype=float32)})\n",
      "Loss = 3.255181074142456, Params = Jaxtainer({'mean': DeviceArray([-0.14788766], dtype=float32), 'log_chol_diag': DeviceArray([-0.08435547], dtype=float32)})\n",
      "Loss = 3.2560436725616455, Params = Jaxtainer({'mean': DeviceArray([-0.14480993], dtype=float32), 'log_chol_diag': DeviceArray([-0.08463915], dtype=float32)})\n",
      "Loss = 3.256235361099243, Params = Jaxtainer({'mean': DeviceArray([-0.14615318], dtype=float32), 'log_chol_diag': DeviceArray([-0.0869775], dtype=float32)})\n",
      "Loss = 3.2557876110076904, Params = Jaxtainer({'mean': DeviceArray([-0.15151665], dtype=float32), 'log_chol_diag': DeviceArray([-0.09027979], dtype=float32)})\n",
      "Loss = 3.25500226020813, Params = Jaxtainer({'mean': DeviceArray([-0.16015732], dtype=float32), 'log_chol_diag': DeviceArray([-0.09324148], dtype=float32)})\n",
      "Loss = 3.2541630268096924, Params = Jaxtainer({'mean': DeviceArray([-0.1710527], dtype=float32), 'log_chol_diag': DeviceArray([-0.09490035], dtype=float32)})\n",
      "Loss = 3.253417491912842, Params = Jaxtainer({'mean': DeviceArray([-0.18295881], dtype=float32), 'log_chol_diag': DeviceArray([-0.09499639], dtype=float32)})\n",
      "Loss = 3.25286865234375, Params = Jaxtainer({'mean': DeviceArray([-0.19448903], dtype=float32), 'log_chol_diag': DeviceArray([-0.09400526], dtype=float32)})\n",
      "Loss = 3.2525956630706787, Params = Jaxtainer({'mean': DeviceArray([-0.20426297], dtype=float32), 'log_chol_diag': DeviceArray([-0.09285557], dtype=float32)})\n",
      "Loss = 3.2525651454925537, Params = Jaxtainer({'mean': DeviceArray([-0.21114017], dtype=float32), 'log_chol_diag': DeviceArray([-0.09245342], dtype=float32)})\n",
      "Loss = 3.252593517303467, Params = Jaxtainer({'mean': DeviceArray([-0.21446945], dtype=float32), 'log_chol_diag': DeviceArray([-0.09322403], dtype=float32)})\n",
      "Loss = 3.2525084018707275, Params = Jaxtainer({'mean': DeviceArray([-0.21422394], dtype=float32), 'log_chol_diag': DeviceArray([-0.09490031], dtype=float32)})\n",
      "Loss = 3.252317428588867, Params = Jaxtainer({'mean': DeviceArray([-0.21093771], dtype=float32), 'log_chol_diag': DeviceArray([-0.0966715], dtype=float32)})\n",
      "Loss = 3.25216007232666, Params = Jaxtainer({'mean': DeviceArray([-0.20548384], dtype=float32), 'log_chol_diag': DeviceArray([-0.09760249], dtype=float32)})\n",
      "Loss = 3.2521402835845947, Params = Jaxtainer({'mean': DeviceArray([-0.19881728], dtype=float32), 'log_chol_diag': DeviceArray([-0.09709907], dtype=float32)})\n",
      "Loss = 3.2522776126861572, Params = Jaxtainer({'mean': DeviceArray([-0.19179328], dtype=float32), 'log_chol_diag': DeviceArray([-0.09519614], dtype=float32)})\n",
      "Loss = 3.2525665760040283, Params = Jaxtainer({'mean': DeviceArray([-0.18510087], dtype=float32), 'log_chol_diag': DeviceArray([-0.0925502], dtype=float32)})\n",
      "Loss = 3.2529890537261963, Params = Jaxtainer({'mean': DeviceArray([-0.17928289], dtype=float32), 'log_chol_diag': DeviceArray([-0.0901482], dtype=float32)})\n"
     ]
    },
    {
     "name": "stdout",
     "output_type": "stream",
     "text": [
      "Loss = 3.2534544467926025, Params = Jaxtainer({'mean': DeviceArray([-0.17478144], dtype=float32), 'log_chol_diag': DeviceArray([-0.08885797], dtype=float32)})\n",
      "Loss = 3.253798007965088, Params = Jaxtainer({'mean': DeviceArray([-0.17195573], dtype=float32), 'log_chol_diag': DeviceArray([-0.08902973], dtype=float32)})\n",
      "Loss = 3.2539026737213135, Params = Jaxtainer({'mean': DeviceArray([-0.17105225], dtype=float32), 'log_chol_diag': DeviceArray([-0.09035807], dtype=float32)})\n",
      "Loss = 3.253789186477661, Params = Jaxtainer({'mean': DeviceArray([-0.17214358], dtype=float32), 'log_chol_diag': DeviceArray([-0.09207663], dtype=float32)})\n",
      "Loss = 3.2535650730133057, Params = Jaxtainer({'mean': DeviceArray([-0.17506915], dtype=float32), 'log_chol_diag': DeviceArray([-0.09336572], dtype=float32)})\n",
      "Loss = 3.2533180713653564, Params = Jaxtainer({'mean': DeviceArray([-0.17940846], dtype=float32), 'log_chol_diag': DeviceArray([-0.09374897], dtype=float32)})\n",
      "Loss = 3.2530980110168457, Params = Jaxtainer({'mean': DeviceArray([-0.18450809], dtype=float32), 'log_chol_diag': DeviceArray([-0.09328534], dtype=float32)})\n",
      "Loss = 3.2529420852661133, Params = Jaxtainer({'mean': DeviceArray([-0.18957561], dtype=float32), 'log_chol_diag': DeviceArray([-0.09248172], dtype=float32)})\n",
      "Loss = 3.252861976623535, Params = Jaxtainer({'mean': DeviceArray([-0.19383508], dtype=float32), 'log_chol_diag': DeviceArray([-0.09198465], dtype=float32)})\n",
      "Loss = 3.2528133392333984, Params = Jaxtainer({'mean': DeviceArray([-0.1967044], dtype=float32), 'log_chol_diag': DeviceArray([-0.09221295], dtype=float32)})\n",
      "Loss = 3.2527332305908203, Params = Jaxtainer({'mean': DeviceArray([-0.19792366], dtype=float32), 'log_chol_diag': DeviceArray([-0.09312802], dtype=float32)})\n",
      "Loss = 3.2526142597198486, Params = Jaxtainer({'mean': DeviceArray([-0.1975732], dtype=float32), 'log_chol_diag': DeviceArray([-0.09426809], dtype=float32)})\n",
      "Loss = 3.2525100708007812, Params = Jaxtainer({'mean': DeviceArray([-0.19597934], dtype=float32), 'log_chol_diag': DeviceArray([-0.09501759], dtype=float32)})\n",
      "Loss = 3.252478837966919, Params = Jaxtainer({'mean': DeviceArray([-0.1935683], dtype=float32), 'log_chol_diag': DeviceArray([-0.09494893], dtype=float32)})\n",
      "Loss = 3.2525393962860107, Params = Jaxtainer({'mean': DeviceArray([-0.1907451], dtype=float32), 'log_chol_diag': DeviceArray([-0.09404872], dtype=float32)})\n",
      "Loss = 3.252685070037842, Params = Jaxtainer({'mean': DeviceArray([-0.18784177], dtype=float32), 'log_chol_diag': DeviceArray([-0.09271713], dtype=float32)})\n",
      "Loss = 3.2528879642486572, Params = Jaxtainer({'mean': DeviceArray([-0.18512988], dtype=float32), 'log_chol_diag': DeviceArray([-0.09155093], dtype=float32)})\n",
      "Loss = 3.2530901432037354, Params = Jaxtainer({'mean': DeviceArray([-0.18285745], dtype=float32), 'log_chol_diag': DeviceArray([-0.0910289], dtype=float32)})\n",
      "Loss = 3.253223180770874, Params = Jaxtainer({'mean': DeviceArray([-0.1812654], dtype=float32), 'log_chol_diag': DeviceArray([-0.09127162], dtype=float32)})\n",
      "Loss = 3.2532527446746826, Params = Jaxtainer({'mean': DeviceArray([-0.18056], dtype=float32), 'log_chol_diag': DeviceArray([-0.09200928], dtype=float32)})\n",
      "Loss = 3.2532033920288086, Params = Jaxtainer({'mean': DeviceArray([-0.18085158], dtype=float32), 'log_chol_diag': DeviceArray([-0.09276587], dtype=float32)})\n",
      "Loss = 3.2531211376190186, Params = Jaxtainer({'mean': DeviceArray([-0.1820937], dtype=float32), 'log_chol_diag': DeviceArray([-0.0931401], dtype=float32)})\n",
      "Loss = 3.2530415058135986, Params = Jaxtainer({'mean': DeviceArray([-0.18405874], dtype=float32), 'log_chol_diag': DeviceArray([-0.09301721], dtype=float32)})\n",
      "Loss = 3.252980947494507, Params = Jaxtainer({'mean': DeviceArray([-0.18637124], dtype=float32), 'log_chol_diag': DeviceArray([-0.09260058], dtype=float32)})\n",
      "Loss = 3.252943754196167, Params = Jaxtainer({'mean': DeviceArray([-0.18859597], dtype=float32), 'log_chol_diag': DeviceArray([-0.0922592], dtype=float32)})\n",
      "Loss = 3.2529118061065674, Params = Jaxtainer({'mean': DeviceArray([-0.19035245], dtype=float32), 'log_chol_diag': DeviceArray([-0.09228864], dtype=float32)})\n",
      "Loss = 3.252861738204956, Params = Jaxtainer({'mean': DeviceArray([-0.19140941], dtype=float32), 'log_chol_diag': DeviceArray([-0.09272944], dtype=float32)})\n",
      "Loss = 3.2527897357940674, Params = Jaxtainer({'mean': DeviceArray([-0.19171819], dtype=float32), 'log_chol_diag': DeviceArray([-0.09335007], dtype=float32)})\n",
      "Loss = 3.2527213096618652, Params = Jaxtainer({'mean': DeviceArray([-0.19137715], dtype=float32), 'log_chol_diag': DeviceArray([-0.09379707], dtype=float32)})\n",
      "Loss = 3.2526891231536865, Params = Jaxtainer({'mean': DeviceArray([-0.19055691], dtype=float32), 'log_chol_diag': DeviceArray([-0.09381183], dtype=float32)})\n",
      "Loss = 3.2527101039886475, Params = Jaxtainer({'mean': DeviceArray([-0.18943286], dtype=float32), 'log_chol_diag': DeviceArray([-0.09338053], dtype=float32)})\n",
      "Loss = 3.252779483795166, Params = Jaxtainer({'mean': DeviceArray([-0.18815592], dtype=float32), 'log_chol_diag': DeviceArray([-0.09273303], dtype=float32)})\n",
      "Loss = 3.2528765201568604, Params = Jaxtainer({'mean': DeviceArray([-0.18686217], dtype=float32), 'log_chol_diag': DeviceArray([-0.09219973], dtype=float32)})\n",
      "Loss = 3.2529687881469727, Params = Jaxtainer({'mean': DeviceArray([-0.18569563], dtype=float32), 'log_chol_diag': DeviceArray([-0.0920173], dtype=float32)})\n",
      "Loss = 3.253023624420166, Params = Jaxtainer({'mean': DeviceArray([-0.18481375], dtype=float32), 'log_chol_diag': DeviceArray([-0.09220225], dtype=float32)})\n",
      "Loss = 3.25303316116333, Params = Jaxtainer({'mean': DeviceArray([-0.1843609], dtype=float32), 'log_chol_diag': DeviceArray([-0.09256552], dtype=float32)})\n",
      "Loss = 3.2530126571655273, Params = Jaxtainer({'mean': DeviceArray([-0.18442048], dtype=float32), 'log_chol_diag': DeviceArray([-0.0928496], dtype=float32)})\n",
      "Loss = 3.2529842853546143, Params = Jaxtainer({'mean': DeviceArray([-0.18497321], dtype=float32), 'log_chol_diag': DeviceArray([-0.09289332], dtype=float32)})\n",
      "Loss = 3.2529613971710205, Params = Jaxtainer({'mean': DeviceArray([-0.18588814], dtype=float32), 'log_chol_diag': DeviceArray([-0.09272061], dtype=float32)})\n",
      "Loss = 3.2529473304748535, Params = Jaxtainer({'mean': DeviceArray([-0.18695593], dtype=float32), 'log_chol_diag': DeviceArray([-0.09250476], dtype=float32)})\n",
      "Loss = 3.252934694290161, Params = Jaxtainer({'mean': DeviceArray([-0.18795249], dtype=float32), 'log_chol_diag': DeviceArray([-0.09243979], dtype=float32)})\n",
      "Loss = 3.2529118061065674, Params = Jaxtainer({'mean': DeviceArray([-0.18870449], dtype=float32), 'log_chol_diag': DeviceArray([-0.09260692], dtype=float32)})\n",
      "Loss = 3.252873659133911, Params = Jaxtainer({'mean': DeviceArray([-0.1891272], dtype=float32), 'log_chol_diag': DeviceArray([-0.09292325], dtype=float32)})\n",
      "Loss = 3.252830743789673, Params = Jaxtainer({'mean': DeviceArray([-0.18922111], dtype=float32), 'log_chol_diag': DeviceArray([-0.0932018], dtype=float32)})\n",
      "Loss = 3.2528016567230225, Params = Jaxtainer({'mean': DeviceArray([-0.18903862], dtype=float32), 'log_chol_diag': DeviceArray([-0.09327682], dtype=float32)})\n",
      "Loss = 3.252800226211548, Params = Jaxtainer({'mean': DeviceArray([-0.18864715], dtype=float32), 'log_chol_diag': DeviceArray([-0.09310907], dtype=float32)})\n",
      "Loss = 3.252826452255249, Params = Jaxtainer({'mean': DeviceArray([-0.18811055], dtype=float32), 'log_chol_diag': DeviceArray([-0.09280425], dtype=float32)})\n",
      "Loss = 3.252871036529541, Params = Jaxtainer({'mean': DeviceArray([-0.18749355], dtype=float32), 'log_chol_diag': DeviceArray([-0.09253819], dtype=float32)})\n",
      "Loss = 3.252915382385254, Params = Jaxtainer({'mean': DeviceArray([-0.18687554], dtype=float32), 'log_chol_diag': DeviceArray([-0.09244271], dtype=float32)})\n",
      "Loss = 3.252943277359009, Params = Jaxtainer({'mean': DeviceArray([-0.18635367], dtype=float32), 'log_chol_diag': DeviceArray([-0.09252866], dtype=float32)})\n",
      "Loss = 3.2529513835906982, Params = Jaxtainer({'mean': DeviceArray([-0.18602517], dtype=float32), 'log_chol_diag': DeviceArray([-0.09269409], dtype=float32)})\n",
      "Loss = 3.2529454231262207, Params = Jaxtainer({'mean': DeviceArray([-0.1859551], dtype=float32), 'log_chol_diag': DeviceArray([-0.09280532], dtype=float32)})\n",
      "Loss = 3.2529377937316895, Params = Jaxtainer({'mean': DeviceArray([-0.18614842], dtype=float32), 'log_chol_diag': DeviceArray([-0.09279056], dtype=float32)})\n"
     ]
    },
    {
     "name": "stdout",
     "output_type": "stream",
     "text": [
      "Loss = 3.252932548522949, Params = Jaxtainer({'mean': DeviceArray([-0.18654393], dtype=float32), 'log_chol_diag': DeviceArray([-0.09268206], dtype=float32)})\n",
      "Loss = 3.2529304027557373, Params = Jaxtainer({'mean': DeviceArray([-0.18703528], dtype=float32), 'log_chol_diag': DeviceArray([-0.092583], dtype=float32)})\n",
      "Loss = 3.252925157546997, Params = Jaxtainer({'mean': DeviceArray([-0.18750891], dtype=float32), 'log_chol_diag': DeviceArray([-0.09258707], dtype=float32)})\n",
      "Loss = 3.2529103755950928, Params = Jaxtainer({'mean': DeviceArray([-0.18787935], dtype=float32), 'log_chol_diag': DeviceArray([-0.09271015], dtype=float32)})\n",
      "Loss = 3.25288724899292, Params = Jaxtainer({'mean': DeviceArray([-0.18810527], dtype=float32), 'log_chol_diag': DeviceArray([-0.09288097], dtype=float32)})\n",
      "Loss = 3.252864122390747, Params = Jaxtainer({'mean': DeviceArray([-0.1881831], dtype=float32), 'log_chol_diag': DeviceArray([-0.09299372], dtype=float32)})\n",
      "Loss = 3.252851724624634, Params = Jaxtainer({'mean': DeviceArray([-0.1881287], dtype=float32), 'log_chol_diag': DeviceArray([-0.09298218], dtype=float32)})\n",
      "Loss = 3.252854347229004, Params = Jaxtainer({'mean': DeviceArray([-0.18796264], dtype=float32), 'log_chol_diag': DeviceArray([-0.09286228], dtype=float32)})\n",
      "Loss = 3.2528700828552246, Params = Jaxtainer({'mean': DeviceArray([-0.18770847], dtype=float32), 'log_chol_diag': DeviceArray([-0.09271562], dtype=float32)})\n",
      "Loss = 3.252892017364502, Params = Jaxtainer({'mean': DeviceArray([-0.18740043], dtype=float32), 'log_chol_diag': DeviceArray([-0.09262972], dtype=float32)})\n",
      "Loss = 3.2529091835021973, Params = Jaxtainer({'mean': DeviceArray([-0.18708935], dtype=float32), 'log_chol_diag': DeviceArray([-0.09263939], dtype=float32)})\n",
      "Loss = 3.252918004989624, Params = Jaxtainer({'mean': DeviceArray([-0.18683678], dtype=float32), 'log_chol_diag': DeviceArray([-0.09271005], dtype=float32)})\n",
      "Loss = 3.2529189586639404, Params = Jaxtainer({'mean': DeviceArray([-0.18669684], dtype=float32), 'log_chol_diag': DeviceArray([-0.09277138], dtype=float32)})\n",
      "Loss = 3.2529168128967285, Params = Jaxtainer({'mean': DeviceArray([-0.18669562], dtype=float32), 'log_chol_diag': DeviceArray([-0.09277279], dtype=float32)})\n",
      "Loss = 3.2529170513153076, Params = Jaxtainer({'mean': DeviceArray([-0.18682085], dtype=float32), 'log_chol_diag': DeviceArray([-0.09271871], dtype=float32)})\n",
      "Loss = 3.2529184818267822, Params = Jaxtainer({'mean': DeviceArray([-0.1870281], dtype=float32), 'log_chol_diag': DeviceArray([-0.09266016], dtype=float32)})\n",
      "Loss = 3.252917766571045, Params = Jaxtainer({'mean': DeviceArray([-0.18726005], dtype=float32), 'log_chol_diag': DeviceArray([-0.09265197], dtype=float32)})\n",
      "Loss = 3.2529115676879883, Params = Jaxtainer({'mean': DeviceArray([-0.18746734], dtype=float32), 'log_chol_diag': DeviceArray([-0.09270997], dtype=float32)})\n",
      "Loss = 3.252899408340454, Params = Jaxtainer({'mean': DeviceArray([-0.18762028], dtype=float32), 'log_chol_diag': DeviceArray([-0.09279974], dtype=float32)})\n",
      "Loss = 3.2528865337371826, Params = Jaxtainer({'mean': DeviceArray([-0.18770763], dtype=float32), 'log_chol_diag': DeviceArray([-0.09286371], dtype=float32)})\n",
      "Loss = 3.252877950668335, Params = Jaxtainer({'mean': DeviceArray([-0.18772814], dtype=float32), 'log_chol_diag': DeviceArray([-0.09286379], dtype=float32)})\n",
      "Loss = 3.2528765201568604, Params = Jaxtainer({'mean': DeviceArray([-0.18768388], dtype=float32), 'log_chol_diag': DeviceArray([-0.09280716], dtype=float32)})\n",
      "Loss = 3.2528836727142334, Params = Jaxtainer({'mean': DeviceArray([-0.1875807], dtype=float32), 'log_chol_diag': DeviceArray([-0.09273728], dtype=float32)})\n",
      "Loss = 3.2528936862945557, Params = Jaxtainer({'mean': DeviceArray([-0.1874337], dtype=float32), 'log_chol_diag': DeviceArray([-0.09269967], dtype=float32)})\n",
      "Loss = 3.252901554107666, Params = Jaxtainer({'mean': DeviceArray([-0.18727073], dtype=float32), 'log_chol_diag': DeviceArray([-0.09270932], dtype=float32)})\n",
      "Loss = 3.2529053688049316, Params = Jaxtainer({'mean': DeviceArray([-0.18712811], dtype=float32), 'log_chol_diag': DeviceArray([-0.0927441], dtype=float32)})\n",
      "Loss = 3.252906322479248, Params = Jaxtainer({'mean': DeviceArray([-0.18703882], dtype=float32), 'log_chol_diag': DeviceArray([-0.09276672], dtype=float32)})\n",
      "Loss = 3.2529067993164062, Params = Jaxtainer({'mean': DeviceArray([-0.18701993], dtype=float32), 'log_chol_diag': DeviceArray([-0.09275566], dtype=float32)})\n",
      "Loss = 3.252908706665039, Params = Jaxtainer({'mean': DeviceArray([-0.187067], dtype=float32), 'log_chol_diag': DeviceArray([-0.09272103], dtype=float32)})\n",
      "Loss = 3.252910614013672, Params = Jaxtainer({'mean': DeviceArray([-0.18715847], dtype=float32), 'log_chol_diag': DeviceArray([-0.09269404], dtype=float32)})\n",
      "Loss = 3.2529103755950928, Params = Jaxtainer({'mean': DeviceArray([-0.18726674], dtype=float32), 'log_chol_diag': DeviceArray([-0.09270027], dtype=float32)})\n",
      "Loss = 3.252906560897827, Params = Jaxtainer({'mean': DeviceArray([-0.18736866], dtype=float32), 'log_chol_diag': DeviceArray([-0.09273919], dtype=float32)})\n",
      "Loss = 3.252899646759033, Params = Jaxtainer({'mean': DeviceArray([-0.18744992], dtype=float32), 'log_chol_diag': DeviceArray([-0.09278515], dtype=float32)})\n",
      "Loss = 3.2528927326202393, Params = Jaxtainer({'mean': DeviceArray([-0.18750298], dtype=float32), 'log_chol_diag': DeviceArray([-0.09280808], dtype=float32)})\n",
      "Loss = 3.2528889179229736, Params = Jaxtainer({'mean': DeviceArray([-0.1875231], dtype=float32), 'log_chol_diag': DeviceArray([-0.0927962], dtype=float32)})\n",
      "Loss = 3.2528891563415527, Params = Jaxtainer({'mean': DeviceArray([-0.18750706], dtype=float32), 'log_chol_diag': DeviceArray([-0.09276325], dtype=float32)})\n",
      "Loss = 3.2528932094573975, Params = Jaxtainer({'mean': DeviceArray([-0.18745609], dtype=float32), 'log_chol_diag': DeviceArray([-0.09273539], dtype=float32)})\n",
      "Loss = 3.2528975009918213, Params = Jaxtainer({'mean': DeviceArray([-0.1873796], dtype=float32), 'log_chol_diag': DeviceArray([-0.09273013], dtype=float32)})\n",
      "Loss = 3.2529006004333496, Params = Jaxtainer({'mean': DeviceArray([-0.18729551], dtype=float32), 'log_chol_diag': DeviceArray([-0.09274417], dtype=float32)})\n",
      "Loss = 3.252901315689087, Params = Jaxtainer({'mean': DeviceArray([-0.18722504], dtype=float32), 'log_chol_diag': DeviceArray([-0.09275905], dtype=float32)})\n",
      "Loss = 3.252902030944824, Params = Jaxtainer({'mean': DeviceArray([-0.1871847], dtype=float32), 'log_chol_diag': DeviceArray([-0.09275819], dtype=float32)})\n",
      "Loss = 3.252903461456299, Params = Jaxtainer({'mean': DeviceArray([-0.1871803], dtype=float32), 'log_chol_diag': DeviceArray([-0.09274093], dtype=float32)})\n",
      "Loss = 3.2529048919677734, Params = Jaxtainer({'mean': DeviceArray([-0.18720645], dtype=float32), 'log_chol_diag': DeviceArray([-0.09272205], dtype=float32)})\n",
      "Loss = 3.252906322479248, Params = Jaxtainer({'mean': DeviceArray([-0.18725131], dtype=float32), 'log_chol_diag': DeviceArray([-0.09271843], dtype=float32)})\n",
      "Loss = 3.2529046535491943, Params = Jaxtainer({'mean': DeviceArray([-0.18730268], dtype=float32), 'log_chol_diag': DeviceArray([-0.09273462], dtype=float32)})\n",
      "Loss = 3.252901792526245, Params = Jaxtainer({'mean': DeviceArray([-0.18735145], dtype=float32), 'log_chol_diag': DeviceArray([-0.09275957], dtype=float32)})\n",
      "Loss = 3.2528979778289795, Params = Jaxtainer({'mean': DeviceArray([-0.18739146], dtype=float32), 'log_chol_diag': DeviceArray([-0.092776], dtype=float32)})\n",
      "Loss = 3.2528953552246094, Params = Jaxtainer({'mean': DeviceArray([-0.18741752], dtype=float32), 'log_chol_diag': DeviceArray([-0.09277443], dtype=float32)})\n"
     ]
    },
    {
     "ename": "KeyboardInterrupt",
     "evalue": "",
     "output_type": "error",
     "traceback": [
      "\u001b[0;31m---------------------------------------------------------------------------\u001b[0m",
      "\u001b[0;31mKeyboardInterrupt\u001b[0m                         Traceback (most recent call last)",
      "\u001b[0;32m/tmp/ipykernel_8136/2097705075.py\u001b[0m in \u001b[0;36m<module>\u001b[0;34m\u001b[0m\n\u001b[1;32m      3\u001b[0m \u001b[0mloss\u001b[0m \u001b[0;34m=\u001b[0m \u001b[0mlosses\u001b[0m\u001b[0;34m.\u001b[0m\u001b[0mReverseKL\u001b[0m\u001b[0;34m(\u001b[0m\u001b[0mjoint_dist\u001b[0m\u001b[0;34m,\u001b[0m \u001b[0muse_reparameterisation\u001b[0m\u001b[0;34m=\u001b[0m\u001b[0;32mTrue\u001b[0m\u001b[0;34m)\u001b[0m\u001b[0;34m\u001b[0m\u001b[0;34m\u001b[0m\u001b[0m\n\u001b[1;32m      4\u001b[0m \u001b[0moptimiser\u001b[0m \u001b[0;34m=\u001b[0m \u001b[0moptimisers\u001b[0m\u001b[0;34m.\u001b[0m\u001b[0mAdam\u001b[0m\u001b[0;34m(\u001b[0m\u001b[0;34m)\u001b[0m\u001b[0;34m\u001b[0m\u001b[0;34m\u001b[0m\u001b[0m\n\u001b[0;32m----> 5\u001b[0;31m \u001b[0moptimiser\u001b[0m\u001b[0;34m.\u001b[0m\u001b[0mfit\u001b[0m\u001b[0;34m(\u001b[0m\u001b[0mapprox_dist\u001b[0m\u001b[0;34m,\u001b[0m \u001b[0mloss\u001b[0m\u001b[0;34m,\u001b[0m \u001b[0mdata\u001b[0m\u001b[0;34m,\u001b[0m \u001b[0mprngkey\u001b[0m\u001b[0;34m,\u001b[0m \u001b[0mverbose\u001b[0m \u001b[0;34m=\u001b[0m \u001b[0;32mTrue\u001b[0m\u001b[0;34m,\u001b[0m \u001b[0mmax_iter\u001b[0m\u001b[0;34m=\u001b[0m\u001b[0;36m1000\u001b[0m\u001b[0;34m,\u001b[0m \u001b[0mnum_samples\u001b[0m\u001b[0;34m=\u001b[0m\u001b[0;36m1000\u001b[0m\u001b[0;34m)\u001b[0m\u001b[0;34m\u001b[0m\u001b[0;34m\u001b[0m\u001b[0m\n\u001b[0m",
      "\u001b[0;32m/usr/local/lib/python3.8/dist-packages/approx_post/optimisers.py\u001b[0m in \u001b[0;36mfit\u001b[0;34m(self, approx, loss_func, x, prngkey, num_samples, verbose, max_iter)\u001b[0m\n\u001b[1;32m     13\u001b[0m         \u001b[0;32mwhile\u001b[0m \u001b[0mself\u001b[0m\u001b[0;34m.\u001b[0m\u001b[0m_loop_flag\u001b[0m\u001b[0;34m:\u001b[0m\u001b[0;34m\u001b[0m\u001b[0;34m\u001b[0m\u001b[0m\n\u001b[1;32m     14\u001b[0m \u001b[0;34m\u001b[0m\u001b[0m\n\u001b[0;32m---> 15\u001b[0;31m             \u001b[0mloss\u001b[0m\u001b[0;34m,\u001b[0m \u001b[0mloss_del_params\u001b[0m \u001b[0;34m=\u001b[0m \u001b[0mloss_func\u001b[0m\u001b[0;34m.\u001b[0m\u001b[0meval\u001b[0m\u001b[0;34m(\u001b[0m\u001b[0mapprox\u001b[0m\u001b[0;34m,\u001b[0m \u001b[0mx\u001b[0m\u001b[0;34m,\u001b[0m \u001b[0mprngkey\u001b[0m\u001b[0;34m=\u001b[0m\u001b[0mprngkey\u001b[0m\u001b[0;34m,\u001b[0m \u001b[0mnum_samples\u001b[0m\u001b[0;34m=\u001b[0m\u001b[0mnum_samples\u001b[0m\u001b[0;34m)\u001b[0m\u001b[0;34m\u001b[0m\u001b[0;34m\u001b[0m\u001b[0m\n\u001b[0m\u001b[1;32m     16\u001b[0m \u001b[0;34m\u001b[0m\u001b[0m\n\u001b[1;32m     17\u001b[0m             \u001b[0mnew_params\u001b[0m \u001b[0;34m=\u001b[0m \u001b[0mself\u001b[0m\u001b[0;34m.\u001b[0m\u001b[0m_get_params\u001b[0m\u001b[0;34m(\u001b[0m\u001b[0mapprox\u001b[0m\u001b[0;34m)\u001b[0m \u001b[0;34m-\u001b[0m \u001b[0mself\u001b[0m\u001b[0;34m.\u001b[0m\u001b[0mstep\u001b[0m\u001b[0;34m(\u001b[0m\u001b[0mloss_del_params\u001b[0m\u001b[0;34m)\u001b[0m\u001b[0;34m\u001b[0m\u001b[0;34m\u001b[0m\u001b[0m\n",
      "\u001b[0;32m/usr/local/lib/python3.8/dist-packages/approx_post/losses.py\u001b[0m in \u001b[0;36meval\u001b[0;34m(self, approx, x, prngkey, num_samples)\u001b[0m\n\u001b[1;32m    128\u001b[0m         \u001b[0;32mif\u001b[0m \u001b[0mself\u001b[0m\u001b[0;34m.\u001b[0m\u001b[0mmethod\u001b[0m \u001b[0;34m==\u001b[0m \u001b[0;34m'elbo'\u001b[0m\u001b[0;34m:\u001b[0m\u001b[0;34m\u001b[0m\u001b[0;34m\u001b[0m\u001b[0m\n\u001b[1;32m    129\u001b[0m             \u001b[0;32mif\u001b[0m \u001b[0mself\u001b[0m\u001b[0;34m.\u001b[0m\u001b[0muse_reparameterisation\u001b[0m\u001b[0;34m:\u001b[0m\u001b[0;34m\u001b[0m\u001b[0;34m\u001b[0m\u001b[0m\n\u001b[0;32m--> 130\u001b[0;31m                 \u001b[0mloss\u001b[0m\u001b[0;34m,\u001b[0m \u001b[0mloss_del_phi\u001b[0m \u001b[0;34m=\u001b[0m \u001b[0mself\u001b[0m\u001b[0;34m.\u001b[0m\u001b[0m_eval_elbo_reparameterisation\u001b[0m\u001b[0;34m(\u001b[0m\u001b[0mapprox\u001b[0m\u001b[0;34m,\u001b[0m \u001b[0mphi\u001b[0m\u001b[0;34m,\u001b[0m \u001b[0mx\u001b[0m\u001b[0;34m,\u001b[0m \u001b[0mnum_samples\u001b[0m\u001b[0;34m,\u001b[0m \u001b[0mprngkey\u001b[0m\u001b[0;34m)\u001b[0m\u001b[0;34m\u001b[0m\u001b[0;34m\u001b[0m\u001b[0m\n\u001b[0m\u001b[1;32m    131\u001b[0m             \u001b[0;32melse\u001b[0m\u001b[0;34m:\u001b[0m\u001b[0;34m\u001b[0m\u001b[0;34m\u001b[0m\u001b[0m\n\u001b[1;32m    132\u001b[0m                 \u001b[0mloss\u001b[0m\u001b[0;34m,\u001b[0m \u001b[0mloss_del_phi\u001b[0m \u001b[0;34m=\u001b[0m \u001b[0mself\u001b[0m\u001b[0;34m.\u001b[0m\u001b[0m_eval_elbo_cv\u001b[0m\u001b[0;34m(\u001b[0m\u001b[0mapprox\u001b[0m\u001b[0;34m,\u001b[0m \u001b[0mphi\u001b[0m\u001b[0;34m,\u001b[0m \u001b[0mx\u001b[0m\u001b[0;34m,\u001b[0m \u001b[0mnum_samples\u001b[0m\u001b[0;34m,\u001b[0m \u001b[0mprngkey\u001b[0m\u001b[0;34m)\u001b[0m\u001b[0;34m\u001b[0m\u001b[0;34m\u001b[0m\u001b[0m\n",
      "\u001b[0;32m/usr/local/lib/python3.8/dist-packages/approx_post/losses.py\u001b[0m in \u001b[0;36m_eval_elbo_reparameterisation\u001b[0;34m(self, approx, phi, x, num_samples, prngkey)\u001b[0m\n\u001b[1;32m    158\u001b[0m \u001b[0;34m\u001b[0m\u001b[0m\n\u001b[1;32m    159\u001b[0m         \u001b[0mtransform_del_phi\u001b[0m \u001b[0;34m=\u001b[0m \u001b[0mapprox\u001b[0m\u001b[0;34m.\u001b[0m\u001b[0mtransform_del_2\u001b[0m\u001b[0;34m(\u001b[0m\u001b[0mepsilon\u001b[0m\u001b[0;34m,\u001b[0m \u001b[0mphi\u001b[0m\u001b[0;34m)\u001b[0m\u001b[0;34m\u001b[0m\u001b[0;34m\u001b[0m\u001b[0m\n\u001b[0;32m--> 160\u001b[0;31m         \u001b[0mjoint_del_phi\u001b[0m \u001b[0;34m=\u001b[0m \u001b[0mself\u001b[0m\u001b[0;34m.\u001b[0m\u001b[0m_compute_joint_del_phi_reparameterisation\u001b[0m\u001b[0;34m(\u001b[0m\u001b[0mx\u001b[0m\u001b[0;34m,\u001b[0m \u001b[0mtheta\u001b[0m\u001b[0;34m,\u001b[0m \u001b[0mtransform_del_phi\u001b[0m\u001b[0;34m)\u001b[0m\u001b[0;34m\u001b[0m\u001b[0;34m\u001b[0m\u001b[0m\n\u001b[0m\u001b[1;32m    161\u001b[0m         \u001b[0mapprox_del_phi\u001b[0m \u001b[0;34m=\u001b[0m \u001b[0mself\u001b[0m\u001b[0;34m.\u001b[0m\u001b[0m_compute_approx_del_phi_reparameterisation\u001b[0m\u001b[0;34m(\u001b[0m\u001b[0mapprox\u001b[0m\u001b[0;34m,\u001b[0m \u001b[0mphi\u001b[0m\u001b[0;34m,\u001b[0m \u001b[0mtheta\u001b[0m\u001b[0;34m,\u001b[0m \u001b[0mtransform_del_phi\u001b[0m\u001b[0;34m)\u001b[0m\u001b[0;34m\u001b[0m\u001b[0;34m\u001b[0m\u001b[0m\n\u001b[1;32m    162\u001b[0m         \u001b[0mloss_del_phi_samples\u001b[0m \u001b[0;34m=\u001b[0m \u001b[0mjoint_del_phi\u001b[0m \u001b[0;34m-\u001b[0m \u001b[0mapprox_del_phi\u001b[0m\u001b[0;34m\u001b[0m\u001b[0;34m\u001b[0m\u001b[0m\n",
      "\u001b[0;32m/usr/local/lib/python3.8/dist-packages/approx_post/losses.py\u001b[0m in \u001b[0;36m_compute_joint_del_phi_reparameterisation\u001b[0;34m(self, x, theta, transform_del_phi)\u001b[0m\n\u001b[1;32m     98\u001b[0m \u001b[0;34m\u001b[0m\u001b[0m\n\u001b[1;32m     99\u001b[0m     \u001b[0;32mdef\u001b[0m \u001b[0m_compute_joint_del_phi_reparameterisation\u001b[0m\u001b[0;34m(\u001b[0m\u001b[0mself\u001b[0m\u001b[0;34m,\u001b[0m \u001b[0mx\u001b[0m\u001b[0;34m,\u001b[0m \u001b[0mtheta\u001b[0m\u001b[0;34m,\u001b[0m \u001b[0mtransform_del_phi\u001b[0m\u001b[0;34m)\u001b[0m\u001b[0;34m:\u001b[0m\u001b[0;34m\u001b[0m\u001b[0;34m\u001b[0m\u001b[0m\n\u001b[0;32m--> 100\u001b[0;31m         \u001b[0mjoint_del_1\u001b[0m \u001b[0;34m=\u001b[0m \u001b[0mself\u001b[0m\u001b[0;34m.\u001b[0m\u001b[0mjoint\u001b[0m\u001b[0;34m.\u001b[0m\u001b[0mlogpdf_del_1\u001b[0m\u001b[0;34m(\u001b[0m\u001b[0mtheta\u001b[0m\u001b[0;34m,\u001b[0m \u001b[0mx\u001b[0m\u001b[0;34m)\u001b[0m\u001b[0;34m\u001b[0m\u001b[0;34m\u001b[0m\u001b[0m\n\u001b[0m\u001b[1;32m    101\u001b[0m         \u001b[0;32mreturn\u001b[0m \u001b[0mnp\u001b[0m\u001b[0;34m.\u001b[0m\u001b[0meinsum\u001b[0m\u001b[0;34m(\u001b[0m\u001b[0;34m\"abj,abj...->ab...\"\u001b[0m\u001b[0;34m,\u001b[0m \u001b[0mjoint_del_1\u001b[0m\u001b[0;34m,\u001b[0m \u001b[0mtransform_del_phi\u001b[0m\u001b[0;34m)\u001b[0m\u001b[0;34m\u001b[0m\u001b[0;34m\u001b[0m\u001b[0m\n\u001b[1;32m    102\u001b[0m \u001b[0;34m\u001b[0m\u001b[0m\n",
      "\u001b[0;32m/usr/local/lib/python3.8/dist-packages/approx_post/distributions/joint.py\u001b[0m in \u001b[0;36mlogpdf_del_1\u001b[0;34m(self, theta, x)\u001b[0m\n\u001b[1;32m     17\u001b[0m     \u001b[0;32mdef\u001b[0m \u001b[0mlogpdf_del_1\u001b[0m\u001b[0;34m(\u001b[0m\u001b[0mself\u001b[0m\u001b[0;34m,\u001b[0m \u001b[0mtheta\u001b[0m\u001b[0;34m,\u001b[0m \u001b[0mx\u001b[0m\u001b[0;34m)\u001b[0m\u001b[0;34m:\u001b[0m\u001b[0;34m\u001b[0m\u001b[0;34m\u001b[0m\u001b[0m\n\u001b[1;32m     18\u001b[0m         \u001b[0mnum_batch\u001b[0m\u001b[0;34m,\u001b[0m \u001b[0mnum_samples\u001b[0m \u001b[0;34m=\u001b[0m \u001b[0mtheta\u001b[0m\u001b[0;34m.\u001b[0m\u001b[0mshape\u001b[0m\u001b[0;34m[\u001b[0m\u001b[0;36m0\u001b[0m\u001b[0;34m:\u001b[0m\u001b[0;36m2\u001b[0m\u001b[0;34m]\u001b[0m\u001b[0;34m\u001b[0m\u001b[0;34m\u001b[0m\u001b[0m\n\u001b[0;32m---> 19\u001b[0;31m         \u001b[0;32mreturn\u001b[0m \u001b[0mself\u001b[0m\u001b[0;34m.\u001b[0m\u001b[0m_func_dict\u001b[0m\u001b[0;34m[\u001b[0m\u001b[0;34m'logpdf_del_1'\u001b[0m\u001b[0;34m]\u001b[0m\u001b[0;34m(\u001b[0m\u001b[0mtheta\u001b[0m\u001b[0;34m,\u001b[0m \u001b[0mx\u001b[0m\u001b[0;34m)\u001b[0m\u001b[0;34m.\u001b[0m\u001b[0mreshape\u001b[0m\u001b[0;34m(\u001b[0m\u001b[0mnum_batch\u001b[0m\u001b[0;34m,\u001b[0m \u001b[0mnum_samples\u001b[0m\u001b[0;34m,\u001b[0m \u001b[0;34m-\u001b[0m\u001b[0;36m1\u001b[0m\u001b[0;34m)\u001b[0m\u001b[0;34m\u001b[0m\u001b[0;34m\u001b[0m\u001b[0m\n\u001b[0m\u001b[1;32m     20\u001b[0m \u001b[0;34m\u001b[0m\u001b[0m\n\u001b[1;32m     21\u001b[0m \u001b[0;32mclass\u001b[0m \u001b[0mModelPlusGaussian\u001b[0m\u001b[0;34m(\u001b[0m\u001b[0mJointDistribution\u001b[0m\u001b[0;34m)\u001b[0m\u001b[0;34m:\u001b[0m\u001b[0;34m\u001b[0m\u001b[0;34m\u001b[0m\u001b[0m\n",
      "\u001b[0;32m/usr/local/lib/python3.8/dist-packages/approx_post/distributions/joint.py\u001b[0m in \u001b[0;36mlogpdf_del_1\u001b[0;34m(theta, x)\u001b[0m\n\u001b[1;32m     78\u001b[0m             \u001b[0;31m# theta.shape = (num_batch, num_samples, theta_dim)\u001b[0m\u001b[0;34m\u001b[0m\u001b[0;34m\u001b[0m\u001b[0;34m\u001b[0m\u001b[0m\n\u001b[1;32m     79\u001b[0m             \u001b[0;31m# x.shape = (num_batch, x_dim)\u001b[0m\u001b[0;34m\u001b[0m\u001b[0;34m\u001b[0m\u001b[0;34m\u001b[0m\u001b[0m\n\u001b[0;32m---> 80\u001b[0;31m             \u001b[0mprior_del_1\u001b[0m \u001b[0;34m=\u001b[0m \u001b[0mmvn_del_theta_vmap\u001b[0m\u001b[0;34m(\u001b[0m\u001b[0mtheta\u001b[0m\u001b[0;34m,\u001b[0m \u001b[0mself\u001b[0m\u001b[0;34m.\u001b[0m\u001b[0mprior_mean\u001b[0m\u001b[0;34m,\u001b[0m \u001b[0mself\u001b[0m\u001b[0;34m.\u001b[0m\u001b[0mprior_cov\u001b[0m\u001b[0;34m)\u001b[0m \u001b[0;31m# shape = (num_batch, num_samples, theta_dim)\u001b[0m\u001b[0;34m\u001b[0m\u001b[0;34m\u001b[0m\u001b[0m\n\u001b[0m\u001b[1;32m     81\u001b[0m             \u001b[0mx_pred\u001b[0m \u001b[0;34m=\u001b[0m \u001b[0mself\u001b[0m\u001b[0;34m.\u001b[0m\u001b[0m_model_funcs\u001b[0m\u001b[0;34m[\u001b[0m\u001b[0;34m'model'\u001b[0m\u001b[0;34m]\u001b[0m\u001b[0;34m(\u001b[0m\u001b[0mtheta\u001b[0m\u001b[0;34m)\u001b[0m \u001b[0;31m# shape = (num_batch, num_samples, x_dim)\u001b[0m\u001b[0;34m\u001b[0m\u001b[0;34m\u001b[0m\u001b[0m\n\u001b[1;32m     82\u001b[0m             \u001b[0mlike_del_mean\u001b[0m \u001b[0;34m=\u001b[0m \u001b[0mmvn_del_mean_vmap\u001b[0m\u001b[0;34m(\u001b[0m\u001b[0mx\u001b[0m\u001b[0;34m,\u001b[0m \u001b[0mx_pred\u001b[0m\u001b[0;34m,\u001b[0m \u001b[0mself\u001b[0m\u001b[0;34m.\u001b[0m\u001b[0mnoise_cov\u001b[0m\u001b[0;34m)\u001b[0m \u001b[0;31m# shape = (num_batch, num_samples, theta_dim)\u001b[0m\u001b[0;34m\u001b[0m\u001b[0;34m\u001b[0m\u001b[0m\n",
      "    \u001b[0;31m[... skipping hidden 1 frame]\u001b[0m\n",
      "\u001b[0;32m~/.local/lib/python3.8/site-packages/jax/_src/api.py\u001b[0m in \u001b[0;36mbatched_fun\u001b[0;34m(*args, **kwargs)\u001b[0m\n\u001b[1;32m   1450\u001b[0m     \u001b[0min_axes_flat\u001b[0m \u001b[0;34m=\u001b[0m \u001b[0mflatten_axes\u001b[0m\u001b[0;34m(\u001b[0m\u001b[0;34m\"vmap in_axes\"\u001b[0m\u001b[0;34m,\u001b[0m \u001b[0min_tree\u001b[0m\u001b[0;34m,\u001b[0m \u001b[0;34m(\u001b[0m\u001b[0min_axes\u001b[0m\u001b[0;34m,\u001b[0m \u001b[0;36m0\u001b[0m\u001b[0;34m)\u001b[0m\u001b[0;34m,\u001b[0m \u001b[0mkws\u001b[0m\u001b[0;34m=\u001b[0m\u001b[0;32mTrue\u001b[0m\u001b[0;34m)\u001b[0m\u001b[0;34m\u001b[0m\u001b[0;34m\u001b[0m\u001b[0m\n\u001b[1;32m   1451\u001b[0m     \u001b[0maxis_size\u001b[0m \u001b[0;34m=\u001b[0m \u001b[0m_mapped_axis_size\u001b[0m\u001b[0;34m(\u001b[0m\u001b[0min_tree\u001b[0m\u001b[0;34m,\u001b[0m \u001b[0margs_flat\u001b[0m\u001b[0;34m,\u001b[0m \u001b[0min_axes_flat\u001b[0m\u001b[0;34m,\u001b[0m \u001b[0;34m\"vmap\"\u001b[0m\u001b[0;34m,\u001b[0m \u001b[0mkws\u001b[0m\u001b[0;34m=\u001b[0m\u001b[0;32mTrue\u001b[0m\u001b[0;34m)\u001b[0m\u001b[0;34m\u001b[0m\u001b[0;34m\u001b[0m\u001b[0m\n\u001b[0;32m-> 1452\u001b[0;31m     out_flat = batching.batch(\n\u001b[0m\u001b[1;32m   1453\u001b[0m         \u001b[0mflat_fun\u001b[0m\u001b[0;34m,\u001b[0m \u001b[0maxis_name\u001b[0m\u001b[0;34m,\u001b[0m \u001b[0maxis_size\u001b[0m\u001b[0;34m,\u001b[0m \u001b[0min_axes_flat\u001b[0m\u001b[0;34m,\u001b[0m\u001b[0;34m\u001b[0m\u001b[0;34m\u001b[0m\u001b[0m\n\u001b[1;32m   1454\u001b[0m         \u001b[0;32mlambda\u001b[0m\u001b[0;34m:\u001b[0m \u001b[0mflatten_axes\u001b[0m\u001b[0;34m(\u001b[0m\u001b[0;34m\"vmap out_axes\"\u001b[0m\u001b[0;34m,\u001b[0m \u001b[0mout_tree\u001b[0m\u001b[0;34m(\u001b[0m\u001b[0;34m)\u001b[0m\u001b[0;34m,\u001b[0m \u001b[0mout_axes\u001b[0m\u001b[0;34m)\u001b[0m\u001b[0;34m\u001b[0m\u001b[0;34m\u001b[0m\u001b[0m\n",
      "\u001b[0;32m~/.local/lib/python3.8/site-packages/jax/linear_util.py\u001b[0m in \u001b[0;36mcall_wrapped\u001b[0;34m(self, *args, **kwargs)\u001b[0m\n\u001b[1;32m    164\u001b[0m \u001b[0;34m\u001b[0m\u001b[0m\n\u001b[1;32m    165\u001b[0m     \u001b[0;32mtry\u001b[0m\u001b[0;34m:\u001b[0m\u001b[0;34m\u001b[0m\u001b[0;34m\u001b[0m\u001b[0m\n\u001b[0;32m--> 166\u001b[0;31m       \u001b[0mans\u001b[0m \u001b[0;34m=\u001b[0m \u001b[0mself\u001b[0m\u001b[0;34m.\u001b[0m\u001b[0mf\u001b[0m\u001b[0;34m(\u001b[0m\u001b[0;34m*\u001b[0m\u001b[0margs\u001b[0m\u001b[0;34m,\u001b[0m \u001b[0;34m**\u001b[0m\u001b[0mdict\u001b[0m\u001b[0;34m(\u001b[0m\u001b[0mself\u001b[0m\u001b[0;34m.\u001b[0m\u001b[0mparams\u001b[0m\u001b[0;34m,\u001b[0m \u001b[0;34m**\u001b[0m\u001b[0mkwargs\u001b[0m\u001b[0;34m)\u001b[0m\u001b[0;34m)\u001b[0m\u001b[0;34m\u001b[0m\u001b[0;34m\u001b[0m\u001b[0m\n\u001b[0m\u001b[1;32m    167\u001b[0m     \u001b[0;32mexcept\u001b[0m\u001b[0;34m:\u001b[0m\u001b[0;34m\u001b[0m\u001b[0;34m\u001b[0m\u001b[0m\n\u001b[1;32m    168\u001b[0m       \u001b[0;31m# Some transformations yield from inside context managers, so we have to\u001b[0m\u001b[0;34m\u001b[0m\u001b[0;34m\u001b[0m\u001b[0;34m\u001b[0m\u001b[0m\n",
      "    \u001b[0;31m[... skipping hidden 1 frame]\u001b[0m\n",
      "\u001b[0;32m~/.local/lib/python3.8/site-packages/jax/_src/api.py\u001b[0m in \u001b[0;36mbatched_fun\u001b[0;34m(*args, **kwargs)\u001b[0m\n\u001b[1;32m   1450\u001b[0m     \u001b[0min_axes_flat\u001b[0m \u001b[0;34m=\u001b[0m \u001b[0mflatten_axes\u001b[0m\u001b[0;34m(\u001b[0m\u001b[0;34m\"vmap in_axes\"\u001b[0m\u001b[0;34m,\u001b[0m \u001b[0min_tree\u001b[0m\u001b[0;34m,\u001b[0m \u001b[0;34m(\u001b[0m\u001b[0min_axes\u001b[0m\u001b[0;34m,\u001b[0m \u001b[0;36m0\u001b[0m\u001b[0;34m)\u001b[0m\u001b[0;34m,\u001b[0m \u001b[0mkws\u001b[0m\u001b[0;34m=\u001b[0m\u001b[0;32mTrue\u001b[0m\u001b[0;34m)\u001b[0m\u001b[0;34m\u001b[0m\u001b[0;34m\u001b[0m\u001b[0m\n\u001b[1;32m   1451\u001b[0m     \u001b[0maxis_size\u001b[0m \u001b[0;34m=\u001b[0m \u001b[0m_mapped_axis_size\u001b[0m\u001b[0;34m(\u001b[0m\u001b[0min_tree\u001b[0m\u001b[0;34m,\u001b[0m \u001b[0margs_flat\u001b[0m\u001b[0;34m,\u001b[0m \u001b[0min_axes_flat\u001b[0m\u001b[0;34m,\u001b[0m \u001b[0;34m\"vmap\"\u001b[0m\u001b[0;34m,\u001b[0m \u001b[0mkws\u001b[0m\u001b[0;34m=\u001b[0m\u001b[0;32mTrue\u001b[0m\u001b[0;34m)\u001b[0m\u001b[0;34m\u001b[0m\u001b[0;34m\u001b[0m\u001b[0m\n\u001b[0;32m-> 1452\u001b[0;31m     out_flat = batching.batch(\n\u001b[0m\u001b[1;32m   1453\u001b[0m         \u001b[0mflat_fun\u001b[0m\u001b[0;34m,\u001b[0m \u001b[0maxis_name\u001b[0m\u001b[0;34m,\u001b[0m \u001b[0maxis_size\u001b[0m\u001b[0;34m,\u001b[0m \u001b[0min_axes_flat\u001b[0m\u001b[0;34m,\u001b[0m\u001b[0;34m\u001b[0m\u001b[0;34m\u001b[0m\u001b[0m\n\u001b[1;32m   1454\u001b[0m         \u001b[0;32mlambda\u001b[0m\u001b[0;34m:\u001b[0m \u001b[0mflatten_axes\u001b[0m\u001b[0;34m(\u001b[0m\u001b[0;34m\"vmap out_axes\"\u001b[0m\u001b[0;34m,\u001b[0m \u001b[0mout_tree\u001b[0m\u001b[0;34m(\u001b[0m\u001b[0;34m)\u001b[0m\u001b[0;34m,\u001b[0m \u001b[0mout_axes\u001b[0m\u001b[0;34m)\u001b[0m\u001b[0;34m\u001b[0m\u001b[0;34m\u001b[0m\u001b[0m\n",
      "\u001b[0;32m~/.local/lib/python3.8/site-packages/jax/linear_util.py\u001b[0m in \u001b[0;36mcall_wrapped\u001b[0;34m(self, *args, **kwargs)\u001b[0m\n\u001b[1;32m    164\u001b[0m \u001b[0;34m\u001b[0m\u001b[0m\n\u001b[1;32m    165\u001b[0m     \u001b[0;32mtry\u001b[0m\u001b[0;34m:\u001b[0m\u001b[0;34m\u001b[0m\u001b[0;34m\u001b[0m\u001b[0m\n\u001b[0;32m--> 166\u001b[0;31m       \u001b[0mans\u001b[0m \u001b[0;34m=\u001b[0m \u001b[0mself\u001b[0m\u001b[0;34m.\u001b[0m\u001b[0mf\u001b[0m\u001b[0;34m(\u001b[0m\u001b[0;34m*\u001b[0m\u001b[0margs\u001b[0m\u001b[0;34m,\u001b[0m \u001b[0;34m**\u001b[0m\u001b[0mdict\u001b[0m\u001b[0;34m(\u001b[0m\u001b[0mself\u001b[0m\u001b[0;34m.\u001b[0m\u001b[0mparams\u001b[0m\u001b[0;34m,\u001b[0m \u001b[0;34m**\u001b[0m\u001b[0mkwargs\u001b[0m\u001b[0;34m)\u001b[0m\u001b[0;34m)\u001b[0m\u001b[0;34m\u001b[0m\u001b[0;34m\u001b[0m\u001b[0m\n\u001b[0m\u001b[1;32m    167\u001b[0m     \u001b[0;32mexcept\u001b[0m\u001b[0;34m:\u001b[0m\u001b[0;34m\u001b[0m\u001b[0;34m\u001b[0m\u001b[0m\n\u001b[1;32m    168\u001b[0m       \u001b[0;31m# Some transformations yield from inside context managers, so we have to\u001b[0m\u001b[0;34m\u001b[0m\u001b[0;34m\u001b[0m\u001b[0;34m\u001b[0m\u001b[0m\n",
      "\u001b[0;32m~/.local/lib/python3.8/site-packages/jax/_src/api.py\u001b[0m in \u001b[0;36mjacfun\u001b[0;34m(*args, **kwargs)\u001b[0m\n\u001b[1;32m   1096\u001b[0m     \u001b[0mtree_map\u001b[0m\u001b[0;34m(\u001b[0m\u001b[0mpartial\u001b[0m\u001b[0;34m(\u001b[0m\u001b[0m_check_input_dtype_jacfwd\u001b[0m\u001b[0;34m,\u001b[0m \u001b[0mholomorphic\u001b[0m\u001b[0;34m)\u001b[0m\u001b[0;34m,\u001b[0m \u001b[0mdyn_args\u001b[0m\u001b[0;34m)\u001b[0m\u001b[0;34m\u001b[0m\u001b[0;34m\u001b[0m\u001b[0m\n\u001b[1;32m   1097\u001b[0m     \u001b[0mpushfwd\u001b[0m \u001b[0;34m=\u001b[0m \u001b[0mpartial\u001b[0m\u001b[0;34m(\u001b[0m\u001b[0m_jvp\u001b[0m\u001b[0;34m,\u001b[0m \u001b[0mf_partial\u001b[0m\u001b[0;34m,\u001b[0m \u001b[0mdyn_args\u001b[0m\u001b[0;34m)\u001b[0m\u001b[0;34m\u001b[0m\u001b[0;34m\u001b[0m\u001b[0m\n\u001b[0;32m-> 1098\u001b[0;31m     \u001b[0my\u001b[0m\u001b[0;34m,\u001b[0m \u001b[0mjac\u001b[0m \u001b[0;34m=\u001b[0m \u001b[0mvmap\u001b[0m\u001b[0;34m(\u001b[0m\u001b[0mpushfwd\u001b[0m\u001b[0;34m,\u001b[0m \u001b[0mout_axes\u001b[0m\u001b[0;34m=\u001b[0m\u001b[0;34m(\u001b[0m\u001b[0;32mNone\u001b[0m\u001b[0;34m,\u001b[0m \u001b[0;34m-\u001b[0m\u001b[0;36m1\u001b[0m\u001b[0;34m)\u001b[0m\u001b[0;34m)\u001b[0m\u001b[0;34m(\u001b[0m\u001b[0m_std_basis\u001b[0m\u001b[0;34m(\u001b[0m\u001b[0mdyn_args\u001b[0m\u001b[0;34m)\u001b[0m\u001b[0;34m)\u001b[0m\u001b[0;34m\u001b[0m\u001b[0;34m\u001b[0m\u001b[0m\n\u001b[0m\u001b[1;32m   1099\u001b[0m     \u001b[0mtree_map\u001b[0m\u001b[0;34m(\u001b[0m\u001b[0mpartial\u001b[0m\u001b[0;34m(\u001b[0m\u001b[0m_check_output_dtype_jacfwd\u001b[0m\u001b[0;34m,\u001b[0m \u001b[0mholomorphic\u001b[0m\u001b[0;34m)\u001b[0m\u001b[0;34m,\u001b[0m \u001b[0my\u001b[0m\u001b[0;34m)\u001b[0m\u001b[0;34m\u001b[0m\u001b[0;34m\u001b[0m\u001b[0m\n\u001b[1;32m   1100\u001b[0m     \u001b[0mexample_args\u001b[0m \u001b[0;34m=\u001b[0m \u001b[0mdyn_args\u001b[0m\u001b[0;34m[\u001b[0m\u001b[0;36m0\u001b[0m\u001b[0;34m]\u001b[0m \u001b[0;32mif\u001b[0m \u001b[0misinstance\u001b[0m\u001b[0;34m(\u001b[0m\u001b[0margnums\u001b[0m\u001b[0;34m,\u001b[0m \u001b[0mint\u001b[0m\u001b[0;34m)\u001b[0m \u001b[0;32melse\u001b[0m \u001b[0mdyn_args\u001b[0m\u001b[0;34m\u001b[0m\u001b[0;34m\u001b[0m\u001b[0m\n",
      "    \u001b[0;31m[... skipping hidden 1 frame]\u001b[0m\n",
      "\u001b[0;32m~/.local/lib/python3.8/site-packages/jax/_src/api.py\u001b[0m in \u001b[0;36mbatched_fun\u001b[0;34m(*args, **kwargs)\u001b[0m\n\u001b[1;32m   1450\u001b[0m     \u001b[0min_axes_flat\u001b[0m \u001b[0;34m=\u001b[0m \u001b[0mflatten_axes\u001b[0m\u001b[0;34m(\u001b[0m\u001b[0;34m\"vmap in_axes\"\u001b[0m\u001b[0;34m,\u001b[0m \u001b[0min_tree\u001b[0m\u001b[0;34m,\u001b[0m \u001b[0;34m(\u001b[0m\u001b[0min_axes\u001b[0m\u001b[0;34m,\u001b[0m \u001b[0;36m0\u001b[0m\u001b[0;34m)\u001b[0m\u001b[0;34m,\u001b[0m \u001b[0mkws\u001b[0m\u001b[0;34m=\u001b[0m\u001b[0;32mTrue\u001b[0m\u001b[0;34m)\u001b[0m\u001b[0;34m\u001b[0m\u001b[0;34m\u001b[0m\u001b[0m\n\u001b[1;32m   1451\u001b[0m     \u001b[0maxis_size\u001b[0m \u001b[0;34m=\u001b[0m \u001b[0m_mapped_axis_size\u001b[0m\u001b[0;34m(\u001b[0m\u001b[0min_tree\u001b[0m\u001b[0;34m,\u001b[0m \u001b[0margs_flat\u001b[0m\u001b[0;34m,\u001b[0m \u001b[0min_axes_flat\u001b[0m\u001b[0;34m,\u001b[0m \u001b[0;34m\"vmap\"\u001b[0m\u001b[0;34m,\u001b[0m \u001b[0mkws\u001b[0m\u001b[0;34m=\u001b[0m\u001b[0;32mTrue\u001b[0m\u001b[0;34m)\u001b[0m\u001b[0;34m\u001b[0m\u001b[0;34m\u001b[0m\u001b[0m\n\u001b[0;32m-> 1452\u001b[0;31m     out_flat = batching.batch(\n\u001b[0m\u001b[1;32m   1453\u001b[0m         \u001b[0mflat_fun\u001b[0m\u001b[0;34m,\u001b[0m \u001b[0maxis_name\u001b[0m\u001b[0;34m,\u001b[0m \u001b[0maxis_size\u001b[0m\u001b[0;34m,\u001b[0m \u001b[0min_axes_flat\u001b[0m\u001b[0;34m,\u001b[0m\u001b[0;34m\u001b[0m\u001b[0;34m\u001b[0m\u001b[0m\n\u001b[1;32m   1454\u001b[0m         \u001b[0;32mlambda\u001b[0m\u001b[0;34m:\u001b[0m \u001b[0mflatten_axes\u001b[0m\u001b[0;34m(\u001b[0m\u001b[0;34m\"vmap out_axes\"\u001b[0m\u001b[0;34m,\u001b[0m \u001b[0mout_tree\u001b[0m\u001b[0;34m(\u001b[0m\u001b[0;34m)\u001b[0m\u001b[0;34m,\u001b[0m \u001b[0mout_axes\u001b[0m\u001b[0;34m)\u001b[0m\u001b[0;34m\u001b[0m\u001b[0;34m\u001b[0m\u001b[0m\n",
      "\u001b[0;32m~/.local/lib/python3.8/site-packages/jax/linear_util.py\u001b[0m in \u001b[0;36mcall_wrapped\u001b[0;34m(self, *args, **kwargs)\u001b[0m\n\u001b[1;32m    164\u001b[0m \u001b[0;34m\u001b[0m\u001b[0m\n\u001b[1;32m    165\u001b[0m     \u001b[0;32mtry\u001b[0m\u001b[0;34m:\u001b[0m\u001b[0;34m\u001b[0m\u001b[0;34m\u001b[0m\u001b[0m\n\u001b[0;32m--> 166\u001b[0;31m       \u001b[0mans\u001b[0m \u001b[0;34m=\u001b[0m \u001b[0mself\u001b[0m\u001b[0;34m.\u001b[0m\u001b[0mf\u001b[0m\u001b[0;34m(\u001b[0m\u001b[0;34m*\u001b[0m\u001b[0margs\u001b[0m\u001b[0;34m,\u001b[0m \u001b[0;34m**\u001b[0m\u001b[0mdict\u001b[0m\u001b[0;34m(\u001b[0m\u001b[0mself\u001b[0m\u001b[0;34m.\u001b[0m\u001b[0mparams\u001b[0m\u001b[0;34m,\u001b[0m \u001b[0;34m**\u001b[0m\u001b[0mkwargs\u001b[0m\u001b[0;34m)\u001b[0m\u001b[0;34m)\u001b[0m\u001b[0;34m\u001b[0m\u001b[0;34m\u001b[0m\u001b[0m\n\u001b[0m\u001b[1;32m    167\u001b[0m     \u001b[0;32mexcept\u001b[0m\u001b[0;34m:\u001b[0m\u001b[0;34m\u001b[0m\u001b[0;34m\u001b[0m\u001b[0m\n\u001b[1;32m    168\u001b[0m       \u001b[0;31m# Some transformations yield from inside context managers, so we have to\u001b[0m\u001b[0;34m\u001b[0m\u001b[0;34m\u001b[0m\u001b[0;34m\u001b[0m\u001b[0m\n",
      "\u001b[0;32m~/.local/lib/python3.8/site-packages/jax/_src/api.py\u001b[0m in \u001b[0;36m_jvp\u001b[0;34m(fun, primals, tangents)\u001b[0m\n\u001b[1;32m   2106\u001b[0m \u001b[0;34m\u001b[0m\u001b[0m\n\u001b[1;32m   2107\u001b[0m   \u001b[0mflat_fun\u001b[0m\u001b[0;34m,\u001b[0m \u001b[0mout_tree\u001b[0m \u001b[0;34m=\u001b[0m \u001b[0mflatten_fun_nokwargs\u001b[0m\u001b[0;34m(\u001b[0m\u001b[0mfun\u001b[0m\u001b[0;34m,\u001b[0m \u001b[0mtree_def\u001b[0m\u001b[0;34m)\u001b[0m\u001b[0;34m\u001b[0m\u001b[0;34m\u001b[0m\u001b[0m\n\u001b[0;32m-> 2108\u001b[0;31m   \u001b[0mout_primals\u001b[0m\u001b[0;34m,\u001b[0m \u001b[0mout_tangents\u001b[0m \u001b[0;34m=\u001b[0m \u001b[0mad\u001b[0m\u001b[0;34m.\u001b[0m\u001b[0mjvp\u001b[0m\u001b[0;34m(\u001b[0m\u001b[0mflat_fun\u001b[0m\u001b[0;34m)\u001b[0m\u001b[0;34m.\u001b[0m\u001b[0mcall_wrapped\u001b[0m\u001b[0;34m(\u001b[0m\u001b[0mps_flat\u001b[0m\u001b[0;34m,\u001b[0m \u001b[0mts_flat\u001b[0m\u001b[0;34m)\u001b[0m\u001b[0;34m\u001b[0m\u001b[0;34m\u001b[0m\u001b[0m\n\u001b[0m\u001b[1;32m   2109\u001b[0m   return (tree_unflatten(out_tree(), out_primals),\n\u001b[1;32m   2110\u001b[0m           tree_unflatten(out_tree(), out_tangents))\n",
      "\u001b[0;32m~/.local/lib/python3.8/site-packages/jax/linear_util.py\u001b[0m in \u001b[0;36mcall_wrapped\u001b[0;34m(self, *args, **kwargs)\u001b[0m\n\u001b[1;32m    164\u001b[0m \u001b[0;34m\u001b[0m\u001b[0m\n\u001b[1;32m    165\u001b[0m     \u001b[0;32mtry\u001b[0m\u001b[0;34m:\u001b[0m\u001b[0;34m\u001b[0m\u001b[0;34m\u001b[0m\u001b[0m\n\u001b[0;32m--> 166\u001b[0;31m       \u001b[0mans\u001b[0m \u001b[0;34m=\u001b[0m \u001b[0mself\u001b[0m\u001b[0;34m.\u001b[0m\u001b[0mf\u001b[0m\u001b[0;34m(\u001b[0m\u001b[0;34m*\u001b[0m\u001b[0margs\u001b[0m\u001b[0;34m,\u001b[0m \u001b[0;34m**\u001b[0m\u001b[0mdict\u001b[0m\u001b[0;34m(\u001b[0m\u001b[0mself\u001b[0m\u001b[0;34m.\u001b[0m\u001b[0mparams\u001b[0m\u001b[0;34m,\u001b[0m \u001b[0;34m**\u001b[0m\u001b[0mkwargs\u001b[0m\u001b[0;34m)\u001b[0m\u001b[0;34m)\u001b[0m\u001b[0;34m\u001b[0m\u001b[0;34m\u001b[0m\u001b[0m\n\u001b[0m\u001b[1;32m    167\u001b[0m     \u001b[0;32mexcept\u001b[0m\u001b[0;34m:\u001b[0m\u001b[0;34m\u001b[0m\u001b[0;34m\u001b[0m\u001b[0m\n\u001b[1;32m    168\u001b[0m       \u001b[0;31m# Some transformations yield from inside context managers, so we have to\u001b[0m\u001b[0;34m\u001b[0m\u001b[0;34m\u001b[0m\u001b[0;34m\u001b[0m\u001b[0m\n",
      "\u001b[0;32m~/.local/lib/python3.8/site-packages/jax/_src/scipy/stats/multivariate_normal.py\u001b[0m in \u001b[0;36mlogpdf\u001b[0;34m(x, mean, cov, allow_singular)\u001b[0m\n\u001b[1;32m     44\u001b[0m         \u001b[0;32mraise\u001b[0m \u001b[0mValueError\u001b[0m\u001b[0;34m(\u001b[0m\u001b[0;34m\"multivariate_normal.logpdf got incompatible shapes\"\u001b[0m\u001b[0;34m)\u001b[0m\u001b[0;34m\u001b[0m\u001b[0;34m\u001b[0m\u001b[0m\n\u001b[1;32m     45\u001b[0m       \u001b[0mL\u001b[0m \u001b[0;34m=\u001b[0m \u001b[0mlax\u001b[0m\u001b[0;34m.\u001b[0m\u001b[0mlinalg\u001b[0m\u001b[0;34m.\u001b[0m\u001b[0mcholesky\u001b[0m\u001b[0;34m(\u001b[0m\u001b[0mcov\u001b[0m\u001b[0;34m)\u001b[0m\u001b[0;34m\u001b[0m\u001b[0;34m\u001b[0m\u001b[0m\n\u001b[0;32m---> 46\u001b[0;31m       y = jnp.vectorize(\n\u001b[0m\u001b[1;32m     47\u001b[0m         \u001b[0mpartial\u001b[0m\u001b[0;34m(\u001b[0m\u001b[0mlax\u001b[0m\u001b[0;34m.\u001b[0m\u001b[0mlinalg\u001b[0m\u001b[0;34m.\u001b[0m\u001b[0mtriangular_solve\u001b[0m\u001b[0;34m,\u001b[0m \u001b[0mlower\u001b[0m\u001b[0;34m=\u001b[0m\u001b[0;32mTrue\u001b[0m\u001b[0;34m,\u001b[0m \u001b[0mtranspose_a\u001b[0m\u001b[0;34m=\u001b[0m\u001b[0;32mTrue\u001b[0m\u001b[0;34m)\u001b[0m\u001b[0;34m,\u001b[0m\u001b[0;34m\u001b[0m\u001b[0;34m\u001b[0m\u001b[0m\n\u001b[1;32m     48\u001b[0m         \u001b[0msignature\u001b[0m\u001b[0;34m=\u001b[0m\u001b[0;34m\"(n,n),(n)->(n)\"\u001b[0m\u001b[0;34m\u001b[0m\u001b[0;34m\u001b[0m\u001b[0m\n",
      "\u001b[0;32m~/.local/lib/python3.8/site-packages/jax/_src/numpy/vectorize.py\u001b[0m in \u001b[0;36mwrapped\u001b[0;34m(*args)\u001b[0m\n\u001b[1;32m    308\u001b[0m       \u001b[0mvmap_counts\u001b[0m \u001b[0;34m=\u001b[0m \u001b[0;34m[\u001b[0m\u001b[0mmax\u001b[0m\u001b[0;34m(\u001b[0m\u001b[0mc\u001b[0m \u001b[0;34m-\u001b[0m \u001b[0;36m1\u001b[0m\u001b[0;34m,\u001b[0m \u001b[0;36m0\u001b[0m\u001b[0;34m)\u001b[0m \u001b[0;32mfor\u001b[0m \u001b[0mc\u001b[0m \u001b[0;32min\u001b[0m \u001b[0mvmap_counts\u001b[0m\u001b[0;34m]\u001b[0m\u001b[0;34m\u001b[0m\u001b[0;34m\u001b[0m\u001b[0m\n\u001b[1;32m    309\u001b[0m       \u001b[0mvectorized_func\u001b[0m \u001b[0;34m=\u001b[0m \u001b[0mapi\u001b[0m\u001b[0;34m.\u001b[0m\u001b[0mvmap\u001b[0m\u001b[0;34m(\u001b[0m\u001b[0mvectorized_func\u001b[0m\u001b[0;34m,\u001b[0m \u001b[0min_axes\u001b[0m\u001b[0;34m)\u001b[0m\u001b[0;34m\u001b[0m\u001b[0;34m\u001b[0m\u001b[0m\n\u001b[0;32m--> 310\u001b[0;31m     \u001b[0;32mreturn\u001b[0m \u001b[0mvectorized_func\u001b[0m\u001b[0;34m(\u001b[0m\u001b[0;34m*\u001b[0m\u001b[0mvec_args\u001b[0m\u001b[0;34m)\u001b[0m\u001b[0;34m\u001b[0m\u001b[0;34m\u001b[0m\u001b[0m\n\u001b[0m\u001b[1;32m    311\u001b[0m \u001b[0;34m\u001b[0m\u001b[0m\n\u001b[1;32m    312\u001b[0m   \u001b[0;32mreturn\u001b[0m \u001b[0mwrapped\u001b[0m\u001b[0;34m\u001b[0m\u001b[0;34m\u001b[0m\u001b[0m\n",
      "\u001b[0;32m~/.local/lib/python3.8/site-packages/jax/_src/numpy/vectorize.py\u001b[0m in \u001b[0;36mwrapped\u001b[0;34m(*args)\u001b[0m\n\u001b[1;32m    133\u001b[0m   \u001b[0;34m\"\"\"Check that output core dimensions match the signature.\"\"\"\u001b[0m\u001b[0;34m\u001b[0m\u001b[0;34m\u001b[0m\u001b[0m\n\u001b[1;32m    134\u001b[0m   \u001b[0;32mdef\u001b[0m \u001b[0mwrapped\u001b[0m\u001b[0;34m(\u001b[0m\u001b[0;34m*\u001b[0m\u001b[0margs\u001b[0m\u001b[0;34m)\u001b[0m\u001b[0;34m:\u001b[0m\u001b[0;34m\u001b[0m\u001b[0;34m\u001b[0m\u001b[0m\n\u001b[0;32m--> 135\u001b[0;31m     \u001b[0mout\u001b[0m \u001b[0;34m=\u001b[0m \u001b[0mfunc\u001b[0m\u001b[0;34m(\u001b[0m\u001b[0;34m*\u001b[0m\u001b[0margs\u001b[0m\u001b[0;34m)\u001b[0m\u001b[0;34m\u001b[0m\u001b[0;34m\u001b[0m\u001b[0m\n\u001b[0m\u001b[1;32m    136\u001b[0m     \u001b[0mout_shapes\u001b[0m \u001b[0;34m=\u001b[0m \u001b[0mmap\u001b[0m\u001b[0;34m(\u001b[0m\u001b[0mjnp\u001b[0m\u001b[0;34m.\u001b[0m\u001b[0mshape\u001b[0m\u001b[0;34m,\u001b[0m \u001b[0mout\u001b[0m \u001b[0;32mif\u001b[0m \u001b[0misinstance\u001b[0m\u001b[0;34m(\u001b[0m\u001b[0mout\u001b[0m\u001b[0;34m,\u001b[0m \u001b[0mtuple\u001b[0m\u001b[0;34m)\u001b[0m \u001b[0;32melse\u001b[0m \u001b[0;34m[\u001b[0m\u001b[0mout\u001b[0m\u001b[0;34m]\u001b[0m\u001b[0;34m)\u001b[0m\u001b[0;34m\u001b[0m\u001b[0;34m\u001b[0m\u001b[0m\n\u001b[1;32m    137\u001b[0m \u001b[0;34m\u001b[0m\u001b[0m\n",
      "\u001b[0;32m~/.local/lib/python3.8/site-packages/jax/_src/lax/linalg.py\u001b[0m in \u001b[0;36mtriangular_solve\u001b[0;34m(a, b, left_side, lower, transpose_a, conjugate_a, unit_diagonal)\u001b[0m\n\u001b[1;32m    253\u001b[0m   \u001b[0msingleton\u001b[0m \u001b[0;34m=\u001b[0m \u001b[0mjnp\u001b[0m\u001b[0;34m.\u001b[0m\u001b[0mndim\u001b[0m\u001b[0;34m(\u001b[0m\u001b[0mb\u001b[0m\u001b[0;34m)\u001b[0m \u001b[0;34m==\u001b[0m \u001b[0mjnp\u001b[0m\u001b[0;34m.\u001b[0m\u001b[0mndim\u001b[0m\u001b[0;34m(\u001b[0m\u001b[0ma\u001b[0m\u001b[0;34m)\u001b[0m \u001b[0;34m-\u001b[0m \u001b[0;36m1\u001b[0m\u001b[0;34m\u001b[0m\u001b[0;34m\u001b[0m\u001b[0m\n\u001b[1;32m    254\u001b[0m   \u001b[0;32mif\u001b[0m \u001b[0msingleton\u001b[0m\u001b[0;34m:\u001b[0m\u001b[0;34m\u001b[0m\u001b[0;34m\u001b[0m\u001b[0m\n\u001b[0;32m--> 255\u001b[0;31m     \u001b[0mb\u001b[0m \u001b[0;34m=\u001b[0m \u001b[0mjnp\u001b[0m\u001b[0;34m.\u001b[0m\u001b[0mexpand_dims\u001b[0m\u001b[0;34m(\u001b[0m\u001b[0mb\u001b[0m\u001b[0;34m,\u001b[0m \u001b[0;34m-\u001b[0m\u001b[0;36m1\u001b[0m \u001b[0;32mif\u001b[0m \u001b[0mleft_side\u001b[0m \u001b[0;32melse\u001b[0m \u001b[0;34m-\u001b[0m\u001b[0;36m2\u001b[0m\u001b[0;34m)\u001b[0m\u001b[0;34m\u001b[0m\u001b[0;34m\u001b[0m\u001b[0m\n\u001b[0m\u001b[1;32m    256\u001b[0m   out = triangular_solve_p.bind(\n\u001b[1;32m    257\u001b[0m       \u001b[0ma\u001b[0m\u001b[0;34m,\u001b[0m \u001b[0mb\u001b[0m\u001b[0;34m,\u001b[0m \u001b[0mleft_side\u001b[0m\u001b[0;34m=\u001b[0m\u001b[0mleft_side\u001b[0m\u001b[0;34m,\u001b[0m \u001b[0mlower\u001b[0m\u001b[0;34m=\u001b[0m\u001b[0mlower\u001b[0m\u001b[0;34m,\u001b[0m \u001b[0mtranspose_a\u001b[0m\u001b[0;34m=\u001b[0m\u001b[0mtranspose_a\u001b[0m\u001b[0;34m,\u001b[0m\u001b[0;34m\u001b[0m\u001b[0;34m\u001b[0m\u001b[0m\n",
      "\u001b[0;32m~/.local/lib/python3.8/site-packages/jax/_src/numpy/lax_numpy.py\u001b[0m in \u001b[0;36mexpand_dims\u001b[0;34m(a, axis)\u001b[0m\n\u001b[1;32m   1848\u001b[0m \u001b[0;32mdef\u001b[0m \u001b[0mexpand_dims\u001b[0m\u001b[0;34m(\u001b[0m\u001b[0ma\u001b[0m\u001b[0;34m,\u001b[0m \u001b[0maxis\u001b[0m\u001b[0;34m:\u001b[0m \u001b[0mUnion\u001b[0m\u001b[0;34m[\u001b[0m\u001b[0mint\u001b[0m\u001b[0;34m,\u001b[0m \u001b[0mSequence\u001b[0m\u001b[0;34m[\u001b[0m\u001b[0mint\u001b[0m\u001b[0;34m]\u001b[0m\u001b[0;34m]\u001b[0m\u001b[0;34m)\u001b[0m\u001b[0;34m:\u001b[0m\u001b[0;34m\u001b[0m\u001b[0;34m\u001b[0m\u001b[0m\n\u001b[1;32m   1849\u001b[0m   \u001b[0m_check_arraylike\u001b[0m\u001b[0;34m(\u001b[0m\u001b[0;34m\"expand_dims\"\u001b[0m\u001b[0;34m,\u001b[0m \u001b[0ma\u001b[0m\u001b[0;34m)\u001b[0m\u001b[0;34m\u001b[0m\u001b[0;34m\u001b[0m\u001b[0m\n\u001b[0;32m-> 1850\u001b[0;31m   \u001b[0;32mreturn\u001b[0m \u001b[0mlax\u001b[0m\u001b[0;34m.\u001b[0m\u001b[0mexpand_dims\u001b[0m\u001b[0;34m(\u001b[0m\u001b[0ma\u001b[0m\u001b[0;34m,\u001b[0m \u001b[0m_ensure_index_tuple\u001b[0m\u001b[0;34m(\u001b[0m\u001b[0maxis\u001b[0m\u001b[0;34m)\u001b[0m\u001b[0;34m)\u001b[0m\u001b[0;34m\u001b[0m\u001b[0;34m\u001b[0m\u001b[0m\n\u001b[0m\u001b[1;32m   1851\u001b[0m \u001b[0;34m\u001b[0m\u001b[0m\n\u001b[1;32m   1852\u001b[0m \u001b[0;34m\u001b[0m\u001b[0m\n",
      "\u001b[0;32m~/.local/lib/python3.8/site-packages/jax/_src/lax/lax.py\u001b[0m in \u001b[0;36mexpand_dims\u001b[0;34m(array, dimensions)\u001b[0m\n\u001b[1;32m   4061\u001b[0m \u001b[0;32mdef\u001b[0m \u001b[0mexpand_dims\u001b[0m\u001b[0;34m(\u001b[0m\u001b[0marray\u001b[0m\u001b[0;34m:\u001b[0m \u001b[0mArray\u001b[0m\u001b[0;34m,\u001b[0m \u001b[0mdimensions\u001b[0m\u001b[0;34m:\u001b[0m \u001b[0mTuple\u001b[0m\u001b[0;34m[\u001b[0m\u001b[0mint\u001b[0m\u001b[0;34m,\u001b[0m \u001b[0;34m...\u001b[0m\u001b[0;34m]\u001b[0m\u001b[0;34m)\u001b[0m \u001b[0;34m->\u001b[0m \u001b[0mArray\u001b[0m\u001b[0;34m:\u001b[0m\u001b[0;34m\u001b[0m\u001b[0;34m\u001b[0m\u001b[0m\n\u001b[1;32m   4062\u001b[0m   \u001b[0;34m\"\"\"Insert any number of size 1 dimensions into an array.\"\"\"\u001b[0m\u001b[0;34m\u001b[0m\u001b[0;34m\u001b[0m\u001b[0m\n\u001b[0;32m-> 4063\u001b[0;31m   \u001b[0mndim_out\u001b[0m \u001b[0;34m=\u001b[0m \u001b[0mnp\u001b[0m\u001b[0;34m.\u001b[0m\u001b[0mndim\u001b[0m\u001b[0;34m(\u001b[0m\u001b[0marray\u001b[0m\u001b[0;34m)\u001b[0m \u001b[0;34m+\u001b[0m \u001b[0mlen\u001b[0m\u001b[0;34m(\u001b[0m\u001b[0mdimensions\u001b[0m\u001b[0;34m)\u001b[0m\u001b[0;34m\u001b[0m\u001b[0;34m\u001b[0m\u001b[0m\n\u001b[0m\u001b[1;32m   4064\u001b[0m   \u001b[0mdims_set\u001b[0m \u001b[0;34m=\u001b[0m \u001b[0mfrozenset\u001b[0m\u001b[0;34m(\u001b[0m\u001b[0mcanonicalize_axis\u001b[0m\u001b[0;34m(\u001b[0m\u001b[0mi\u001b[0m\u001b[0;34m,\u001b[0m \u001b[0mndim_out\u001b[0m\u001b[0;34m)\u001b[0m \u001b[0;32mfor\u001b[0m \u001b[0mi\u001b[0m \u001b[0;32min\u001b[0m \u001b[0mdimensions\u001b[0m\u001b[0;34m)\u001b[0m\u001b[0;34m\u001b[0m\u001b[0;34m\u001b[0m\u001b[0m\n\u001b[1;32m   4065\u001b[0m   \u001b[0mresult_shape\u001b[0m \u001b[0;34m=\u001b[0m \u001b[0mlist\u001b[0m\u001b[0;34m(\u001b[0m\u001b[0mnp\u001b[0m\u001b[0;34m.\u001b[0m\u001b[0mshape\u001b[0m\u001b[0;34m(\u001b[0m\u001b[0marray\u001b[0m\u001b[0;34m)\u001b[0m\u001b[0;34m)\u001b[0m\u001b[0;34m\u001b[0m\u001b[0;34m\u001b[0m\u001b[0m\n",
      "\u001b[0;32m<__array_function__ internals>\u001b[0m in \u001b[0;36mndim\u001b[0;34m(*args, **kwargs)\u001b[0m\n",
      "\u001b[0;32m~/.local/lib/python3.8/site-packages/numpy/core/fromnumeric.py\u001b[0m in \u001b[0;36mndim\u001b[0;34m(a)\u001b[0m\n\u001b[1;32m   3137\u001b[0m     \"\"\"\n\u001b[1;32m   3138\u001b[0m     \u001b[0;32mtry\u001b[0m\u001b[0;34m:\u001b[0m\u001b[0;34m\u001b[0m\u001b[0;34m\u001b[0m\u001b[0m\n\u001b[0;32m-> 3139\u001b[0;31m         \u001b[0;32mreturn\u001b[0m \u001b[0ma\u001b[0m\u001b[0;34m.\u001b[0m\u001b[0mndim\u001b[0m\u001b[0;34m\u001b[0m\u001b[0;34m\u001b[0m\u001b[0m\n\u001b[0m\u001b[1;32m   3140\u001b[0m     \u001b[0;32mexcept\u001b[0m \u001b[0mAttributeError\u001b[0m\u001b[0;34m:\u001b[0m\u001b[0;34m\u001b[0m\u001b[0;34m\u001b[0m\u001b[0m\n\u001b[1;32m   3141\u001b[0m         \u001b[0;32mreturn\u001b[0m \u001b[0masarray\u001b[0m\u001b[0;34m(\u001b[0m\u001b[0ma\u001b[0m\u001b[0;34m)\u001b[0m\u001b[0;34m.\u001b[0m\u001b[0mndim\u001b[0m\u001b[0;34m\u001b[0m\u001b[0;34m\u001b[0m\u001b[0m\n",
      "\u001b[0;32m~/.local/lib/python3.8/site-packages/jax/core.py\u001b[0m in \u001b[0;36m__getattr__\u001b[0;34m(self, name)\u001b[0m\n\u001b[1;32m    566\u001b[0m \u001b[0;34m\u001b[0m\u001b[0m\n\u001b[1;32m    567\u001b[0m     \u001b[0;32mtry\u001b[0m\u001b[0;34m:\u001b[0m\u001b[0;34m\u001b[0m\u001b[0;34m\u001b[0m\u001b[0m\n\u001b[0;32m--> 568\u001b[0;31m       \u001b[0mattr\u001b[0m \u001b[0;34m=\u001b[0m \u001b[0mgetattr\u001b[0m\u001b[0;34m(\u001b[0m\u001b[0mself\u001b[0m\u001b[0;34m.\u001b[0m\u001b[0maval\u001b[0m\u001b[0;34m,\u001b[0m \u001b[0mname\u001b[0m\u001b[0;34m)\u001b[0m\u001b[0;34m\u001b[0m\u001b[0;34m\u001b[0m\u001b[0m\n\u001b[0m\u001b[1;32m    569\u001b[0m     \u001b[0;32mexcept\u001b[0m \u001b[0mKeyError\u001b[0m \u001b[0;32mas\u001b[0m \u001b[0merr\u001b[0m\u001b[0;34m:\u001b[0m\u001b[0;34m\u001b[0m\u001b[0;34m\u001b[0m\u001b[0m\n\u001b[1;32m    570\u001b[0m       raise AttributeError(\n",
      "\u001b[0;32m~/.local/lib/python3.8/site-packages/jax/interpreters/ad.py\u001b[0m in \u001b[0;36maval\u001b[0;34m(self)\u001b[0m\n\u001b[1;32m    403\u001b[0m   \u001b[0;32mdef\u001b[0m \u001b[0maval\u001b[0m\u001b[0;34m(\u001b[0m\u001b[0mself\u001b[0m\u001b[0;34m)\u001b[0m\u001b[0;34m:\u001b[0m\u001b[0;34m\u001b[0m\u001b[0;34m\u001b[0m\u001b[0m\n\u001b[1;32m    404\u001b[0m     \u001b[0;31m# TODO(dougalm): add epsilon ball\u001b[0m\u001b[0;34m\u001b[0m\u001b[0;34m\u001b[0m\u001b[0;34m\u001b[0m\u001b[0m\n\u001b[0;32m--> 405\u001b[0;31m     \u001b[0;32mreturn\u001b[0m \u001b[0mget_aval\u001b[0m\u001b[0;34m(\u001b[0m\u001b[0mself\u001b[0m\u001b[0;34m.\u001b[0m\u001b[0mprimal\u001b[0m\u001b[0;34m)\u001b[0m\u001b[0;34m\u001b[0m\u001b[0;34m\u001b[0m\u001b[0m\n\u001b[0m\u001b[1;32m    406\u001b[0m \u001b[0;34m\u001b[0m\u001b[0m\n\u001b[1;32m    407\u001b[0m   \u001b[0;32mdef\u001b[0m \u001b[0mfull_lower\u001b[0m\u001b[0;34m(\u001b[0m\u001b[0mself\u001b[0m\u001b[0;34m)\u001b[0m\u001b[0;34m:\u001b[0m\u001b[0;34m\u001b[0m\u001b[0;34m\u001b[0m\u001b[0m\n",
      "\u001b[0;32m~/.local/lib/python3.8/site-packages/jax/core.py\u001b[0m in \u001b[0;36mget_aval\u001b[0;34m(x)\u001b[0m\n\u001b[1;32m    966\u001b[0m \u001b[0;32mdef\u001b[0m \u001b[0mget_aval\u001b[0m\u001b[0;34m(\u001b[0m\u001b[0mx\u001b[0m\u001b[0;34m)\u001b[0m\u001b[0;34m:\u001b[0m\u001b[0;34m\u001b[0m\u001b[0;34m\u001b[0m\u001b[0m\n\u001b[1;32m    967\u001b[0m   \u001b[0;32mif\u001b[0m \u001b[0misinstance\u001b[0m\u001b[0;34m(\u001b[0m\u001b[0mx\u001b[0m\u001b[0;34m,\u001b[0m \u001b[0mTracer\u001b[0m\u001b[0;34m)\u001b[0m\u001b[0;34m:\u001b[0m\u001b[0;34m\u001b[0m\u001b[0;34m\u001b[0m\u001b[0m\n\u001b[0;32m--> 968\u001b[0;31m     \u001b[0;32mreturn\u001b[0m \u001b[0mx\u001b[0m\u001b[0;34m.\u001b[0m\u001b[0maval\u001b[0m\u001b[0;34m\u001b[0m\u001b[0;34m\u001b[0m\u001b[0m\n\u001b[0m\u001b[1;32m    969\u001b[0m   \u001b[0;32melse\u001b[0m\u001b[0;34m:\u001b[0m\u001b[0;34m\u001b[0m\u001b[0;34m\u001b[0m\u001b[0m\n\u001b[1;32m    970\u001b[0m     \u001b[0;32mreturn\u001b[0m \u001b[0mconcrete_aval\u001b[0m\u001b[0;34m(\u001b[0m\u001b[0mx\u001b[0m\u001b[0;34m)\u001b[0m\u001b[0;34m\u001b[0m\u001b[0;34m\u001b[0m\u001b[0m\n",
      "\u001b[0;32m~/.local/lib/python3.8/site-packages/jax/interpreters/batching.py\u001b[0m in \u001b[0;36maval\u001b[0;34m(self)\u001b[0m\n\u001b[1;32m     99\u001b[0m   \u001b[0;34m@\u001b[0m\u001b[0mproperty\u001b[0m\u001b[0;34m\u001b[0m\u001b[0;34m\u001b[0m\u001b[0m\n\u001b[1;32m    100\u001b[0m   \u001b[0;32mdef\u001b[0m \u001b[0maval\u001b[0m\u001b[0;34m(\u001b[0m\u001b[0mself\u001b[0m\u001b[0;34m)\u001b[0m\u001b[0;34m:\u001b[0m\u001b[0;34m\u001b[0m\u001b[0;34m\u001b[0m\u001b[0m\n\u001b[0;32m--> 101\u001b[0;31m     \u001b[0maval\u001b[0m \u001b[0;34m=\u001b[0m \u001b[0mraise_to_shaped\u001b[0m\u001b[0;34m(\u001b[0m\u001b[0mcore\u001b[0m\u001b[0;34m.\u001b[0m\u001b[0mget_aval\u001b[0m\u001b[0;34m(\u001b[0m\u001b[0mself\u001b[0m\u001b[0;34m.\u001b[0m\u001b[0mval\u001b[0m\u001b[0;34m)\u001b[0m\u001b[0;34m)\u001b[0m\u001b[0;34m\u001b[0m\u001b[0;34m\u001b[0m\u001b[0m\n\u001b[0m\u001b[1;32m    102\u001b[0m     \u001b[0;32mif\u001b[0m \u001b[0mself\u001b[0m\u001b[0;34m.\u001b[0m\u001b[0mbatch_dim\u001b[0m \u001b[0;32mis\u001b[0m \u001b[0mnot_mapped\u001b[0m \u001b[0;32mor\u001b[0m \u001b[0maval\u001b[0m \u001b[0;32mis\u001b[0m \u001b[0mcore\u001b[0m\u001b[0;34m.\u001b[0m\u001b[0mabstract_unit\u001b[0m\u001b[0;34m:\u001b[0m\u001b[0;34m\u001b[0m\u001b[0;34m\u001b[0m\u001b[0m\n\u001b[1;32m    103\u001b[0m       \u001b[0;32mreturn\u001b[0m \u001b[0maval\u001b[0m\u001b[0;34m\u001b[0m\u001b[0;34m\u001b[0m\u001b[0m\n",
      "\u001b[0;32m~/.local/lib/python3.8/site-packages/jax/core.py\u001b[0m in \u001b[0;36mraise_to_shaped\u001b[0;34m(aval, weak_type)\u001b[0m\n\u001b[1;32m   1239\u001b[0m   \u001b[0;32mif\u001b[0m \u001b[0mweak_type\u001b[0m \u001b[0;32mis\u001b[0m \u001b[0;32mNone\u001b[0m\u001b[0;34m:\u001b[0m\u001b[0;34m\u001b[0m\u001b[0;34m\u001b[0m\u001b[0m\n\u001b[1;32m   1240\u001b[0m     \u001b[0mweak_type\u001b[0m \u001b[0;34m=\u001b[0m \u001b[0mgetattr\u001b[0m\u001b[0;34m(\u001b[0m\u001b[0maval\u001b[0m\u001b[0;34m,\u001b[0m \u001b[0;34m'weak_type'\u001b[0m\u001b[0;34m,\u001b[0m \u001b[0;32mFalse\u001b[0m\u001b[0;34m)\u001b[0m\u001b[0;34m\u001b[0m\u001b[0;34m\u001b[0m\u001b[0m\n\u001b[0;32m-> 1241\u001b[0;31m   \u001b[0;32mfor\u001b[0m \u001b[0mtyp\u001b[0m \u001b[0;32min\u001b[0m \u001b[0mtype\u001b[0m\u001b[0;34m(\u001b[0m\u001b[0maval\u001b[0m\u001b[0;34m)\u001b[0m\u001b[0;34m.\u001b[0m\u001b[0mmro\u001b[0m\u001b[0;34m(\u001b[0m\u001b[0;34m)\u001b[0m\u001b[0;34m:\u001b[0m\u001b[0;34m\u001b[0m\u001b[0;34m\u001b[0m\u001b[0m\n\u001b[0m\u001b[1;32m   1242\u001b[0m     \u001b[0mhandler\u001b[0m \u001b[0;34m=\u001b[0m \u001b[0mraise_to_shaped_mappings\u001b[0m\u001b[0;34m.\u001b[0m\u001b[0mget\u001b[0m\u001b[0;34m(\u001b[0m\u001b[0mtyp\u001b[0m\u001b[0;34m)\u001b[0m\u001b[0;34m\u001b[0m\u001b[0;34m\u001b[0m\u001b[0m\n\u001b[1;32m   1243\u001b[0m     \u001b[0;32mif\u001b[0m \u001b[0mhandler\u001b[0m\u001b[0;34m:\u001b[0m \u001b[0;32mreturn\u001b[0m \u001b[0mhandler\u001b[0m\u001b[0;34m(\u001b[0m\u001b[0maval\u001b[0m\u001b[0;34m,\u001b[0m \u001b[0mweak_type\u001b[0m\u001b[0;34m)\u001b[0m\u001b[0;34m\u001b[0m\u001b[0;34m\u001b[0m\u001b[0m\n",
      "\u001b[0;31mKeyboardInterrupt\u001b[0m: "
     ]
    }
   ],
   "source": [
    "approx_dist = approx.Gaussian(ndim)\n",
    "prngkey = jax.random.PRNGKey(12)\n",
    "loss = losses.ReverseKL(joint_dist, use_reparameterisation=True)\n",
    "optimiser = optimisers.Adam()\n",
    "optimiser.fit(approx_dist, loss, data, prngkey, verbose = True, max_iter=1000, num_samples=1000)"
   ]
  },
  {
   "cell_type": "code",
   "execution_count": 27,
   "id": "fedfed58",
   "metadata": {},
   "outputs": [
    {
     "data": {
      "text/plain": [
       "DeviceArray([[0.83064824]], dtype=float32)"
      ]
     },
     "execution_count": 27,
     "metadata": {},
     "output_type": "execute_result"
    }
   ],
   "source": [
    "approx_dist.cov()"
   ]
  },
  {
   "cell_type": "code",
   "execution_count": null,
   "id": "b6c4eb56",
   "metadata": {},
   "outputs": [],
   "source": [
    "approx_dist = approx.Gaussian(ndim)\n",
    "prngkey = jax.random.PRNGKey(12)\n",
    "loss = losses.ForwardKL(joint_dist, use_reparameterisation=True)\n",
    "optimiser = optimisers.Adam()\n",
    "optimiser.fit(approx_dist, loss, data, prngkey, verbose = True, max_iter=1000, num_samples=1000)"
   ]
  },
  {
   "cell_type": "code",
   "execution_count": null,
   "id": "156c757c",
   "metadata": {},
   "outputs": [],
   "source": []
  }
 ],
 "metadata": {
  "kernelspec": {
   "display_name": "Python 3 (ipykernel)",
   "language": "python",
   "name": "python3"
  },
  "language_info": {
   "codemirror_mode": {
    "name": "ipython",
    "version": 3
   },
   "file_extension": ".py",
   "mimetype": "text/x-python",
   "name": "python",
   "nbconvert_exporter": "python",
   "pygments_lexer": "ipython3",
   "version": "3.8.10"
  }
 },
 "nbformat": 4,
 "nbformat_minor": 5
}
