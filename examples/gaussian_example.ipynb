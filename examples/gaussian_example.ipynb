{
 "cells": [
  {
   "cell_type": "code",
   "execution_count": 1,
   "id": "6d119613",
   "metadata": {},
   "outputs": [
    {
     "ename": "ImportError",
     "evalue": "cannot import name 'fit_approximation' from 'approx_post' (/mnt/c/Users/Matthew Bilton/Documents/Software Projects/ap_1/old/approx_post/approx_post/__init__.py)",
     "output_type": "error",
     "traceback": [
      "\u001b[0;31m---------------------------------------------------------------------------\u001b[0m",
      "\u001b[0;31mImportError\u001b[0m                               Traceback (most recent call last)",
      "\u001b[0;32m/tmp/ipykernel_32695/1583830070.py\u001b[0m in \u001b[0;36m<module>\u001b[0;34m\u001b[0m\n\u001b[1;32m      2\u001b[0m \u001b[0;32mimport\u001b[0m \u001b[0mjax\u001b[0m\u001b[0;34m\u001b[0m\u001b[0;34m\u001b[0m\u001b[0m\n\u001b[1;32m      3\u001b[0m \u001b[0;32mfrom\u001b[0m \u001b[0mnumpy\u001b[0m\u001b[0;34m.\u001b[0m\u001b[0mrandom\u001b[0m \u001b[0;32mimport\u001b[0m \u001b[0mmultivariate_normal\u001b[0m \u001b[0;32mas\u001b[0m \u001b[0mmvn\u001b[0m\u001b[0;34m\u001b[0m\u001b[0;34m\u001b[0m\u001b[0m\n\u001b[0;32m----> 4\u001b[0;31m \u001b[0;32mfrom\u001b[0m \u001b[0mapprox_post\u001b[0m \u001b[0;32mimport\u001b[0m \u001b[0mApproximateDistribution\u001b[0m\u001b[0;34m,\u001b[0m \u001b[0mJointDistribution\u001b[0m\u001b[0;34m,\u001b[0m \u001b[0mreverse_kl\u001b[0m\u001b[0;34m,\u001b[0m \u001b[0mforward_kl\u001b[0m\u001b[0;34m,\u001b[0m \u001b[0mfit_approximation\u001b[0m\u001b[0;34m\u001b[0m\u001b[0;34m\u001b[0m\u001b[0m\n\u001b[0m",
      "\u001b[0;31mImportError\u001b[0m: cannot import name 'fit_approximation' from 'approx_post' (/mnt/c/Users/Matthew Bilton/Documents/Software Projects/ap_1/old/approx_post/approx_post/__init__.py)"
     ]
    }
   ],
   "source": [
    "import numpy as np\n",
    "import jax\n",
    "from numpy.random import multivariate_normal as mvn\n",
    "from approx_post import ApproximateDistribution, JointDistribution, reverse_kl, forward_kl, fit_approximation"
   ]
  },
  {
   "cell_type": "code",
   "execution_count": null,
   "id": "c9d34649",
   "metadata": {},
   "outputs": [],
   "source": [
    "def create_data(model, true_theta, noise_cov, num_samples):\n",
    "    mean = model(true_theta)\n",
    "    samples = mvn(mean, noise_cov, num_samples)\n",
    "    return samples.reshape(num_samples, -1)"
   ]
  },
  {
   "cell_type": "code",
   "execution_count": null,
   "id": "a94b97b2",
   "metadata": {},
   "outputs": [],
   "source": [
    "# First, let's define a model:\n",
    "ndim = 1\n",
    "model = lambda theta: theta**2\n",
    "model_grad = jax.vmap(jax.jacfwd(model), in_axes=1)"
   ]
  },
  {
   "cell_type": "code",
   "execution_count": null,
   "id": "525931b1",
   "metadata": {
    "scrolled": false
   },
   "outputs": [],
   "source": [
    "# Create artificial data:\n",
    "true_theta = 2*np.random.rand(ndim)\n",
    "noise_cov = np.identity(ndim)\n",
    "num_samples = 1\n",
    "data = create_data(model, true_theta, noise_cov, num_samples)\n",
    "print(f'True theta: \\n {true_theta}')\n",
    "print(f'True x = model(theta): \\n {model(true_theta)}')\n",
    "print(f'Observations x_obs = model(theta) + noise: \\n {data}')"
   ]
  },
  {
   "cell_type": "code",
   "execution_count": null,
   "id": "6d14292c",
   "metadata": {},
   "outputs": [],
   "source": [
    "# Create Gaussian approximate distribution:\n",
    "approx = ApproximateDistribution.gaussian(ndim)"
   ]
  },
  {
   "cell_type": "code",
   "execution_count": null,
   "id": "b29185ee",
   "metadata": {},
   "outputs": [],
   "source": [
    "# Create Joint distribution from forward model:\n",
    "prior_mean = np.zeros(ndim)\n",
    "prior_cov = np.identity(ndim)\n",
    "joint = JointDistribution.from_model(model, noise_cov, prior_mean, prior_cov, model_grad)"
   ]
  },
  {
   "cell_type": "code",
   "execution_count": null,
   "id": "ddb55393",
   "metadata": {
    "scrolled": true
   },
   "outputs": [],
   "source": [
    "# Fit sddistribution to reverse KL divergence:\n",
    "# loss = reverse_kl(approx, joint, use_reparameterisation=True)\n",
    "loss = forward_kl(approx, joint, use_reparameterisation=True)\n",
    "approx = fit_approximation(loss, approx, data, verbose=True)"
   ]
  },
  {
   "cell_type": "code",
   "execution_count": null,
   "id": "fd93c156",
   "metadata": {},
   "outputs": [],
   "source": [
    "np.array(np.random.rand(1,2,3)).shape[0:3:2]"
   ]
  },
  {
   "cell_type": "code",
   "execution_count": null,
   "id": "286aef7c",
   "metadata": {},
   "outputs": [],
   "source": []
  }
 ],
 "metadata": {
  "kernelspec": {
   "display_name": "Python 3 (ipykernel)",
   "language": "python",
   "name": "python3"
  },
  "language_info": {
   "codemirror_mode": {
    "name": "ipython",
    "version": 3
   },
   "file_extension": ".py",
   "mimetype": "text/x-python",
   "name": "python",
   "nbconvert_exporter": "python",
   "pygments_lexer": "ipython3",
   "version": "3.8.10"
  }
 },
 "nbformat": 4,
 "nbformat_minor": 5
}
