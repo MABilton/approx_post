{
 "cells": [
  {
   "cell_type": "code",
   "execution_count": 1,
   "id": "6d119613",
   "metadata": {
    "scrolled": false
   },
   "outputs": [],
   "source": [
    "import numpy as np\n",
    "import jax\n",
    "import jax.numpy as jnp\n",
    "from approx_post.distributions import approx, joint\n",
    "from approx_post import losses, optimisers\n",
    "from arraytainers import Jaxtainer"
   ]
  },
  {
   "cell_type": "code",
   "execution_count": 2,
   "id": "c9d34649",
   "metadata": {},
   "outputs": [],
   "source": [
    "def create_data(model, true_theta, noise_cov, num_samples, prngkey):\n",
    "    mean = model(true_theta)\n",
    "    samples = jax.random.multivariate_normal(key=prngkey, mean=mean, cov=noise_cov, shape=(num_samples,))\n",
    "    return samples.reshape(num_samples, -1)"
   ]
  },
  {
   "cell_type": "code",
   "execution_count": 3,
   "id": "a94b97b2",
   "metadata": {},
   "outputs": [],
   "source": [
    "# First, let's define a model:\n",
    "ndim = 1\n",
    "model = lambda theta: theta**2\n",
    "model_grad = jax.vmap(jax.vmap(jax.jacfwd(model), in_axes=0), in_axes=0)"
   ]
  },
  {
   "cell_type": "code",
   "execution_count": 4,
   "id": "525931b1",
   "metadata": {
    "scrolled": false
   },
   "outputs": [
    {
     "name": "stderr",
     "output_type": "stream",
     "text": [
      "WARNING:absl:No GPU/TPU found, falling back to CPU. (Set TF_CPP_MIN_LOG_LEVEL=0 and rerun for more info.)\n"
     ]
    },
    {
     "name": "stdout",
     "output_type": "stream",
     "text": [
      "True theta: \n",
      " [2]\n",
      "True x = model(theta): \n",
      " [4]\n",
      "Observations x_obs = model(theta) + noise: \n",
      " [[3.865546]]\n"
     ]
    }
   ],
   "source": [
    "# Create artificial data:\n",
    "prngkey = jax.random.PRNGKey(10)\n",
    "true_theta = jnp.array([2])\n",
    "noise_cov = 0.01*np.identity(ndim)\n",
    "num_samples = 1\n",
    "data = create_data(model, true_theta, noise_cov, num_samples, prngkey)\n",
    "print(f'True theta: \\n {true_theta}')\n",
    "print(f'True x = model(theta): \\n {model(true_theta)}')\n",
    "print(f'Observations x_obs = model(theta) + noise: \\n {data}')"
   ]
  },
  {
   "cell_type": "code",
   "execution_count": 5,
   "id": "6d14292c",
   "metadata": {},
   "outputs": [],
   "source": [
    "# Create Gaussian approximate distribution:\n",
    "approx_dist = approx.Gaussian(ndim)"
   ]
  },
  {
   "cell_type": "code",
   "execution_count": 6,
   "id": "b29185ee",
   "metadata": {},
   "outputs": [],
   "source": [
    "# Create Joint distribution from forward model:\n",
    "prior_mean = np.zeros(ndim)\n",
    "prior_cov = 1.0*np.identity(ndim)\n",
    "joint_dist = joint.ModelPlusGaussian(model, noise_cov, prior_mean, prior_cov, model_grad)"
   ]
  },
  {
   "cell_type": "code",
   "execution_count": 7,
   "id": "2917acdd",
   "metadata": {},
   "outputs": [
    {
     "name": "stdout",
     "output_type": "stream",
     "text": [
      "Loss = 506.48834228515625, Params = Jaxtainer({'mean': DeviceArray([0.1], dtype=float32), 'chol_diag': DeviceArray([1.1], dtype=float32)})\n",
      "Loss = 497.05157470703125, Params = Jaxtainer({'mean': DeviceArray([0.19719544], dtype=float32), 'chol_diag': DeviceArray([1.1717205], dtype=float32)})\n",
      "Loss = 502.0058898925781, Params = Jaxtainer({'mean': DeviceArray([0.16163215], dtype=float32), 'chol_diag': DeviceArray([1.1703749], dtype=float32)})\n",
      "Loss = 501.2159729003906, Params = Jaxtainer({'mean': DeviceArray([0.10370986], dtype=float32), 'chol_diag': DeviceArray([1.1394336], dtype=float32)})\n",
      "Loss = 497.9275207519531, Params = Jaxtainer({'mean': DeviceArray([0.04778116], dtype=float32), 'chol_diag': DeviceArray([1.1017612], dtype=float32)})\n",
      "Loss = 497.2038269042969, Params = Jaxtainer({'mean': DeviceArray([0.00582805], dtype=float32), 'chol_diag': DeviceArray([1.0724211], dtype=float32)})\n",
      "Loss = 498.48834228515625, Params = Jaxtainer({'mean': DeviceArray([-0.02340532], dtype=float32), 'chol_diag': DeviceArray([1.0597045], dtype=float32)})\n",
      "Loss = 499.4769287109375, Params = Jaxtainer({'mean': DeviceArray([-0.04525688], dtype=float32), 'chol_diag': DeviceArray([1.0637864], dtype=float32)})\n",
      "Loss = 499.1879577636719, Params = Jaxtainer({'mean': DeviceArray([-0.06368005], dtype=float32), 'chol_diag': DeviceArray([1.0803007], dtype=float32)})\n",
      "Loss = 498.1624755859375, Params = Jaxtainer({'mean': DeviceArray([-0.07996804], dtype=float32), 'chol_diag': DeviceArray([1.1033723], dtype=float32)})\n",
      "Loss = 497.4218444824219, Params = Jaxtainer({'mean': DeviceArray([-0.09274349], dtype=float32), 'chol_diag': DeviceArray([1.1264561], dtype=float32)})\n",
      "Loss = 497.5505676269531, Params = Jaxtainer({'mean': DeviceArray([-0.09893434], dtype=float32), 'chol_diag': DeviceArray([1.1431098], dtype=float32)})\n",
      "Loss = 498.2083740234375, Params = Jaxtainer({'mean': DeviceArray([-0.09613074], dtype=float32), 'chol_diag': DeviceArray([1.149106], dtype=float32)})\n",
      "Loss = 498.5409851074219, Params = Jaxtainer({'mean': DeviceArray([-0.08467181], dtype=float32), 'chol_diag': DeviceArray([1.144134], dtype=float32)})\n",
      "Loss = 498.2011413574219, Params = Jaxtainer({'mean': DeviceArray([-0.06721269], dtype=float32), 'chol_diag': DeviceArray([1.1311086], dtype=float32)})\n",
      "Loss = 497.6050109863281, Params = Jaxtainer({'mean': DeviceArray([-0.04679251], dtype=float32), 'chol_diag': DeviceArray([1.1145352], dtype=float32)})\n",
      "Loss = 497.3032531738281, Params = Jaxtainer({'mean': DeviceArray([-0.02519766], dtype=float32), 'chol_diag': DeviceArray([1.0992109], dtype=float32)})\n",
      "Loss = 497.428466796875, Params = Jaxtainer({'mean': DeviceArray([-0.00239262], dtype=float32), 'chol_diag': DeviceArray([1.0890492], dtype=float32)})\n",
      "Loss = 497.6865539550781, Params = Jaxtainer({'mean': DeviceArray([0.02297558], dtype=float32), 'chol_diag': DeviceArray([1.0860862], dtype=float32)})\n",
      "Loss = 497.72418212890625, Params = Jaxtainer({'mean': DeviceArray([0.05249354], dtype=float32), 'chol_diag': DeviceArray([1.0901443], dtype=float32)})\n",
      "Loss = 497.45880126953125, Params = Jaxtainer({'mean': DeviceArray([0.0867909], dtype=float32), 'chol_diag': DeviceArray([1.0991371], dtype=float32)})\n",
      "Loss = 497.1116027832031, Params = Jaxtainer({'mean': DeviceArray([0.12461527], dtype=float32), 'chol_diag': DeviceArray([1.1096087], dtype=float32)})\n",
      "Loss = 496.9783630371094, Params = Jaxtainer({'mean': DeviceArray([0.16252613], dtype=float32), 'chol_diag': DeviceArray([1.1174583], dtype=float32)})\n",
      "Loss = 497.1131591796875, Params = Jaxtainer({'mean': DeviceArray([0.19590625], dtype=float32), 'chol_diag': DeviceArray([1.1191381], dtype=float32)})\n",
      "Loss = 497.2232971191406, Params = Jaxtainer({'mean': DeviceArray([0.22212364], dtype=float32), 'chol_diag': DeviceArray([1.1130731], dtype=float32)})\n",
      "Loss = 497.0042724609375, Params = Jaxtainer({'mean': DeviceArray([0.24378355], dtype=float32), 'chol_diag': DeviceArray([1.1002427], dtype=float32)})\n",
      "Loss = 496.52325439453125, Params = Jaxtainer({'mean': DeviceArray([0.26873404], dtype=float32), 'chol_diag': DeviceArray([1.0834682], dtype=float32)})\n",
      "Loss = 496.02606201171875, Params = Jaxtainer({'mean': DeviceArray([0.30672076], dtype=float32), 'chol_diag': DeviceArray([1.0659554], dtype=float32)})\n",
      "Loss = 495.4331970214844, Params = Jaxtainer({'mean': DeviceArray([0.36358842], dtype=float32), 'chol_diag': DeviceArray([1.0496176], dtype=float32)})\n",
      "Loss = 494.264892578125, Params = Jaxtainer({'mean': DeviceArray([0.43849814], dtype=float32), 'chol_diag': DeviceArray([1.0338115], dtype=float32)})\n",
      "Loss = 492.0011291503906, Params = Jaxtainer({'mean': DeviceArray([0.5275849], dtype=float32), 'chol_diag': DeviceArray([1.015143], dtype=float32)})\n",
      "Loss = 488.11328125, Params = Jaxtainer({'mean': DeviceArray([0.6273518], dtype=float32), 'chol_diag': DeviceArray([0.988462], dtype=float32)})\n",
      "Loss = 481.5495910644531, Params = Jaxtainer({'mean': DeviceArray([0.73500586], dtype=float32), 'chol_diag': DeviceArray([0.9488723], dtype=float32)})\n",
      "Loss = 470.3547668457031, Params = Jaxtainer({'mean': DeviceArray([0.8478526], dtype=float32), 'chol_diag': DeviceArray([0.8937458], dtype=float32)})\n",
      "Loss = 452.0345153808594, Params = Jaxtainer({'mean': DeviceArray([0.9635707], dtype=float32), 'chol_diag': DeviceArray([0.8231251], dtype=float32)})\n",
      "Loss = 424.31719970703125, Params = Jaxtainer({'mean': DeviceArray([1.081208], dtype=float32), 'chol_diag': DeviceArray([0.738641], dtype=float32)})\n",
      "Loss = 385.5579833984375, Params = Jaxtainer({'mean': DeviceArray([1.2011374], dtype=float32), 'chol_diag': DeviceArray([0.6423669], dtype=float32)})\n",
      "Loss = 334.8655090332031, Params = Jaxtainer({'mean': DeviceArray([1.3242292], dtype=float32), 'chol_diag': DeviceArray([0.53626937], dtype=float32)})\n",
      "Loss = 272.5331115722656, Params = Jaxtainer({'mean': DeviceArray([1.4512744], dtype=float32), 'chol_diag': DeviceArray([0.42209756], dtype=float32)})\n",
      "Loss = 200.95492553710938, Params = Jaxtainer({'mean': DeviceArray([1.5827433], dtype=float32), 'chol_diag': DeviceArray([0.30150014], dtype=float32)})\n",
      "Loss = 125.87730407714844, Params = Jaxtainer({'mean': DeviceArray([1.7185454], dtype=float32), 'chol_diag': DeviceArray([0.17642076], dtype=float32)})\n",
      "Loss = 57.77574157714844, Params = Jaxtainer({'mean': DeviceArray([1.857283], dtype=float32), 'chol_diag': DeviceArray([0.05025519], dtype=float32)})\n",
      "Loss = 12.950536727905273, Params = Jaxtainer({'mean': DeviceArray([1.9938459], dtype=float32), 'chol_diag': DeviceArray([0.03162277], dtype=float32)})\n",
      "Loss = 5.02274227142334, Params = Jaxtainer({'mean': DeviceArray([2.113704], dtype=float32), 'chol_diag': DeviceArray([0.03162277], dtype=float32)})\n",
      "Loss = 23.143667221069336, Params = Jaxtainer({'mean': DeviceArray([2.1954947], dtype=float32), 'chol_diag': DeviceArray([0.03162277], dtype=float32)})\n",
      "Loss = 51.01608657836914, Params = Jaxtainer({'mean': DeviceArray([2.2299063], dtype=float32), 'chol_diag': DeviceArray([0.03162277], dtype=float32)})\n",
      "Loss = 66.90534210205078, Params = Jaxtainer({'mean': DeviceArray([2.2245886], dtype=float32), 'chol_diag': DeviceArray([0.03162277], dtype=float32)})\n",
      "Loss = 64.2813720703125, Params = Jaxtainer({'mean': DeviceArray([2.1909516], dtype=float32), 'chol_diag': DeviceArray([0.03162277], dtype=float32)})\n",
      "Loss = 49.108577728271484, Params = Jaxtainer({'mean': DeviceArray([2.1385467], dtype=float32), 'chol_diag': DeviceArray([0.03162277], dtype=float32)})\n",
      "Loss = 30.192930221557617, Params = Jaxtainer({'mean': DeviceArray([2.075193], dtype=float32), 'chol_diag': DeviceArray([0.03162277], dtype=float32)})\n",
      "Loss = 14.53383731842041, Params = Jaxtainer({'mean': DeviceArray([2.0078044], dtype=float32), 'chol_diag': DeviceArray([0.03162277], dtype=float32)})\n",
      "Loss = 5.858609676361084, Params = Jaxtainer({'mean': DeviceArray([1.9427074], dtype=float32), 'chol_diag': DeviceArray([0.03162277], dtype=float32)})\n",
      "Loss = 4.60113525390625, Params = Jaxtainer({'mean': DeviceArray([1.8854011], dtype=float32), 'chol_diag': DeviceArray([0.03162277], dtype=float32)})\n",
      "Loss = 8.760444641113281, Params = Jaxtainer({'mean': DeviceArray([1.8400537], dtype=float32), 'chol_diag': DeviceArray([0.03162277], dtype=float32)})\n",
      "Loss = 15.24685287475586, Params = Jaxtainer({'mean': DeviceArray([1.8091398], dtype=float32), 'chol_diag': DeviceArray([0.03162277], dtype=float32)})\n",
      "Loss = 21.16903305053711, Params = Jaxtainer({'mean': DeviceArray([1.7934492], dtype=float32), 'chol_diag': DeviceArray([0.03162277], dtype=float32)})\n"
     ]
    },
    {
     "name": "stdout",
     "output_type": "stream",
     "text": [
      "Loss = 24.615636825561523, Params = Jaxtainer({'mean': DeviceArray([1.7923945], dtype=float32), 'chol_diag': DeviceArray([0.03162277], dtype=float32)})\n",
      "Loss = 24.857635498046875, Params = Jaxtainer({'mean': DeviceArray([1.8044128], dtype=float32), 'chol_diag': DeviceArray([0.03162277], dtype=float32)})\n",
      "Loss = 22.176795959472656, Params = Jaxtainer({'mean': DeviceArray([1.8273015], dtype=float32), 'chol_diag': DeviceArray([0.03162277], dtype=float32)})\n",
      "Loss = 17.547359466552734, Params = Jaxtainer({'mean': DeviceArray([1.8584378], dtype=float32), 'chol_diag': DeviceArray([0.03162277], dtype=float32)})\n",
      "Loss = 12.292728424072266, Params = Jaxtainer({'mean': DeviceArray([1.8949046], dtype=float32), 'chol_diag': DeviceArray([0.03162277], dtype=float32)})\n",
      "Loss = 7.749441623687744, Params = Jaxtainer({'mean': DeviceArray([1.9335747], dtype=float32), 'chol_diag': DeviceArray([0.03162277], dtype=float32)})\n",
      "Loss = 4.946377277374268, Params = Jaxtainer({'mean': DeviceArray([1.9712197], dtype=float32), 'chol_diag': DeviceArray([0.03162277], dtype=float32)})\n",
      "Loss = 4.33380126953125, Params = Jaxtainer({'mean': DeviceArray([2.004705], dtype=float32), 'chol_diag': DeviceArray([0.03162277], dtype=float32)})\n",
      "Loss = 5.645479679107666, Params = Jaxtainer({'mean': DeviceArray([2.0312903], dtype=float32), 'chol_diag': DeviceArray([0.03162277], dtype=float32)})\n",
      "Loss = 7.993680953979492, Params = Jaxtainer({'mean': DeviceArray([2.0489829], dtype=float32), 'chol_diag': DeviceArray([0.03162277], dtype=float32)})\n",
      "Loss = 10.222000122070312, Params = Jaxtainer({'mean': DeviceArray([2.0568142], dtype=float32), 'chol_diag': DeviceArray([0.03162277], dtype=float32)})\n",
      "Loss = 11.382401466369629, Params = Jaxtainer({'mean': DeviceArray([2.0549288], dtype=float32), 'chol_diag': DeviceArray([0.03162277], dtype=float32)})\n",
      "Loss = 11.093161582946777, Params = Jaxtainer({'mean': DeviceArray([2.0444634], dtype=float32), 'chol_diag': DeviceArray([0.03162277], dtype=float32)})\n",
      "Loss = 9.601244926452637, Params = Jaxtainer({'mean': DeviceArray([2.0272937], dtype=float32), 'chol_diag': DeviceArray([0.03162277], dtype=float32)})\n",
      "Loss = 7.564764499664307, Params = Jaxtainer({'mean': DeviceArray([2.0057373], dtype=float32), 'chol_diag': DeviceArray([0.03162277], dtype=float32)})\n",
      "Loss = 5.7147135734558105, Params = Jaxtainer({'mean': DeviceArray([1.9822714], dtype=float32), 'chol_diag': DeviceArray([0.03162277], dtype=float32)})\n",
      "Loss = 4.568698406219482, Params = Jaxtainer({'mean': DeviceArray([1.9592818], dtype=float32), 'chol_diag': DeviceArray([0.03162277], dtype=float32)})\n",
      "Loss = 4.294335842132568, Params = Jaxtainer({'mean': DeviceArray([1.9388533], dtype=float32), 'chol_diag': DeviceArray([0.03162277], dtype=float32)})\n",
      "Loss = 4.73172664642334, Params = Jaxtainer({'mean': DeviceArray([1.9226115], dtype=float32), 'chol_diag': DeviceArray([0.03162277], dtype=float32)})\n",
      "Loss = 5.5230183601379395, Params = Jaxtainer({'mean': DeviceArray([1.9116274], dtype=float32), 'chol_diag': DeviceArray([0.03162277], dtype=float32)})\n",
      "Loss = 6.275350093841553, Params = Jaxtainer({'mean': DeviceArray([1.9063882], dtype=float32), 'chol_diag': DeviceArray([0.03162277], dtype=float32)})\n",
      "Loss = 6.69487190246582, Params = Jaxtainer({'mean': DeviceArray([1.906825], dtype=float32), 'chol_diag': DeviceArray([0.03162277], dtype=float32)})\n",
      "Loss = 6.658413410186768, Params = Jaxtainer({'mean': DeviceArray([1.9123825], dtype=float32), 'chol_diag': DeviceArray([0.03162277], dtype=float32)})\n",
      "Loss = 6.218101501464844, Params = Jaxtainer({'mean': DeviceArray([1.9221121], dtype=float32), 'chol_diag': DeviceArray([0.03162277], dtype=float32)})\n",
      "Loss = 5.55345344543457, Params = Jaxtainer({'mean': DeviceArray([1.934778], dtype=float32), 'chol_diag': DeviceArray([0.03162277], dtype=float32)})\n",
      "Loss = 4.893818378448486, Params = Jaxtainer({'mean': DeviceArray([1.9489728], dtype=float32), 'chol_diag': DeviceArray([0.03162277], dtype=float32)})\n",
      "Loss = 4.436299800872803, Params = Jaxtainer({'mean': DeviceArray([1.963241], dtype=float32), 'chol_diag': DeviceArray([0.03162277], dtype=float32)})\n",
      "Loss = 4.282999515533447, Params = Jaxtainer({'mean': DeviceArray([1.9762086], dtype=float32), 'chol_diag': DeviceArray([0.03162277], dtype=float32)})\n",
      "Loss = 4.416020393371582, Params = Jaxtainer({'mean': DeviceArray([1.9867117], dtype=float32), 'chol_diag': DeviceArray([0.03162277], dtype=float32)})\n",
      "Loss = 4.717522621154785, Params = Jaxtainer({'mean': DeviceArray([1.9939078], dtype=float32), 'chol_diag': DeviceArray([0.03162277], dtype=float32)})\n",
      "Loss = 5.0257487297058105, Params = Jaxtainer({'mean': DeviceArray([1.9973518], dtype=float32), 'chol_diag': DeviceArray([0.03162277], dtype=float32)})\n",
      "Loss = 5.202816486358643, Params = Jaxtainer({'mean': DeviceArray([1.997023], dtype=float32), 'chol_diag': DeviceArray([0.03162277], dtype=float32)})\n",
      "Loss = 5.185081958770752, Params = Jaxtainer({'mean': DeviceArray([1.9932975], dtype=float32), 'chol_diag': DeviceArray([0.03162277], dtype=float32)})\n",
      "Loss = 4.996370315551758, Params = Jaxtainer({'mean': DeviceArray([1.9868746], dtype=float32), 'chol_diag': DeviceArray([0.03162277], dtype=float32)})\n",
      "Loss = 4.723579406738281, Params = Jaxtainer({'mean': DeviceArray([1.9786714], dtype=float32), 'chol_diag': DeviceArray([0.03162277], dtype=float32)})\n",
      "Loss = 4.471034049987793, Params = Jaxtainer({'mean': DeviceArray([1.9697042], dtype=float32), 'chol_diag': DeviceArray([0.03162277], dtype=float32)})\n",
      "Loss = 4.316538333892822, Params = Jaxtainer({'mean': DeviceArray([1.9609708], dtype=float32), 'chol_diag': DeviceArray([0.03162277], dtype=float32)})\n",
      "Loss = 4.286550998687744, Params = Jaxtainer({'mean': DeviceArray([1.953349], dtype=float32), 'chol_diag': DeviceArray([0.03162277], dtype=float32)})\n",
      "Loss = 4.356287956237793, Params = Jaxtainer({'mean': DeviceArray([1.9475182], dtype=float32), 'chol_diag': DeviceArray([0.03162277], dtype=float32)})\n",
      "Loss = 4.469307899475098, Params = Jaxtainer({'mean': DeviceArray([1.9439104], dtype=float32), 'chol_diag': DeviceArray([0.03162277], dtype=float32)})\n",
      "Loss = 4.564917087554932, Params = Jaxtainer({'mean': DeviceArray([1.9426907], dtype=float32), 'chol_diag': DeviceArray([0.03162277], dtype=float32)})\n",
      "Loss = 4.601653099060059, Params = Jaxtainer({'mean': DeviceArray([1.9437668], dtype=float32), 'chol_diag': DeviceArray([0.03162277], dtype=float32)})\n",
      "Loss = 4.569124221801758, Params = Jaxtainer({'mean': DeviceArray([1.9468204], dtype=float32), 'chol_diag': DeviceArray([0.03162277], dtype=float32)})\n",
      "Loss = 4.486274242401123, Params = Jaxtainer({'mean': DeviceArray([1.9513575], dtype=float32), 'chol_diag': DeviceArray([0.03162277], dtype=float32)})\n",
      "Loss = 4.389102935791016, Params = Jaxtainer({'mean': DeviceArray([1.9567714], dtype=float32), 'chol_diag': DeviceArray([0.03162277], dtype=float32)})\n",
      "Loss = 4.313989639282227, Params = Jaxtainer({'mean': DeviceArray([1.9624116], dtype=float32), 'chol_diag': DeviceArray([0.03162277], dtype=float32)})\n",
      "Loss = 4.2833757400512695, Params = Jaxtainer({'mean': DeviceArray([1.9676546], dtype=float32), 'chol_diag': DeviceArray([0.03162277], dtype=float32)})\n",
      "Loss = 4.298883438110352, Params = Jaxtainer({'mean': DeviceArray([1.9719677], dtype=float32), 'chol_diag': DeviceArray([0.03162277], dtype=float32)})\n",
      "Loss = 4.343644618988037, Params = Jaxtainer({'mean': DeviceArray([1.9749621], dtype=float32), 'chol_diag': DeviceArray([0.03162277], dtype=float32)})\n",
      "Loss = 4.391819477081299, Params = Jaxtainer({'mean': DeviceArray([1.9764255], dtype=float32), 'chol_diag': DeviceArray([0.03162277], dtype=float32)})\n",
      "Loss = 4.420483112335205, Params = Jaxtainer({'mean': DeviceArray([1.9763339], dtype=float32), 'chol_diag': DeviceArray([0.03162277], dtype=float32)})\n",
      "Loss = 4.418588161468506, Params = Jaxtainer({'mean': DeviceArray([1.9748393], dtype=float32), 'chol_diag': DeviceArray([0.03162277], dtype=float32)})\n",
      "Loss = 4.3895673751831055, Params = Jaxtainer({'mean': DeviceArray([1.9722388], dtype=float32), 'chol_diag': DeviceArray([0.03162277], dtype=float32)})\n",
      "Loss = 4.347427845001221, Params = Jaxtainer({'mean': DeviceArray([1.9689273], dtype=float32), 'chol_diag': DeviceArray([0.03162277], dtype=float32)})\n",
      "Loss = 4.309077739715576, Params = Jaxtainer({'mean': DeviceArray([1.9653444], dtype=float32), 'chol_diag': DeviceArray([0.03162277], dtype=float32)})\n",
      "Loss = 4.286808490753174, Params = Jaxtainer({'mean': DeviceArray([1.9619201], dtype=float32), 'chol_diag': DeviceArray([0.03162277], dtype=float32)})\n"
     ]
    },
    {
     "name": "stdout",
     "output_type": "stream",
     "text": [
      "Loss = 4.284099578857422, Params = Jaxtainer({'mean': DeviceArray([1.9590269], dtype=float32), 'chol_diag': DeviceArray([0.03162277], dtype=float32)})\n",
      "Loss = 4.295891284942627, Params = Jaxtainer({'mean': DeviceArray([1.9569432], dtype=float32), 'chol_diag': DeviceArray([0.03162277], dtype=float32)})\n",
      "Loss = 4.312337398529053, Params = Jaxtainer({'mean': DeviceArray([1.9558303], dtype=float32), 'chol_diag': DeviceArray([0.03162277], dtype=float32)})\n",
      "Loss = 4.323840141296387, Params = Jaxtainer({'mean': DeviceArray([1.9557256], dtype=float32), 'chol_diag': DeviceArray([0.03162277], dtype=float32)})\n",
      "Loss = 4.325020790100098, Params = Jaxtainer({'mean': DeviceArray([1.9565481], dtype=float32), 'chol_diag': DeviceArray([0.03162277], dtype=float32)})\n",
      "Loss = 4.316204071044922, Params = Jaxtainer({'mean': DeviceArray([1.9581188], dtype=float32), 'chol_diag': DeviceArray([0.03162277], dtype=float32)})\n",
      "Loss = 4.30224084854126, Params = Jaxtainer({'mean': DeviceArray([1.9601883], dtype=float32), 'chol_diag': DeviceArray([0.03162277], dtype=float32)})\n"
     ]
    },
    {
     "ename": "KeyboardInterrupt",
     "evalue": "",
     "output_type": "error",
     "traceback": [
      "\u001b[0;31m---------------------------------------------------------------------------\u001b[0m",
      "\u001b[0;31mKeyboardInterrupt\u001b[0m                         Traceback (most recent call last)",
      "\u001b[0;32m/tmp/ipykernel_2730/3579655077.py\u001b[0m in \u001b[0;36m<module>\u001b[0;34m\u001b[0m\n\u001b[1;32m      2\u001b[0m \u001b[0moptimiser\u001b[0m \u001b[0;34m=\u001b[0m \u001b[0moptimisers\u001b[0m\u001b[0;34m.\u001b[0m\u001b[0mAdam\u001b[0m\u001b[0;34m(\u001b[0m\u001b[0;34m)\u001b[0m\u001b[0;34m\u001b[0m\u001b[0;34m\u001b[0m\u001b[0m\n\u001b[1;32m      3\u001b[0m \u001b[0;31m# data = jnp.array([[10.40]])\u001b[0m\u001b[0;34m\u001b[0m\u001b[0;34m\u001b[0m\u001b[0;34m\u001b[0m\u001b[0m\n\u001b[0;32m----> 4\u001b[0;31m \u001b[0moptimiser\u001b[0m\u001b[0;34m.\u001b[0m\u001b[0mfit\u001b[0m\u001b[0;34m(\u001b[0m\u001b[0mapprox_dist\u001b[0m\u001b[0;34m,\u001b[0m \u001b[0mloss\u001b[0m\u001b[0;34m,\u001b[0m \u001b[0mdata\u001b[0m\u001b[0;34m,\u001b[0m \u001b[0mprngkey\u001b[0m\u001b[0;34m,\u001b[0m \u001b[0mverbose\u001b[0m \u001b[0;34m=\u001b[0m \u001b[0;32mTrue\u001b[0m\u001b[0;34m,\u001b[0m \u001b[0mmax_iter\u001b[0m\u001b[0;34m=\u001b[0m\u001b[0;36m1000\u001b[0m\u001b[0;34m,\u001b[0m \u001b[0mnum_samples\u001b[0m\u001b[0;34m=\u001b[0m\u001b[0;36m1000\u001b[0m\u001b[0;34m)\u001b[0m\u001b[0;34m\u001b[0m\u001b[0;34m\u001b[0m\u001b[0m\n\u001b[0m",
      "\u001b[0;32m/usr/local/lib/python3.8/dist-packages/approx_post/optimisers.py\u001b[0m in \u001b[0;36mfit\u001b[0;34m(self, approx, loss_func, x, prngkey, num_samples, verbose, max_iter)\u001b[0m\n\u001b[1;32m     13\u001b[0m         \u001b[0;32mwhile\u001b[0m \u001b[0mself\u001b[0m\u001b[0;34m.\u001b[0m\u001b[0m_loop_flag\u001b[0m\u001b[0;34m:\u001b[0m\u001b[0;34m\u001b[0m\u001b[0;34m\u001b[0m\u001b[0m\n\u001b[1;32m     14\u001b[0m \u001b[0;34m\u001b[0m\u001b[0m\n\u001b[0;32m---> 15\u001b[0;31m             \u001b[0mloss\u001b[0m\u001b[0;34m,\u001b[0m \u001b[0mloss_del_params\u001b[0m \u001b[0;34m=\u001b[0m \u001b[0mloss_func\u001b[0m\u001b[0;34m.\u001b[0m\u001b[0meval\u001b[0m\u001b[0;34m(\u001b[0m\u001b[0mapprox\u001b[0m\u001b[0;34m,\u001b[0m \u001b[0mx\u001b[0m\u001b[0;34m,\u001b[0m \u001b[0mprngkey\u001b[0m\u001b[0;34m=\u001b[0m\u001b[0mprngkey\u001b[0m\u001b[0;34m,\u001b[0m \u001b[0mnum_samples\u001b[0m\u001b[0;34m=\u001b[0m\u001b[0mnum_samples\u001b[0m\u001b[0;34m)\u001b[0m\u001b[0;34m\u001b[0m\u001b[0;34m\u001b[0m\u001b[0m\n\u001b[0m\u001b[1;32m     16\u001b[0m \u001b[0;34m\u001b[0m\u001b[0m\n\u001b[1;32m     17\u001b[0m             \u001b[0mnew_params\u001b[0m \u001b[0;34m=\u001b[0m \u001b[0mself\u001b[0m\u001b[0;34m.\u001b[0m\u001b[0m_get_params\u001b[0m\u001b[0;34m(\u001b[0m\u001b[0mapprox\u001b[0m\u001b[0;34m)\u001b[0m \u001b[0;34m-\u001b[0m \u001b[0mself\u001b[0m\u001b[0;34m.\u001b[0m\u001b[0mstep\u001b[0m\u001b[0;34m(\u001b[0m\u001b[0mloss_del_params\u001b[0m\u001b[0;34m)\u001b[0m\u001b[0;34m\u001b[0m\u001b[0;34m\u001b[0m\u001b[0m\n",
      "\u001b[0;32m/usr/local/lib/python3.8/dist-packages/approx_post/losses.py\u001b[0m in \u001b[0;36meval\u001b[0;34m(self, approx, x, prngkey, num_samples)\u001b[0m\n\u001b[1;32m    108\u001b[0m     \u001b[0;32mdef\u001b[0m \u001b[0meval\u001b[0m\u001b[0;34m(\u001b[0m\u001b[0mself\u001b[0m\u001b[0;34m,\u001b[0m \u001b[0mapprox\u001b[0m\u001b[0;34m,\u001b[0m \u001b[0mx\u001b[0m\u001b[0;34m,\u001b[0m \u001b[0mprngkey\u001b[0m\u001b[0;34m,\u001b[0m \u001b[0mnum_samples\u001b[0m\u001b[0;34m=\u001b[0m\u001b[0;32mNone\u001b[0m\u001b[0;34m)\u001b[0m\u001b[0;34m:\u001b[0m\u001b[0;34m\u001b[0m\u001b[0;34m\u001b[0m\u001b[0m\n\u001b[1;32m    109\u001b[0m \u001b[0;34m\u001b[0m\u001b[0m\n\u001b[0;32m--> 110\u001b[0;31m         \u001b[0mphi\u001b[0m \u001b[0;34m=\u001b[0m \u001b[0mapprox\u001b[0m\u001b[0;34m.\u001b[0m\u001b[0mphi\u001b[0m\u001b[0;34m(\u001b[0m\u001b[0mx\u001b[0m\u001b[0;34m)\u001b[0m\u001b[0;34m\u001b[0m\u001b[0;34m\u001b[0m\u001b[0m\n\u001b[0m\u001b[1;32m    111\u001b[0m \u001b[0;34m\u001b[0m\u001b[0m\n\u001b[1;32m    112\u001b[0m         \u001b[0;32mif\u001b[0m \u001b[0mself\u001b[0m\u001b[0;34m.\u001b[0m\u001b[0mmethod\u001b[0m \u001b[0;34m==\u001b[0m \u001b[0;34m'elbo'\u001b[0m\u001b[0;34m:\u001b[0m\u001b[0;34m\u001b[0m\u001b[0;34m\u001b[0m\u001b[0m\n",
      "\u001b[0;32m/usr/local/lib/python3.8/dist-packages/approx_post/distributions/approx.py\u001b[0m in \u001b[0;36mphi\u001b[0;34m(self, x)\u001b[0m\n\u001b[1;32m    105\u001b[0m         \u001b[0;31m# Match batch dimension of x if provided:\u001b[0m\u001b[0;34m\u001b[0m\u001b[0;34m\u001b[0m\u001b[0;34m\u001b[0m\u001b[0m\n\u001b[1;32m    106\u001b[0m         \u001b[0;32mif\u001b[0m \u001b[0mx\u001b[0m \u001b[0;32mis\u001b[0m \u001b[0;32mnot\u001b[0m \u001b[0;32mNone\u001b[0m\u001b[0;34m:\u001b[0m\u001b[0;34m\u001b[0m\u001b[0;34m\u001b[0m\u001b[0m\n\u001b[0;32m--> 107\u001b[0;31m             \u001b[0mphi\u001b[0m \u001b[0;34m=\u001b[0m \u001b[0mnp\u001b[0m\u001b[0;34m.\u001b[0m\u001b[0mrepeat\u001b[0m\u001b[0;34m(\u001b[0m\u001b[0mphi\u001b[0m\u001b[0;34m,\u001b[0m \u001b[0mrepeats\u001b[0m\u001b[0;34m=\u001b[0m\u001b[0mx\u001b[0m\u001b[0;34m.\u001b[0m\u001b[0mshape\u001b[0m\u001b[0;34m[\u001b[0m\u001b[0;36m0\u001b[0m\u001b[0;34m]\u001b[0m\u001b[0;34m,\u001b[0m \u001b[0maxis\u001b[0m\u001b[0;34m=\u001b[0m\u001b[0;36m0\u001b[0m\u001b[0;34m)\u001b[0m\u001b[0;34m\u001b[0m\u001b[0;34m\u001b[0m\u001b[0m\n\u001b[0m\u001b[1;32m    108\u001b[0m         \u001b[0;32mreturn\u001b[0m \u001b[0mphi\u001b[0m\u001b[0;34m\u001b[0m\u001b[0;34m\u001b[0m\u001b[0m\n\u001b[1;32m    109\u001b[0m \u001b[0;34m\u001b[0m\u001b[0m\n",
      "\u001b[0;32m<__array_function__ internals>\u001b[0m in \u001b[0;36mrepeat\u001b[0;34m(*args, **kwargs)\u001b[0m\n",
      "\u001b[0;32m/usr/local/lib/python3.8/dist-packages/arraytainers/arraytainer.py\u001b[0m in \u001b[0;36m__array_function__\u001b[0;34m(self, func, types, args, kwargs)\u001b[0m\n\u001b[1;32m    268\u001b[0m \u001b[0;34m\u001b[0m\u001b[0m\n\u001b[1;32m    269\u001b[0m     \u001b[0;32mdef\u001b[0m \u001b[0m__array_function__\u001b[0m\u001b[0;34m(\u001b[0m\u001b[0mself\u001b[0m\u001b[0;34m,\u001b[0m \u001b[0mfunc\u001b[0m\u001b[0;34m,\u001b[0m \u001b[0mtypes\u001b[0m\u001b[0;34m,\u001b[0m \u001b[0margs\u001b[0m\u001b[0;34m,\u001b[0m \u001b[0mkwargs\u001b[0m\u001b[0;34m)\u001b[0m\u001b[0;34m:\u001b[0m\u001b[0;34m\u001b[0m\u001b[0;34m\u001b[0m\u001b[0m\n\u001b[0;32m--> 270\u001b[0;31m         \u001b[0mfun_return\u001b[0m \u001b[0;34m=\u001b[0m \u001b[0mself\u001b[0m\u001b[0;34m.\u001b[0m\u001b[0m_manage_func_call\u001b[0m\u001b[0;34m(\u001b[0m\u001b[0mfunc\u001b[0m\u001b[0;34m,\u001b[0m \u001b[0mtypes\u001b[0m\u001b[0;34m,\u001b[0m \u001b[0;34m*\u001b[0m\u001b[0margs\u001b[0m\u001b[0;34m,\u001b[0m \u001b[0;34m**\u001b[0m\u001b[0mkwargs\u001b[0m\u001b[0;34m)\u001b[0m\u001b[0;34m\u001b[0m\u001b[0;34m\u001b[0m\u001b[0m\n\u001b[0m\u001b[1;32m    271\u001b[0m         \u001b[0;32mreturn\u001b[0m \u001b[0mfun_return\u001b[0m\u001b[0;34m\u001b[0m\u001b[0;34m\u001b[0m\u001b[0m\n\u001b[1;32m    272\u001b[0m \u001b[0;34m\u001b[0m\u001b[0m\n",
      "\u001b[0;32m/usr/local/lib/python3.8/dist-packages/arraytainers/jaxtainer.py\u001b[0m in \u001b[0;36m_manage_func_call\u001b[0;34m(self, func, types, *args, **kwargs)\u001b[0m\n\u001b[1;32m     73\u001b[0m             \u001b[0;31m# Need to call Numpy method for recursion on Arraytainer arguments:\u001b[0m\u001b[0;34m\u001b[0m\u001b[0;34m\u001b[0m\u001b[0;34m\u001b[0m\u001b[0m\n\u001b[1;32m     74\u001b[0m             \u001b[0mmethod\u001b[0m \u001b[0;34m=\u001b[0m \u001b[0mself\u001b[0m\u001b[0;34m.\u001b[0m\u001b[0m_find_jnp_method\u001b[0m\u001b[0;34m(\u001b[0m\u001b[0mfunc\u001b[0m\u001b[0;34m)\u001b[0m \u001b[0;32mif\u001b[0m \u001b[0;32mnot\u001b[0m \u001b[0marraytainer_list_i\u001b[0m \u001b[0;32melse\u001b[0m \u001b[0mfunc\u001b[0m\u001b[0;34m\u001b[0m\u001b[0;34m\u001b[0m\u001b[0m\n\u001b[0;32m---> 75\u001b[0;31m             \u001b[0mfunc_return\u001b[0m\u001b[0;34m[\u001b[0m\u001b[0mkey\u001b[0m\u001b[0;34m]\u001b[0m \u001b[0;34m=\u001b[0m \u001b[0mmethod\u001b[0m\u001b[0;34m(\u001b[0m\u001b[0;34m*\u001b[0m\u001b[0margs_i\u001b[0m\u001b[0;34m,\u001b[0m \u001b[0;34m**\u001b[0m\u001b[0mkwargs_i\u001b[0m\u001b[0;34m)\u001b[0m\u001b[0;34m\u001b[0m\u001b[0;34m\u001b[0m\u001b[0m\n\u001b[0m\u001b[1;32m     76\u001b[0m \u001b[0;34m\u001b[0m\u001b[0m\n\u001b[1;32m     77\u001b[0m         \u001b[0;32mif\u001b[0m \u001b[0mself\u001b[0m\u001b[0;34m.\u001b[0m\u001b[0m_type\u001b[0m \u001b[0;32mis\u001b[0m \u001b[0mlist\u001b[0m\u001b[0;34m:\u001b[0m\u001b[0;34m\u001b[0m\u001b[0;34m\u001b[0m\u001b[0m\n",
      "\u001b[0;32m~/.local/lib/python3.8/site-packages/jax/_src/numpy/lax_numpy.py\u001b[0m in \u001b[0;36mrepeat\u001b[0;34m(a, repeats, axis, total_repeat_length)\u001b[0m\n\u001b[1;32m   4287\u001b[0m       \u001b[0mresult_shape\u001b[0m \u001b[0;34m=\u001b[0m \u001b[0mlist\u001b[0m\u001b[0;34m(\u001b[0m\u001b[0minput_shape\u001b[0m\u001b[0;34m)\u001b[0m\u001b[0;34m\u001b[0m\u001b[0;34m\u001b[0m\u001b[0m\n\u001b[1;32m   4288\u001b[0m       \u001b[0mresult_shape\u001b[0m\u001b[0;34m[\u001b[0m\u001b[0maxis\u001b[0m\u001b[0;34m]\u001b[0m \u001b[0;34m*=\u001b[0m \u001b[0mrepeats\u001b[0m\u001b[0;34m\u001b[0m\u001b[0;34m\u001b[0m\u001b[0m\n\u001b[0;32m-> 4289\u001b[0;31m       \u001b[0;32mreturn\u001b[0m \u001b[0mreshape\u001b[0m\u001b[0;34m(\u001b[0m\u001b[0ma\u001b[0m\u001b[0;34m,\u001b[0m \u001b[0mresult_shape\u001b[0m\u001b[0;34m)\u001b[0m\u001b[0;34m\u001b[0m\u001b[0;34m\u001b[0m\u001b[0m\n\u001b[0m\u001b[1;32m   4290\u001b[0m \u001b[0;34m\u001b[0m\u001b[0m\n\u001b[1;32m   4291\u001b[0m     \u001b[0mrepeats\u001b[0m \u001b[0;34m=\u001b[0m \u001b[0mnp\u001b[0m\u001b[0;34m.\u001b[0m\u001b[0mravel\u001b[0m\u001b[0;34m(\u001b[0m\u001b[0mrepeats\u001b[0m\u001b[0;34m)\u001b[0m\u001b[0;34m\u001b[0m\u001b[0;34m\u001b[0m\u001b[0m\n",
      "\u001b[0;32m~/.local/lib/python3.8/site-packages/jax/_src/numpy/lax_numpy.py\u001b[0m in \u001b[0;36mreshape\u001b[0;34m(a, newshape, order)\u001b[0m\n\u001b[1;32m   1709\u001b[0m   \u001b[0m_check_arraylike\u001b[0m\u001b[0;34m(\u001b[0m\u001b[0;34m\"reshape\"\u001b[0m\u001b[0;34m,\u001b[0m \u001b[0ma\u001b[0m\u001b[0;34m)\u001b[0m\u001b[0;34m\u001b[0m\u001b[0;34m\u001b[0m\u001b[0m\n\u001b[1;32m   1710\u001b[0m   \u001b[0;32mtry\u001b[0m\u001b[0;34m:\u001b[0m\u001b[0;34m\u001b[0m\u001b[0;34m\u001b[0m\u001b[0m\n\u001b[0;32m-> 1711\u001b[0;31m     \u001b[0;32mreturn\u001b[0m \u001b[0ma\u001b[0m\u001b[0;34m.\u001b[0m\u001b[0mreshape\u001b[0m\u001b[0;34m(\u001b[0m\u001b[0mnewshape\u001b[0m\u001b[0;34m,\u001b[0m \u001b[0morder\u001b[0m\u001b[0;34m=\u001b[0m\u001b[0morder\u001b[0m\u001b[0;34m)\u001b[0m  \u001b[0;31m# forward to method for ndarrays\u001b[0m\u001b[0;34m\u001b[0m\u001b[0;34m\u001b[0m\u001b[0m\n\u001b[0m\u001b[1;32m   1712\u001b[0m   \u001b[0;32mexcept\u001b[0m \u001b[0mAttributeError\u001b[0m\u001b[0;34m:\u001b[0m\u001b[0;34m\u001b[0m\u001b[0;34m\u001b[0m\u001b[0m\n\u001b[1;32m   1713\u001b[0m     \u001b[0;32mreturn\u001b[0m \u001b[0m_reshape\u001b[0m\u001b[0;34m(\u001b[0m\u001b[0ma\u001b[0m\u001b[0;34m,\u001b[0m \u001b[0mnewshape\u001b[0m\u001b[0;34m,\u001b[0m \u001b[0morder\u001b[0m\u001b[0;34m=\u001b[0m\u001b[0morder\u001b[0m\u001b[0;34m)\u001b[0m\u001b[0;34m\u001b[0m\u001b[0;34m\u001b[0m\u001b[0m\n",
      "\u001b[0;32m~/.local/lib/python3.8/site-packages/jax/_src/numpy/lax_numpy.py\u001b[0m in \u001b[0;36m_reshape\u001b[0;34m(a, order, *args)\u001b[0m\n\u001b[1;32m   1729\u001b[0m   \u001b[0mnewshape\u001b[0m \u001b[0;34m=\u001b[0m \u001b[0m_compute_newshape\u001b[0m\u001b[0;34m(\u001b[0m\u001b[0ma\u001b[0m\u001b[0;34m,\u001b[0m \u001b[0margs\u001b[0m\u001b[0;34m[\u001b[0m\u001b[0;36m0\u001b[0m\u001b[0;34m]\u001b[0m \u001b[0;32mif\u001b[0m \u001b[0mlen\u001b[0m\u001b[0;34m(\u001b[0m\u001b[0margs\u001b[0m\u001b[0;34m)\u001b[0m \u001b[0;34m==\u001b[0m \u001b[0;36m1\u001b[0m \u001b[0;32melse\u001b[0m \u001b[0margs\u001b[0m\u001b[0;34m)\u001b[0m\u001b[0;34m\u001b[0m\u001b[0;34m\u001b[0m\u001b[0m\n\u001b[1;32m   1730\u001b[0m   \u001b[0;32mif\u001b[0m \u001b[0morder\u001b[0m \u001b[0;34m==\u001b[0m \u001b[0;34m\"C\"\u001b[0m\u001b[0;34m:\u001b[0m\u001b[0;34m\u001b[0m\u001b[0;34m\u001b[0m\u001b[0m\n\u001b[0;32m-> 1731\u001b[0;31m     \u001b[0;32mreturn\u001b[0m \u001b[0mlax\u001b[0m\u001b[0;34m.\u001b[0m\u001b[0mreshape\u001b[0m\u001b[0;34m(\u001b[0m\u001b[0ma\u001b[0m\u001b[0;34m,\u001b[0m \u001b[0mnewshape\u001b[0m\u001b[0;34m,\u001b[0m \u001b[0;32mNone\u001b[0m\u001b[0;34m)\u001b[0m\u001b[0;34m\u001b[0m\u001b[0;34m\u001b[0m\u001b[0m\n\u001b[0m\u001b[1;32m   1732\u001b[0m   \u001b[0;32melif\u001b[0m \u001b[0morder\u001b[0m \u001b[0;34m==\u001b[0m \u001b[0;34m\"F\"\u001b[0m\u001b[0;34m:\u001b[0m\u001b[0;34m\u001b[0m\u001b[0;34m\u001b[0m\u001b[0m\n\u001b[1;32m   1733\u001b[0m     \u001b[0mdims\u001b[0m \u001b[0;34m=\u001b[0m \u001b[0mnp\u001b[0m\u001b[0;34m.\u001b[0m\u001b[0marange\u001b[0m\u001b[0;34m(\u001b[0m\u001b[0mndim\u001b[0m\u001b[0;34m(\u001b[0m\u001b[0ma\u001b[0m\u001b[0;34m)\u001b[0m\u001b[0;34m)\u001b[0m\u001b[0;34m[\u001b[0m\u001b[0;34m:\u001b[0m\u001b[0;34m:\u001b[0m\u001b[0;34m-\u001b[0m\u001b[0;36m1\u001b[0m\u001b[0;34m]\u001b[0m\u001b[0;34m\u001b[0m\u001b[0;34m\u001b[0m\u001b[0m\n",
      "\u001b[0;32m~/.local/lib/python3.8/site-packages/jax/_src/lax/lax.py\u001b[0m in \u001b[0;36mreshape\u001b[0;34m(operand, new_sizes, dimensions)\u001b[0m\n\u001b[1;32m    828\u001b[0m     \u001b[0;32mreturn\u001b[0m \u001b[0moperand\u001b[0m\u001b[0;34m\u001b[0m\u001b[0;34m\u001b[0m\u001b[0m\n\u001b[1;32m    829\u001b[0m   \u001b[0;32melse\u001b[0m\u001b[0;34m:\u001b[0m\u001b[0;34m\u001b[0m\u001b[0;34m\u001b[0m\u001b[0m\n\u001b[0;32m--> 830\u001b[0;31m     return reshape_p.bind(\n\u001b[0m\u001b[1;32m    831\u001b[0m       \u001b[0moperand\u001b[0m\u001b[0;34m,\u001b[0m \u001b[0mnew_sizes\u001b[0m\u001b[0;34m=\u001b[0m\u001b[0mnew_sizes\u001b[0m\u001b[0;34m,\u001b[0m\u001b[0;34m\u001b[0m\u001b[0;34m\u001b[0m\u001b[0m\n\u001b[1;32m    832\u001b[0m       dimensions=None if dimensions is None or same_dims else tuple(dimensions))\n",
      "\u001b[0;32m~/.local/lib/python3.8/site-packages/jax/core.py\u001b[0m in \u001b[0;36mbind\u001b[0;34m(self, *args, **params)\u001b[0m\n\u001b[1;32m    269\u001b[0m     top_trace = find_top_trace(\n\u001b[1;32m    270\u001b[0m         args, used_axis_names(self, params) if self._dispatch_on_params else None)\n\u001b[0;32m--> 271\u001b[0;31m     \u001b[0mtracers\u001b[0m \u001b[0;34m=\u001b[0m \u001b[0mmap\u001b[0m\u001b[0;34m(\u001b[0m\u001b[0mtop_trace\u001b[0m\u001b[0;34m.\u001b[0m\u001b[0mfull_raise\u001b[0m\u001b[0;34m,\u001b[0m \u001b[0margs\u001b[0m\u001b[0;34m)\u001b[0m\u001b[0;34m\u001b[0m\u001b[0;34m\u001b[0m\u001b[0m\n\u001b[0m\u001b[1;32m    272\u001b[0m     \u001b[0mout\u001b[0m \u001b[0;34m=\u001b[0m \u001b[0mtop_trace\u001b[0m\u001b[0;34m.\u001b[0m\u001b[0mprocess_primitive\u001b[0m\u001b[0;34m(\u001b[0m\u001b[0mself\u001b[0m\u001b[0;34m,\u001b[0m \u001b[0mtracers\u001b[0m\u001b[0;34m,\u001b[0m \u001b[0mparams\u001b[0m\u001b[0;34m)\u001b[0m\u001b[0;34m\u001b[0m\u001b[0;34m\u001b[0m\u001b[0m\n\u001b[1;32m    273\u001b[0m     \u001b[0;32mreturn\u001b[0m \u001b[0mmap\u001b[0m\u001b[0;34m(\u001b[0m\u001b[0mfull_lower\u001b[0m\u001b[0;34m,\u001b[0m \u001b[0mout\u001b[0m\u001b[0;34m)\u001b[0m \u001b[0;32mif\u001b[0m \u001b[0mself\u001b[0m\u001b[0;34m.\u001b[0m\u001b[0mmultiple_results\u001b[0m \u001b[0;32melse\u001b[0m \u001b[0mfull_lower\u001b[0m\u001b[0;34m(\u001b[0m\u001b[0mout\u001b[0m\u001b[0;34m)\u001b[0m\u001b[0;34m\u001b[0m\u001b[0;34m\u001b[0m\u001b[0m\n",
      "\u001b[0;32m~/.local/lib/python3.8/site-packages/jax/_src/util.py\u001b[0m in \u001b[0;36msafe_map\u001b[0;34m(f, *args)\u001b[0m\n\u001b[1;32m     41\u001b[0m   \u001b[0;32mfor\u001b[0m \u001b[0marg\u001b[0m \u001b[0;32min\u001b[0m \u001b[0margs\u001b[0m\u001b[0;34m[\u001b[0m\u001b[0;36m1\u001b[0m\u001b[0;34m:\u001b[0m\u001b[0;34m]\u001b[0m\u001b[0;34m:\u001b[0m\u001b[0;34m\u001b[0m\u001b[0;34m\u001b[0m\u001b[0m\n\u001b[1;32m     42\u001b[0m     \u001b[0;32massert\u001b[0m \u001b[0mlen\u001b[0m\u001b[0;34m(\u001b[0m\u001b[0marg\u001b[0m\u001b[0;34m)\u001b[0m \u001b[0;34m==\u001b[0m \u001b[0mn\u001b[0m\u001b[0;34m,\u001b[0m \u001b[0;34m'length mismatch: {}'\u001b[0m\u001b[0;34m.\u001b[0m\u001b[0mformat\u001b[0m\u001b[0;34m(\u001b[0m\u001b[0mlist\u001b[0m\u001b[0;34m(\u001b[0m\u001b[0mmap\u001b[0m\u001b[0;34m(\u001b[0m\u001b[0mlen\u001b[0m\u001b[0;34m,\u001b[0m \u001b[0margs\u001b[0m\u001b[0;34m)\u001b[0m\u001b[0;34m)\u001b[0m\u001b[0;34m)\u001b[0m\u001b[0;34m\u001b[0m\u001b[0;34m\u001b[0m\u001b[0m\n\u001b[0;32m---> 43\u001b[0;31m   \u001b[0;32mreturn\u001b[0m \u001b[0mlist\u001b[0m\u001b[0;34m(\u001b[0m\u001b[0mmap\u001b[0m\u001b[0;34m(\u001b[0m\u001b[0mf\u001b[0m\u001b[0;34m,\u001b[0m \u001b[0;34m*\u001b[0m\u001b[0margs\u001b[0m\u001b[0;34m)\u001b[0m\u001b[0;34m)\u001b[0m\u001b[0;34m\u001b[0m\u001b[0;34m\u001b[0m\u001b[0m\n\u001b[0m\u001b[1;32m     44\u001b[0m \u001b[0;34m\u001b[0m\u001b[0m\n\u001b[1;32m     45\u001b[0m \u001b[0;32mdef\u001b[0m \u001b[0munzip2\u001b[0m\u001b[0;34m(\u001b[0m\u001b[0mxys\u001b[0m\u001b[0;34m)\u001b[0m\u001b[0;34m:\u001b[0m\u001b[0;34m\u001b[0m\u001b[0;34m\u001b[0m\u001b[0m\n",
      "\u001b[0;31mKeyboardInterrupt\u001b[0m: "
     ]
    }
   ],
   "source": [
    "loss = losses.ReverseKL(joint_dist, use_reparameterisation=True)\n",
    "optimiser = optimisers.Adam()\n",
    "optimiser.fit(approx_dist, loss, data, prngkey, verbose = True, max_iter=1000, num_samples=1000)"
   ]
  },
  {
   "cell_type": "code",
   "execution_count": null,
   "id": "e7d8535d",
   "metadata": {},
   "outputs": [],
   "source": []
  }
 ],
 "metadata": {
  "kernelspec": {
   "display_name": "Python 3 (ipykernel)",
   "language": "python",
   "name": "python3"
  },
  "language_info": {
   "codemirror_mode": {
    "name": "ipython",
    "version": 3
   },
   "file_extension": ".py",
   "mimetype": "text/x-python",
   "name": "python",
   "nbconvert_exporter": "python",
   "pygments_lexer": "ipython3",
   "version": "3.8.10"
  }
 },
 "nbformat": 4,
 "nbformat_minor": 5
}
